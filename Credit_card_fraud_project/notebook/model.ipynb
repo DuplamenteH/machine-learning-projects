{
 "cells": [
  {
   "cell_type": "code",
   "execution_count": 1,
   "outputs": [],
   "source": [
    "import pandas as pd\n",
    "import matplotlib.pyplot as plt\n",
    "import numpy as np\n",
    "import seaborn as sns"
   ],
   "metadata": {
    "collapsed": false,
    "pycharm": {
     "name": "#%%\n"
    }
   }
  },
  {
   "cell_type": "code",
   "execution_count": 2,
   "outputs": [],
   "source": [
    "from collections import Counter\n",
    "from haversine import haversine"
   ],
   "metadata": {
    "collapsed": false,
    "pycharm": {
     "name": "#%%\n"
    }
   }
  },
  {
   "cell_type": "code",
   "execution_count": 3,
   "outputs": [],
   "source": [
    "from sklearn.preprocessing import LabelEncoder\n",
    "from sklearn.model_selection import RandomizedSearchCV,cross_val_score,train_test_split,GridSearchCV\n",
    "from sklearn.metrics import accuracy_score, precision_score, f1_score, recall_score,roc_auc_score,classification_report,plot_confusion_matrix"
   ],
   "metadata": {
    "collapsed": false,
    "pycharm": {
     "name": "#%%\n"
    }
   }
  },
  {
   "cell_type": "code",
   "execution_count": 4,
   "outputs": [],
   "source": [
    "train_path =\"../data/train_clear.csv\"\n",
    "test_path = \"../data/test_clear.csv\""
   ],
   "metadata": {
    "collapsed": false,
    "pycharm": {
     "name": "#%%\n"
    }
   }
  },
  {
   "cell_type": "code",
   "execution_count": 5,
   "outputs": [],
   "source": [
    "test = pd.read_csv(test_path)"
   ],
   "metadata": {
    "collapsed": false,
    "pycharm": {
     "name": "#%%\n"
    }
   }
  },
  {
   "cell_type": "code",
   "execution_count": 6,
   "outputs": [
    {
     "data": {
      "text/plain": "  trans_date_trans_time            cc_num                            merchant  \\\n0   2019-01-01 00:00:18  2703186189652095          fraud_Rippin, Kub and Mann   \n1   2019-01-01 00:00:44      630423337322     fraud_Heller, Gutmann and Zieme   \n2   2019-01-01 00:00:51    38859492057661                fraud_Lind-Buckridge   \n3   2019-01-01 00:01:16  3534093764340240  fraud_Kutch, Hermiston and Farrell   \n4   2019-01-01 00:03:06   375534208663984                 fraud_Keeling-Crist   \n\n        category     amt      first     last gender  \\\n0       misc_net    4.97   Jennifer    Banks      F   \n1    grocery_pos  107.23  Stephanie     Gill      F   \n2  entertainment  220.11     Edward  Sanchez      M   \n3  gas_transport   45.00     Jeremy    White      M   \n4       misc_pos   41.96      Tyler   Garcia      M   \n\n                         street            city  ... city_pop  \\\n0                561 Perry Cove  Moravian Falls  ...     3495   \n1  43039 Riley Greens Suite 393          Orient  ...      149   \n2      594 White Dale Suite 530      Malad City  ...     4154   \n3   9443 Cynthia Court Apt. 038         Boulder  ...     1939   \n4              408 Bradley Rest        Doe Hill  ...       99   \n\n                                 job                  dob  \\\n0          Psychologist, counselling  1988-03-09 00:00:00   \n1  Special educational needs teacher  1978-06-21 00:00:00   \n2        Nature conservation officer  1962-01-19 00:00:00   \n3                    Patent attorney  1967-01-12 00:00:00   \n4     Dance movement psychotherapist  1986-03-28 00:00:00   \n\n                          trans_num   unix_time  merch_lat  merch_long  \\\n0  0b242abb623afc578575680df30655b9  1325376018  36.011293  -82.048315   \n1  1f76529f8574734946361c461b024d99  1325376044  49.159047 -118.186462   \n2  a1a22d70485983eac12b5b88dad1cf95  1325376051  43.150704 -112.154481   \n3  6b849c168bdad6f867558c3793159a81  1325376076  47.034331 -112.561071   \n4  a41d7549acf90789359a9aa5346dcb46  1325376186  38.674999  -78.632459   \n\n  is_fraud           trans_date   age  \n0        0  2019-01-01 00:00:00  30.0  \n1        0  2019-01-01 00:00:00  40.0  \n2        0  2019-01-01 00:00:00  56.0  \n3        0  2019-01-01 00:00:00  51.0  \n4        0  2019-01-01 00:00:00  32.0  \n\n[5 rows x 24 columns]",
      "text/html": "<div>\n<style scoped>\n    .dataframe tbody tr th:only-of-type {\n        vertical-align: middle;\n    }\n\n    .dataframe tbody tr th {\n        vertical-align: top;\n    }\n\n    .dataframe thead th {\n        text-align: right;\n    }\n</style>\n<table border=\"1\" class=\"dataframe\">\n  <thead>\n    <tr style=\"text-align: right;\">\n      <th></th>\n      <th>trans_date_trans_time</th>\n      <th>cc_num</th>\n      <th>merchant</th>\n      <th>category</th>\n      <th>amt</th>\n      <th>first</th>\n      <th>last</th>\n      <th>gender</th>\n      <th>street</th>\n      <th>city</th>\n      <th>...</th>\n      <th>city_pop</th>\n      <th>job</th>\n      <th>dob</th>\n      <th>trans_num</th>\n      <th>unix_time</th>\n      <th>merch_lat</th>\n      <th>merch_long</th>\n      <th>is_fraud</th>\n      <th>trans_date</th>\n      <th>age</th>\n    </tr>\n  </thead>\n  <tbody>\n    <tr>\n      <th>0</th>\n      <td>2019-01-01 00:00:18</td>\n      <td>2703186189652095</td>\n      <td>fraud_Rippin, Kub and Mann</td>\n      <td>misc_net</td>\n      <td>4.97</td>\n      <td>Jennifer</td>\n      <td>Banks</td>\n      <td>F</td>\n      <td>561 Perry Cove</td>\n      <td>Moravian Falls</td>\n      <td>...</td>\n      <td>3495</td>\n      <td>Psychologist, counselling</td>\n      <td>1988-03-09 00:00:00</td>\n      <td>0b242abb623afc578575680df30655b9</td>\n      <td>1325376018</td>\n      <td>36.011293</td>\n      <td>-82.048315</td>\n      <td>0</td>\n      <td>2019-01-01 00:00:00</td>\n      <td>30.0</td>\n    </tr>\n    <tr>\n      <th>1</th>\n      <td>2019-01-01 00:00:44</td>\n      <td>630423337322</td>\n      <td>fraud_Heller, Gutmann and Zieme</td>\n      <td>grocery_pos</td>\n      <td>107.23</td>\n      <td>Stephanie</td>\n      <td>Gill</td>\n      <td>F</td>\n      <td>43039 Riley Greens Suite 393</td>\n      <td>Orient</td>\n      <td>...</td>\n      <td>149</td>\n      <td>Special educational needs teacher</td>\n      <td>1978-06-21 00:00:00</td>\n      <td>1f76529f8574734946361c461b024d99</td>\n      <td>1325376044</td>\n      <td>49.159047</td>\n      <td>-118.186462</td>\n      <td>0</td>\n      <td>2019-01-01 00:00:00</td>\n      <td>40.0</td>\n    </tr>\n    <tr>\n      <th>2</th>\n      <td>2019-01-01 00:00:51</td>\n      <td>38859492057661</td>\n      <td>fraud_Lind-Buckridge</td>\n      <td>entertainment</td>\n      <td>220.11</td>\n      <td>Edward</td>\n      <td>Sanchez</td>\n      <td>M</td>\n      <td>594 White Dale Suite 530</td>\n      <td>Malad City</td>\n      <td>...</td>\n      <td>4154</td>\n      <td>Nature conservation officer</td>\n      <td>1962-01-19 00:00:00</td>\n      <td>a1a22d70485983eac12b5b88dad1cf95</td>\n      <td>1325376051</td>\n      <td>43.150704</td>\n      <td>-112.154481</td>\n      <td>0</td>\n      <td>2019-01-01 00:00:00</td>\n      <td>56.0</td>\n    </tr>\n    <tr>\n      <th>3</th>\n      <td>2019-01-01 00:01:16</td>\n      <td>3534093764340240</td>\n      <td>fraud_Kutch, Hermiston and Farrell</td>\n      <td>gas_transport</td>\n      <td>45.00</td>\n      <td>Jeremy</td>\n      <td>White</td>\n      <td>M</td>\n      <td>9443 Cynthia Court Apt. 038</td>\n      <td>Boulder</td>\n      <td>...</td>\n      <td>1939</td>\n      <td>Patent attorney</td>\n      <td>1967-01-12 00:00:00</td>\n      <td>6b849c168bdad6f867558c3793159a81</td>\n      <td>1325376076</td>\n      <td>47.034331</td>\n      <td>-112.561071</td>\n      <td>0</td>\n      <td>2019-01-01 00:00:00</td>\n      <td>51.0</td>\n    </tr>\n    <tr>\n      <th>4</th>\n      <td>2019-01-01 00:03:06</td>\n      <td>375534208663984</td>\n      <td>fraud_Keeling-Crist</td>\n      <td>misc_pos</td>\n      <td>41.96</td>\n      <td>Tyler</td>\n      <td>Garcia</td>\n      <td>M</td>\n      <td>408 Bradley Rest</td>\n      <td>Doe Hill</td>\n      <td>...</td>\n      <td>99</td>\n      <td>Dance movement psychotherapist</td>\n      <td>1986-03-28 00:00:00</td>\n      <td>a41d7549acf90789359a9aa5346dcb46</td>\n      <td>1325376186</td>\n      <td>38.674999</td>\n      <td>-78.632459</td>\n      <td>0</td>\n      <td>2019-01-01 00:00:00</td>\n      <td>32.0</td>\n    </tr>\n  </tbody>\n</table>\n<p>5 rows × 24 columns</p>\n</div>"
     },
     "execution_count": 6,
     "metadata": {},
     "output_type": "execute_result"
    }
   ],
   "source": [
    "train = pd.read_csv(train_path)\n",
    "train.head()"
   ],
   "metadata": {
    "collapsed": false,
    "pycharm": {
     "name": "#%%\n"
    }
   }
  },
  {
   "cell_type": "markdown",
   "source": [
    "Feature eng."
   ],
   "metadata": {
    "collapsed": false,
    "pycharm": {
     "name": "#%% md\n"
    }
   }
  },
  {
   "cell_type": "code",
   "execution_count": 7,
   "outputs": [],
   "source": [
    "\n",
    "coordenadas_proprietario = []\n",
    "for lat,long in zip(train[\"lat\"],train[\"long\"]):\n",
    "    coordenadas_proprietario.append((lat,long))\n",
    "\n",
    "coordenadas_fraud= []\n",
    "for lat,long in zip(train[\"merch_lat\"],train[\"merch_long\"]):\n",
    "    coordenadas_fraud.append((lat,long))\n",
    "\n",
    "dist_km = []\n",
    "for vit,fraud in zip(coordenadas_proprietario,coordenadas_fraud):\n",
    "    dist_km.append(round(haversine(vit,fraud),3))\n",
    "\n",
    "train[\"dist_fraude_km\"] = dist_km"
   ],
   "metadata": {
    "collapsed": false,
    "pycharm": {
     "name": "#%%\n"
    }
   }
  },
  {
   "cell_type": "code",
   "execution_count": 8,
   "outputs": [],
   "source": [
    "coordenadas_proprietario = []\n",
    "for lat,long in zip(test[\"lat\"],test[\"long\"]):\n",
    "    coordenadas_proprietario.append((lat,long))\n",
    "\n",
    "coordenadas_fraud= []\n",
    "for lat,long in zip(test[\"merch_lat\"],test[\"merch_long\"]):\n",
    "    coordenadas_fraud.append((lat,long))\n",
    "\n",
    "dist_km = []\n",
    "for vit,fraud in zip(coordenadas_proprietario,coordenadas_fraud):\n",
    "    dist_km.append(round(haversine(vit,fraud),3))\n",
    "\n",
    "test[\"dist_fraude_km\"] = dist_km"
   ],
   "metadata": {
    "collapsed": false,
    "pycharm": {
     "name": "#%%\n"
    }
   }
  },
  {
   "cell_type": "code",
   "execution_count": 9,
   "outputs": [
    {
     "data": {
      "text/plain": "  trans_date_trans_time            cc_num                            merchant  \\\n0   2019-01-01 00:00:18  2703186189652095          fraud_Rippin, Kub and Mann   \n1   2019-01-01 00:00:44      630423337322     fraud_Heller, Gutmann and Zieme   \n2   2019-01-01 00:00:51    38859492057661                fraud_Lind-Buckridge   \n3   2019-01-01 00:01:16  3534093764340240  fraud_Kutch, Hermiston and Farrell   \n4   2019-01-01 00:03:06   375534208663984                 fraud_Keeling-Crist   \n\n        category     amt      first     last gender  \\\n0       misc_net    4.97   Jennifer    Banks      F   \n1    grocery_pos  107.23  Stephanie     Gill      F   \n2  entertainment  220.11     Edward  Sanchez      M   \n3  gas_transport   45.00     Jeremy    White      M   \n4       misc_pos   41.96      Tyler   Garcia      M   \n\n                         street            city  ...  \\\n0                561 Perry Cove  Moravian Falls  ...   \n1  43039 Riley Greens Suite 393          Orient  ...   \n2      594 White Dale Suite 530      Malad City  ...   \n3   9443 Cynthia Court Apt. 038         Boulder  ...   \n4              408 Bradley Rest        Doe Hill  ...   \n\n                                 job                  dob  \\\n0          Psychologist, counselling  1988-03-09 00:00:00   \n1  Special educational needs teacher  1978-06-21 00:00:00   \n2        Nature conservation officer  1962-01-19 00:00:00   \n3                    Patent attorney  1967-01-12 00:00:00   \n4     Dance movement psychotherapist  1986-03-28 00:00:00   \n\n                          trans_num   unix_time  merch_lat  merch_long  \\\n0  0b242abb623afc578575680df30655b9  1325376018  36.011293  -82.048315   \n1  1f76529f8574734946361c461b024d99  1325376044  49.159047 -118.186462   \n2  a1a22d70485983eac12b5b88dad1cf95  1325376051  43.150704 -112.154481   \n3  6b849c168bdad6f867558c3793159a81  1325376076  47.034331 -112.561071   \n4  a41d7549acf90789359a9aa5346dcb46  1325376186  38.674999  -78.632459   \n\n  is_fraud           trans_date   age  dist_fraude_km  \n0        0  2019-01-01 00:00:00  30.0          78.598  \n1        0  2019-01-01 00:00:00  40.0          30.212  \n2        0  2019-01-01 00:00:00  56.0         108.206  \n3        0  2019-01-01 00:00:00  51.0          95.673  \n4        0  2019-01-01 00:00:00  32.0          77.557  \n\n[5 rows x 25 columns]",
      "text/html": "<div>\n<style scoped>\n    .dataframe tbody tr th:only-of-type {\n        vertical-align: middle;\n    }\n\n    .dataframe tbody tr th {\n        vertical-align: top;\n    }\n\n    .dataframe thead th {\n        text-align: right;\n    }\n</style>\n<table border=\"1\" class=\"dataframe\">\n  <thead>\n    <tr style=\"text-align: right;\">\n      <th></th>\n      <th>trans_date_trans_time</th>\n      <th>cc_num</th>\n      <th>merchant</th>\n      <th>category</th>\n      <th>amt</th>\n      <th>first</th>\n      <th>last</th>\n      <th>gender</th>\n      <th>street</th>\n      <th>city</th>\n      <th>...</th>\n      <th>job</th>\n      <th>dob</th>\n      <th>trans_num</th>\n      <th>unix_time</th>\n      <th>merch_lat</th>\n      <th>merch_long</th>\n      <th>is_fraud</th>\n      <th>trans_date</th>\n      <th>age</th>\n      <th>dist_fraude_km</th>\n    </tr>\n  </thead>\n  <tbody>\n    <tr>\n      <th>0</th>\n      <td>2019-01-01 00:00:18</td>\n      <td>2703186189652095</td>\n      <td>fraud_Rippin, Kub and Mann</td>\n      <td>misc_net</td>\n      <td>4.97</td>\n      <td>Jennifer</td>\n      <td>Banks</td>\n      <td>F</td>\n      <td>561 Perry Cove</td>\n      <td>Moravian Falls</td>\n      <td>...</td>\n      <td>Psychologist, counselling</td>\n      <td>1988-03-09 00:00:00</td>\n      <td>0b242abb623afc578575680df30655b9</td>\n      <td>1325376018</td>\n      <td>36.011293</td>\n      <td>-82.048315</td>\n      <td>0</td>\n      <td>2019-01-01 00:00:00</td>\n      <td>30.0</td>\n      <td>78.598</td>\n    </tr>\n    <tr>\n      <th>1</th>\n      <td>2019-01-01 00:00:44</td>\n      <td>630423337322</td>\n      <td>fraud_Heller, Gutmann and Zieme</td>\n      <td>grocery_pos</td>\n      <td>107.23</td>\n      <td>Stephanie</td>\n      <td>Gill</td>\n      <td>F</td>\n      <td>43039 Riley Greens Suite 393</td>\n      <td>Orient</td>\n      <td>...</td>\n      <td>Special educational needs teacher</td>\n      <td>1978-06-21 00:00:00</td>\n      <td>1f76529f8574734946361c461b024d99</td>\n      <td>1325376044</td>\n      <td>49.159047</td>\n      <td>-118.186462</td>\n      <td>0</td>\n      <td>2019-01-01 00:00:00</td>\n      <td>40.0</td>\n      <td>30.212</td>\n    </tr>\n    <tr>\n      <th>2</th>\n      <td>2019-01-01 00:00:51</td>\n      <td>38859492057661</td>\n      <td>fraud_Lind-Buckridge</td>\n      <td>entertainment</td>\n      <td>220.11</td>\n      <td>Edward</td>\n      <td>Sanchez</td>\n      <td>M</td>\n      <td>594 White Dale Suite 530</td>\n      <td>Malad City</td>\n      <td>...</td>\n      <td>Nature conservation officer</td>\n      <td>1962-01-19 00:00:00</td>\n      <td>a1a22d70485983eac12b5b88dad1cf95</td>\n      <td>1325376051</td>\n      <td>43.150704</td>\n      <td>-112.154481</td>\n      <td>0</td>\n      <td>2019-01-01 00:00:00</td>\n      <td>56.0</td>\n      <td>108.206</td>\n    </tr>\n    <tr>\n      <th>3</th>\n      <td>2019-01-01 00:01:16</td>\n      <td>3534093764340240</td>\n      <td>fraud_Kutch, Hermiston and Farrell</td>\n      <td>gas_transport</td>\n      <td>45.00</td>\n      <td>Jeremy</td>\n      <td>White</td>\n      <td>M</td>\n      <td>9443 Cynthia Court Apt. 038</td>\n      <td>Boulder</td>\n      <td>...</td>\n      <td>Patent attorney</td>\n      <td>1967-01-12 00:00:00</td>\n      <td>6b849c168bdad6f867558c3793159a81</td>\n      <td>1325376076</td>\n      <td>47.034331</td>\n      <td>-112.561071</td>\n      <td>0</td>\n      <td>2019-01-01 00:00:00</td>\n      <td>51.0</td>\n      <td>95.673</td>\n    </tr>\n    <tr>\n      <th>4</th>\n      <td>2019-01-01 00:03:06</td>\n      <td>375534208663984</td>\n      <td>fraud_Keeling-Crist</td>\n      <td>misc_pos</td>\n      <td>41.96</td>\n      <td>Tyler</td>\n      <td>Garcia</td>\n      <td>M</td>\n      <td>408 Bradley Rest</td>\n      <td>Doe Hill</td>\n      <td>...</td>\n      <td>Dance movement psychotherapist</td>\n      <td>1986-03-28 00:00:00</td>\n      <td>a41d7549acf90789359a9aa5346dcb46</td>\n      <td>1325376186</td>\n      <td>38.674999</td>\n      <td>-78.632459</td>\n      <td>0</td>\n      <td>2019-01-01 00:00:00</td>\n      <td>32.0</td>\n      <td>77.557</td>\n    </tr>\n  </tbody>\n</table>\n<p>5 rows × 25 columns</p>\n</div>"
     },
     "execution_count": 9,
     "metadata": {},
     "output_type": "execute_result"
    }
   ],
   "source": [
    "train.head()"
   ],
   "metadata": {
    "collapsed": false,
    "pycharm": {
     "name": "#%%\n"
    }
   }
  },
  {
   "cell_type": "code",
   "execution_count": null,
   "outputs": [],
   "source": [],
   "metadata": {
    "collapsed": false,
    "pycharm": {
     "name": "#%%\n"
    }
   }
  },
  {
   "cell_type": "code",
   "execution_count": null,
   "outputs": [],
   "source": [],
   "metadata": {
    "collapsed": false,
    "pycharm": {
     "name": "#%%\n"
    }
   }
  },
  {
   "cell_type": "markdown",
   "source": [
    "dropando colunas inutei para o modelo"
   ],
   "metadata": {
    "collapsed": false,
    "pycharm": {
     "name": "#%% md\n"
    }
   }
  },
  {
   "cell_type": "code",
   "execution_count": 47,
   "outputs": [
    {
     "data": {
      "text/plain": "Index(['trans_date_trans_time', 'cc_num', 'merchant', 'category', 'amt',\n       'first', 'last', 'gender', 'street', 'city', 'state', 'zip', 'lat',\n       'long', 'city_pop', 'job', 'dob', 'trans_num', 'unix_time', 'merch_lat',\n       'merch_long', 'is_fraud', 'trans_date', 'age', 'dist_fraude_km'],\n      dtype='object')"
     },
     "execution_count": 47,
     "metadata": {},
     "output_type": "execute_result"
    }
   ],
   "source": [
    "train.columns"
   ],
   "metadata": {
    "collapsed": false,
    "pycharm": {
     "name": "#%%\n"
    }
   }
  },
  {
   "cell_type": "code",
   "execution_count": null,
   "outputs": [],
   "source": [],
   "metadata": {
    "collapsed": false,
    "pycharm": {
     "name": "#%%\n"
    }
   }
  },
  {
   "cell_type": "code",
   "execution_count": 10,
   "outputs": [],
   "source": [
    "train_model_prep = train.drop(columns = ['trans_date_trans_time','city','lat','long','dob','merch_lat','merch_long','trans_date','state','street',\"first\",\"last\",\"unix_time\",\"merchant\",\"cc_num\",\"trans_num\",\"zip\",\"gender\",\"job\"])"
   ],
   "metadata": {
    "collapsed": false,
    "pycharm": {
     "name": "#%%\n"
    }
   }
  },
  {
   "cell_type": "code",
   "execution_count": 48,
   "outputs": [],
   "source": [],
   "metadata": {
    "collapsed": false,
    "pycharm": {
     "name": "#%%\n"
    }
   }
  },
  {
   "cell_type": "code",
   "execution_count": 49,
   "outputs": [
    {
     "data": {
      "text/plain": "        category     amt  city_pop  is_fraud   age  dist_fraude_km\n0       misc_net    4.97      3495         0  30.0          78.598\n1    grocery_pos  107.23       149         0  40.0          30.212\n2  entertainment  220.11      4154         0  56.0         108.206\n3  gas_transport   45.00      1939         0  51.0          95.673\n4       misc_pos   41.96        99         0  32.0          77.557",
      "text/html": "<div>\n<style scoped>\n    .dataframe tbody tr th:only-of-type {\n        vertical-align: middle;\n    }\n\n    .dataframe tbody tr th {\n        vertical-align: top;\n    }\n\n    .dataframe thead th {\n        text-align: right;\n    }\n</style>\n<table border=\"1\" class=\"dataframe\">\n  <thead>\n    <tr style=\"text-align: right;\">\n      <th></th>\n      <th>category</th>\n      <th>amt</th>\n      <th>city_pop</th>\n      <th>is_fraud</th>\n      <th>age</th>\n      <th>dist_fraude_km</th>\n    </tr>\n  </thead>\n  <tbody>\n    <tr>\n      <th>0</th>\n      <td>misc_net</td>\n      <td>4.97</td>\n      <td>3495</td>\n      <td>0</td>\n      <td>30.0</td>\n      <td>78.598</td>\n    </tr>\n    <tr>\n      <th>1</th>\n      <td>grocery_pos</td>\n      <td>107.23</td>\n      <td>149</td>\n      <td>0</td>\n      <td>40.0</td>\n      <td>30.212</td>\n    </tr>\n    <tr>\n      <th>2</th>\n      <td>entertainment</td>\n      <td>220.11</td>\n      <td>4154</td>\n      <td>0</td>\n      <td>56.0</td>\n      <td>108.206</td>\n    </tr>\n    <tr>\n      <th>3</th>\n      <td>gas_transport</td>\n      <td>45.00</td>\n      <td>1939</td>\n      <td>0</td>\n      <td>51.0</td>\n      <td>95.673</td>\n    </tr>\n    <tr>\n      <th>4</th>\n      <td>misc_pos</td>\n      <td>41.96</td>\n      <td>99</td>\n      <td>0</td>\n      <td>32.0</td>\n      <td>77.557</td>\n    </tr>\n  </tbody>\n</table>\n</div>"
     },
     "execution_count": 49,
     "metadata": {},
     "output_type": "execute_result"
    }
   ],
   "source": [
    "train_model_prep.head()"
   ],
   "metadata": {
    "collapsed": false,
    "pycharm": {
     "name": "#%%\n"
    }
   }
  },
  {
   "cell_type": "code",
   "execution_count": 50,
   "outputs": [
    {
     "name": "stdout",
     "output_type": "stream",
     "text": [
      "<class 'pandas.core.frame.DataFrame'>\n",
      "RangeIndex: 1296675 entries, 0 to 1296674\n",
      "Data columns (total 6 columns):\n",
      " #   Column          Non-Null Count    Dtype  \n",
      "---  ------          --------------    -----  \n",
      " 0   category        1296675 non-null  object \n",
      " 1   amt             1296675 non-null  float64\n",
      " 2   city_pop        1296675 non-null  int64  \n",
      " 3   is_fraud        1296675 non-null  int64  \n",
      " 4   age             1296675 non-null  float64\n",
      " 5   dist_fraude_km  1296675 non-null  float64\n",
      "dtypes: float64(3), int64(2), object(1)\n",
      "memory usage: 59.4+ MB\n"
     ]
    }
   ],
   "source": [
    "train_model_prep.info()"
   ],
   "metadata": {
    "collapsed": false,
    "pycharm": {
     "name": "#%%\n"
    }
   }
  },
  {
   "cell_type": "code",
   "execution_count": 14,
   "outputs": [],
   "source": [
    "le_category = LabelEncoder()"
   ],
   "metadata": {
    "collapsed": false,
    "pycharm": {
     "name": "#%%\n"
    }
   }
  },
  {
   "cell_type": "code",
   "execution_count": 15,
   "outputs": [
    {
     "data": {
      "text/plain": "LabelEncoder()"
     },
     "execution_count": 15,
     "metadata": {},
     "output_type": "execute_result"
    }
   ],
   "source": [
    "le_category.fit(train_model_prep['category'])"
   ],
   "metadata": {
    "collapsed": false,
    "pycharm": {
     "name": "#%%\n"
    }
   }
  },
  {
   "cell_type": "code",
   "execution_count": 16,
   "outputs": [],
   "source": [
    "train_model_prep['category'] = le_category.transform(train_model_prep['category'])"
   ],
   "metadata": {
    "collapsed": false,
    "pycharm": {
     "name": "#%%\n"
    }
   }
  },
  {
   "cell_type": "code",
   "execution_count": 17,
   "outputs": [
    {
     "data": {
      "text/plain": "   category     amt  city_pop  is_fraud   age  dist_fraude_km\n0         8    4.97      3495         0  30.0          78.598\n1         4  107.23       149         0  40.0          30.212\n2         0  220.11      4154         0  56.0         108.206\n3         2   45.00      1939         0  51.0          95.673\n4         9   41.96        99         0  32.0          77.557",
      "text/html": "<div>\n<style scoped>\n    .dataframe tbody tr th:only-of-type {\n        vertical-align: middle;\n    }\n\n    .dataframe tbody tr th {\n        vertical-align: top;\n    }\n\n    .dataframe thead th {\n        text-align: right;\n    }\n</style>\n<table border=\"1\" class=\"dataframe\">\n  <thead>\n    <tr style=\"text-align: right;\">\n      <th></th>\n      <th>category</th>\n      <th>amt</th>\n      <th>city_pop</th>\n      <th>is_fraud</th>\n      <th>age</th>\n      <th>dist_fraude_km</th>\n    </tr>\n  </thead>\n  <tbody>\n    <tr>\n      <th>0</th>\n      <td>8</td>\n      <td>4.97</td>\n      <td>3495</td>\n      <td>0</td>\n      <td>30.0</td>\n      <td>78.598</td>\n    </tr>\n    <tr>\n      <th>1</th>\n      <td>4</td>\n      <td>107.23</td>\n      <td>149</td>\n      <td>0</td>\n      <td>40.0</td>\n      <td>30.212</td>\n    </tr>\n    <tr>\n      <th>2</th>\n      <td>0</td>\n      <td>220.11</td>\n      <td>4154</td>\n      <td>0</td>\n      <td>56.0</td>\n      <td>108.206</td>\n    </tr>\n    <tr>\n      <th>3</th>\n      <td>2</td>\n      <td>45.00</td>\n      <td>1939</td>\n      <td>0</td>\n      <td>51.0</td>\n      <td>95.673</td>\n    </tr>\n    <tr>\n      <th>4</th>\n      <td>9</td>\n      <td>41.96</td>\n      <td>99</td>\n      <td>0</td>\n      <td>32.0</td>\n      <td>77.557</td>\n    </tr>\n  </tbody>\n</table>\n</div>"
     },
     "execution_count": 17,
     "metadata": {},
     "output_type": "execute_result"
    }
   ],
   "source": [
    "train_model_prep.head()"
   ],
   "metadata": {
    "collapsed": false,
    "pycharm": {
     "name": "#%%\n"
    }
   }
  },
  {
   "cell_type": "code",
   "execution_count": 18,
   "outputs": [],
   "source": [
    "# for col in train_model_prep.columns:\n",
    "#     if train_model_prep[col].dtypes == object:\n",
    "#         train_model_prep[col]= le.fit_transform(train_model_prep[col])"
   ],
   "metadata": {
    "collapsed": false,
    "pycharm": {
     "name": "#%%\n"
    }
   }
  },
  {
   "cell_type": "code",
   "execution_count": 19,
   "outputs": [
    {
     "name": "stdout",
     "output_type": "stream",
     "text": [
      "<class 'pandas.core.frame.DataFrame'>\n",
      "RangeIndex: 1296675 entries, 0 to 1296674\n",
      "Data columns (total 6 columns):\n",
      " #   Column          Non-Null Count    Dtype  \n",
      "---  ------          --------------    -----  \n",
      " 0   category        1296675 non-null  int32  \n",
      " 1   amt             1296675 non-null  float64\n",
      " 2   city_pop        1296675 non-null  int64  \n",
      " 3   is_fraud        1296675 non-null  int64  \n",
      " 4   age             1296675 non-null  float64\n",
      " 5   dist_fraude_km  1296675 non-null  float64\n",
      "dtypes: float64(3), int32(1), int64(2)\n",
      "memory usage: 54.4 MB\n"
     ]
    }
   ],
   "source": [
    "train_model_prep.info()"
   ],
   "metadata": {
    "collapsed": false,
    "pycharm": {
     "name": "#%%\n"
    }
   }
  },
  {
   "cell_type": "code",
   "execution_count": 20,
   "outputs": [
    {
     "data": {
      "text/plain": "         category     amt  city_pop  is_fraud   age  dist_fraude_km\n0               8    4.97      3495         0  30.0          78.598\n1               4  107.23       149         0  40.0          30.212\n2               0  220.11      4154         0  56.0         108.206\n3               2   45.00      1939         0  51.0          95.673\n4               9   41.96        99         0  32.0          77.557\n...           ...     ...       ...       ...   ...             ...\n1296670         0   15.56       258         0  58.0         119.752\n1296671         1   51.70       100         0  40.0          75.104\n1296672         1  105.93       899         0  52.0          99.048\n1296673         1   74.90      1126         0  39.0          84.628\n1296674         1    4.30       218         0  24.0          83.854\n\n[1296675 rows x 6 columns]",
      "text/html": "<div>\n<style scoped>\n    .dataframe tbody tr th:only-of-type {\n        vertical-align: middle;\n    }\n\n    .dataframe tbody tr th {\n        vertical-align: top;\n    }\n\n    .dataframe thead th {\n        text-align: right;\n    }\n</style>\n<table border=\"1\" class=\"dataframe\">\n  <thead>\n    <tr style=\"text-align: right;\">\n      <th></th>\n      <th>category</th>\n      <th>amt</th>\n      <th>city_pop</th>\n      <th>is_fraud</th>\n      <th>age</th>\n      <th>dist_fraude_km</th>\n    </tr>\n  </thead>\n  <tbody>\n    <tr>\n      <th>0</th>\n      <td>8</td>\n      <td>4.97</td>\n      <td>3495</td>\n      <td>0</td>\n      <td>30.0</td>\n      <td>78.598</td>\n    </tr>\n    <tr>\n      <th>1</th>\n      <td>4</td>\n      <td>107.23</td>\n      <td>149</td>\n      <td>0</td>\n      <td>40.0</td>\n      <td>30.212</td>\n    </tr>\n    <tr>\n      <th>2</th>\n      <td>0</td>\n      <td>220.11</td>\n      <td>4154</td>\n      <td>0</td>\n      <td>56.0</td>\n      <td>108.206</td>\n    </tr>\n    <tr>\n      <th>3</th>\n      <td>2</td>\n      <td>45.00</td>\n      <td>1939</td>\n      <td>0</td>\n      <td>51.0</td>\n      <td>95.673</td>\n    </tr>\n    <tr>\n      <th>4</th>\n      <td>9</td>\n      <td>41.96</td>\n      <td>99</td>\n      <td>0</td>\n      <td>32.0</td>\n      <td>77.557</td>\n    </tr>\n    <tr>\n      <th>...</th>\n      <td>...</td>\n      <td>...</td>\n      <td>...</td>\n      <td>...</td>\n      <td>...</td>\n      <td>...</td>\n    </tr>\n    <tr>\n      <th>1296670</th>\n      <td>0</td>\n      <td>15.56</td>\n      <td>258</td>\n      <td>0</td>\n      <td>58.0</td>\n      <td>119.752</td>\n    </tr>\n    <tr>\n      <th>1296671</th>\n      <td>1</td>\n      <td>51.70</td>\n      <td>100</td>\n      <td>0</td>\n      <td>40.0</td>\n      <td>75.104</td>\n    </tr>\n    <tr>\n      <th>1296672</th>\n      <td>1</td>\n      <td>105.93</td>\n      <td>899</td>\n      <td>0</td>\n      <td>52.0</td>\n      <td>99.048</td>\n    </tr>\n    <tr>\n      <th>1296673</th>\n      <td>1</td>\n      <td>74.90</td>\n      <td>1126</td>\n      <td>0</td>\n      <td>39.0</td>\n      <td>84.628</td>\n    </tr>\n    <tr>\n      <th>1296674</th>\n      <td>1</td>\n      <td>4.30</td>\n      <td>218</td>\n      <td>0</td>\n      <td>24.0</td>\n      <td>83.854</td>\n    </tr>\n  </tbody>\n</table>\n<p>1296675 rows × 6 columns</p>\n</div>"
     },
     "execution_count": 20,
     "metadata": {},
     "output_type": "execute_result"
    }
   ],
   "source": [
    "train_model_prep"
   ],
   "metadata": {
    "collapsed": false,
    "pycharm": {
     "name": "#%%\n"
    }
   }
  },
  {
   "cell_type": "code",
   "execution_count": 21,
   "outputs": [],
   "source": [
    "X = train_model_prep.drop(columns=[\"is_fraud\"])\n",
    "y = train_model_prep.is_fraud"
   ],
   "metadata": {
    "collapsed": false,
    "pycharm": {
     "name": "#%%\n"
    }
   }
  },
  {
   "cell_type": "code",
   "execution_count": 22,
   "outputs": [
    {
     "name": "stdout",
     "output_type": "stream",
     "text": [
      "Dimensões X = (1296675, 5) , y = (1296675,)\n"
     ]
    }
   ],
   "source": [
    "print(\"Dimensões X = {} , y = {}\".format(X.shape, y.shape))"
   ],
   "metadata": {
    "collapsed": false,
    "pycharm": {
     "name": "#%%\n"
    }
   }
  },
  {
   "cell_type": "code",
   "execution_count": 23,
   "outputs": [
    {
     "name": "stdout",
     "output_type": "stream",
     "text": [
      "Original dataset shape Counter({0: 1289169, 1: 7506})\n"
     ]
    }
   ],
   "source": [
    "print('Original dataset shape %s' % Counter(y))"
   ],
   "metadata": {
    "collapsed": false,
    "pycharm": {
     "name": "#%%\n"
    }
   }
  },
  {
   "cell_type": "code",
   "execution_count": 24,
   "outputs": [
    {
     "data": {
      "text/plain": "<Figure size 432x288 with 1 Axes>",
      "image/png": "[encoded data removed]"
     },
     "metadata": {},
     "output_type": "display_data"
    }
   ],
   "source": [
    "sns.set_theme(style=\"darkgrid\")\n",
    "ax = sns.countplot(x=\"is_fraud\", data=train_model_prep)"
   ],
   "metadata": {
    "collapsed": false,
    "pycharm": {
     "name": "#%%\n"
    }
   }
  },
  {
   "cell_type": "markdown",
   "source": [
    "Balanceando as classes"
   ],
   "metadata": {
    "collapsed": false,
    "pycharm": {
     "name": "#%% md\n"
    }
   }
  },
  {
   "cell_type": "code",
   "execution_count": 25,
   "outputs": [],
   "source": [
    "from imblearn.over_sampling import RandomOverSampler"
   ],
   "metadata": {
    "collapsed": false,
    "pycharm": {
     "name": "#%%\n"
    }
   }
  },
  {
   "cell_type": "code",
   "execution_count": 26,
   "outputs": [],
   "source": [
    "ros = RandomOverSampler(random_state=42)"
   ],
   "metadata": {
    "collapsed": false,
    "pycharm": {
     "name": "#%%\n"
    }
   }
  },
  {
   "cell_type": "code",
   "execution_count": 27,
   "outputs": [],
   "source": [
    "X_res, y_res = ros.fit_resample(X, y)"
   ],
   "metadata": {
    "collapsed": false,
    "pycharm": {
     "name": "#%%\n"
    }
   }
  },
  {
   "cell_type": "code",
   "execution_count": 28,
   "outputs": [
    {
     "name": "stdout",
     "output_type": "stream",
     "text": [
      "Original dataset shape Counter({0: 1289169, 1: 1289169})\n"
     ]
    }
   ],
   "source": [
    "print('Original dataset shape %s' % Counter(y_res))"
   ],
   "metadata": {
    "collapsed": false,
    "pycharm": {
     "name": "#%%\n"
    }
   }
  },
  {
   "cell_type": "markdown",
   "source": [
    "Separando os dados em treino e validação"
   ],
   "metadata": {
    "collapsed": false,
    "pycharm": {
     "name": "#%% md\n"
    }
   }
  },
  {
   "cell_type": "code",
   "execution_count": 29,
   "outputs": [],
   "source": [
    "x_train,x_val,y_train,y_val = train_test_split(X_res,y_res,test_size=0.30,random_state=42)"
   ],
   "metadata": {
    "collapsed": false,
    "pycharm": {
     "name": "#%%\n"
    }
   }
  },
  {
   "cell_type": "code",
   "execution_count": 30,
   "outputs": [
    {
     "name": "stdout",
     "output_type": "stream",
     "text": [
      "Exibindo as dimensões dos nossos dados de treino: \n",
      "X_train --> (1804836, 5)\n",
      "y_train --> (1804836,)\n",
      "X_val --> (773502, 5)\n",
      "y_val --> (773502,)\n"
     ]
    }
   ],
   "source": [
    "print(\"Exibindo as dimensões dos nossos dados de treino: \")\n",
    "print(\"X_train --> {}\".format(x_train.shape))\n",
    "print(\"y_train --> {}\".format(y_train.shape))\n",
    "print(\"X_val --> {}\".format(x_val.shape))\n",
    "print(\"y_val --> {}\".format(y_val.shape))"
   ],
   "metadata": {
    "collapsed": false,
    "pycharm": {
     "name": "#%%\n"
    }
   }
  },
  {
   "cell_type": "code",
   "execution_count": 67,
   "outputs": [],
   "source": [],
   "metadata": {
    "collapsed": false,
    "pycharm": {
     "name": "#%%\n"
    }
   }
  },
  {
   "cell_type": "markdown",
   "source": [
    "Nessa parte vamos fazer a escolha do nosso modelo, para isso instanciaremos diversos modeles treinaremos os mesmo, logo após isso vamos escolher os melhores baseado em suas metricas"
   ],
   "metadata": {
    "collapsed": false,
    "pycharm": {
     "name": "#%% md\n"
    }
   }
  },
  {
   "cell_type": "markdown",
   "source": [
    "importando os modelos"
   ],
   "metadata": {
    "collapsed": false,
    "pycharm": {
     "name": "#%% md\n"
    }
   }
  },
  {
   "cell_type": "code",
   "execution_count": null,
   "outputs": [],
   "source": [
    "!pip install xgboost"
   ],
   "metadata": {
    "collapsed": false,
    "pycharm": {
     "name": "#%%\n"
    }
   }
  },
  {
   "cell_type": "code",
   "execution_count": 31,
   "outputs": [],
   "source": [
    "from sklearn.tree import DecisionTreeClassifier\n",
    "from sklearn.ensemble import RandomForestClassifier,AdaBoostClassifier,GradientBoostingClassifier\n",
    "from sklearn.linear_model import LogisticRegression\n",
    "from sklearn.naive_bayes import BernoulliNB,GaussianNB\n",
    "from xgboost import XGBClassifier"
   ],
   "metadata": {
    "collapsed": false,
    "pycharm": {
     "name": "#%%\n"
    }
   }
  },
  {
   "cell_type": "code",
   "execution_count": 32,
   "outputs": [],
   "source": [
    "dt = DecisionTreeClassifier()\n",
    "rfclf = RandomForestClassifier()\n",
    "ada = AdaBoostClassifier()\n",
    "gbclf = GradientBoostingClassifier()\n",
    "logit = LogisticRegression()\n",
    "bernou = BernoulliNB()\n",
    "gaunb = GaussianNB()\n",
    "xgbclf = XGBClassifier()"
   ],
   "metadata": {
    "collapsed": false,
    "pycharm": {
     "name": "#%%\n"
    }
   }
  },
  {
   "cell_type": "code",
   "execution_count": 33,
   "outputs": [],
   "source": [
    "models = [dt,rfclf,ada,gbclf,logit,bernou,gaunb,xgbclf]"
   ],
   "metadata": {
    "collapsed": false,
    "pycharm": {
     "name": "#%%\n"
    }
   }
  },
  {
   "cell_type": "code",
   "execution_count": 34,
   "outputs": [],
   "source": [
    "def best_model(x,y,model_list:list,cv=3):\n",
    "    print(\"-\"*50)\n",
    "    df_ret = []\n",
    "    for m in model_list:\n",
    "        recall=[]\n",
    "        f1 = []\n",
    "        acc = []\n",
    "        precision = []\n",
    "        print(m.__class__.__name__)\n",
    "        for score in [\"recall\",\"f1\",\"accuracy\",\"precision\"]:\n",
    "            cvs = cross_val_score(m, x,y, scoring=score, cv=cv)\n",
    "            mean = cvs.mean()\n",
    "            std = cvs.std()\n",
    "            print(score + \" : \"+ str(round(mean,3)) + \" std : \"+ str(round(std,3)))\n",
    "            print(\"Intervalo :  [{:.2f}% ~ {:.2f}%]\".format((mean - 2*std)*100, (mean + 2*std)*100))\n",
    "            print()\n",
    "            if score == \"recall\":\n",
    "                recall.append(round(mean,3))\n",
    "            elif score == \"f1\":\n",
    "                f1.append(round(mean,3))\n",
    "            elif score == \"accuracy\":\n",
    "                acc.append(round(mean,3))\n",
    "            else:\n",
    "                precision.append(round(mean,3))\n",
    "\n",
    "        df_ret.append(pd.DataFrame(data=zip(recall,f1,acc,precision), index=[m.__class__.__name__], columns=['recall','f1','accuracy','precision']))\n",
    "\n",
    "\n",
    "\n",
    "        print()\n",
    "    return pd.concat(df_ret,sort=True)"
   ],
   "metadata": {
    "collapsed": false,
    "pycharm": {
     "name": "#%%\n"
    }
   }
  },
  {
   "cell_type": "code",
   "execution_count": 35,
   "outputs": [],
   "source": [
    "def fit_models(models_list:list, x,y):\n",
    "    retorno = []\n",
    "    print(\"[INFO]: Iniciando o treinamento dos modelos\")\n",
    "    print(\"[INFO]: Shape do treinamento X : {}\".format(x.shape))\n",
    "    print(\"[INFO]: Shape do treinamento y : {}\".format(y.shape))\n",
    "    print(\"-\"*50)\n",
    "    for model in models_list:\n",
    "        print(\"[INFO]: modelo a ser treinado  \",model.__class__.__name__)\n",
    "        model.fit(x,y)\n",
    "        print(\"[INFO]:Treinamento do modelo conlcuido\")\n",
    "        print(\"-\"*50)\n",
    "        retorno.append(model)\n",
    "    return retorno"
   ],
   "metadata": {
    "collapsed": false,
    "pycharm": {
     "name": "#%%\n"
    }
   }
  },
  {
   "cell_type": "code",
   "execution_count": 73,
   "outputs": [
    {
     "name": "stdout",
     "output_type": "stream",
     "text": [
      "--------------------------------------------------\n",
      "DecisionTreeClassifier\n",
      "recall : 1.0 std : 0.0\n",
      "Intervalo :  [100.00% ~ 100.00%]\n",
      "\n",
      "f1 : 0.999 std : 0.0\n",
      "Intervalo :  [99.84% ~ 99.86%]\n",
      "\n",
      "accuracy : 0.999 std : 0.0\n",
      "Intervalo :  [99.84% ~ 99.86%]\n",
      "\n",
      "precision : 0.997 std : 0.0\n",
      "Intervalo :  [99.68% ~ 99.71%]\n",
      "\n",
      "\n",
      "RandomForestClassifier\n",
      "recall : 1.0 std : 0.0\n",
      "Intervalo :  [100.00% ~ 100.00%]\n",
      "\n",
      "f1 : 0.999 std : 0.0\n",
      "Intervalo :  [99.89% ~ 99.90%]\n",
      "\n",
      "accuracy : 0.999 std : 0.0\n",
      "Intervalo :  [99.89% ~ 99.90%]\n",
      "\n",
      "precision : 0.998 std : 0.0\n",
      "Intervalo :  [99.79% ~ 99.81%]\n",
      "\n",
      "\n",
      "AdaBoostClassifier\n",
      "recall : 0.896 std : 0.002\n",
      "Intervalo :  [89.18% ~ 90.07%]\n",
      "\n",
      "f1 : 0.91 std : 0.004\n",
      "Intervalo :  [90.13% ~ 91.86%]\n",
      "\n",
      "accuracy : 0.911 std : 0.004\n",
      "Intervalo :  [90.24% ~ 92.03%]\n",
      "\n",
      "precision : 0.924 std : 0.007\n",
      "Intervalo :  [91.07% ~ 93.74%]\n",
      "\n",
      "\n",
      "GradientBoostingClassifier\n",
      "recall : 0.948 std : 0.001\n",
      "Intervalo :  [94.66% ~ 94.87%]\n",
      "\n",
      "f1 : 0.954 std : 0.001\n",
      "Intervalo :  [95.27% ~ 95.51%]\n",
      "\n",
      "accuracy : 0.954 std : 0.001\n",
      "Intervalo :  [95.30% ~ 95.55%]\n",
      "\n",
      "precision : 0.96 std : 0.002\n",
      "Intervalo :  [95.69% ~ 96.36%]\n",
      "\n",
      "\n",
      "LogisticRegression\n",
      "recall : 0.759 std : 0.0\n",
      "Intervalo :  [75.78% ~ 75.93%]\n",
      "\n",
      "f1 : 0.827 std : 0.0\n",
      "Intervalo :  [82.71% ~ 82.77%]\n",
      "\n",
      "accuracy : 0.842 std : 0.0\n",
      "Intervalo :  [84.16% ~ 84.21%]\n",
      "\n",
      "precision : 0.91 std : 0.0\n",
      "Intervalo :  [90.92% ~ 91.08%]\n",
      "\n",
      "\n",
      "BernoulliNB\n",
      "recall : 0.969 std : 0.0\n",
      "Intervalo :  [96.85% ~ 96.97%]\n",
      "\n",
      "f1 : 0.669 std : 0.0\n",
      "Intervalo :  [66.87% ~ 66.93%]\n",
      "\n",
      "accuracy : 0.521 std : 0.0\n",
      "Intervalo :  [52.04% ~ 52.11%]\n",
      "\n",
      "precision : 0.511 std : 0.0\n",
      "Intervalo :  [51.07% ~ 51.10%]\n",
      "\n",
      "\n",
      "GaussianNB\n",
      "recall : 0.643 std : 0.014\n",
      "Intervalo :  [61.46% ~ 67.19%]\n",
      "\n",
      "f1 : 0.769 std : 0.011\n",
      "Intervalo :  [74.64% ~ 79.15%]\n",
      "\n",
      "accuracy : 0.807 std : 0.008\n",
      "Intervalo :  [79.09% ~ 82.30%]\n",
      "\n",
      "precision : 0.956 std : 0.004\n",
      "Intervalo :  [94.89% ~ 96.32%]\n",
      "\n",
      "\n",
      "XGBClassifier\n",
      "recall : 1.0 std : 0.0\n",
      "Intervalo :  [99.93% ~ 100.00%]\n",
      "\n",
      "f1 : 0.991 std : 0.0\n",
      "Intervalo :  [99.08% ~ 99.13%]\n",
      "\n",
      "accuracy : 0.991 std : 0.0\n",
      "Intervalo :  [99.07% ~ 99.12%]\n",
      "\n",
      "precision : 0.983 std : 0.0\n",
      "Intervalo :  [98.23% ~ 98.28%]\n",
      "\n",
      "\n"
     ]
    }
   ],
   "source": [
    "df_model = best_model(x_train,y_train,models)"
   ],
   "metadata": {
    "collapsed": false,
    "pycharm": {
     "name": "#%%\n"
    }
   }
  },
  {
   "cell_type": "markdown",
   "source": [
    "# Avaliar os dados do df_model"
   ],
   "metadata": {
    "collapsed": false,
    "pycharm": {
     "name": "#%% md\n"
    }
   }
  },
  {
   "cell_type": "code",
   "execution_count": 74,
   "outputs": [
    {
     "data": {
      "text/plain": "                            accuracy     f1  precision  recall\nDecisionTreeClassifier         0.999  0.999      0.997   1.000\nRandomForestClassifier         0.999  0.999      0.998   1.000\nAdaBoostClassifier             0.911  0.910      0.924   0.896\nGradientBoostingClassifier     0.954  0.954      0.960   0.948\nLogisticRegression             0.842  0.827      0.910   0.759\nBernoulliNB                    0.521  0.669      0.511   0.969\nGaussianNB                     0.807  0.769      0.956   0.643\nXGBClassifier                  0.991  0.991      0.983   1.000",
      "text/html": "<div>\n<style scoped>\n    .dataframe tbody tr th:only-of-type {\n        vertical-align: middle;\n    }\n\n    .dataframe tbody tr th {\n        vertical-align: top;\n    }\n\n    .dataframe thead th {\n        text-align: right;\n    }\n</style>\n<table border=\"1\" class=\"dataframe\">\n  <thead>\n    <tr style=\"text-align: right;\">\n      <th></th>\n      <th>accuracy</th>\n      <th>f1</th>\n      <th>precision</th>\n      <th>recall</th>\n    </tr>\n  </thead>\n  <tbody>\n    <tr>\n      <th>DecisionTreeClassifier</th>\n      <td>0.999</td>\n      <td>0.999</td>\n      <td>0.997</td>\n      <td>1.000</td>\n    </tr>\n    <tr>\n      <th>RandomForestClassifier</th>\n      <td>0.999</td>\n      <td>0.999</td>\n      <td>0.998</td>\n      <td>1.000</td>\n    </tr>\n    <tr>\n      <th>AdaBoostClassifier</th>\n      <td>0.911</td>\n      <td>0.910</td>\n      <td>0.924</td>\n      <td>0.896</td>\n    </tr>\n    <tr>\n      <th>GradientBoostingClassifier</th>\n      <td>0.954</td>\n      <td>0.954</td>\n      <td>0.960</td>\n      <td>0.948</td>\n    </tr>\n    <tr>\n      <th>LogisticRegression</th>\n      <td>0.842</td>\n      <td>0.827</td>\n      <td>0.910</td>\n      <td>0.759</td>\n    </tr>\n    <tr>\n      <th>BernoulliNB</th>\n      <td>0.521</td>\n      <td>0.669</td>\n      <td>0.511</td>\n      <td>0.969</td>\n    </tr>\n    <tr>\n      <th>GaussianNB</th>\n      <td>0.807</td>\n      <td>0.769</td>\n      <td>0.956</td>\n      <td>0.643</td>\n    </tr>\n    <tr>\n      <th>XGBClassifier</th>\n      <td>0.991</td>\n      <td>0.991</td>\n      <td>0.983</td>\n      <td>1.000</td>\n    </tr>\n  </tbody>\n</table>\n</div>"
     },
     "execution_count": 74,
     "metadata": {},
     "output_type": "execute_result"
    }
   ],
   "source": [
    "df_model"
   ],
   "metadata": {
    "collapsed": false,
    "pycharm": {
     "name": "#%%\n"
    }
   }
  },
  {
   "cell_type": "markdown",
   "source": [
    "## Aqui vamos ordenar os dados de maneira decrescente  por duas colunas que são elas: precision, recall"
   ],
   "metadata": {
    "collapsed": false,
    "pycharm": {
     "name": "#%% md\n"
    }
   }
  },
  {
   "cell_type": "code",
   "execution_count": 76,
   "outputs": [
    {
     "data": {
      "text/plain": "                            accuracy     f1  precision  recall\nRandomForestClassifier         0.999  0.999      0.998   1.000\nDecisionTreeClassifier         0.999  0.999      0.997   1.000\nXGBClassifier                  0.991  0.991      0.983   1.000\nGradientBoostingClassifier     0.954  0.954      0.960   0.948\nGaussianNB                     0.807  0.769      0.956   0.643\nAdaBoostClassifier             0.911  0.910      0.924   0.896\nLogisticRegression             0.842  0.827      0.910   0.759\nBernoulliNB                    0.521  0.669      0.511   0.969",
      "text/html": "<div>\n<style scoped>\n    .dataframe tbody tr th:only-of-type {\n        vertical-align: middle;\n    }\n\n    .dataframe tbody tr th {\n        vertical-align: top;\n    }\n\n    .dataframe thead th {\n        text-align: right;\n    }\n</style>\n<table border=\"1\" class=\"dataframe\">\n  <thead>\n    <tr style=\"text-align: right;\">\n      <th></th>\n      <th>accuracy</th>\n      <th>f1</th>\n      <th>precision</th>\n      <th>recall</th>\n    </tr>\n  </thead>\n  <tbody>\n    <tr>\n      <th>RandomForestClassifier</th>\n      <td>0.999</td>\n      <td>0.999</td>\n      <td>0.998</td>\n      <td>1.000</td>\n    </tr>\n    <tr>\n      <th>DecisionTreeClassifier</th>\n      <td>0.999</td>\n      <td>0.999</td>\n      <td>0.997</td>\n      <td>1.000</td>\n    </tr>\n    <tr>\n      <th>XGBClassifier</th>\n      <td>0.991</td>\n      <td>0.991</td>\n      <td>0.983</td>\n      <td>1.000</td>\n    </tr>\n    <tr>\n      <th>GradientBoostingClassifier</th>\n      <td>0.954</td>\n      <td>0.954</td>\n      <td>0.960</td>\n      <td>0.948</td>\n    </tr>\n    <tr>\n      <th>GaussianNB</th>\n      <td>0.807</td>\n      <td>0.769</td>\n      <td>0.956</td>\n      <td>0.643</td>\n    </tr>\n    <tr>\n      <th>AdaBoostClassifier</th>\n      <td>0.911</td>\n      <td>0.910</td>\n      <td>0.924</td>\n      <td>0.896</td>\n    </tr>\n    <tr>\n      <th>LogisticRegression</th>\n      <td>0.842</td>\n      <td>0.827</td>\n      <td>0.910</td>\n      <td>0.759</td>\n    </tr>\n    <tr>\n      <th>BernoulliNB</th>\n      <td>0.521</td>\n      <td>0.669</td>\n      <td>0.511</td>\n      <td>0.969</td>\n    </tr>\n  </tbody>\n</table>\n</div>"
     },
     "execution_count": 76,
     "metadata": {},
     "output_type": "execute_result"
    }
   ],
   "source": [
    "df_model.sort_values(by=['precision','f1'],ascending=False)"
   ],
   "metadata": {
    "collapsed": false,
    "pycharm": {
     "name": "#%%\n"
    }
   }
  },
  {
   "cell_type": "markdown",
   "source": [
    "Percebemos que os moledos a serem escolhidos vão ser: RandomFlorestCLf, DecisionTreeClf, XGBClf"
   ],
   "metadata": {
    "collapsed": false,
    "pycharm": {
     "name": "#%% md\n"
    }
   }
  },
  {
   "cell_type": "code",
   "execution_count": 77,
   "outputs": [
    {
     "name": "stdout",
     "output_type": "stream",
     "text": [
      "[INFO]: Iniciando o treinamento dos modelos\n",
      "[INFO]: Shape do treinamento X : (1804836, 5)\n",
      "[INFO]: Shape do treinamento y : (1804836,)\n",
      "--------------------------------------------------\n",
      "[INFO]: modelo a ser treinado   RandomForestClassifier\n",
      "[INFO]:Treinamento do modelo conlcuido\n",
      "--------------------------------------------------\n"
     ]
    }
   ],
   "source": [
    "model_train = fit_models([rfclf],x_train,y_train)"
   ],
   "metadata": {
    "collapsed": false,
    "pycharm": {
     "name": "#%%\n"
    }
   }
  },
  {
   "cell_type": "code",
   "execution_count": 78,
   "outputs": [
    {
     "name": "stdout",
     "output_type": "stream",
     "text": [
      "--------------------------------------------------\n",
      "RandomForestClassifier\n",
      "recall : 1.0 std : 0.0\n",
      "Intervalo :  [100.00% ~ 100.00%]\n",
      "\n",
      "f1 : 0.998 std : 0.0\n",
      "Intervalo :  [99.83% ~ 99.85%]\n",
      "\n",
      "accuracy : 0.998 std : 0.0\n",
      "Intervalo :  [99.82% ~ 99.85%]\n",
      "\n",
      "precision : 0.997 std : 0.0\n",
      "Intervalo :  [99.66% ~ 99.70%]\n",
      "\n",
      "\n"
     ]
    }
   ],
   "source": [
    "df_model_train = best_model(x_val,y_val,model_train)"
   ],
   "metadata": {
    "collapsed": false,
    "pycharm": {
     "name": "#%%\n"
    }
   }
  },
  {
   "cell_type": "code",
   "execution_count": 79,
   "outputs": [
    {
     "data": {
      "text/plain": "                        accuracy     f1  precision  recall\nRandomForestClassifier     0.998  0.998      0.997     1.0",
      "text/html": "<div>\n<style scoped>\n    .dataframe tbody tr th:only-of-type {\n        vertical-align: middle;\n    }\n\n    .dataframe tbody tr th {\n        vertical-align: top;\n    }\n\n    .dataframe thead th {\n        text-align: right;\n    }\n</style>\n<table border=\"1\" class=\"dataframe\">\n  <thead>\n    <tr style=\"text-align: right;\">\n      <th></th>\n      <th>accuracy</th>\n      <th>f1</th>\n      <th>precision</th>\n      <th>recall</th>\n    </tr>\n  </thead>\n  <tbody>\n    <tr>\n      <th>RandomForestClassifier</th>\n      <td>0.998</td>\n      <td>0.998</td>\n      <td>0.997</td>\n      <td>1.0</td>\n    </tr>\n  </tbody>\n</table>\n</div>"
     },
     "execution_count": 79,
     "metadata": {},
     "output_type": "execute_result"
    }
   ],
   "source": [
    "df_model_train.sort_values(by=['precision','recall'],ascending=False)"
   ],
   "metadata": {
    "collapsed": false,
    "pycharm": {
     "name": "#%%\n"
    }
   }
  },
  {
   "cell_type": "markdown",
   "source": [
    "Aqui vemos indicação de que o melhor foi o randomflorest"
   ],
   "metadata": {
    "collapsed": false,
    "pycharm": {
     "name": "#%% md\n"
    }
   }
  },
  {
   "cell_type": "code",
   "execution_count": 80,
   "outputs": [
    {
     "data": {
      "text/plain": "[RandomForestClassifier()]"
     },
     "execution_count": 80,
     "metadata": {},
     "output_type": "execute_result"
    }
   ],
   "source": [
    "model_train"
   ],
   "metadata": {
    "collapsed": false,
    "pycharm": {
     "name": "#%%\n"
    }
   }
  },
  {
   "cell_type": "code",
   "execution_count": 81,
   "outputs": [
    {
     "data": {
      "text/plain": "RandomForestClassifier()"
     },
     "execution_count": 81,
     "metadata": {},
     "output_type": "execute_result"
    }
   ],
   "source": [
    "model = model_train[0]\n",
    "model"
   ],
   "metadata": {
    "collapsed": false,
    "pycharm": {
     "name": "#%%\n"
    }
   }
  },
  {
   "cell_type": "markdown",
   "source": [
    "Identificando as features de maiores importancia no modelo"
   ],
   "metadata": {
    "collapsed": false,
    "pycharm": {
     "name": "#%% md\n"
    }
   }
  },
  {
   "cell_type": "code",
   "execution_count": 83,
   "outputs": [
    {
     "data": {
      "text/plain": "<Figure size 1080x720 with 1 Axes>",
      "image/png": "[encoded data removed]"
     },
     "metadata": {},
     "output_type": "display_data"
    }
   ],
   "source": [
    "feature_importances = pd.DataFrame(model.feature_importances_,\n",
    "                                   index = x_train.columns,\n",
    "                                   columns=['importance']).sort_values('importance', ascending=False)\n",
    "feature_importances.reset_index(inplace=True)\n",
    "feature_importances.rename(columns={\"index\": \"features\"}, inplace=True)\n",
    "\n",
    "fig, ax = plt.subplots(figsize=(15,10))\n",
    "\n",
    "feature_importances.plot(x=\"features\", y=\"importance\", kind=\"bar\", ax=ax)\n",
    "\n",
    "ax.set_title(\"Importância das Features - Random Florest\")\n",
    "ax.set_xlabel(\"Variáveis\")\n",
    "ax.set_ylabel(\"Importância\")\n",
    "\n",
    "\n",
    "plt.tight_layout()"
   ],
   "metadata": {
    "collapsed": false,
    "pycharm": {
     "name": "#%%\n"
    }
   }
  },
  {
   "cell_type": "markdown",
   "source": [
    "Tunando os hyperparametros"
   ],
   "metadata": {
    "collapsed": false,
    "pycharm": {
     "name": "#%% md\n"
    }
   }
  },
  {
   "cell_type": "code",
   "execution_count": 36,
   "outputs": [],
   "source": [
    "param = {\n",
    "    'bootstrap': [True, False],\n",
    "    'max_depth': [50, 70, 90, 100],\n",
    "    'max_features': ['auto', 'sqrt'],\n",
    "    'min_samples_leaf': [2, 4,8],\n",
    "    'min_samples_split': [ 5, 10,15],\n",
    "    'n_estimators': [100,300,600,900]\n",
    "}"
   ],
   "metadata": {
    "collapsed": false,
    "pycharm": {
     "name": "#%%\n"
    }
   }
  },
  {
   "cell_type": "code",
   "execution_count": 37,
   "outputs": [
    {
     "name": "stdout",
     "output_type": "stream",
     "text": [
      "Fitting 3 folds for each of 2 candidates, totalling 6 fits\n"
     ]
    },
    {
     "ename": "KeyboardInterrupt",
     "evalue": "",
     "output_type": "error",
     "traceback": [
      "\u001B[1;31m---------------------------------------------------------------------------\u001B[0m",
      "\u001B[1;31mKeyboardInterrupt\u001B[0m                         Traceback (most recent call last)",
      "Input \u001B[1;32mIn [37]\u001B[0m, in \u001B[0;36m<cell line: 2>\u001B[1;34m()\u001B[0m\n\u001B[0;32m      1\u001B[0m gridRF \u001B[38;5;241m=\u001B[39m GridSearchCV(estimator\u001B[38;5;241m=\u001B[39mRandomForestClassifier(bootstrap\u001B[38;5;241m=\u001B[39m\u001B[38;5;28;01mTrue\u001B[39;00m, max_depth\u001B[38;5;241m=\u001B[39m\u001B[38;5;241m90\u001B[39m,max_features\u001B[38;5;241m=\u001B[39m\u001B[38;5;124m\"\u001B[39m\u001B[38;5;124msqrt\u001B[39m\u001B[38;5;124m\"\u001B[39m,min_samples_leaf\u001B[38;5;241m=\u001B[39m\u001B[38;5;241m2\u001B[39m,min_samples_split\u001B[38;5;241m=\u001B[39m\u001B[38;5;241m10\u001B[39m,n_estimators\u001B[38;5;241m=\u001B[39m\u001B[38;5;241m600\u001B[39m), param_grid\u001B[38;5;241m=\u001B[39m{\u001B[38;5;124m\"\u001B[39m\u001B[38;5;124mclass_weight\u001B[39m\u001B[38;5;124m\"\u001B[39m:[\u001B[38;5;124m\"\u001B[39m\u001B[38;5;124mbalanced\u001B[39m\u001B[38;5;124m\"\u001B[39m, \u001B[38;5;124m\"\u001B[39m\u001B[38;5;124mbalanced_subsample\u001B[39m\u001B[38;5;124m\"\u001B[39m]},cv\u001B[38;5;241m=\u001B[39m\u001B[38;5;241m3\u001B[39m,scoring\u001B[38;5;241m=\u001B[39m\u001B[38;5;124m\"\u001B[39m\u001B[38;5;124mf1\u001B[39m\u001B[38;5;124m\"\u001B[39m,verbose\u001B[38;5;241m=\u001B[39m\u001B[38;5;241m3\u001B[39m)\n\u001B[1;32m----> 2\u001B[0m \u001B[43mgridRF\u001B[49m\u001B[38;5;241;43m.\u001B[39;49m\u001B[43mfit\u001B[49m\u001B[43m(\u001B[49m\u001B[43mx_train\u001B[49m\u001B[43m,\u001B[49m\u001B[43my_train\u001B[49m\u001B[43m)\u001B[49m\n",
      "File \u001B[1;32m~\\anaconda3\\lib\\site-packages\\sklearn\\model_selection\\_search.py:891\u001B[0m, in \u001B[0;36mBaseSearchCV.fit\u001B[1;34m(self, X, y, groups, **fit_params)\u001B[0m\n\u001B[0;32m    885\u001B[0m     results \u001B[38;5;241m=\u001B[39m \u001B[38;5;28mself\u001B[39m\u001B[38;5;241m.\u001B[39m_format_results(\n\u001B[0;32m    886\u001B[0m         all_candidate_params, n_splits, all_out, all_more_results\n\u001B[0;32m    887\u001B[0m     )\n\u001B[0;32m    889\u001B[0m     \u001B[38;5;28;01mreturn\u001B[39;00m results\n\u001B[1;32m--> 891\u001B[0m \u001B[38;5;28;43mself\u001B[39;49m\u001B[38;5;241;43m.\u001B[39;49m\u001B[43m_run_search\u001B[49m\u001B[43m(\u001B[49m\u001B[43mevaluate_candidates\u001B[49m\u001B[43m)\u001B[49m\n\u001B[0;32m    893\u001B[0m \u001B[38;5;66;03m# multimetric is determined here because in the case of a callable\u001B[39;00m\n\u001B[0;32m    894\u001B[0m \u001B[38;5;66;03m# self.scoring the return type is only known after calling\u001B[39;00m\n\u001B[0;32m    895\u001B[0m first_test_score \u001B[38;5;241m=\u001B[39m all_out[\u001B[38;5;241m0\u001B[39m][\u001B[38;5;124m\"\u001B[39m\u001B[38;5;124mtest_scores\u001B[39m\u001B[38;5;124m\"\u001B[39m]\n",
      "File \u001B[1;32m~\\anaconda3\\lib\\site-packages\\sklearn\\model_selection\\_search.py:1392\u001B[0m, in \u001B[0;36mGridSearchCV._run_search\u001B[1;34m(self, evaluate_candidates)\u001B[0m\n\u001B[0;32m   1390\u001B[0m \u001B[38;5;28;01mdef\u001B[39;00m \u001B[38;5;21m_run_search\u001B[39m(\u001B[38;5;28mself\u001B[39m, evaluate_candidates):\n\u001B[0;32m   1391\u001B[0m     \u001B[38;5;124;03m\"\"\"Search all candidates in param_grid\"\"\"\u001B[39;00m\n\u001B[1;32m-> 1392\u001B[0m     \u001B[43mevaluate_candidates\u001B[49m\u001B[43m(\u001B[49m\u001B[43mParameterGrid\u001B[49m\u001B[43m(\u001B[49m\u001B[38;5;28;43mself\u001B[39;49m\u001B[38;5;241;43m.\u001B[39;49m\u001B[43mparam_grid\u001B[49m\u001B[43m)\u001B[49m\u001B[43m)\u001B[49m\n",
      "File \u001B[1;32m~\\anaconda3\\lib\\site-packages\\sklearn\\model_selection\\_search.py:838\u001B[0m, in \u001B[0;36mBaseSearchCV.fit.<locals>.evaluate_candidates\u001B[1;34m(candidate_params, cv, more_results)\u001B[0m\n\u001B[0;32m    830\u001B[0m \u001B[38;5;28;01mif\u001B[39;00m \u001B[38;5;28mself\u001B[39m\u001B[38;5;241m.\u001B[39mverbose \u001B[38;5;241m>\u001B[39m \u001B[38;5;241m0\u001B[39m:\n\u001B[0;32m    831\u001B[0m     \u001B[38;5;28mprint\u001B[39m(\n\u001B[0;32m    832\u001B[0m         \u001B[38;5;124m\"\u001B[39m\u001B[38;5;124mFitting \u001B[39m\u001B[38;5;132;01m{0}\u001B[39;00m\u001B[38;5;124m folds for each of \u001B[39m\u001B[38;5;132;01m{1}\u001B[39;00m\u001B[38;5;124m candidates,\u001B[39m\u001B[38;5;124m\"\u001B[39m\n\u001B[0;32m    833\u001B[0m         \u001B[38;5;124m\"\u001B[39m\u001B[38;5;124m totalling \u001B[39m\u001B[38;5;132;01m{2}\u001B[39;00m\u001B[38;5;124m fits\u001B[39m\u001B[38;5;124m\"\u001B[39m\u001B[38;5;241m.\u001B[39mformat(\n\u001B[0;32m    834\u001B[0m             n_splits, n_candidates, n_candidates \u001B[38;5;241m*\u001B[39m n_splits\n\u001B[0;32m    835\u001B[0m         )\n\u001B[0;32m    836\u001B[0m     )\n\u001B[1;32m--> 838\u001B[0m out \u001B[38;5;241m=\u001B[39m \u001B[43mparallel\u001B[49m\u001B[43m(\u001B[49m\n\u001B[0;32m    839\u001B[0m \u001B[43m    \u001B[49m\u001B[43mdelayed\u001B[49m\u001B[43m(\u001B[49m\u001B[43m_fit_and_score\u001B[49m\u001B[43m)\u001B[49m\u001B[43m(\u001B[49m\n\u001B[0;32m    840\u001B[0m \u001B[43m        \u001B[49m\u001B[43mclone\u001B[49m\u001B[43m(\u001B[49m\u001B[43mbase_estimator\u001B[49m\u001B[43m)\u001B[49m\u001B[43m,\u001B[49m\n\u001B[0;32m    841\u001B[0m \u001B[43m        \u001B[49m\u001B[43mX\u001B[49m\u001B[43m,\u001B[49m\n\u001B[0;32m    842\u001B[0m \u001B[43m        \u001B[49m\u001B[43my\u001B[49m\u001B[43m,\u001B[49m\n\u001B[0;32m    843\u001B[0m \u001B[43m        \u001B[49m\u001B[43mtrain\u001B[49m\u001B[38;5;241;43m=\u001B[39;49m\u001B[43mtrain\u001B[49m\u001B[43m,\u001B[49m\n\u001B[0;32m    844\u001B[0m \u001B[43m        \u001B[49m\u001B[43mtest\u001B[49m\u001B[38;5;241;43m=\u001B[39;49m\u001B[43mtest\u001B[49m\u001B[43m,\u001B[49m\n\u001B[0;32m    845\u001B[0m \u001B[43m        \u001B[49m\u001B[43mparameters\u001B[49m\u001B[38;5;241;43m=\u001B[39;49m\u001B[43mparameters\u001B[49m\u001B[43m,\u001B[49m\n\u001B[0;32m    846\u001B[0m \u001B[43m        \u001B[49m\u001B[43msplit_progress\u001B[49m\u001B[38;5;241;43m=\u001B[39;49m\u001B[43m(\u001B[49m\u001B[43msplit_idx\u001B[49m\u001B[43m,\u001B[49m\u001B[43m \u001B[49m\u001B[43mn_splits\u001B[49m\u001B[43m)\u001B[49m\u001B[43m,\u001B[49m\n\u001B[0;32m    847\u001B[0m \u001B[43m        \u001B[49m\u001B[43mcandidate_progress\u001B[49m\u001B[38;5;241;43m=\u001B[39;49m\u001B[43m(\u001B[49m\u001B[43mcand_idx\u001B[49m\u001B[43m,\u001B[49m\u001B[43m \u001B[49m\u001B[43mn_candidates\u001B[49m\u001B[43m)\u001B[49m\u001B[43m,\u001B[49m\n\u001B[0;32m    848\u001B[0m \u001B[43m        \u001B[49m\u001B[38;5;241;43m*\u001B[39;49m\u001B[38;5;241;43m*\u001B[39;49m\u001B[43mfit_and_score_kwargs\u001B[49m\u001B[43m,\u001B[49m\n\u001B[0;32m    849\u001B[0m \u001B[43m    \u001B[49m\u001B[43m)\u001B[49m\n\u001B[0;32m    850\u001B[0m \u001B[43m    \u001B[49m\u001B[38;5;28;43;01mfor\u001B[39;49;00m\u001B[43m \u001B[49m\u001B[43m(\u001B[49m\u001B[43mcand_idx\u001B[49m\u001B[43m,\u001B[49m\u001B[43m \u001B[49m\u001B[43mparameters\u001B[49m\u001B[43m)\u001B[49m\u001B[43m,\u001B[49m\u001B[43m \u001B[49m\u001B[43m(\u001B[49m\u001B[43msplit_idx\u001B[49m\u001B[43m,\u001B[49m\u001B[43m \u001B[49m\u001B[43m(\u001B[49m\u001B[43mtrain\u001B[49m\u001B[43m,\u001B[49m\u001B[43m \u001B[49m\u001B[43mtest\u001B[49m\u001B[43m)\u001B[49m\u001B[43m)\u001B[49m\u001B[43m \u001B[49m\u001B[38;5;129;43;01min\u001B[39;49;00m\u001B[43m \u001B[49m\u001B[43mproduct\u001B[49m\u001B[43m(\u001B[49m\n\u001B[0;32m    851\u001B[0m \u001B[43m        \u001B[49m\u001B[38;5;28;43menumerate\u001B[39;49m\u001B[43m(\u001B[49m\u001B[43mcandidate_params\u001B[49m\u001B[43m)\u001B[49m\u001B[43m,\u001B[49m\u001B[43m \u001B[49m\u001B[38;5;28;43menumerate\u001B[39;49m\u001B[43m(\u001B[49m\u001B[43mcv\u001B[49m\u001B[38;5;241;43m.\u001B[39;49m\u001B[43msplit\u001B[49m\u001B[43m(\u001B[49m\u001B[43mX\u001B[49m\u001B[43m,\u001B[49m\u001B[43m \u001B[49m\u001B[43my\u001B[49m\u001B[43m,\u001B[49m\u001B[43m \u001B[49m\u001B[43mgroups\u001B[49m\u001B[43m)\u001B[49m\u001B[43m)\u001B[49m\n\u001B[0;32m    852\u001B[0m \u001B[43m    \u001B[49m\u001B[43m)\u001B[49m\n\u001B[0;32m    853\u001B[0m \u001B[43m\u001B[49m\u001B[43m)\u001B[49m\n\u001B[0;32m    855\u001B[0m \u001B[38;5;28;01mif\u001B[39;00m \u001B[38;5;28mlen\u001B[39m(out) \u001B[38;5;241m<\u001B[39m \u001B[38;5;241m1\u001B[39m:\n\u001B[0;32m    856\u001B[0m     \u001B[38;5;28;01mraise\u001B[39;00m \u001B[38;5;167;01mValueError\u001B[39;00m(\n\u001B[0;32m    857\u001B[0m         \u001B[38;5;124m\"\u001B[39m\u001B[38;5;124mNo fits were performed. \u001B[39m\u001B[38;5;124m\"\u001B[39m\n\u001B[0;32m    858\u001B[0m         \u001B[38;5;124m\"\u001B[39m\u001B[38;5;124mWas the CV iterator empty? \u001B[39m\u001B[38;5;124m\"\u001B[39m\n\u001B[0;32m    859\u001B[0m         \u001B[38;5;124m\"\u001B[39m\u001B[38;5;124mWere there no candidates?\u001B[39m\u001B[38;5;124m\"\u001B[39m\n\u001B[0;32m    860\u001B[0m     )\n",
      "File \u001B[1;32m~\\anaconda3\\lib\\site-packages\\joblib\\parallel.py:1043\u001B[0m, in \u001B[0;36mParallel.__call__\u001B[1;34m(self, iterable)\u001B[0m\n\u001B[0;32m   1034\u001B[0m \u001B[38;5;28;01mtry\u001B[39;00m:\n\u001B[0;32m   1035\u001B[0m     \u001B[38;5;66;03m# Only set self._iterating to True if at least a batch\u001B[39;00m\n\u001B[0;32m   1036\u001B[0m     \u001B[38;5;66;03m# was dispatched. In particular this covers the edge\u001B[39;00m\n\u001B[1;32m   (...)\u001B[0m\n\u001B[0;32m   1040\u001B[0m     \u001B[38;5;66;03m# was very quick and its callback already dispatched all the\u001B[39;00m\n\u001B[0;32m   1041\u001B[0m     \u001B[38;5;66;03m# remaining jobs.\u001B[39;00m\n\u001B[0;32m   1042\u001B[0m     \u001B[38;5;28mself\u001B[39m\u001B[38;5;241m.\u001B[39m_iterating \u001B[38;5;241m=\u001B[39m \u001B[38;5;28;01mFalse\u001B[39;00m\n\u001B[1;32m-> 1043\u001B[0m     \u001B[38;5;28;01mif\u001B[39;00m \u001B[38;5;28;43mself\u001B[39;49m\u001B[38;5;241;43m.\u001B[39;49m\u001B[43mdispatch_one_batch\u001B[49m\u001B[43m(\u001B[49m\u001B[43miterator\u001B[49m\u001B[43m)\u001B[49m:\n\u001B[0;32m   1044\u001B[0m         \u001B[38;5;28mself\u001B[39m\u001B[38;5;241m.\u001B[39m_iterating \u001B[38;5;241m=\u001B[39m \u001B[38;5;28mself\u001B[39m\u001B[38;5;241m.\u001B[39m_original_iterator \u001B[38;5;129;01mis\u001B[39;00m \u001B[38;5;129;01mnot\u001B[39;00m \u001B[38;5;28;01mNone\u001B[39;00m\n\u001B[0;32m   1046\u001B[0m     \u001B[38;5;28;01mwhile\u001B[39;00m \u001B[38;5;28mself\u001B[39m\u001B[38;5;241m.\u001B[39mdispatch_one_batch(iterator):\n",
      "File \u001B[1;32m~\\anaconda3\\lib\\site-packages\\joblib\\parallel.py:861\u001B[0m, in \u001B[0;36mParallel.dispatch_one_batch\u001B[1;34m(self, iterator)\u001B[0m\n\u001B[0;32m    859\u001B[0m     \u001B[38;5;28;01mreturn\u001B[39;00m \u001B[38;5;28;01mFalse\u001B[39;00m\n\u001B[0;32m    860\u001B[0m \u001B[38;5;28;01melse\u001B[39;00m:\n\u001B[1;32m--> 861\u001B[0m     \u001B[38;5;28;43mself\u001B[39;49m\u001B[38;5;241;43m.\u001B[39;49m\u001B[43m_dispatch\u001B[49m\u001B[43m(\u001B[49m\u001B[43mtasks\u001B[49m\u001B[43m)\u001B[49m\n\u001B[0;32m    862\u001B[0m     \u001B[38;5;28;01mreturn\u001B[39;00m \u001B[38;5;28;01mTrue\u001B[39;00m\n",
      "File \u001B[1;32m~\\anaconda3\\lib\\site-packages\\joblib\\parallel.py:779\u001B[0m, in \u001B[0;36mParallel._dispatch\u001B[1;34m(self, batch)\u001B[0m\n\u001B[0;32m    777\u001B[0m \u001B[38;5;28;01mwith\u001B[39;00m \u001B[38;5;28mself\u001B[39m\u001B[38;5;241m.\u001B[39m_lock:\n\u001B[0;32m    778\u001B[0m     job_idx \u001B[38;5;241m=\u001B[39m \u001B[38;5;28mlen\u001B[39m(\u001B[38;5;28mself\u001B[39m\u001B[38;5;241m.\u001B[39m_jobs)\n\u001B[1;32m--> 779\u001B[0m     job \u001B[38;5;241m=\u001B[39m \u001B[38;5;28;43mself\u001B[39;49m\u001B[38;5;241;43m.\u001B[39;49m\u001B[43m_backend\u001B[49m\u001B[38;5;241;43m.\u001B[39;49m\u001B[43mapply_async\u001B[49m\u001B[43m(\u001B[49m\u001B[43mbatch\u001B[49m\u001B[43m,\u001B[49m\u001B[43m \u001B[49m\u001B[43mcallback\u001B[49m\u001B[38;5;241;43m=\u001B[39;49m\u001B[43mcb\u001B[49m\u001B[43m)\u001B[49m\n\u001B[0;32m    780\u001B[0m     \u001B[38;5;66;03m# A job can complete so quickly than its callback is\u001B[39;00m\n\u001B[0;32m    781\u001B[0m     \u001B[38;5;66;03m# called before we get here, causing self._jobs to\u001B[39;00m\n\u001B[0;32m    782\u001B[0m     \u001B[38;5;66;03m# grow. To ensure correct results ordering, .insert is\u001B[39;00m\n\u001B[0;32m    783\u001B[0m     \u001B[38;5;66;03m# used (rather than .append) in the following line\u001B[39;00m\n\u001B[0;32m    784\u001B[0m     \u001B[38;5;28mself\u001B[39m\u001B[38;5;241m.\u001B[39m_jobs\u001B[38;5;241m.\u001B[39minsert(job_idx, job)\n",
      "File \u001B[1;32m~\\anaconda3\\lib\\site-packages\\joblib\\_parallel_backends.py:208\u001B[0m, in \u001B[0;36mSequentialBackend.apply_async\u001B[1;34m(self, func, callback)\u001B[0m\n\u001B[0;32m    206\u001B[0m \u001B[38;5;28;01mdef\u001B[39;00m \u001B[38;5;21mapply_async\u001B[39m(\u001B[38;5;28mself\u001B[39m, func, callback\u001B[38;5;241m=\u001B[39m\u001B[38;5;28;01mNone\u001B[39;00m):\n\u001B[0;32m    207\u001B[0m     \u001B[38;5;124;03m\"\"\"Schedule a func to be run\"\"\"\u001B[39;00m\n\u001B[1;32m--> 208\u001B[0m     result \u001B[38;5;241m=\u001B[39m \u001B[43mImmediateResult\u001B[49m\u001B[43m(\u001B[49m\u001B[43mfunc\u001B[49m\u001B[43m)\u001B[49m\n\u001B[0;32m    209\u001B[0m     \u001B[38;5;28;01mif\u001B[39;00m callback:\n\u001B[0;32m    210\u001B[0m         callback(result)\n",
      "File \u001B[1;32m~\\anaconda3\\lib\\site-packages\\joblib\\_parallel_backends.py:572\u001B[0m, in \u001B[0;36mImmediateResult.__init__\u001B[1;34m(self, batch)\u001B[0m\n\u001B[0;32m    569\u001B[0m \u001B[38;5;28;01mdef\u001B[39;00m \u001B[38;5;21m__init__\u001B[39m(\u001B[38;5;28mself\u001B[39m, batch):\n\u001B[0;32m    570\u001B[0m     \u001B[38;5;66;03m# Don't delay the application, to avoid keeping the input\u001B[39;00m\n\u001B[0;32m    571\u001B[0m     \u001B[38;5;66;03m# arguments in memory\u001B[39;00m\n\u001B[1;32m--> 572\u001B[0m     \u001B[38;5;28mself\u001B[39m\u001B[38;5;241m.\u001B[39mresults \u001B[38;5;241m=\u001B[39m \u001B[43mbatch\u001B[49m\u001B[43m(\u001B[49m\u001B[43m)\u001B[49m\n",
      "File \u001B[1;32m~\\anaconda3\\lib\\site-packages\\joblib\\parallel.py:262\u001B[0m, in \u001B[0;36mBatchedCalls.__call__\u001B[1;34m(self)\u001B[0m\n\u001B[0;32m    258\u001B[0m \u001B[38;5;28;01mdef\u001B[39;00m \u001B[38;5;21m__call__\u001B[39m(\u001B[38;5;28mself\u001B[39m):\n\u001B[0;32m    259\u001B[0m     \u001B[38;5;66;03m# Set the default nested backend to self._backend but do not set the\u001B[39;00m\n\u001B[0;32m    260\u001B[0m     \u001B[38;5;66;03m# change the default number of processes to -1\u001B[39;00m\n\u001B[0;32m    261\u001B[0m     \u001B[38;5;28;01mwith\u001B[39;00m parallel_backend(\u001B[38;5;28mself\u001B[39m\u001B[38;5;241m.\u001B[39m_backend, n_jobs\u001B[38;5;241m=\u001B[39m\u001B[38;5;28mself\u001B[39m\u001B[38;5;241m.\u001B[39m_n_jobs):\n\u001B[1;32m--> 262\u001B[0m         \u001B[38;5;28;01mreturn\u001B[39;00m [func(\u001B[38;5;241m*\u001B[39margs, \u001B[38;5;241m*\u001B[39m\u001B[38;5;241m*\u001B[39mkwargs)\n\u001B[0;32m    263\u001B[0m                 \u001B[38;5;28;01mfor\u001B[39;00m func, args, kwargs \u001B[38;5;129;01min\u001B[39;00m \u001B[38;5;28mself\u001B[39m\u001B[38;5;241m.\u001B[39mitems]\n",
      "File \u001B[1;32m~\\anaconda3\\lib\\site-packages\\joblib\\parallel.py:262\u001B[0m, in \u001B[0;36m<listcomp>\u001B[1;34m(.0)\u001B[0m\n\u001B[0;32m    258\u001B[0m \u001B[38;5;28;01mdef\u001B[39;00m \u001B[38;5;21m__call__\u001B[39m(\u001B[38;5;28mself\u001B[39m):\n\u001B[0;32m    259\u001B[0m     \u001B[38;5;66;03m# Set the default nested backend to self._backend but do not set the\u001B[39;00m\n\u001B[0;32m    260\u001B[0m     \u001B[38;5;66;03m# change the default number of processes to -1\u001B[39;00m\n\u001B[0;32m    261\u001B[0m     \u001B[38;5;28;01mwith\u001B[39;00m parallel_backend(\u001B[38;5;28mself\u001B[39m\u001B[38;5;241m.\u001B[39m_backend, n_jobs\u001B[38;5;241m=\u001B[39m\u001B[38;5;28mself\u001B[39m\u001B[38;5;241m.\u001B[39m_n_jobs):\n\u001B[1;32m--> 262\u001B[0m         \u001B[38;5;28;01mreturn\u001B[39;00m [func(\u001B[38;5;241m*\u001B[39margs, \u001B[38;5;241m*\u001B[39m\u001B[38;5;241m*\u001B[39mkwargs)\n\u001B[0;32m    263\u001B[0m                 \u001B[38;5;28;01mfor\u001B[39;00m func, args, kwargs \u001B[38;5;129;01min\u001B[39;00m \u001B[38;5;28mself\u001B[39m\u001B[38;5;241m.\u001B[39mitems]\n",
      "File \u001B[1;32m~\\anaconda3\\lib\\site-packages\\sklearn\\utils\\fixes.py:216\u001B[0m, in \u001B[0;36m_FuncWrapper.__call__\u001B[1;34m(self, *args, **kwargs)\u001B[0m\n\u001B[0;32m    214\u001B[0m \u001B[38;5;28;01mdef\u001B[39;00m \u001B[38;5;21m__call__\u001B[39m(\u001B[38;5;28mself\u001B[39m, \u001B[38;5;241m*\u001B[39margs, \u001B[38;5;241m*\u001B[39m\u001B[38;5;241m*\u001B[39mkwargs):\n\u001B[0;32m    215\u001B[0m     \u001B[38;5;28;01mwith\u001B[39;00m config_context(\u001B[38;5;241m*\u001B[39m\u001B[38;5;241m*\u001B[39m\u001B[38;5;28mself\u001B[39m\u001B[38;5;241m.\u001B[39mconfig):\n\u001B[1;32m--> 216\u001B[0m         \u001B[38;5;28;01mreturn\u001B[39;00m \u001B[38;5;28mself\u001B[39m\u001B[38;5;241m.\u001B[39mfunction(\u001B[38;5;241m*\u001B[39margs, \u001B[38;5;241m*\u001B[39m\u001B[38;5;241m*\u001B[39mkwargs)\n",
      "File \u001B[1;32m~\\anaconda3\\lib\\site-packages\\sklearn\\model_selection\\_validation.py:680\u001B[0m, in \u001B[0;36m_fit_and_score\u001B[1;34m(estimator, X, y, scorer, train, test, verbose, parameters, fit_params, return_train_score, return_parameters, return_n_test_samples, return_times, return_estimator, split_progress, candidate_progress, error_score)\u001B[0m\n\u001B[0;32m    678\u001B[0m         estimator\u001B[38;5;241m.\u001B[39mfit(X_train, \u001B[38;5;241m*\u001B[39m\u001B[38;5;241m*\u001B[39mfit_params)\n\u001B[0;32m    679\u001B[0m     \u001B[38;5;28;01melse\u001B[39;00m:\n\u001B[1;32m--> 680\u001B[0m         estimator\u001B[38;5;241m.\u001B[39mfit(X_train, y_train, \u001B[38;5;241m*\u001B[39m\u001B[38;5;241m*\u001B[39mfit_params)\n\u001B[0;32m    682\u001B[0m \u001B[38;5;28;01mexcept\u001B[39;00m \u001B[38;5;167;01mException\u001B[39;00m:\n\u001B[0;32m    683\u001B[0m     \u001B[38;5;66;03m# Note fit time as time until error\u001B[39;00m\n\u001B[0;32m    684\u001B[0m     fit_time \u001B[38;5;241m=\u001B[39m time\u001B[38;5;241m.\u001B[39mtime() \u001B[38;5;241m-\u001B[39m start_time\n",
      "File \u001B[1;32m~\\anaconda3\\lib\\site-packages\\sklearn\\ensemble\\_forest.py:450\u001B[0m, in \u001B[0;36mBaseForest.fit\u001B[1;34m(self, X, y, sample_weight)\u001B[0m\n\u001B[0;32m    439\u001B[0m trees \u001B[38;5;241m=\u001B[39m [\n\u001B[0;32m    440\u001B[0m     \u001B[38;5;28mself\u001B[39m\u001B[38;5;241m.\u001B[39m_make_estimator(append\u001B[38;5;241m=\u001B[39m\u001B[38;5;28;01mFalse\u001B[39;00m, random_state\u001B[38;5;241m=\u001B[39mrandom_state)\n\u001B[0;32m    441\u001B[0m     \u001B[38;5;28;01mfor\u001B[39;00m i \u001B[38;5;129;01min\u001B[39;00m \u001B[38;5;28mrange\u001B[39m(n_more_estimators)\n\u001B[0;32m    442\u001B[0m ]\n\u001B[0;32m    444\u001B[0m \u001B[38;5;66;03m# Parallel loop: we prefer the threading backend as the Cython code\u001B[39;00m\n\u001B[0;32m    445\u001B[0m \u001B[38;5;66;03m# for fitting the trees is internally releasing the Python GIL\u001B[39;00m\n\u001B[0;32m    446\u001B[0m \u001B[38;5;66;03m# making threading more efficient than multiprocessing in\u001B[39;00m\n\u001B[0;32m    447\u001B[0m \u001B[38;5;66;03m# that case. However, for joblib 0.12+ we respect any\u001B[39;00m\n\u001B[0;32m    448\u001B[0m \u001B[38;5;66;03m# parallel_backend contexts set at a higher level,\u001B[39;00m\n\u001B[0;32m    449\u001B[0m \u001B[38;5;66;03m# since correctness does not rely on using threads.\u001B[39;00m\n\u001B[1;32m--> 450\u001B[0m trees \u001B[38;5;241m=\u001B[39m \u001B[43mParallel\u001B[49m\u001B[43m(\u001B[49m\n\u001B[0;32m    451\u001B[0m \u001B[43m    \u001B[49m\u001B[43mn_jobs\u001B[49m\u001B[38;5;241;43m=\u001B[39;49m\u001B[38;5;28;43mself\u001B[39;49m\u001B[38;5;241;43m.\u001B[39;49m\u001B[43mn_jobs\u001B[49m\u001B[43m,\u001B[49m\n\u001B[0;32m    452\u001B[0m \u001B[43m    \u001B[49m\u001B[43mverbose\u001B[49m\u001B[38;5;241;43m=\u001B[39;49m\u001B[38;5;28;43mself\u001B[39;49m\u001B[38;5;241;43m.\u001B[39;49m\u001B[43mverbose\u001B[49m\u001B[43m,\u001B[49m\n\u001B[0;32m    453\u001B[0m \u001B[43m    \u001B[49m\u001B[38;5;241;43m*\u001B[39;49m\u001B[38;5;241;43m*\u001B[39;49m\u001B[43m_joblib_parallel_args\u001B[49m\u001B[43m(\u001B[49m\u001B[43mprefer\u001B[49m\u001B[38;5;241;43m=\u001B[39;49m\u001B[38;5;124;43m\"\u001B[39;49m\u001B[38;5;124;43mthreads\u001B[39;49m\u001B[38;5;124;43m\"\u001B[39;49m\u001B[43m)\u001B[49m\u001B[43m,\u001B[49m\n\u001B[0;32m    454\u001B[0m \u001B[43m\u001B[49m\u001B[43m)\u001B[49m\u001B[43m(\u001B[49m\n\u001B[0;32m    455\u001B[0m \u001B[43m    \u001B[49m\u001B[43mdelayed\u001B[49m\u001B[43m(\u001B[49m\u001B[43m_parallel_build_trees\u001B[49m\u001B[43m)\u001B[49m\u001B[43m(\u001B[49m\n\u001B[0;32m    456\u001B[0m \u001B[43m        \u001B[49m\u001B[43mt\u001B[49m\u001B[43m,\u001B[49m\n\u001B[0;32m    457\u001B[0m \u001B[43m        \u001B[49m\u001B[38;5;28;43mself\u001B[39;49m\u001B[43m,\u001B[49m\n\u001B[0;32m    458\u001B[0m \u001B[43m        \u001B[49m\u001B[43mX\u001B[49m\u001B[43m,\u001B[49m\n\u001B[0;32m    459\u001B[0m \u001B[43m        \u001B[49m\u001B[43my\u001B[49m\u001B[43m,\u001B[49m\n\u001B[0;32m    460\u001B[0m \u001B[43m        \u001B[49m\u001B[43msample_weight\u001B[49m\u001B[43m,\u001B[49m\n\u001B[0;32m    461\u001B[0m \u001B[43m        \u001B[49m\u001B[43mi\u001B[49m\u001B[43m,\u001B[49m\n\u001B[0;32m    462\u001B[0m \u001B[43m        \u001B[49m\u001B[38;5;28;43mlen\u001B[39;49m\u001B[43m(\u001B[49m\u001B[43mtrees\u001B[49m\u001B[43m)\u001B[49m\u001B[43m,\u001B[49m\n\u001B[0;32m    463\u001B[0m \u001B[43m        \u001B[49m\u001B[43mverbose\u001B[49m\u001B[38;5;241;43m=\u001B[39;49m\u001B[38;5;28;43mself\u001B[39;49m\u001B[38;5;241;43m.\u001B[39;49m\u001B[43mverbose\u001B[49m\u001B[43m,\u001B[49m\n\u001B[0;32m    464\u001B[0m \u001B[43m        \u001B[49m\u001B[43mclass_weight\u001B[49m\u001B[38;5;241;43m=\u001B[39;49m\u001B[38;5;28;43mself\u001B[39;49m\u001B[38;5;241;43m.\u001B[39;49m\u001B[43mclass_weight\u001B[49m\u001B[43m,\u001B[49m\n\u001B[0;32m    465\u001B[0m \u001B[43m        \u001B[49m\u001B[43mn_samples_bootstrap\u001B[49m\u001B[38;5;241;43m=\u001B[39;49m\u001B[43mn_samples_bootstrap\u001B[49m\u001B[43m,\u001B[49m\n\u001B[0;32m    466\u001B[0m \u001B[43m    \u001B[49m\u001B[43m)\u001B[49m\n\u001B[0;32m    467\u001B[0m \u001B[43m    \u001B[49m\u001B[38;5;28;43;01mfor\u001B[39;49;00m\u001B[43m \u001B[49m\u001B[43mi\u001B[49m\u001B[43m,\u001B[49m\u001B[43m \u001B[49m\u001B[43mt\u001B[49m\u001B[43m \u001B[49m\u001B[38;5;129;43;01min\u001B[39;49;00m\u001B[43m \u001B[49m\u001B[38;5;28;43menumerate\u001B[39;49m\u001B[43m(\u001B[49m\u001B[43mtrees\u001B[49m\u001B[43m)\u001B[49m\n\u001B[0;32m    468\u001B[0m \u001B[43m\u001B[49m\u001B[43m)\u001B[49m\n\u001B[0;32m    470\u001B[0m \u001B[38;5;66;03m# Collect newly grown trees\u001B[39;00m\n\u001B[0;32m    471\u001B[0m \u001B[38;5;28mself\u001B[39m\u001B[38;5;241m.\u001B[39mestimators_\u001B[38;5;241m.\u001B[39mextend(trees)\n",
      "File \u001B[1;32m~\\anaconda3\\lib\\site-packages\\joblib\\parallel.py:1046\u001B[0m, in \u001B[0;36mParallel.__call__\u001B[1;34m(self, iterable)\u001B[0m\n\u001B[0;32m   1043\u001B[0m \u001B[38;5;28;01mif\u001B[39;00m \u001B[38;5;28mself\u001B[39m\u001B[38;5;241m.\u001B[39mdispatch_one_batch(iterator):\n\u001B[0;32m   1044\u001B[0m     \u001B[38;5;28mself\u001B[39m\u001B[38;5;241m.\u001B[39m_iterating \u001B[38;5;241m=\u001B[39m \u001B[38;5;28mself\u001B[39m\u001B[38;5;241m.\u001B[39m_original_iterator \u001B[38;5;129;01mis\u001B[39;00m \u001B[38;5;129;01mnot\u001B[39;00m \u001B[38;5;28;01mNone\u001B[39;00m\n\u001B[1;32m-> 1046\u001B[0m \u001B[38;5;28;01mwhile\u001B[39;00m \u001B[38;5;28;43mself\u001B[39;49m\u001B[38;5;241;43m.\u001B[39;49m\u001B[43mdispatch_one_batch\u001B[49m\u001B[43m(\u001B[49m\u001B[43miterator\u001B[49m\u001B[43m)\u001B[49m:\n\u001B[0;32m   1047\u001B[0m     \u001B[38;5;28;01mpass\u001B[39;00m\n\u001B[0;32m   1049\u001B[0m \u001B[38;5;28;01mif\u001B[39;00m pre_dispatch \u001B[38;5;241m==\u001B[39m \u001B[38;5;124m\"\u001B[39m\u001B[38;5;124mall\u001B[39m\u001B[38;5;124m\"\u001B[39m \u001B[38;5;129;01mor\u001B[39;00m n_jobs \u001B[38;5;241m==\u001B[39m \u001B[38;5;241m1\u001B[39m:\n\u001B[0;32m   1050\u001B[0m     \u001B[38;5;66;03m# The iterable was consumed all at once by the above for loop.\u001B[39;00m\n\u001B[0;32m   1051\u001B[0m     \u001B[38;5;66;03m# No need to wait for async callbacks to trigger to\u001B[39;00m\n\u001B[0;32m   1052\u001B[0m     \u001B[38;5;66;03m# consumption.\u001B[39;00m\n",
      "File \u001B[1;32m~\\anaconda3\\lib\\site-packages\\joblib\\parallel.py:861\u001B[0m, in \u001B[0;36mParallel.dispatch_one_batch\u001B[1;34m(self, iterator)\u001B[0m\n\u001B[0;32m    859\u001B[0m     \u001B[38;5;28;01mreturn\u001B[39;00m \u001B[38;5;28;01mFalse\u001B[39;00m\n\u001B[0;32m    860\u001B[0m \u001B[38;5;28;01melse\u001B[39;00m:\n\u001B[1;32m--> 861\u001B[0m     \u001B[38;5;28;43mself\u001B[39;49m\u001B[38;5;241;43m.\u001B[39;49m\u001B[43m_dispatch\u001B[49m\u001B[43m(\u001B[49m\u001B[43mtasks\u001B[49m\u001B[43m)\u001B[49m\n\u001B[0;32m    862\u001B[0m     \u001B[38;5;28;01mreturn\u001B[39;00m \u001B[38;5;28;01mTrue\u001B[39;00m\n",
      "File \u001B[1;32m~\\anaconda3\\lib\\site-packages\\joblib\\parallel.py:779\u001B[0m, in \u001B[0;36mParallel._dispatch\u001B[1;34m(self, batch)\u001B[0m\n\u001B[0;32m    777\u001B[0m \u001B[38;5;28;01mwith\u001B[39;00m \u001B[38;5;28mself\u001B[39m\u001B[38;5;241m.\u001B[39m_lock:\n\u001B[0;32m    778\u001B[0m     job_idx \u001B[38;5;241m=\u001B[39m \u001B[38;5;28mlen\u001B[39m(\u001B[38;5;28mself\u001B[39m\u001B[38;5;241m.\u001B[39m_jobs)\n\u001B[1;32m--> 779\u001B[0m     job \u001B[38;5;241m=\u001B[39m \u001B[38;5;28;43mself\u001B[39;49m\u001B[38;5;241;43m.\u001B[39;49m\u001B[43m_backend\u001B[49m\u001B[38;5;241;43m.\u001B[39;49m\u001B[43mapply_async\u001B[49m\u001B[43m(\u001B[49m\u001B[43mbatch\u001B[49m\u001B[43m,\u001B[49m\u001B[43m \u001B[49m\u001B[43mcallback\u001B[49m\u001B[38;5;241;43m=\u001B[39;49m\u001B[43mcb\u001B[49m\u001B[43m)\u001B[49m\n\u001B[0;32m    780\u001B[0m     \u001B[38;5;66;03m# A job can complete so quickly than its callback is\u001B[39;00m\n\u001B[0;32m    781\u001B[0m     \u001B[38;5;66;03m# called before we get here, causing self._jobs to\u001B[39;00m\n\u001B[0;32m    782\u001B[0m     \u001B[38;5;66;03m# grow. To ensure correct results ordering, .insert is\u001B[39;00m\n\u001B[0;32m    783\u001B[0m     \u001B[38;5;66;03m# used (rather than .append) in the following line\u001B[39;00m\n\u001B[0;32m    784\u001B[0m     \u001B[38;5;28mself\u001B[39m\u001B[38;5;241m.\u001B[39m_jobs\u001B[38;5;241m.\u001B[39minsert(job_idx, job)\n",
      "File \u001B[1;32m~\\anaconda3\\lib\\site-packages\\joblib\\_parallel_backends.py:208\u001B[0m, in \u001B[0;36mSequentialBackend.apply_async\u001B[1;34m(self, func, callback)\u001B[0m\n\u001B[0;32m    206\u001B[0m \u001B[38;5;28;01mdef\u001B[39;00m \u001B[38;5;21mapply_async\u001B[39m(\u001B[38;5;28mself\u001B[39m, func, callback\u001B[38;5;241m=\u001B[39m\u001B[38;5;28;01mNone\u001B[39;00m):\n\u001B[0;32m    207\u001B[0m     \u001B[38;5;124;03m\"\"\"Schedule a func to be run\"\"\"\u001B[39;00m\n\u001B[1;32m--> 208\u001B[0m     result \u001B[38;5;241m=\u001B[39m \u001B[43mImmediateResult\u001B[49m\u001B[43m(\u001B[49m\u001B[43mfunc\u001B[49m\u001B[43m)\u001B[49m\n\u001B[0;32m    209\u001B[0m     \u001B[38;5;28;01mif\u001B[39;00m callback:\n\u001B[0;32m    210\u001B[0m         callback(result)\n",
      "File \u001B[1;32m~\\anaconda3\\lib\\site-packages\\joblib\\_parallel_backends.py:572\u001B[0m, in \u001B[0;36mImmediateResult.__init__\u001B[1;34m(self, batch)\u001B[0m\n\u001B[0;32m    569\u001B[0m \u001B[38;5;28;01mdef\u001B[39;00m \u001B[38;5;21m__init__\u001B[39m(\u001B[38;5;28mself\u001B[39m, batch):\n\u001B[0;32m    570\u001B[0m     \u001B[38;5;66;03m# Don't delay the application, to avoid keeping the input\u001B[39;00m\n\u001B[0;32m    571\u001B[0m     \u001B[38;5;66;03m# arguments in memory\u001B[39;00m\n\u001B[1;32m--> 572\u001B[0m     \u001B[38;5;28mself\u001B[39m\u001B[38;5;241m.\u001B[39mresults \u001B[38;5;241m=\u001B[39m \u001B[43mbatch\u001B[49m\u001B[43m(\u001B[49m\u001B[43m)\u001B[49m\n",
      "File \u001B[1;32m~\\anaconda3\\lib\\site-packages\\joblib\\parallel.py:262\u001B[0m, in \u001B[0;36mBatchedCalls.__call__\u001B[1;34m(self)\u001B[0m\n\u001B[0;32m    258\u001B[0m \u001B[38;5;28;01mdef\u001B[39;00m \u001B[38;5;21m__call__\u001B[39m(\u001B[38;5;28mself\u001B[39m):\n\u001B[0;32m    259\u001B[0m     \u001B[38;5;66;03m# Set the default nested backend to self._backend but do not set the\u001B[39;00m\n\u001B[0;32m    260\u001B[0m     \u001B[38;5;66;03m# change the default number of processes to -1\u001B[39;00m\n\u001B[0;32m    261\u001B[0m     \u001B[38;5;28;01mwith\u001B[39;00m parallel_backend(\u001B[38;5;28mself\u001B[39m\u001B[38;5;241m.\u001B[39m_backend, n_jobs\u001B[38;5;241m=\u001B[39m\u001B[38;5;28mself\u001B[39m\u001B[38;5;241m.\u001B[39m_n_jobs):\n\u001B[1;32m--> 262\u001B[0m         \u001B[38;5;28;01mreturn\u001B[39;00m [func(\u001B[38;5;241m*\u001B[39margs, \u001B[38;5;241m*\u001B[39m\u001B[38;5;241m*\u001B[39mkwargs)\n\u001B[0;32m    263\u001B[0m                 \u001B[38;5;28;01mfor\u001B[39;00m func, args, kwargs \u001B[38;5;129;01min\u001B[39;00m \u001B[38;5;28mself\u001B[39m\u001B[38;5;241m.\u001B[39mitems]\n",
      "File \u001B[1;32m~\\anaconda3\\lib\\site-packages\\joblib\\parallel.py:262\u001B[0m, in \u001B[0;36m<listcomp>\u001B[1;34m(.0)\u001B[0m\n\u001B[0;32m    258\u001B[0m \u001B[38;5;28;01mdef\u001B[39;00m \u001B[38;5;21m__call__\u001B[39m(\u001B[38;5;28mself\u001B[39m):\n\u001B[0;32m    259\u001B[0m     \u001B[38;5;66;03m# Set the default nested backend to self._backend but do not set the\u001B[39;00m\n\u001B[0;32m    260\u001B[0m     \u001B[38;5;66;03m# change the default number of processes to -1\u001B[39;00m\n\u001B[0;32m    261\u001B[0m     \u001B[38;5;28;01mwith\u001B[39;00m parallel_backend(\u001B[38;5;28mself\u001B[39m\u001B[38;5;241m.\u001B[39m_backend, n_jobs\u001B[38;5;241m=\u001B[39m\u001B[38;5;28mself\u001B[39m\u001B[38;5;241m.\u001B[39m_n_jobs):\n\u001B[1;32m--> 262\u001B[0m         \u001B[38;5;28;01mreturn\u001B[39;00m [func(\u001B[38;5;241m*\u001B[39margs, \u001B[38;5;241m*\u001B[39m\u001B[38;5;241m*\u001B[39mkwargs)\n\u001B[0;32m    263\u001B[0m                 \u001B[38;5;28;01mfor\u001B[39;00m func, args, kwargs \u001B[38;5;129;01min\u001B[39;00m \u001B[38;5;28mself\u001B[39m\u001B[38;5;241m.\u001B[39mitems]\n",
      "File \u001B[1;32m~\\anaconda3\\lib\\site-packages\\sklearn\\utils\\fixes.py:216\u001B[0m, in \u001B[0;36m_FuncWrapper.__call__\u001B[1;34m(self, *args, **kwargs)\u001B[0m\n\u001B[0;32m    214\u001B[0m \u001B[38;5;28;01mdef\u001B[39;00m \u001B[38;5;21m__call__\u001B[39m(\u001B[38;5;28mself\u001B[39m, \u001B[38;5;241m*\u001B[39margs, \u001B[38;5;241m*\u001B[39m\u001B[38;5;241m*\u001B[39mkwargs):\n\u001B[0;32m    215\u001B[0m     \u001B[38;5;28;01mwith\u001B[39;00m config_context(\u001B[38;5;241m*\u001B[39m\u001B[38;5;241m*\u001B[39m\u001B[38;5;28mself\u001B[39m\u001B[38;5;241m.\u001B[39mconfig):\n\u001B[1;32m--> 216\u001B[0m         \u001B[38;5;28;01mreturn\u001B[39;00m \u001B[38;5;28mself\u001B[39m\u001B[38;5;241m.\u001B[39mfunction(\u001B[38;5;241m*\u001B[39margs, \u001B[38;5;241m*\u001B[39m\u001B[38;5;241m*\u001B[39mkwargs)\n",
      "File \u001B[1;32m~\\anaconda3\\lib\\site-packages\\sklearn\\ensemble\\_forest.py:185\u001B[0m, in \u001B[0;36m_parallel_build_trees\u001B[1;34m(tree, forest, X, y, sample_weight, tree_idx, n_trees, verbose, class_weight, n_samples_bootstrap)\u001B[0m\n\u001B[0;32m    182\u001B[0m     \u001B[38;5;28;01melif\u001B[39;00m class_weight \u001B[38;5;241m==\u001B[39m \u001B[38;5;124m\"\u001B[39m\u001B[38;5;124mbalanced_subsample\u001B[39m\u001B[38;5;124m\"\u001B[39m:\n\u001B[0;32m    183\u001B[0m         curr_sample_weight \u001B[38;5;241m*\u001B[39m\u001B[38;5;241m=\u001B[39m compute_sample_weight(\u001B[38;5;124m\"\u001B[39m\u001B[38;5;124mbalanced\u001B[39m\u001B[38;5;124m\"\u001B[39m, y, indices\u001B[38;5;241m=\u001B[39mindices)\n\u001B[1;32m--> 185\u001B[0m     \u001B[43mtree\u001B[49m\u001B[38;5;241;43m.\u001B[39;49m\u001B[43mfit\u001B[49m\u001B[43m(\u001B[49m\u001B[43mX\u001B[49m\u001B[43m,\u001B[49m\u001B[43m \u001B[49m\u001B[43my\u001B[49m\u001B[43m,\u001B[49m\u001B[43m \u001B[49m\u001B[43msample_weight\u001B[49m\u001B[38;5;241;43m=\u001B[39;49m\u001B[43mcurr_sample_weight\u001B[49m\u001B[43m,\u001B[49m\u001B[43m \u001B[49m\u001B[43mcheck_input\u001B[49m\u001B[38;5;241;43m=\u001B[39;49m\u001B[38;5;28;43;01mFalse\u001B[39;49;00m\u001B[43m)\u001B[49m\n\u001B[0;32m    186\u001B[0m \u001B[38;5;28;01melse\u001B[39;00m:\n\u001B[0;32m    187\u001B[0m     tree\u001B[38;5;241m.\u001B[39mfit(X, y, sample_weight\u001B[38;5;241m=\u001B[39msample_weight, check_input\u001B[38;5;241m=\u001B[39m\u001B[38;5;28;01mFalse\u001B[39;00m)\n",
      "File \u001B[1;32m~\\anaconda3\\lib\\site-packages\\sklearn\\tree\\_classes.py:937\u001B[0m, in \u001B[0;36mDecisionTreeClassifier.fit\u001B[1;34m(self, X, y, sample_weight, check_input, X_idx_sorted)\u001B[0m\n\u001B[0;32m    899\u001B[0m \u001B[38;5;28;01mdef\u001B[39;00m \u001B[38;5;21mfit\u001B[39m(\n\u001B[0;32m    900\u001B[0m     \u001B[38;5;28mself\u001B[39m, X, y, sample_weight\u001B[38;5;241m=\u001B[39m\u001B[38;5;28;01mNone\u001B[39;00m, check_input\u001B[38;5;241m=\u001B[39m\u001B[38;5;28;01mTrue\u001B[39;00m, X_idx_sorted\u001B[38;5;241m=\u001B[39m\u001B[38;5;124m\"\u001B[39m\u001B[38;5;124mdeprecated\u001B[39m\u001B[38;5;124m\"\u001B[39m\n\u001B[0;32m    901\u001B[0m ):\n\u001B[0;32m    902\u001B[0m     \u001B[38;5;124;03m\"\"\"Build a decision tree classifier from the training set (X, y).\u001B[39;00m\n\u001B[0;32m    903\u001B[0m \n\u001B[0;32m    904\u001B[0m \u001B[38;5;124;03m    Parameters\u001B[39;00m\n\u001B[1;32m   (...)\u001B[0m\n\u001B[0;32m    934\u001B[0m \u001B[38;5;124;03m        Fitted estimator.\u001B[39;00m\n\u001B[0;32m    935\u001B[0m \u001B[38;5;124;03m    \"\"\"\u001B[39;00m\n\u001B[1;32m--> 937\u001B[0m     \u001B[38;5;28;43msuper\u001B[39;49m\u001B[43m(\u001B[49m\u001B[43m)\u001B[49m\u001B[38;5;241;43m.\u001B[39;49m\u001B[43mfit\u001B[49m\u001B[43m(\u001B[49m\n\u001B[0;32m    938\u001B[0m \u001B[43m        \u001B[49m\u001B[43mX\u001B[49m\u001B[43m,\u001B[49m\n\u001B[0;32m    939\u001B[0m \u001B[43m        \u001B[49m\u001B[43my\u001B[49m\u001B[43m,\u001B[49m\n\u001B[0;32m    940\u001B[0m \u001B[43m        \u001B[49m\u001B[43msample_weight\u001B[49m\u001B[38;5;241;43m=\u001B[39;49m\u001B[43msample_weight\u001B[49m\u001B[43m,\u001B[49m\n\u001B[0;32m    941\u001B[0m \u001B[43m        \u001B[49m\u001B[43mcheck_input\u001B[49m\u001B[38;5;241;43m=\u001B[39;49m\u001B[43mcheck_input\u001B[49m\u001B[43m,\u001B[49m\n\u001B[0;32m    942\u001B[0m \u001B[43m        \u001B[49m\u001B[43mX_idx_sorted\u001B[49m\u001B[38;5;241;43m=\u001B[39;49m\u001B[43mX_idx_sorted\u001B[49m\u001B[43m,\u001B[49m\n\u001B[0;32m    943\u001B[0m \u001B[43m    \u001B[49m\u001B[43m)\u001B[49m\n\u001B[0;32m    944\u001B[0m     \u001B[38;5;28;01mreturn\u001B[39;00m \u001B[38;5;28mself\u001B[39m\n",
      "File \u001B[1;32m~\\anaconda3\\lib\\site-packages\\sklearn\\tree\\_classes.py:420\u001B[0m, in \u001B[0;36mBaseDecisionTree.fit\u001B[1;34m(self, X, y, sample_weight, check_input, X_idx_sorted)\u001B[0m\n\u001B[0;32m    409\u001B[0m \u001B[38;5;28;01melse\u001B[39;00m:\n\u001B[0;32m    410\u001B[0m     builder \u001B[38;5;241m=\u001B[39m BestFirstTreeBuilder(\n\u001B[0;32m    411\u001B[0m         splitter,\n\u001B[0;32m    412\u001B[0m         min_samples_split,\n\u001B[1;32m   (...)\u001B[0m\n\u001B[0;32m    417\u001B[0m         \u001B[38;5;28mself\u001B[39m\u001B[38;5;241m.\u001B[39mmin_impurity_decrease,\n\u001B[0;32m    418\u001B[0m     )\n\u001B[1;32m--> 420\u001B[0m \u001B[43mbuilder\u001B[49m\u001B[38;5;241;43m.\u001B[39;49m\u001B[43mbuild\u001B[49m\u001B[43m(\u001B[49m\u001B[38;5;28;43mself\u001B[39;49m\u001B[38;5;241;43m.\u001B[39;49m\u001B[43mtree_\u001B[49m\u001B[43m,\u001B[49m\u001B[43m \u001B[49m\u001B[43mX\u001B[49m\u001B[43m,\u001B[49m\u001B[43m \u001B[49m\u001B[43my\u001B[49m\u001B[43m,\u001B[49m\u001B[43m \u001B[49m\u001B[43msample_weight\u001B[49m\u001B[43m)\u001B[49m\n\u001B[0;32m    422\u001B[0m \u001B[38;5;28;01mif\u001B[39;00m \u001B[38;5;28mself\u001B[39m\u001B[38;5;241m.\u001B[39mn_outputs_ \u001B[38;5;241m==\u001B[39m \u001B[38;5;241m1\u001B[39m \u001B[38;5;129;01mand\u001B[39;00m is_classifier(\u001B[38;5;28mself\u001B[39m):\n\u001B[0;32m    423\u001B[0m     \u001B[38;5;28mself\u001B[39m\u001B[38;5;241m.\u001B[39mn_classes_ \u001B[38;5;241m=\u001B[39m \u001B[38;5;28mself\u001B[39m\u001B[38;5;241m.\u001B[39mn_classes_[\u001B[38;5;241m0\u001B[39m]\n",
      "\u001B[1;31mKeyboardInterrupt\u001B[0m: "
     ]
    }
   ],
   "source": [
    "gridRF = GridSearchCV(estimator=RandomForestClassifier(bootstrap=True, max_depth=90,max_features=\"sqrt\",min_samples_leaf=2,min_samples_split=10,n_estimators=600), param_grid={\"class_weight\":[\"balanced\", \"balanced_subsample\"]},cv=3,scoring=\"f1\",verbose=3)\n",
    "gridRF.fit(x_train,y_train)"
   ],
   "metadata": {
    "collapsed": false,
    "pycharm": {
     "name": "#%%\n"
    }
   }
  },
  {
   "cell_type": "code",
   "execution_count": null,
   "outputs": [],
   "source": [],
   "metadata": {
    "collapsed": false,
    "pycharm": {
     "name": "#%%\n"
    }
   }
  },
  {
   "cell_type": "code",
   "execution_count": 41,
   "outputs": [],
   "source": [
    "#gridRF = RandomizedSearchCV(estimator=RandomForestClassifier(),param_distributions=param,cv=3,scoring=\"precision\",verbose=3)\n",
    "#gridRF.fit(x_train,y_train)"
   ],
   "metadata": {
    "collapsed": false,
    "pycharm": {
     "name": "#%%\n"
    }
   }
  },
  {
   "cell_type": "code",
   "execution_count": null,
   "outputs": [],
   "source": [],
   "metadata": {
    "collapsed": false,
    "pycharm": {
     "name": "#%%\n",
     "is_executing": true
    }
   }
  },
  {
   "cell_type": "code",
   "execution_count": null,
   "outputs": [],
   "source": [
    "# params = {\n",
    "#     \"bootstrap\":False,\n",
    "#     \"max_depth\":100,\n",
    "#     \"max_features\":\"auto\",\n",
    "#     \"min_samples_leaf\":2,\n",
    "#     \"min_samples_split\":10,\n",
    "#     \"n_estimators\":2000\n",
    "# }"
   ],
   "metadata": {
    "collapsed": false,
    "pycharm": {
     "name": "#%%\n"
    }
   }
  },
  {
   "cell_type": "markdown",
   "source": [
    "# Rodar o modelo a partir daqui"
   ],
   "metadata": {
    "collapsed": false,
    "pycharm": {
     "name": "#%% md\n"
    }
   }
  },
  {
   "cell_type": "code",
   "execution_count": 120,
   "outputs": [],
   "source": [
    "param_final={\n",
    "    \"bootstrap\": True,\n",
    "    'max_depth':  90,\n",
    "    'max_features': 'sqrt',\n",
    "    \"min_samples_leaf\":2,\n",
    "    \"min_samples_split\":8,\n",
    "    \"n_estimators\":200\n",
    "}"
   ],
   "metadata": {
    "collapsed": false,
    "pycharm": {
     "name": "#%%\n"
    }
   }
  },
  {
   "cell_type": "code",
   "execution_count": 121,
   "outputs": [],
   "source": [
    "model_final = RandomForestClassifier()"
   ],
   "metadata": {
    "collapsed": false,
    "pycharm": {
     "name": "#%%\n"
    }
   }
  },
  {
   "cell_type": "code",
   "execution_count": 122,
   "outputs": [
    {
     "data": {
      "text/plain": "RandomForestClassifier(max_depth=90, max_features='sqrt', min_samples_leaf=2,\n                       min_samples_split=8, n_estimators=200)"
     },
     "execution_count": 122,
     "metadata": {},
     "output_type": "execute_result"
    }
   ],
   "source": [
    "model_final.set_params(**param_final)"
   ],
   "metadata": {
    "collapsed": false,
    "pycharm": {
     "name": "#%%\n"
    }
   }
  },
  {
   "cell_type": "code",
   "execution_count": 123,
   "outputs": [
    {
     "name": "stdout",
     "output_type": "stream",
     "text": [
      "[INFO]: Iniciando o treinamento dos modelos\n",
      "[INFO]: Shape do treinamento X : (1804836, 5)\n",
      "[INFO]: Shape do treinamento y : (1804836,)\n",
      "--------------------------------------------------\n",
      "[INFO]: modelo a ser treinado   RandomForestClassifier\n",
      "[INFO]:Treinamento do modelo conlcuido\n",
      "--------------------------------------------------\n"
     ]
    }
   ],
   "source": [
    "l_model = fit_models([model_final],x_train,y_train)"
   ],
   "metadata": {
    "collapsed": false,
    "pycharm": {
     "name": "#%%\n"
    }
   }
  },
  {
   "cell_type": "code",
   "execution_count": 124,
   "outputs": [
    {
     "data": {
      "text/plain": "[RandomForestClassifier(max_depth=90, max_features='sqrt', min_samples_leaf=2,\n                        min_samples_split=8, n_estimators=200)]"
     },
     "execution_count": 124,
     "metadata": {},
     "output_type": "execute_result"
    }
   ],
   "source": [
    "l_model"
   ],
   "metadata": {
    "collapsed": false,
    "pycharm": {
     "name": "#%%\n"
    }
   }
  },
  {
   "cell_type": "code",
   "execution_count": 125,
   "outputs": [],
   "source": [
    "model = l_model[0]"
   ],
   "metadata": {
    "collapsed": false,
    "pycharm": {
     "name": "#%%\n"
    }
   }
  },
  {
   "cell_type": "code",
   "execution_count": 126,
   "outputs": [
    {
     "data": {
      "text/plain": "RandomForestClassifier(max_depth=90, max_features='sqrt', min_samples_leaf=2,\n                       min_samples_split=8, n_estimators=200)"
     },
     "execution_count": 126,
     "metadata": {},
     "output_type": "execute_result"
    }
   ],
   "source": [
    "model"
   ],
   "metadata": {
    "collapsed": false,
    "pycharm": {
     "name": "#%%\n"
    }
   }
  },
  {
   "cell_type": "code",
   "execution_count": 127,
   "outputs": [
    {
     "data": {
      "text/plain": "<Figure size 1080x720 with 1 Axes>",
      "image/png": "[encoded data removed]"
     },
     "metadata": {},
     "output_type": "display_data"
    }
   ],
   "source": [
    "feature_importances = pd.DataFrame(model.feature_importances_,\n",
    "                                   index = x_train.columns,\n",
    "                                   columns=['importance']).sort_values('importance', ascending=False)\n",
    "feature_importances.reset_index(inplace=True)\n",
    "feature_importances.rename(columns={\"index\": \"features\"}, inplace=True)\n",
    "\n",
    "fig, ax = plt.subplots(figsize=(15,10))\n",
    "\n",
    "feature_importances.plot(x=\"features\", y=\"importance\", kind=\"bar\", ax=ax)\n",
    "\n",
    "ax.set_title(\"Importância das Features - Random Florest\")\n",
    "ax.set_xlabel(\"Variáveis\")\n",
    "ax.set_ylabel(\"Importância\")\n",
    "\n",
    "\n",
    "plt.tight_layout()"
   ],
   "metadata": {
    "collapsed": false,
    "pycharm": {
     "name": "#%%\n"
    }
   }
  },
  {
   "cell_type": "code",
   "execution_count": 127,
   "outputs": [],
   "source": [],
   "metadata": {
    "collapsed": false,
    "pycharm": {
     "name": "#%%\n"
    }
   }
  },
  {
   "cell_type": "markdown",
   "source": [
    "## Avaliando o melhor modelo:"
   ],
   "metadata": {
    "collapsed": false,
    "pycharm": {
     "name": "#%% md\n"
    }
   }
  },
  {
   "cell_type": "markdown",
   "source": [
    "Testes"
   ],
   "metadata": {
    "collapsed": false,
    "pycharm": {
     "name": "#%% md\n"
    }
   }
  },
  {
   "cell_type": "code",
   "execution_count": 128,
   "outputs": [
    {
     "data": {
      "text/plain": "  trans_date_trans_time            cc_num  \\\n0   2020-06-21 12:14:25  2291163933867244   \n1   2020-06-21 12:14:33  3573030041201292   \n2   2020-06-21 12:14:53  3598215285024754   \n3   2020-06-21 12:15:15  3591919803438423   \n4   2020-06-21 12:15:17  3526826139003047   \n\n                               merchant        category    amt   first  \\\n0                 fraud_Kirlin and Sons   personal_care   2.86    Jeff   \n1                  fraud_Sporer-Keebler   personal_care  29.84  Joanne   \n2  fraud_Swaniawski, Nitzsche and Welch  health_fitness  41.28  Ashley   \n3                     fraud_Haley Group        misc_pos  60.05   Brian   \n4                 fraud_Johnston-Casper          travel   3.19  Nathan   \n\n       last gender                       street        city  ...  \\\n0   Elliott      M            351 Darlene Green    Columbia  ...   \n1  Williams      F             3638 Marsh Union     Altonah  ...   \n2     Lopez      F         9333 Valentine Point    Bellmore  ...   \n3  Williams      M  32941 Krystal Mill Apt. 552  Titusville  ...   \n4    Massey      M     5783 Evan Roads Apt. 465    Falmouth  ...   \n\n                      job                  dob  \\\n0     Mechanical engineer  1968-03-19 00:00:00   \n1  Sales professional, IT  1990-01-17 00:00:00   \n2       Librarian, public  1970-10-21 00:00:00   \n3            Set designer  1987-07-25 00:00:00   \n4      Furniture designer  1955-07-06 00:00:00   \n\n                          trans_num   unix_time  merch_lat  merch_long  \\\n0  2da90c7d74bd46a0caf3777415b3ebd3  1371816865  33.986391  -81.200714   \n1  324cc204407e99f51b0d6ca0055005e7  1371816873  39.450498 -109.960431   \n2  c81755dbbbea9d5c77f094348a7579be  1371816893  40.495810  -74.196111   \n3  2159175b9efe66dc301f149d3d5abf8c  1371816915  28.812398  -80.883061   \n4  57ff021bd3f328f8738bb535c302a31b  1371816917  44.959148  -85.884734   \n\n  is_fraud           trans_date   age  dist_fraude_km  \n0        0  2020-06-21 00:00:00  52.0          24.561  \n1        0  2020-06-21 00:00:00  30.0         104.925  \n2        0  2020-06-21 00:00:00  49.0          59.080  \n3        0  2020-06-21 00:00:00  32.0          27.699  \n4        0  2020-06-21 00:00:00  64.0         104.335  \n\n[5 rows x 25 columns]",
      "text/html": "<div>\n<style scoped>\n    .dataframe tbody tr th:only-of-type {\n        vertical-align: middle;\n    }\n\n    .dataframe tbody tr th {\n        vertical-align: top;\n    }\n\n    .dataframe thead th {\n        text-align: right;\n    }\n</style>\n<table border=\"1\" class=\"dataframe\">\n  <thead>\n    <tr style=\"text-align: right;\">\n      <th></th>\n      <th>trans_date_trans_time</th>\n      <th>cc_num</th>\n      <th>merchant</th>\n      <th>category</th>\n      <th>amt</th>\n      <th>first</th>\n      <th>last</th>\n      <th>gender</th>\n      <th>street</th>\n      <th>city</th>\n      <th>...</th>\n      <th>job</th>\n      <th>dob</th>\n      <th>trans_num</th>\n      <th>unix_time</th>\n      <th>merch_lat</th>\n      <th>merch_long</th>\n      <th>is_fraud</th>\n      <th>trans_date</th>\n      <th>age</th>\n      <th>dist_fraude_km</th>\n    </tr>\n  </thead>\n  <tbody>\n    <tr>\n      <th>0</th>\n      <td>2020-06-21 12:14:25</td>\n      <td>2291163933867244</td>\n      <td>fraud_Kirlin and Sons</td>\n      <td>personal_care</td>\n      <td>2.86</td>\n      <td>Jeff</td>\n      <td>Elliott</td>\n      <td>M</td>\n      <td>351 Darlene Green</td>\n      <td>Columbia</td>\n      <td>...</td>\n      <td>Mechanical engineer</td>\n      <td>1968-03-19 00:00:00</td>\n      <td>2da90c7d74bd46a0caf3777415b3ebd3</td>\n      <td>1371816865</td>\n      <td>33.986391</td>\n      <td>-81.200714</td>\n      <td>0</td>\n      <td>2020-06-21 00:00:00</td>\n      <td>52.0</td>\n      <td>24.561</td>\n    </tr>\n    <tr>\n      <th>1</th>\n      <td>2020-06-21 12:14:33</td>\n      <td>3573030041201292</td>\n      <td>fraud_Sporer-Keebler</td>\n      <td>personal_care</td>\n      <td>29.84</td>\n      <td>Joanne</td>\n      <td>Williams</td>\n      <td>F</td>\n      <td>3638 Marsh Union</td>\n      <td>Altonah</td>\n      <td>...</td>\n      <td>Sales professional, IT</td>\n      <td>1990-01-17 00:00:00</td>\n      <td>324cc204407e99f51b0d6ca0055005e7</td>\n      <td>1371816873</td>\n      <td>39.450498</td>\n      <td>-109.960431</td>\n      <td>0</td>\n      <td>2020-06-21 00:00:00</td>\n      <td>30.0</td>\n      <td>104.925</td>\n    </tr>\n    <tr>\n      <th>2</th>\n      <td>2020-06-21 12:14:53</td>\n      <td>3598215285024754</td>\n      <td>fraud_Swaniawski, Nitzsche and Welch</td>\n      <td>health_fitness</td>\n      <td>41.28</td>\n      <td>Ashley</td>\n      <td>Lopez</td>\n      <td>F</td>\n      <td>9333 Valentine Point</td>\n      <td>Bellmore</td>\n      <td>...</td>\n      <td>Librarian, public</td>\n      <td>1970-10-21 00:00:00</td>\n      <td>c81755dbbbea9d5c77f094348a7579be</td>\n      <td>1371816893</td>\n      <td>40.495810</td>\n      <td>-74.196111</td>\n      <td>0</td>\n      <td>2020-06-21 00:00:00</td>\n      <td>49.0</td>\n      <td>59.080</td>\n    </tr>\n    <tr>\n      <th>3</th>\n      <td>2020-06-21 12:15:15</td>\n      <td>3591919803438423</td>\n      <td>fraud_Haley Group</td>\n      <td>misc_pos</td>\n      <td>60.05</td>\n      <td>Brian</td>\n      <td>Williams</td>\n      <td>M</td>\n      <td>32941 Krystal Mill Apt. 552</td>\n      <td>Titusville</td>\n      <td>...</td>\n      <td>Set designer</td>\n      <td>1987-07-25 00:00:00</td>\n      <td>2159175b9efe66dc301f149d3d5abf8c</td>\n      <td>1371816915</td>\n      <td>28.812398</td>\n      <td>-80.883061</td>\n      <td>0</td>\n      <td>2020-06-21 00:00:00</td>\n      <td>32.0</td>\n      <td>27.699</td>\n    </tr>\n    <tr>\n      <th>4</th>\n      <td>2020-06-21 12:15:17</td>\n      <td>3526826139003047</td>\n      <td>fraud_Johnston-Casper</td>\n      <td>travel</td>\n      <td>3.19</td>\n      <td>Nathan</td>\n      <td>Massey</td>\n      <td>M</td>\n      <td>5783 Evan Roads Apt. 465</td>\n      <td>Falmouth</td>\n      <td>...</td>\n      <td>Furniture designer</td>\n      <td>1955-07-06 00:00:00</td>\n      <td>57ff021bd3f328f8738bb535c302a31b</td>\n      <td>1371816917</td>\n      <td>44.959148</td>\n      <td>-85.884734</td>\n      <td>0</td>\n      <td>2020-06-21 00:00:00</td>\n      <td>64.0</td>\n      <td>104.335</td>\n    </tr>\n  </tbody>\n</table>\n<p>5 rows × 25 columns</p>\n</div>"
     },
     "execution_count": 128,
     "metadata": {},
     "output_type": "execute_result"
    }
   ],
   "source": [
    "\n",
    "test.head()"
   ],
   "metadata": {
    "collapsed": false,
    "pycharm": {
     "name": "#%%\n"
    }
   }
  },
  {
   "cell_type": "code",
   "execution_count": 129,
   "outputs": [],
   "source": [
    "test_model_prep = test.drop(columns = ['trans_date_trans_time','city','lat','long','dob','merch_lat','merch_long','trans_date','state','street',\"first\",\"last\",\"unix_time\",\"merchant\",\"cc_num\",\"trans_num\",\"zip\",\"gender\",\"job\"])"
   ],
   "metadata": {
    "collapsed": false,
    "pycharm": {
     "name": "#%%\n"
    }
   }
  },
  {
   "cell_type": "code",
   "execution_count": 130,
   "outputs": [],
   "source": [
    "# for col in test_model_prep.columns:\n",
    "#     if test_model_prep[col].dtypes == object:\n",
    "#         test_model_prep[col]= le.fit_transform(test_model_prep[col])"
   ],
   "metadata": {
    "collapsed": false,
    "pycharm": {
     "name": "#%%\n"
    }
   }
  },
  {
   "cell_type": "code",
   "execution_count": 131,
   "outputs": [
    {
     "data": {
      "text/plain": "         category    amt  city_pop  is_fraud   age  dist_fraude_km\n0   personal_care   2.86    333497         0  52.0          24.561\n1   personal_care  29.84       302         0  30.0         104.925\n2  health_fitness  41.28     34496         0  49.0          59.080\n3        misc_pos  60.05     54767         0  32.0          27.699\n4          travel   3.19      1126         0  64.0         104.335",
      "text/html": "<div>\n<style scoped>\n    .dataframe tbody tr th:only-of-type {\n        vertical-align: middle;\n    }\n\n    .dataframe tbody tr th {\n        vertical-align: top;\n    }\n\n    .dataframe thead th {\n        text-align: right;\n    }\n</style>\n<table border=\"1\" class=\"dataframe\">\n  <thead>\n    <tr style=\"text-align: right;\">\n      <th></th>\n      <th>category</th>\n      <th>amt</th>\n      <th>city_pop</th>\n      <th>is_fraud</th>\n      <th>age</th>\n      <th>dist_fraude_km</th>\n    </tr>\n  </thead>\n  <tbody>\n    <tr>\n      <th>0</th>\n      <td>personal_care</td>\n      <td>2.86</td>\n      <td>333497</td>\n      <td>0</td>\n      <td>52.0</td>\n      <td>24.561</td>\n    </tr>\n    <tr>\n      <th>1</th>\n      <td>personal_care</td>\n      <td>29.84</td>\n      <td>302</td>\n      <td>0</td>\n      <td>30.0</td>\n      <td>104.925</td>\n    </tr>\n    <tr>\n      <th>2</th>\n      <td>health_fitness</td>\n      <td>41.28</td>\n      <td>34496</td>\n      <td>0</td>\n      <td>49.0</td>\n      <td>59.080</td>\n    </tr>\n    <tr>\n      <th>3</th>\n      <td>misc_pos</td>\n      <td>60.05</td>\n      <td>54767</td>\n      <td>0</td>\n      <td>32.0</td>\n      <td>27.699</td>\n    </tr>\n    <tr>\n      <th>4</th>\n      <td>travel</td>\n      <td>3.19</td>\n      <td>1126</td>\n      <td>0</td>\n      <td>64.0</td>\n      <td>104.335</td>\n    </tr>\n  </tbody>\n</table>\n</div>"
     },
     "execution_count": 131,
     "metadata": {},
     "output_type": "execute_result"
    }
   ],
   "source": [
    "test_model_prep.head()"
   ],
   "metadata": {
    "collapsed": false,
    "pycharm": {
     "name": "#%%\n"
    }
   }
  },
  {
   "cell_type": "code",
   "execution_count": 132,
   "outputs": [],
   "source": [
    "y_test_true = test_model_prep.is_fraud"
   ],
   "metadata": {
    "collapsed": false,
    "pycharm": {
     "name": "#%%\n"
    }
   }
  },
  {
   "cell_type": "code",
   "execution_count": 133,
   "outputs": [],
   "source": [
    "x_test = test_model_prep.drop(columns=[\"is_fraud\"])"
   ],
   "metadata": {
    "collapsed": false,
    "pycharm": {
     "name": "#%%\n"
    }
   }
  },
  {
   "cell_type": "code",
   "execution_count": 134,
   "outputs": [
    {
     "data": {
      "text/plain": "              category     amt  city_pop   age  dist_fraude_km\n0        personal_care    2.86    333497  52.0          24.561\n1        personal_care   29.84       302  30.0         104.925\n2       health_fitness   41.28     34496  49.0          59.080\n3             misc_pos   60.05     54767  32.0          27.699\n4               travel    3.19      1126  64.0         104.335\n...                ...     ...       ...   ...             ...\n555714  health_fitness   43.77       519  54.0          77.026\n555715       kids_pets  111.84     28739  21.0         100.075\n555716       kids_pets   86.88      3684  39.0          80.759\n555717          travel    7.99       129  55.0          52.933\n555718   entertainment   38.13    116001  27.0          72.438\n\n[555719 rows x 5 columns]",
      "text/html": "<div>\n<style scoped>\n    .dataframe tbody tr th:only-of-type {\n        vertical-align: middle;\n    }\n\n    .dataframe tbody tr th {\n        vertical-align: top;\n    }\n\n    .dataframe thead th {\n        text-align: right;\n    }\n</style>\n<table border=\"1\" class=\"dataframe\">\n  <thead>\n    <tr style=\"text-align: right;\">\n      <th></th>\n      <th>category</th>\n      <th>amt</th>\n      <th>city_pop</th>\n      <th>age</th>\n      <th>dist_fraude_km</th>\n    </tr>\n  </thead>\n  <tbody>\n    <tr>\n      <th>0</th>\n      <td>personal_care</td>\n      <td>2.86</td>\n      <td>333497</td>\n      <td>52.0</td>\n      <td>24.561</td>\n    </tr>\n    <tr>\n      <th>1</th>\n      <td>personal_care</td>\n      <td>29.84</td>\n      <td>302</td>\n      <td>30.0</td>\n      <td>104.925</td>\n    </tr>\n    <tr>\n      <th>2</th>\n      <td>health_fitness</td>\n      <td>41.28</td>\n      <td>34496</td>\n      <td>49.0</td>\n      <td>59.080</td>\n    </tr>\n    <tr>\n      <th>3</th>\n      <td>misc_pos</td>\n      <td>60.05</td>\n      <td>54767</td>\n      <td>32.0</td>\n      <td>27.699</td>\n    </tr>\n    <tr>\n      <th>4</th>\n      <td>travel</td>\n      <td>3.19</td>\n      <td>1126</td>\n      <td>64.0</td>\n      <td>104.335</td>\n    </tr>\n    <tr>\n      <th>...</th>\n      <td>...</td>\n      <td>...</td>\n      <td>...</td>\n      <td>...</td>\n      <td>...</td>\n    </tr>\n    <tr>\n      <th>555714</th>\n      <td>health_fitness</td>\n      <td>43.77</td>\n      <td>519</td>\n      <td>54.0</td>\n      <td>77.026</td>\n    </tr>\n    <tr>\n      <th>555715</th>\n      <td>kids_pets</td>\n      <td>111.84</td>\n      <td>28739</td>\n      <td>21.0</td>\n      <td>100.075</td>\n    </tr>\n    <tr>\n      <th>555716</th>\n      <td>kids_pets</td>\n      <td>86.88</td>\n      <td>3684</td>\n      <td>39.0</td>\n      <td>80.759</td>\n    </tr>\n    <tr>\n      <th>555717</th>\n      <td>travel</td>\n      <td>7.99</td>\n      <td>129</td>\n      <td>55.0</td>\n      <td>52.933</td>\n    </tr>\n    <tr>\n      <th>555718</th>\n      <td>entertainment</td>\n      <td>38.13</td>\n      <td>116001</td>\n      <td>27.0</td>\n      <td>72.438</td>\n    </tr>\n  </tbody>\n</table>\n<p>555719 rows × 5 columns</p>\n</div>"
     },
     "execution_count": 134,
     "metadata": {},
     "output_type": "execute_result"
    }
   ],
   "source": [
    "x_test"
   ],
   "metadata": {
    "collapsed": false,
    "pycharm": {
     "name": "#%%\n"
    }
   }
  },
  {
   "cell_type": "code",
   "execution_count": 227,
   "outputs": [],
   "source": [],
   "metadata": {
    "collapsed": false,
    "pycharm": {
     "name": "#%%\n"
    }
   }
  },
  {
   "cell_type": "code",
   "execution_count": 165,
   "outputs": [
    {
     "ename": "TypeError",
     "evalue": "ufunc 'isnan' not supported for the input types, and the inputs could not be safely coerced to any supported types according to the casting rule ''safe''",
     "output_type": "error",
     "traceback": [
      "\u001B[1;31m---------------------------------------------------------------------------\u001B[0m",
      "\u001B[1;31mTypeError\u001B[0m                                 Traceback (most recent call last)",
      "Input \u001B[1;32mIn [165]\u001B[0m, in \u001B[0;36m<cell line: 1>\u001B[1;34m()\u001B[0m\n\u001B[1;32m----> 1\u001B[0m x_test[\u001B[38;5;124m'\u001B[39m\u001B[38;5;124mcategory\u001B[39m\u001B[38;5;124m'\u001B[39m] \u001B[38;5;241m=\u001B[39m \u001B[43mle_category\u001B[49m\u001B[38;5;241;43m.\u001B[39;49m\u001B[43mtransform\u001B[49m\u001B[43m(\u001B[49m\u001B[43m \u001B[49m\u001B[43mx_test\u001B[49m\u001B[43m[\u001B[49m\u001B[38;5;124;43m'\u001B[39;49m\u001B[38;5;124;43mcategory\u001B[39;49m\u001B[38;5;124;43m'\u001B[39;49m\u001B[43m]\u001B[49m\u001B[43m)\u001B[49m\n",
      "File \u001B[1;32m~\\anaconda3\\lib\\site-packages\\sklearn\\preprocessing\\_label.py:138\u001B[0m, in \u001B[0;36mLabelEncoder.transform\u001B[1;34m(self, y)\u001B[0m\n\u001B[0;32m    135\u001B[0m \u001B[38;5;28;01mif\u001B[39;00m _num_samples(y) \u001B[38;5;241m==\u001B[39m \u001B[38;5;241m0\u001B[39m:\n\u001B[0;32m    136\u001B[0m     \u001B[38;5;28;01mreturn\u001B[39;00m np\u001B[38;5;241m.\u001B[39marray([])\n\u001B[1;32m--> 138\u001B[0m \u001B[38;5;28;01mreturn\u001B[39;00m \u001B[43m_encode\u001B[49m\u001B[43m(\u001B[49m\u001B[43my\u001B[49m\u001B[43m,\u001B[49m\u001B[43m \u001B[49m\u001B[43muniques\u001B[49m\u001B[38;5;241;43m=\u001B[39;49m\u001B[38;5;28;43mself\u001B[39;49m\u001B[38;5;241;43m.\u001B[39;49m\u001B[43mclasses_\u001B[49m\u001B[43m)\u001B[49m\n",
      "File \u001B[1;32m~\\anaconda3\\lib\\site-packages\\sklearn\\utils\\_encode.py:187\u001B[0m, in \u001B[0;36m_encode\u001B[1;34m(values, uniques, check_unknown)\u001B[0m\n\u001B[0;32m    185\u001B[0m \u001B[38;5;28;01melse\u001B[39;00m:\n\u001B[0;32m    186\u001B[0m     \u001B[38;5;28;01mif\u001B[39;00m check_unknown:\n\u001B[1;32m--> 187\u001B[0m         diff \u001B[38;5;241m=\u001B[39m \u001B[43m_check_unknown\u001B[49m\u001B[43m(\u001B[49m\u001B[43mvalues\u001B[49m\u001B[43m,\u001B[49m\u001B[43m \u001B[49m\u001B[43muniques\u001B[49m\u001B[43m)\u001B[49m\n\u001B[0;32m    188\u001B[0m         \u001B[38;5;28;01mif\u001B[39;00m diff:\n\u001B[0;32m    189\u001B[0m             \u001B[38;5;28;01mraise\u001B[39;00m \u001B[38;5;167;01mValueError\u001B[39;00m(\u001B[38;5;124mf\u001B[39m\u001B[38;5;124m\"\u001B[39m\u001B[38;5;124my contains previously unseen labels: \u001B[39m\u001B[38;5;132;01m{\u001B[39;00m\u001B[38;5;28mstr\u001B[39m(diff)\u001B[38;5;132;01m}\u001B[39;00m\u001B[38;5;124m\"\u001B[39m)\n",
      "File \u001B[1;32m~\\anaconda3\\lib\\site-packages\\sklearn\\utils\\_encode.py:261\u001B[0m, in \u001B[0;36m_check_unknown\u001B[1;34m(values, known_values, return_mask)\u001B[0m\n\u001B[0;32m    258\u001B[0m         valid_mask \u001B[38;5;241m=\u001B[39m np\u001B[38;5;241m.\u001B[39mones(\u001B[38;5;28mlen\u001B[39m(values), dtype\u001B[38;5;241m=\u001B[39m\u001B[38;5;28mbool\u001B[39m)\n\u001B[0;32m    260\u001B[0m \u001B[38;5;66;03m# check for nans in the known_values\u001B[39;00m\n\u001B[1;32m--> 261\u001B[0m \u001B[38;5;28;01mif\u001B[39;00m \u001B[43mnp\u001B[49m\u001B[38;5;241;43m.\u001B[39;49m\u001B[43misnan\u001B[49m\u001B[43m(\u001B[49m\u001B[43mknown_values\u001B[49m\u001B[43m)\u001B[49m\u001B[38;5;241m.\u001B[39many():\n\u001B[0;32m    262\u001B[0m     diff_is_nan \u001B[38;5;241m=\u001B[39m np\u001B[38;5;241m.\u001B[39misnan(diff)\n\u001B[0;32m    263\u001B[0m     \u001B[38;5;28;01mif\u001B[39;00m diff_is_nan\u001B[38;5;241m.\u001B[39many():\n\u001B[0;32m    264\u001B[0m         \u001B[38;5;66;03m# removes nan from valid_mask\u001B[39;00m\n",
      "\u001B[1;31mTypeError\u001B[0m: ufunc 'isnan' not supported for the input types, and the inputs could not be safely coerced to any supported types according to the casting rule ''safe''"
     ]
    }
   ],
   "source": [
    "x_test['category'] = le_category.transform( x_test['category'])"
   ],
   "metadata": {
    "collapsed": false,
    "pycharm": {
     "name": "#%%\n"
    }
   }
  },
  {
   "cell_type": "code",
   "execution_count": 144,
   "outputs": [],
   "source": [
    "pred_val = model.predict(x_val)"
   ],
   "metadata": {
    "collapsed": false,
    "pycharm": {
     "name": "#%%\n"
    }
   }
  },
  {
   "cell_type": "code",
   "execution_count": 145,
   "outputs": [],
   "source": [
    "pred_test = model.predict(x_test)"
   ],
   "metadata": {
    "collapsed": false,
    "pycharm": {
     "name": "#%%\n"
    }
   }
  },
  {
   "cell_type": "markdown",
   "source": [
    "  Accuracy:"
   ],
   "metadata": {
    "collapsed": false,
    "pycharm": {
     "name": "#%% md\n"
    }
   }
  },
  {
   "cell_type": "markdown",
   "source": [
    "validation:"
   ],
   "metadata": {
    "collapsed": false,
    "pycharm": {
     "name": "#%% md\n"
    }
   }
  },
  {
   "cell_type": "code",
   "execution_count": 146,
   "outputs": [
    {
     "data": {
      "text/plain": "0.9990846823925471"
     },
     "execution_count": 146,
     "metadata": {},
     "output_type": "execute_result"
    }
   ],
   "source": [
    "accuracy_score(y_val,pred_val)"
   ],
   "metadata": {
    "collapsed": false,
    "pycharm": {
     "name": "#%%\n"
    }
   }
  },
  {
   "cell_type": "markdown",
   "source": [
    "test data"
   ],
   "metadata": {
    "collapsed": false,
    "pycharm": {
     "name": "#%% md\n"
    }
   }
  },
  {
   "cell_type": "code",
   "execution_count": 147,
   "outputs": [
    {
     "data": {
      "text/plain": "0.9972342136943311"
     },
     "execution_count": 147,
     "metadata": {},
     "output_type": "execute_result"
    }
   ],
   "source": [
    "accuracy_score(y_test_true,pred_test)"
   ],
   "metadata": {
    "collapsed": false,
    "pycharm": {
     "name": "#%%\n"
    }
   }
  },
  {
   "cell_type": "markdown",
   "source": [
    "F1"
   ],
   "metadata": {
    "collapsed": false,
    "pycharm": {
     "name": "#%% md\n"
    }
   }
  },
  {
   "cell_type": "markdown",
   "source": [
    "val data"
   ],
   "metadata": {
    "collapsed": false,
    "pycharm": {
     "name": "#%% md\n"
    }
   }
  },
  {
   "cell_type": "code",
   "execution_count": 148,
   "outputs": [
    {
     "data": {
      "text/plain": "0.9990865034759318"
     },
     "execution_count": 148,
     "metadata": {},
     "output_type": "execute_result"
    }
   ],
   "source": [
    "f1_score(y_val,pred_val)"
   ],
   "metadata": {
    "collapsed": false,
    "pycharm": {
     "name": "#%%\n"
    }
   }
  },
  {
   "cell_type": "markdown",
   "source": [
    "test data"
   ],
   "metadata": {
    "collapsed": false,
    "pycharm": {
     "name": "#%% md\n"
    }
   }
  },
  {
   "cell_type": "code",
   "execution_count": 149,
   "outputs": [
    {
     "data": {
      "text/plain": "0.6768972041202439"
     },
     "execution_count": 149,
     "metadata": {},
     "output_type": "execute_result"
    }
   ],
   "source": [
    "f1_score(y_test_true,pred_test)"
   ],
   "metadata": {
    "collapsed": false,
    "pycharm": {
     "name": "#%%\n"
    }
   }
  },
  {
   "cell_type": "markdown",
   "source": [
    "Recall"
   ],
   "metadata": {
    "collapsed": false,
    "pycharm": {
     "name": "#%% md\n"
    }
   }
  },
  {
   "cell_type": "markdown",
   "source": [
    "val data"
   ],
   "metadata": {
    "collapsed": false,
    "pycharm": {
     "name": "#%% md\n"
    }
   }
  },
  {
   "cell_type": "code",
   "execution_count": 150,
   "outputs": [
    {
     "data": {
      "text/plain": "1.0"
     },
     "execution_count": 150,
     "metadata": {},
     "output_type": "execute_result"
    }
   ],
   "source": [
    "recall_score(y_val,pred_val)"
   ],
   "metadata": {
    "collapsed": false,
    "pycharm": {
     "name": "#%%\n"
    }
   }
  },
  {
   "cell_type": "markdown",
   "source": [
    "test data"
   ],
   "metadata": {
    "collapsed": false,
    "pycharm": {
     "name": "#%% md\n"
    }
   }
  },
  {
   "cell_type": "code",
   "execution_count": 151,
   "outputs": [
    {
     "data": {
      "text/plain": "0.7505827505827506"
     },
     "execution_count": 151,
     "metadata": {},
     "output_type": "execute_result"
    }
   ],
   "source": [
    "recall_score(y_test_true,pred_test)"
   ],
   "metadata": {
    "collapsed": false,
    "pycharm": {
     "name": "#%%\n"
    }
   }
  },
  {
   "cell_type": "markdown",
   "source": [
    "ROC"
   ],
   "metadata": {
    "collapsed": false,
    "pycharm": {
     "name": "#%% md\n"
    }
   }
  },
  {
   "cell_type": "markdown",
   "source": [
    "val data"
   ],
   "metadata": {
    "collapsed": false,
    "pycharm": {
     "name": "#%% md\n"
    }
   }
  },
  {
   "cell_type": "code",
   "execution_count": 152,
   "outputs": [
    {
     "data": {
      "text/plain": "0.9990836944198543"
     },
     "execution_count": 152,
     "metadata": {},
     "output_type": "execute_result"
    }
   ],
   "source": [
    "roc_auc_score(y_val,pred_val)"
   ],
   "metadata": {
    "collapsed": false,
    "pycharm": {
     "name": "#%%\n"
    }
   }
  },
  {
   "cell_type": "markdown",
   "source": [
    "test data"
   ],
   "metadata": {
    "collapsed": false,
    "pycharm": {
     "name": "#%% md\n"
    }
   }
  },
  {
   "cell_type": "code",
   "execution_count": 153,
   "outputs": [
    {
     "data": {
      "text/plain": "0.8743863472373121"
     },
     "execution_count": 153,
     "metadata": {},
     "output_type": "execute_result"
    }
   ],
   "source": [
    "roc_auc_score(y_test_true,pred_test)"
   ],
   "metadata": {
    "collapsed": false,
    "pycharm": {
     "name": "#%%\n"
    }
   }
  },
  {
   "cell_type": "markdown",
   "source": [
    "val_data"
   ],
   "metadata": {
    "collapsed": false,
    "pycharm": {
     "name": "#%% md\n"
    }
   }
  },
  {
   "cell_type": "code",
   "execution_count": 154,
   "outputs": [
    {
     "data": {
      "text/plain": "0.9981746743804721"
     },
     "execution_count": 154,
     "metadata": {},
     "output_type": "execute_result"
    }
   ],
   "source": [
    "precision_score(y_val,pred_val)"
   ],
   "metadata": {
    "collapsed": false,
    "pycharm": {
     "name": "#%%\n"
    }
   }
  },
  {
   "cell_type": "markdown",
   "source": [
    "test data"
   ],
   "metadata": {
    "collapsed": false,
    "pycharm": {
     "name": "#%% md\n"
    }
   }
  },
  {
   "cell_type": "code",
   "execution_count": 155,
   "outputs": [
    {
     "data": {
      "text/plain": "0.6163859111791731"
     },
     "execution_count": 155,
     "metadata": {},
     "output_type": "execute_result"
    }
   ],
   "source": [
    "precision_score(y_test_true,pred_test)"
   ],
   "metadata": {
    "collapsed": false,
    "pycharm": {
     "name": "#%%\n"
    }
   }
  },
  {
   "cell_type": "markdown",
   "source": [
    "Classification report"
   ],
   "metadata": {
    "collapsed": false,
    "pycharm": {
     "name": "#%% md\n"
    }
   }
  },
  {
   "cell_type": "code",
   "execution_count": 156,
   "outputs": [
    {
     "data": {
      "text/plain": "  trans_date_trans_time            cc_num  \\\n0   2020-06-21 12:14:25  2291163933867244   \n1   2020-06-21 12:14:33  3573030041201292   \n2   2020-06-21 12:14:53  3598215285024754   \n3   2020-06-21 12:15:15  3591919803438423   \n4   2020-06-21 12:15:17  3526826139003047   \n\n                               merchant        category    amt   first  \\\n0                 fraud_Kirlin and Sons   personal_care   2.86    Jeff   \n1                  fraud_Sporer-Keebler   personal_care  29.84  Joanne   \n2  fraud_Swaniawski, Nitzsche and Welch  health_fitness  41.28  Ashley   \n3                     fraud_Haley Group        misc_pos  60.05   Brian   \n4                 fraud_Johnston-Casper          travel   3.19  Nathan   \n\n       last gender                       street        city  ...  \\\n0   Elliott      M            351 Darlene Green    Columbia  ...   \n1  Williams      F             3638 Marsh Union     Altonah  ...   \n2     Lopez      F         9333 Valentine Point    Bellmore  ...   \n3  Williams      M  32941 Krystal Mill Apt. 552  Titusville  ...   \n4    Massey      M     5783 Evan Roads Apt. 465    Falmouth  ...   \n\n                      job                  dob  \\\n0     Mechanical engineer  1968-03-19 00:00:00   \n1  Sales professional, IT  1990-01-17 00:00:00   \n2       Librarian, public  1970-10-21 00:00:00   \n3            Set designer  1987-07-25 00:00:00   \n4      Furniture designer  1955-07-06 00:00:00   \n\n                          trans_num   unix_time  merch_lat  merch_long  \\\n0  2da90c7d74bd46a0caf3777415b3ebd3  1371816865  33.986391  -81.200714   \n1  324cc204407e99f51b0d6ca0055005e7  1371816873  39.450498 -109.960431   \n2  c81755dbbbea9d5c77f094348a7579be  1371816893  40.495810  -74.196111   \n3  2159175b9efe66dc301f149d3d5abf8c  1371816915  28.812398  -80.883061   \n4  57ff021bd3f328f8738bb535c302a31b  1371816917  44.959148  -85.884734   \n\n  is_fraud           trans_date   age  dist_fraude_km  \n0        0  2020-06-21 00:00:00  52.0          24.561  \n1        0  2020-06-21 00:00:00  30.0         104.925  \n2        0  2020-06-21 00:00:00  49.0          59.080  \n3        0  2020-06-21 00:00:00  32.0          27.699  \n4        0  2020-06-21 00:00:00  64.0         104.335  \n\n[5 rows x 25 columns]",
      "text/html": "<div>\n<style scoped>\n    .dataframe tbody tr th:only-of-type {\n        vertical-align: middle;\n    }\n\n    .dataframe tbody tr th {\n        vertical-align: top;\n    }\n\n    .dataframe thead th {\n        text-align: right;\n    }\n</style>\n<table border=\"1\" class=\"dataframe\">\n  <thead>\n    <tr style=\"text-align: right;\">\n      <th></th>\n      <th>trans_date_trans_time</th>\n      <th>cc_num</th>\n      <th>merchant</th>\n      <th>category</th>\n      <th>amt</th>\n      <th>first</th>\n      <th>last</th>\n      <th>gender</th>\n      <th>street</th>\n      <th>city</th>\n      <th>...</th>\n      <th>job</th>\n      <th>dob</th>\n      <th>trans_num</th>\n      <th>unix_time</th>\n      <th>merch_lat</th>\n      <th>merch_long</th>\n      <th>is_fraud</th>\n      <th>trans_date</th>\n      <th>age</th>\n      <th>dist_fraude_km</th>\n    </tr>\n  </thead>\n  <tbody>\n    <tr>\n      <th>0</th>\n      <td>2020-06-21 12:14:25</td>\n      <td>2291163933867244</td>\n      <td>fraud_Kirlin and Sons</td>\n      <td>personal_care</td>\n      <td>2.86</td>\n      <td>Jeff</td>\n      <td>Elliott</td>\n      <td>M</td>\n      <td>351 Darlene Green</td>\n      <td>Columbia</td>\n      <td>...</td>\n      <td>Mechanical engineer</td>\n      <td>1968-03-19 00:00:00</td>\n      <td>2da90c7d74bd46a0caf3777415b3ebd3</td>\n      <td>1371816865</td>\n      <td>33.986391</td>\n      <td>-81.200714</td>\n      <td>0</td>\n      <td>2020-06-21 00:00:00</td>\n      <td>52.0</td>\n      <td>24.561</td>\n    </tr>\n    <tr>\n      <th>1</th>\n      <td>2020-06-21 12:14:33</td>\n      <td>3573030041201292</td>\n      <td>fraud_Sporer-Keebler</td>\n      <td>personal_care</td>\n      <td>29.84</td>\n      <td>Joanne</td>\n      <td>Williams</td>\n      <td>F</td>\n      <td>3638 Marsh Union</td>\n      <td>Altonah</td>\n      <td>...</td>\n      <td>Sales professional, IT</td>\n      <td>1990-01-17 00:00:00</td>\n      <td>324cc204407e99f51b0d6ca0055005e7</td>\n      <td>1371816873</td>\n      <td>39.450498</td>\n      <td>-109.960431</td>\n      <td>0</td>\n      <td>2020-06-21 00:00:00</td>\n      <td>30.0</td>\n      <td>104.925</td>\n    </tr>\n    <tr>\n      <th>2</th>\n      <td>2020-06-21 12:14:53</td>\n      <td>3598215285024754</td>\n      <td>fraud_Swaniawski, Nitzsche and Welch</td>\n      <td>health_fitness</td>\n      <td>41.28</td>\n      <td>Ashley</td>\n      <td>Lopez</td>\n      <td>F</td>\n      <td>9333 Valentine Point</td>\n      <td>Bellmore</td>\n      <td>...</td>\n      <td>Librarian, public</td>\n      <td>1970-10-21 00:00:00</td>\n      <td>c81755dbbbea9d5c77f094348a7579be</td>\n      <td>1371816893</td>\n      <td>40.495810</td>\n      <td>-74.196111</td>\n      <td>0</td>\n      <td>2020-06-21 00:00:00</td>\n      <td>49.0</td>\n      <td>59.080</td>\n    </tr>\n    <tr>\n      <th>3</th>\n      <td>2020-06-21 12:15:15</td>\n      <td>3591919803438423</td>\n      <td>fraud_Haley Group</td>\n      <td>misc_pos</td>\n      <td>60.05</td>\n      <td>Brian</td>\n      <td>Williams</td>\n      <td>M</td>\n      <td>32941 Krystal Mill Apt. 552</td>\n      <td>Titusville</td>\n      <td>...</td>\n      <td>Set designer</td>\n      <td>1987-07-25 00:00:00</td>\n      <td>2159175b9efe66dc301f149d3d5abf8c</td>\n      <td>1371816915</td>\n      <td>28.812398</td>\n      <td>-80.883061</td>\n      <td>0</td>\n      <td>2020-06-21 00:00:00</td>\n      <td>32.0</td>\n      <td>27.699</td>\n    </tr>\n    <tr>\n      <th>4</th>\n      <td>2020-06-21 12:15:17</td>\n      <td>3526826139003047</td>\n      <td>fraud_Johnston-Casper</td>\n      <td>travel</td>\n      <td>3.19</td>\n      <td>Nathan</td>\n      <td>Massey</td>\n      <td>M</td>\n      <td>5783 Evan Roads Apt. 465</td>\n      <td>Falmouth</td>\n      <td>...</td>\n      <td>Furniture designer</td>\n      <td>1955-07-06 00:00:00</td>\n      <td>57ff021bd3f328f8738bb535c302a31b</td>\n      <td>1371816917</td>\n      <td>44.959148</td>\n      <td>-85.884734</td>\n      <td>0</td>\n      <td>2020-06-21 00:00:00</td>\n      <td>64.0</td>\n      <td>104.335</td>\n    </tr>\n  </tbody>\n</table>\n<p>5 rows × 25 columns</p>\n</div>"
     },
     "execution_count": 156,
     "metadata": {},
     "output_type": "execute_result"
    }
   ],
   "source": [
    "test.head()"
   ],
   "metadata": {
    "collapsed": false,
    "pycharm": {
     "name": "#%%\n"
    }
   }
  },
  {
   "cell_type": "code",
   "execution_count": 157,
   "outputs": [],
   "source": [
    "target_names = [\"não fraude\", \"fraude\"]"
   ],
   "metadata": {
    "collapsed": false,
    "pycharm": {
     "name": "#%%\n"
    }
   }
  },
  {
   "cell_type": "code",
   "execution_count": 158,
   "outputs": [
    {
     "name": "stdout",
     "output_type": "stream",
     "text": [
      "Dados de Validação\n",
      "              precision    recall  f1-score   support\n",
      "\n",
      "  não fraude       1.00      1.00      1.00    386334\n",
      "      fraude       1.00      1.00      1.00    387168\n",
      "\n",
      "    accuracy                           1.00    773502\n",
      "   macro avg       1.00      1.00      1.00    773502\n",
      "weighted avg       1.00      1.00      1.00    773502\n",
      "\n"
     ]
    }
   ],
   "source": [
    "print(\"Dados de Validação\")\n",
    "print(classification_report(y_val, pred_val, target_names=target_names))"
   ],
   "metadata": {
    "collapsed": false,
    "pycharm": {
     "name": "#%%\n"
    }
   }
  },
  {
   "cell_type": "code",
   "execution_count": 159,
   "outputs": [
    {
     "name": "stdout",
     "output_type": "stream",
     "text": [
      "Dados de teste\n",
      "              precision    recall  f1-score   support\n",
      "\n",
      "  não fraude       1.00      1.00      1.00    553574\n",
      "      fraude       0.62      0.75      0.68      2145\n",
      "\n",
      "    accuracy                           1.00    555719\n",
      "   macro avg       0.81      0.87      0.84    555719\n",
      "weighted avg       1.00      1.00      1.00    555719\n",
      "\n"
     ]
    }
   ],
   "source": [
    "print(\"Dados de teste\")\n",
    "print(classification_report(y_test_true, pred_test, target_names=target_names))"
   ],
   "metadata": {
    "collapsed": false,
    "pycharm": {
     "name": "#%%\n"
    }
   }
  },
  {
   "cell_type": "code",
   "execution_count": 160,
   "outputs": [],
   "source": [
    "from sklearn.metrics import confusion_matrix, ConfusionMatrixDisplay"
   ],
   "metadata": {
    "collapsed": false,
    "pycharm": {
     "name": "#%%\n"
    }
   }
  },
  {
   "cell_type": "code",
   "execution_count": 161,
   "outputs": [
    {
     "data": {
      "text/plain": "<Figure size 432x288 with 2 Axes>",
      "image/png": "[encoded data removed]"
     },
     "metadata": {},
     "output_type": "display_data"
    }
   ],
   "source": [
    "cm = confusion_matrix(y_val, pred_val, labels=model.classes_)\n",
    "disp = ConfusionMatrixDisplay(confusion_matrix=cm)\n",
    "disp.from_predictions(y_val, pred_val,display_labels=model.classes_, cmap=\"Blues\")\n",
    "plt.show()"
   ],
   "metadata": {
    "collapsed": false,
    "pycharm": {
     "name": "#%%\n"
    }
   }
  },
  {
   "cell_type": "markdown",
   "source": [
    "plot matriz de confusão test data"
   ],
   "metadata": {
    "collapsed": false,
    "pycharm": {
     "name": "#%% md\n"
    }
   }
  },
  {
   "cell_type": "code",
   "execution_count": 162,
   "outputs": [
    {
     "data": {
      "text/plain": "<Figure size 432x288 with 2 Axes>",
      "image/png": "[encoded data removed]"
     },
     "metadata": {},
     "output_type": "display_data"
    }
   ],
   "source": [
    "cm = confusion_matrix(y_test_true, pred_test, labels=model.classes_, normalize=\"true\")\n",
    "disp = ConfusionMatrixDisplay(confusion_matrix=cm)\n",
    "disp.from_predictions(y_test_true, pred_test,display_labels=model.classes_, cmap=\"Blues\")\n",
    "plt.show()"
   ],
   "metadata": {
    "collapsed": false,
    "pycharm": {
     "name": "#%%\n"
    }
   }
  },
  {
   "cell_type": "markdown",
   "source": [
    "Serialização"
   ],
   "metadata": {
    "collapsed": false,
    "pycharm": {
     "name": "#%% md\n"
    }
   }
  },
  {
   "cell_type": "code",
   "execution_count": 163,
   "outputs": [],
   "source": [
    "# salvar modelo\n",
    "import pickle\n",
    "# salvar o modelo Random florest  no arquivo model_randFlorest.pkl\n",
    "with open('model_randFlorest.pkl', 'wb') as file:\n",
    "    pickle.dump(model, file)"
   ],
   "metadata": {
    "collapsed": false,
    "pycharm": {
     "name": "#%%\n"
    }
   }
  },
  {
   "cell_type": "code",
   "execution_count": null,
   "outputs": [],
   "source": [],
   "metadata": {
    "collapsed": false,
    "pycharm": {
     "name": "#%%\n"
    }
   }
  },
  {
   "cell_type": "markdown",
   "source": [
    "## Salvando o encoder"
   ],
   "metadata": {
    "collapsed": false,
    "pycharm": {
     "name": "#%% md\n"
    }
   }
  },
  {
   "cell_type": "code",
   "execution_count": 32,
   "outputs": [],
   "source": [
    "import pickle\n",
    "with open('./model_randFlorest.pkl', 'rb') as arq:\n",
    "    model_pkl = pickle.load(arq)"
   ],
   "metadata": {
    "collapsed": false,
    "pycharm": {
     "name": "#%%\n"
    }
   }
  },
  {
   "cell_type": "code",
   "execution_count": 172,
   "outputs": [],
   "source": [
    "le = LabelEncoder()"
   ],
   "metadata": {
    "collapsed": false,
    "pycharm": {
     "name": "#%%\n"
    }
   }
  },
  {
   "cell_type": "code",
   "execution_count": 173,
   "outputs": [
    {
     "data": {
      "text/plain": "             category     amt gender  city_pop  \\\n0            misc_net    4.97      F      3495   \n1         grocery_pos  107.23      F       149   \n2       entertainment  220.11      M      4154   \n3       gas_transport   45.00      M      1939   \n4            misc_pos   41.96      M        99   \n...               ...     ...    ...       ...   \n770705    food_dining    3.06      F      1675   \n770706           home    9.49      F      1606   \n770707  entertainment   78.76      M      1442   \n770708         travel  506.00      M      1446   \n770709      kids_pets   44.37      M     13602   \n\n                                      job  is_fraud   age  \n0               Psychologist, counselling         0  30.0  \n1       Special educational needs teacher         0  40.0  \n2             Nature conservation officer         0  56.0  \n3                         Patent attorney         0  51.0  \n4          Dance movement psychotherapist         0  32.0  \n...                                   ...       ...   ...  \n770705                          Barrister         0  33.0  \n770706                          Ecologist         0  53.0  \n770707                         Air broker         0  37.0  \n770708            Chartered loss adjuster         0  41.0  \n770709                        Optometrist         0  35.0  \n\n[770710 rows x 7 columns]",
      "text/html": "<div>\n<style scoped>\n    .dataframe tbody tr th:only-of-type {\n        vertical-align: middle;\n    }\n\n    .dataframe tbody tr th {\n        vertical-align: top;\n    }\n\n    .dataframe thead th {\n        text-align: right;\n    }\n</style>\n<table border=\"1\" class=\"dataframe\">\n  <thead>\n    <tr style=\"text-align: right;\">\n      <th></th>\n      <th>category</th>\n      <th>amt</th>\n      <th>gender</th>\n      <th>city_pop</th>\n      <th>job</th>\n      <th>is_fraud</th>\n      <th>age</th>\n    </tr>\n  </thead>\n  <tbody>\n    <tr>\n      <th>0</th>\n      <td>misc_net</td>\n      <td>4.97</td>\n      <td>F</td>\n      <td>3495</td>\n      <td>Psychologist, counselling</td>\n      <td>0</td>\n      <td>30.0</td>\n    </tr>\n    <tr>\n      <th>1</th>\n      <td>grocery_pos</td>\n      <td>107.23</td>\n      <td>F</td>\n      <td>149</td>\n      <td>Special educational needs teacher</td>\n      <td>0</td>\n      <td>40.0</td>\n    </tr>\n    <tr>\n      <th>2</th>\n      <td>entertainment</td>\n      <td>220.11</td>\n      <td>M</td>\n      <td>4154</td>\n      <td>Nature conservation officer</td>\n      <td>0</td>\n      <td>56.0</td>\n    </tr>\n    <tr>\n      <th>3</th>\n      <td>gas_transport</td>\n      <td>45.00</td>\n      <td>M</td>\n      <td>1939</td>\n      <td>Patent attorney</td>\n      <td>0</td>\n      <td>51.0</td>\n    </tr>\n    <tr>\n      <th>4</th>\n      <td>misc_pos</td>\n      <td>41.96</td>\n      <td>M</td>\n      <td>99</td>\n      <td>Dance movement psychotherapist</td>\n      <td>0</td>\n      <td>32.0</td>\n    </tr>\n    <tr>\n      <th>...</th>\n      <td>...</td>\n      <td>...</td>\n      <td>...</td>\n      <td>...</td>\n      <td>...</td>\n      <td>...</td>\n      <td>...</td>\n    </tr>\n    <tr>\n      <th>770705</th>\n      <td>food_dining</td>\n      <td>3.06</td>\n      <td>F</td>\n      <td>1675</td>\n      <td>Barrister</td>\n      <td>0</td>\n      <td>33.0</td>\n    </tr>\n    <tr>\n      <th>770706</th>\n      <td>home</td>\n      <td>9.49</td>\n      <td>F</td>\n      <td>1606</td>\n      <td>Ecologist</td>\n      <td>0</td>\n      <td>53.0</td>\n    </tr>\n    <tr>\n      <th>770707</th>\n      <td>entertainment</td>\n      <td>78.76</td>\n      <td>M</td>\n      <td>1442</td>\n      <td>Air broker</td>\n      <td>0</td>\n      <td>37.0</td>\n    </tr>\n    <tr>\n      <th>770708</th>\n      <td>travel</td>\n      <td>506.00</td>\n      <td>M</td>\n      <td>1446</td>\n      <td>Chartered loss adjuster</td>\n      <td>0</td>\n      <td>41.0</td>\n    </tr>\n    <tr>\n      <th>770709</th>\n      <td>kids_pets</td>\n      <td>44.37</td>\n      <td>M</td>\n      <td>13602</td>\n      <td>Optometrist</td>\n      <td>0</td>\n      <td>35.0</td>\n    </tr>\n  </tbody>\n</table>\n<p>770710 rows × 7 columns</p>\n</div>"
     },
     "execution_count": 173,
     "metadata": {},
     "output_type": "execute_result"
    }
   ],
   "source": [
    "train_model_prep"
   ],
   "metadata": {
    "collapsed": false,
    "pycharm": {
     "name": "#%%\n"
    }
   }
  },
  {
   "cell_type": "code",
   "execution_count": 174,
   "outputs": [],
   "source": [
    "for col in test_model_prep.columns:\n",
    "    if train_model_prep[col].dtypes == object:\n",
    "        le.fit(train_model_prep[col])"
   ],
   "metadata": {
    "collapsed": false,
    "pycharm": {
     "name": "#%%\n"
    }
   }
  },
  {
   "cell_type": "code",
   "execution_count": 175,
   "outputs": [
    {
     "data": {
      "text/plain": "             category     amt gender  city_pop  \\\n0            misc_net    4.97      F      3495   \n1         grocery_pos  107.23      F       149   \n2       entertainment  220.11      M      4154   \n3       gas_transport   45.00      M      1939   \n4            misc_pos   41.96      M        99   \n...               ...     ...    ...       ...   \n770705    food_dining    3.06      F      1675   \n770706           home    9.49      F      1606   \n770707  entertainment   78.76      M      1442   \n770708         travel  506.00      M      1446   \n770709      kids_pets   44.37      M     13602   \n\n                                      job  is_fraud   age  \n0               Psychologist, counselling         0  30.0  \n1       Special educational needs teacher         0  40.0  \n2             Nature conservation officer         0  56.0  \n3                         Patent attorney         0  51.0  \n4          Dance movement psychotherapist         0  32.0  \n...                                   ...       ...   ...  \n770705                          Barrister         0  33.0  \n770706                          Ecologist         0  53.0  \n770707                         Air broker         0  37.0  \n770708            Chartered loss adjuster         0  41.0  \n770709                        Optometrist         0  35.0  \n\n[770710 rows x 7 columns]",
      "text/html": "<div>\n<style scoped>\n    .dataframe tbody tr th:only-of-type {\n        vertical-align: middle;\n    }\n\n    .dataframe tbody tr th {\n        vertical-align: top;\n    }\n\n    .dataframe thead th {\n        text-align: right;\n    }\n</style>\n<table border=\"1\" class=\"dataframe\">\n  <thead>\n    <tr style=\"text-align: right;\">\n      <th></th>\n      <th>category</th>\n      <th>amt</th>\n      <th>gender</th>\n      <th>city_pop</th>\n      <th>job</th>\n      <th>is_fraud</th>\n      <th>age</th>\n    </tr>\n  </thead>\n  <tbody>\n    <tr>\n      <th>0</th>\n      <td>misc_net</td>\n      <td>4.97</td>\n      <td>F</td>\n      <td>3495</td>\n      <td>Psychologist, counselling</td>\n      <td>0</td>\n      <td>30.0</td>\n    </tr>\n    <tr>\n      <th>1</th>\n      <td>grocery_pos</td>\n      <td>107.23</td>\n      <td>F</td>\n      <td>149</td>\n      <td>Special educational needs teacher</td>\n      <td>0</td>\n      <td>40.0</td>\n    </tr>\n    <tr>\n      <th>2</th>\n      <td>entertainment</td>\n      <td>220.11</td>\n      <td>M</td>\n      <td>4154</td>\n      <td>Nature conservation officer</td>\n      <td>0</td>\n      <td>56.0</td>\n    </tr>\n    <tr>\n      <th>3</th>\n      <td>gas_transport</td>\n      <td>45.00</td>\n      <td>M</td>\n      <td>1939</td>\n      <td>Patent attorney</td>\n      <td>0</td>\n      <td>51.0</td>\n    </tr>\n    <tr>\n      <th>4</th>\n      <td>misc_pos</td>\n      <td>41.96</td>\n      <td>M</td>\n      <td>99</td>\n      <td>Dance movement psychotherapist</td>\n      <td>0</td>\n      <td>32.0</td>\n    </tr>\n    <tr>\n      <th>...</th>\n      <td>...</td>\n      <td>...</td>\n      <td>...</td>\n      <td>...</td>\n      <td>...</td>\n      <td>...</td>\n      <td>...</td>\n    </tr>\n    <tr>\n      <th>770705</th>\n      <td>food_dining</td>\n      <td>3.06</td>\n      <td>F</td>\n      <td>1675</td>\n      <td>Barrister</td>\n      <td>0</td>\n      <td>33.0</td>\n    </tr>\n    <tr>\n      <th>770706</th>\n      <td>home</td>\n      <td>9.49</td>\n      <td>F</td>\n      <td>1606</td>\n      <td>Ecologist</td>\n      <td>0</td>\n      <td>53.0</td>\n    </tr>\n    <tr>\n      <th>770707</th>\n      <td>entertainment</td>\n      <td>78.76</td>\n      <td>M</td>\n      <td>1442</td>\n      <td>Air broker</td>\n      <td>0</td>\n      <td>37.0</td>\n    </tr>\n    <tr>\n      <th>770708</th>\n      <td>travel</td>\n      <td>506.00</td>\n      <td>M</td>\n      <td>1446</td>\n      <td>Chartered loss adjuster</td>\n      <td>0</td>\n      <td>41.0</td>\n    </tr>\n    <tr>\n      <th>770709</th>\n      <td>kids_pets</td>\n      <td>44.37</td>\n      <td>M</td>\n      <td>13602</td>\n      <td>Optometrist</td>\n      <td>0</td>\n      <td>35.0</td>\n    </tr>\n  </tbody>\n</table>\n<p>770710 rows × 7 columns</p>\n</div>"
     },
     "execution_count": 175,
     "metadata": {},
     "output_type": "execute_result"
    }
   ],
   "source": [
    "train_model_prep"
   ],
   "metadata": {
    "collapsed": false,
    "pycharm": {
     "name": "#%%\n"
    }
   }
  },
  {
   "cell_type": "code",
   "execution_count": 75,
   "outputs": [],
   "source": [
    "# salvar o salvando o label encoder  no arquivo encoder.pkl\n",
    "with open('encoder.pkl', 'wb') as file:\n",
    "    pickle.dump(le_category, file)"
   ],
   "metadata": {
    "collapsed": false,
    "pycharm": {
     "name": "#%%\n"
    }
   }
  },
  {
   "cell_type": "code",
   "execution_count": null,
   "outputs": [],
   "source": [],
   "metadata": {
    "collapsed": false,
    "pycharm": {
     "name": "#%%\n"
    }
   }
  },
  {
   "cell_type": "code",
   "execution_count": 162,
   "outputs": [],
   "source": [],
   "metadata": {
    "collapsed": false,
    "pycharm": {
     "name": "#%%\n"
    }
   }
  },
  {
   "cell_type": "code",
   "execution_count": null,
   "outputs": [],
   "source": [],
   "metadata": {
    "collapsed": false,
    "pycharm": {
     "name": "#%%\n"
    }
   }
  },
  {
   "cell_type": "markdown",
   "source": [
    "Sample para api"
   ],
   "metadata": {
    "collapsed": false,
    "pycharm": {
     "name": "#%% md\n"
    }
   }
  },
  {
   "cell_type": "code",
   "execution_count": 230,
   "outputs": [],
   "source": [
    "a=test_model_prep[test_model_prep[\"is_fraud\"]==1].sample(n=1)"
   ],
   "metadata": {
    "collapsed": false,
    "pycharm": {
     "name": "#%%\n"
    }
   }
  },
  {
   "cell_type": "code",
   "execution_count": 229,
   "outputs": [],
   "source": [
    "b = test_model_prep[test_model_prep[\"is_fraud\"]==0].sample(n=1)"
   ],
   "metadata": {
    "collapsed": false,
    "pycharm": {
     "name": "#%%\n"
    }
   }
  },
  {
   "cell_type": "code",
   "execution_count": 231,
   "outputs": [
    {
     "data": {
      "text/plain": "        category     amt  city_pop  is_fraud   age  dist_fraude_km\n403273  misc_net  836.44      1804         1  46.0          65.082",
      "text/html": "<div>\n<style scoped>\n    .dataframe tbody tr th:only-of-type {\n        vertical-align: middle;\n    }\n\n    .dataframe tbody tr th {\n        vertical-align: top;\n    }\n\n    .dataframe thead th {\n        text-align: right;\n    }\n</style>\n<table border=\"1\" class=\"dataframe\">\n  <thead>\n    <tr style=\"text-align: right;\">\n      <th></th>\n      <th>category</th>\n      <th>amt</th>\n      <th>city_pop</th>\n      <th>is_fraud</th>\n      <th>age</th>\n      <th>dist_fraude_km</th>\n    </tr>\n  </thead>\n  <tbody>\n    <tr>\n      <th>403273</th>\n      <td>misc_net</td>\n      <td>836.44</td>\n      <td>1804</td>\n      <td>1</td>\n      <td>46.0</td>\n      <td>65.082</td>\n    </tr>\n  </tbody>\n</table>\n</div>"
     },
     "execution_count": 231,
     "metadata": {},
     "output_type": "execute_result"
    }
   ],
   "source": [
    "a"
   ],
   "metadata": {
    "collapsed": false,
    "pycharm": {
     "name": "#%%\n"
    }
   }
  },
  {
   "cell_type": "code",
   "execution_count": 232,
   "outputs": [
    {
     "data": {
      "text/plain": "         category    amt  city_pop  is_fraud   age  dist_fraude_km\n510692  kids_pets  34.48      5848         0  39.0           85.25",
      "text/html": "<div>\n<style scoped>\n    .dataframe tbody tr th:only-of-type {\n        vertical-align: middle;\n    }\n\n    .dataframe tbody tr th {\n        vertical-align: top;\n    }\n\n    .dataframe thead th {\n        text-align: right;\n    }\n</style>\n<table border=\"1\" class=\"dataframe\">\n  <thead>\n    <tr style=\"text-align: right;\">\n      <th></th>\n      <th>category</th>\n      <th>amt</th>\n      <th>city_pop</th>\n      <th>is_fraud</th>\n      <th>age</th>\n      <th>dist_fraude_km</th>\n    </tr>\n  </thead>\n  <tbody>\n    <tr>\n      <th>510692</th>\n      <td>kids_pets</td>\n      <td>34.48</td>\n      <td>5848</td>\n      <td>0</td>\n      <td>39.0</td>\n      <td>85.25</td>\n    </tr>\n  </tbody>\n</table>\n</div>"
     },
     "execution_count": 232,
     "metadata": {},
     "output_type": "execute_result"
    }
   ],
   "source": [
    "b"
   ],
   "metadata": {
    "collapsed": false,
    "pycharm": {
     "name": "#%%\n"
    }
   }
  },
  {
   "cell_type": "code",
   "execution_count": null,
   "outputs": [],
   "source": [],
   "metadata": {
    "collapsed": false,
    "pycharm": {
     "name": "#%%\n"
    }
   }
  }
 ],
 "metadata": {
  "kernelspec": {
   "display_name": "Python 3",
   "language": "python",
   "name": "python3"
  },
  "language_info": {
   "codemirror_mode": {
    "name": "ipython",
    "version": 2
   },
   "file_extension": ".py",
   "mimetype": "text/x-python",
   "name": "python",
   "nbconvert_exporter": "python",
   "pygments_lexer": "ipython2",
   "version": "2.7.6"
  }
 },
 "nbformat": 4,
 "nbformat_minor": 0
}