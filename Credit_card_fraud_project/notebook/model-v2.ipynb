{
 "cells": [
  {
   "cell_type": "markdown",
   "source": [
    "# imports"
   ],
   "metadata": {
    "collapsed": false,
    "pycharm": {
     "name": "#%% md\n"
    }
   }
  },
  {
   "cell_type": "markdown",
   "source": [
    "# Experimentando uma nova abordagem nos modelos."
   ],
   "metadata": {
    "collapsed": false,
    "pycharm": {
     "name": "#%% md\n"
    }
   }
  },
  {
   "cell_type": "code",
   "execution_count": 1,
   "outputs": [],
   "source": [
    "import pandas as pd\n",
    "import matplotlib.pyplot as plt\n",
    "import numpy as np\n",
    "import seaborn as sns"
   ],
   "metadata": {
    "collapsed": false,
    "pycharm": {
     "name": "#%%\n"
    }
   }
  },
  {
   "cell_type": "code",
   "execution_count": 2,
   "outputs": [],
   "source": [
    "from collections import Counter\n",
    "from haversine import haversine"
   ],
   "metadata": {
    "collapsed": false,
    "pycharm": {
     "name": "#%%\n"
    }
   }
  },
  {
   "cell_type": "code",
   "execution_count": 3,
   "outputs": [],
   "source": [
    "from sklearn.preprocessing import LabelEncoder\n",
    "from sklearn.model_selection import RandomizedSearchCV,cross_val_score,train_test_split,GridSearchCV\n",
    "from sklearn.metrics import accuracy_score, precision_score, f1_score, recall_score,roc_auc_score,classification_report,plot_confusion_matrix"
   ],
   "metadata": {
    "collapsed": false,
    "pycharm": {
     "name": "#%%\n"
    }
   }
  },
  {
   "cell_type": "code",
   "execution_count": 4,
   "outputs": [],
   "source": [
    "from sklearn.tree import DecisionTreeClassifier\n",
    "from sklearn.ensemble import RandomForestClassifier,AdaBoostClassifier,GradientBoostingClassifier\n",
    "from sklearn.linear_model import LogisticRegression\n",
    "from xgboost import XGBClassifier\n",
    "\n",
    "dt = DecisionTreeClassifier()\n",
    "rfclf = RandomForestClassifier()\n",
    "ada = AdaBoostClassifier()\n",
    "gbclf = GradientBoostingClassifier()\n",
    "logit = LogisticRegression()\n",
    "xgbclf = XGBClassifier()\n",
    "models = [dt,rfclf,ada,gbclf,logit,xgbclf]"
   ],
   "metadata": {
    "collapsed": false,
    "pycharm": {
     "name": "#%%\n"
    }
   }
  },
  {
   "cell_type": "markdown",
   "source": [
    "# code"
   ],
   "metadata": {
    "collapsed": false,
    "pycharm": {
     "name": "#%% md\n"
    }
   }
  },
  {
   "cell_type": "code",
   "execution_count": 5,
   "outputs": [],
   "source": [
    "train_path =\"../data/train_clear.csv\"\n",
    "test_path = \"../data/test_clear.csv\""
   ],
   "metadata": {
    "collapsed": false,
    "pycharm": {
     "name": "#%%\n"
    }
   }
  },
  {
   "cell_type": "code",
   "execution_count": 6,
   "outputs": [],
   "source": [
    "test = pd.read_csv(test_path)"
   ],
   "metadata": {
    "collapsed": false,
    "pycharm": {
     "name": "#%%\n"
    }
   }
  },
  {
   "cell_type": "code",
   "execution_count": 7,
   "outputs": [
    {
     "data": {
      "text/plain": "  trans_date_trans_time            cc_num                            merchant  \\\n0   2019-01-01 00:00:18  2703186189652095          fraud_Rippin, Kub and Mann   \n1   2019-01-01 00:00:44      630423337322     fraud_Heller, Gutmann and Zieme   \n2   2019-01-01 00:00:51    38859492057661                fraud_Lind-Buckridge   \n3   2019-01-01 00:01:16  3534093764340240  fraud_Kutch, Hermiston and Farrell   \n4   2019-01-01 00:03:06   375534208663984                 fraud_Keeling-Crist   \n\n        category     amt      first     last gender  \\\n0       misc_net    4.97   Jennifer    Banks      F   \n1    grocery_pos  107.23  Stephanie     Gill      F   \n2  entertainment  220.11     Edward  Sanchez      M   \n3  gas_transport   45.00     Jeremy    White      M   \n4       misc_pos   41.96      Tyler   Garcia      M   \n\n                         street            city  ... city_pop  \\\n0                561 Perry Cove  Moravian Falls  ...     3495   \n1  43039 Riley Greens Suite 393          Orient  ...      149   \n2      594 White Dale Suite 530      Malad City  ...     4154   \n3   9443 Cynthia Court Apt. 038         Boulder  ...     1939   \n4              408 Bradley Rest        Doe Hill  ...       99   \n\n                                 job                  dob  \\\n0          Psychologist, counselling  1988-03-09 00:00:00   \n1  Special educational needs teacher  1978-06-21 00:00:00   \n2        Nature conservation officer  1962-01-19 00:00:00   \n3                    Patent attorney  1967-01-12 00:00:00   \n4     Dance movement psychotherapist  1986-03-28 00:00:00   \n\n                          trans_num   unix_time  merch_lat  merch_long  \\\n0  0b242abb623afc578575680df30655b9  1325376018  36.011293  -82.048315   \n1  1f76529f8574734946361c461b024d99  1325376044  49.159047 -118.186462   \n2  a1a22d70485983eac12b5b88dad1cf95  1325376051  43.150704 -112.154481   \n3  6b849c168bdad6f867558c3793159a81  1325376076  47.034331 -112.561071   \n4  a41d7549acf90789359a9aa5346dcb46  1325376186  38.674999  -78.632459   \n\n  is_fraud           trans_date   age  \n0        0  2019-01-01 00:00:00  30.0  \n1        0  2019-01-01 00:00:00  40.0  \n2        0  2019-01-01 00:00:00  56.0  \n3        0  2019-01-01 00:00:00  51.0  \n4        0  2019-01-01 00:00:00  32.0  \n\n[5 rows x 24 columns]",
      "text/html": "<div>\n<style scoped>\n    .dataframe tbody tr th:only-of-type {\n        vertical-align: middle;\n    }\n\n    .dataframe tbody tr th {\n        vertical-align: top;\n    }\n\n    .dataframe thead th {\n        text-align: right;\n    }\n</style>\n<table border=\"1\" class=\"dataframe\">\n  <thead>\n    <tr style=\"text-align: right;\">\n      <th></th>\n      <th>trans_date_trans_time</th>\n      <th>cc_num</th>\n      <th>merchant</th>\n      <th>category</th>\n      <th>amt</th>\n      <th>first</th>\n      <th>last</th>\n      <th>gender</th>\n      <th>street</th>\n      <th>city</th>\n      <th>...</th>\n      <th>city_pop</th>\n      <th>job</th>\n      <th>dob</th>\n      <th>trans_num</th>\n      <th>unix_time</th>\n      <th>merch_lat</th>\n      <th>merch_long</th>\n      <th>is_fraud</th>\n      <th>trans_date</th>\n      <th>age</th>\n    </tr>\n  </thead>\n  <tbody>\n    <tr>\n      <th>0</th>\n      <td>2019-01-01 00:00:18</td>\n      <td>2703186189652095</td>\n      <td>fraud_Rippin, Kub and Mann</td>\n      <td>misc_net</td>\n      <td>4.97</td>\n      <td>Jennifer</td>\n      <td>Banks</td>\n      <td>F</td>\n      <td>561 Perry Cove</td>\n      <td>Moravian Falls</td>\n      <td>...</td>\n      <td>3495</td>\n      <td>Psychologist, counselling</td>\n      <td>1988-03-09 00:00:00</td>\n      <td>0b242abb623afc578575680df30655b9</td>\n      <td>1325376018</td>\n      <td>36.011293</td>\n      <td>-82.048315</td>\n      <td>0</td>\n      <td>2019-01-01 00:00:00</td>\n      <td>30.0</td>\n    </tr>\n    <tr>\n      <th>1</th>\n      <td>2019-01-01 00:00:44</td>\n      <td>630423337322</td>\n      <td>fraud_Heller, Gutmann and Zieme</td>\n      <td>grocery_pos</td>\n      <td>107.23</td>\n      <td>Stephanie</td>\n      <td>Gill</td>\n      <td>F</td>\n      <td>43039 Riley Greens Suite 393</td>\n      <td>Orient</td>\n      <td>...</td>\n      <td>149</td>\n      <td>Special educational needs teacher</td>\n      <td>1978-06-21 00:00:00</td>\n      <td>1f76529f8574734946361c461b024d99</td>\n      <td>1325376044</td>\n      <td>49.159047</td>\n      <td>-118.186462</td>\n      <td>0</td>\n      <td>2019-01-01 00:00:00</td>\n      <td>40.0</td>\n    </tr>\n    <tr>\n      <th>2</th>\n      <td>2019-01-01 00:00:51</td>\n      <td>38859492057661</td>\n      <td>fraud_Lind-Buckridge</td>\n      <td>entertainment</td>\n      <td>220.11</td>\n      <td>Edward</td>\n      <td>Sanchez</td>\n      <td>M</td>\n      <td>594 White Dale Suite 530</td>\n      <td>Malad City</td>\n      <td>...</td>\n      <td>4154</td>\n      <td>Nature conservation officer</td>\n      <td>1962-01-19 00:00:00</td>\n      <td>a1a22d70485983eac12b5b88dad1cf95</td>\n      <td>1325376051</td>\n      <td>43.150704</td>\n      <td>-112.154481</td>\n      <td>0</td>\n      <td>2019-01-01 00:00:00</td>\n      <td>56.0</td>\n    </tr>\n    <tr>\n      <th>3</th>\n      <td>2019-01-01 00:01:16</td>\n      <td>3534093764340240</td>\n      <td>fraud_Kutch, Hermiston and Farrell</td>\n      <td>gas_transport</td>\n      <td>45.00</td>\n      <td>Jeremy</td>\n      <td>White</td>\n      <td>M</td>\n      <td>9443 Cynthia Court Apt. 038</td>\n      <td>Boulder</td>\n      <td>...</td>\n      <td>1939</td>\n      <td>Patent attorney</td>\n      <td>1967-01-12 00:00:00</td>\n      <td>6b849c168bdad6f867558c3793159a81</td>\n      <td>1325376076</td>\n      <td>47.034331</td>\n      <td>-112.561071</td>\n      <td>0</td>\n      <td>2019-01-01 00:00:00</td>\n      <td>51.0</td>\n    </tr>\n    <tr>\n      <th>4</th>\n      <td>2019-01-01 00:03:06</td>\n      <td>375534208663984</td>\n      <td>fraud_Keeling-Crist</td>\n      <td>misc_pos</td>\n      <td>41.96</td>\n      <td>Tyler</td>\n      <td>Garcia</td>\n      <td>M</td>\n      <td>408 Bradley Rest</td>\n      <td>Doe Hill</td>\n      <td>...</td>\n      <td>99</td>\n      <td>Dance movement psychotherapist</td>\n      <td>1986-03-28 00:00:00</td>\n      <td>a41d7549acf90789359a9aa5346dcb46</td>\n      <td>1325376186</td>\n      <td>38.674999</td>\n      <td>-78.632459</td>\n      <td>0</td>\n      <td>2019-01-01 00:00:00</td>\n      <td>32.0</td>\n    </tr>\n  </tbody>\n</table>\n<p>5 rows × 24 columns</p>\n</div>"
     },
     "execution_count": 7,
     "metadata": {},
     "output_type": "execute_result"
    }
   ],
   "source": [
    "train = pd.read_csv(train_path)\n",
    "train.head()"
   ],
   "metadata": {
    "collapsed": false,
    "pycharm": {
     "name": "#%%\n"
    }
   }
  },
  {
   "cell_type": "markdown",
   "source": [
    "Feature eng."
   ],
   "metadata": {
    "collapsed": false,
    "pycharm": {
     "name": "#%% md\n"
    }
   }
  },
  {
   "cell_type": "code",
   "execution_count": 8,
   "outputs": [],
   "source": [
    "\n",
    "coordenadas_proprietario = []\n",
    "for lat,long in zip(train[\"lat\"],train[\"long\"]):\n",
    "    coordenadas_proprietario.append((lat,long))\n",
    "\n",
    "coordenadas_fraud= []\n",
    "for lat,long in zip(train[\"merch_lat\"],train[\"merch_long\"]):\n",
    "    coordenadas_fraud.append((lat,long))\n",
    "\n",
    "dist_km = []\n",
    "for vit,fraud in zip(coordenadas_proprietario,coordenadas_fraud):\n",
    "    dist_km.append(round(haversine(vit,fraud),3))\n",
    "\n",
    "train[\"dist_fraude_km\"] = dist_km"
   ],
   "metadata": {
    "collapsed": false,
    "pycharm": {
     "name": "#%%\n"
    }
   }
  },
  {
   "cell_type": "code",
   "execution_count": 9,
   "outputs": [],
   "source": [
    "coordenadas_proprietario = []\n",
    "for lat,long in zip(test[\"lat\"],test[\"long\"]):\n",
    "    coordenadas_proprietario.append((lat,long))\n",
    "\n",
    "coordenadas_fraud= []\n",
    "for lat,long in zip(test[\"merch_lat\"],test[\"merch_long\"]):\n",
    "    coordenadas_fraud.append((lat,long))\n",
    "\n",
    "dist_km = []\n",
    "for vit,fraud in zip(coordenadas_proprietario,coordenadas_fraud):\n",
    "    dist_km.append(round(haversine(vit,fraud),3))\n",
    "\n",
    "test[\"dist_fraude_km\"] = dist_km"
   ],
   "metadata": {
    "collapsed": false,
    "pycharm": {
     "name": "#%%\n"
    }
   }
  },
  {
   "cell_type": "code",
   "execution_count": 10,
   "outputs": [
    {
     "data": {
      "text/plain": "  trans_date_trans_time            cc_num                            merchant  \\\n0   2019-01-01 00:00:18  2703186189652095          fraud_Rippin, Kub and Mann   \n1   2019-01-01 00:00:44      630423337322     fraud_Heller, Gutmann and Zieme   \n2   2019-01-01 00:00:51    38859492057661                fraud_Lind-Buckridge   \n3   2019-01-01 00:01:16  3534093764340240  fraud_Kutch, Hermiston and Farrell   \n4   2019-01-01 00:03:06   375534208663984                 fraud_Keeling-Crist   \n\n        category     amt      first     last gender  \\\n0       misc_net    4.97   Jennifer    Banks      F   \n1    grocery_pos  107.23  Stephanie     Gill      F   \n2  entertainment  220.11     Edward  Sanchez      M   \n3  gas_transport   45.00     Jeremy    White      M   \n4       misc_pos   41.96      Tyler   Garcia      M   \n\n                         street            city  ...  \\\n0                561 Perry Cove  Moravian Falls  ...   \n1  43039 Riley Greens Suite 393          Orient  ...   \n2      594 White Dale Suite 530      Malad City  ...   \n3   9443 Cynthia Court Apt. 038         Boulder  ...   \n4              408 Bradley Rest        Doe Hill  ...   \n\n                                 job                  dob  \\\n0          Psychologist, counselling  1988-03-09 00:00:00   \n1  Special educational needs teacher  1978-06-21 00:00:00   \n2        Nature conservation officer  1962-01-19 00:00:00   \n3                    Patent attorney  1967-01-12 00:00:00   \n4     Dance movement psychotherapist  1986-03-28 00:00:00   \n\n                          trans_num   unix_time  merch_lat  merch_long  \\\n0  0b242abb623afc578575680df30655b9  1325376018  36.011293  -82.048315   \n1  1f76529f8574734946361c461b024d99  1325376044  49.159047 -118.186462   \n2  a1a22d70485983eac12b5b88dad1cf95  1325376051  43.150704 -112.154481   \n3  6b849c168bdad6f867558c3793159a81  1325376076  47.034331 -112.561071   \n4  a41d7549acf90789359a9aa5346dcb46  1325376186  38.674999  -78.632459   \n\n  is_fraud           trans_date   age  dist_fraude_km  \n0        0  2019-01-01 00:00:00  30.0          78.598  \n1        0  2019-01-01 00:00:00  40.0          30.212  \n2        0  2019-01-01 00:00:00  56.0         108.206  \n3        0  2019-01-01 00:00:00  51.0          95.673  \n4        0  2019-01-01 00:00:00  32.0          77.557  \n\n[5 rows x 25 columns]",
      "text/html": "<div>\n<style scoped>\n    .dataframe tbody tr th:only-of-type {\n        vertical-align: middle;\n    }\n\n    .dataframe tbody tr th {\n        vertical-align: top;\n    }\n\n    .dataframe thead th {\n        text-align: right;\n    }\n</style>\n<table border=\"1\" class=\"dataframe\">\n  <thead>\n    <tr style=\"text-align: right;\">\n      <th></th>\n      <th>trans_date_trans_time</th>\n      <th>cc_num</th>\n      <th>merchant</th>\n      <th>category</th>\n      <th>amt</th>\n      <th>first</th>\n      <th>last</th>\n      <th>gender</th>\n      <th>street</th>\n      <th>city</th>\n      <th>...</th>\n      <th>job</th>\n      <th>dob</th>\n      <th>trans_num</th>\n      <th>unix_time</th>\n      <th>merch_lat</th>\n      <th>merch_long</th>\n      <th>is_fraud</th>\n      <th>trans_date</th>\n      <th>age</th>\n      <th>dist_fraude_km</th>\n    </tr>\n  </thead>\n  <tbody>\n    <tr>\n      <th>0</th>\n      <td>2019-01-01 00:00:18</td>\n      <td>2703186189652095</td>\n      <td>fraud_Rippin, Kub and Mann</td>\n      <td>misc_net</td>\n      <td>4.97</td>\n      <td>Jennifer</td>\n      <td>Banks</td>\n      <td>F</td>\n      <td>561 Perry Cove</td>\n      <td>Moravian Falls</td>\n      <td>...</td>\n      <td>Psychologist, counselling</td>\n      <td>1988-03-09 00:00:00</td>\n      <td>0b242abb623afc578575680df30655b9</td>\n      <td>1325376018</td>\n      <td>36.011293</td>\n      <td>-82.048315</td>\n      <td>0</td>\n      <td>2019-01-01 00:00:00</td>\n      <td>30.0</td>\n      <td>78.598</td>\n    </tr>\n    <tr>\n      <th>1</th>\n      <td>2019-01-01 00:00:44</td>\n      <td>630423337322</td>\n      <td>fraud_Heller, Gutmann and Zieme</td>\n      <td>grocery_pos</td>\n      <td>107.23</td>\n      <td>Stephanie</td>\n      <td>Gill</td>\n      <td>F</td>\n      <td>43039 Riley Greens Suite 393</td>\n      <td>Orient</td>\n      <td>...</td>\n      <td>Special educational needs teacher</td>\n      <td>1978-06-21 00:00:00</td>\n      <td>1f76529f8574734946361c461b024d99</td>\n      <td>1325376044</td>\n      <td>49.159047</td>\n      <td>-118.186462</td>\n      <td>0</td>\n      <td>2019-01-01 00:00:00</td>\n      <td>40.0</td>\n      <td>30.212</td>\n    </tr>\n    <tr>\n      <th>2</th>\n      <td>2019-01-01 00:00:51</td>\n      <td>38859492057661</td>\n      <td>fraud_Lind-Buckridge</td>\n      <td>entertainment</td>\n      <td>220.11</td>\n      <td>Edward</td>\n      <td>Sanchez</td>\n      <td>M</td>\n      <td>594 White Dale Suite 530</td>\n      <td>Malad City</td>\n      <td>...</td>\n      <td>Nature conservation officer</td>\n      <td>1962-01-19 00:00:00</td>\n      <td>a1a22d70485983eac12b5b88dad1cf95</td>\n      <td>1325376051</td>\n      <td>43.150704</td>\n      <td>-112.154481</td>\n      <td>0</td>\n      <td>2019-01-01 00:00:00</td>\n      <td>56.0</td>\n      <td>108.206</td>\n    </tr>\n    <tr>\n      <th>3</th>\n      <td>2019-01-01 00:01:16</td>\n      <td>3534093764340240</td>\n      <td>fraud_Kutch, Hermiston and Farrell</td>\n      <td>gas_transport</td>\n      <td>45.00</td>\n      <td>Jeremy</td>\n      <td>White</td>\n      <td>M</td>\n      <td>9443 Cynthia Court Apt. 038</td>\n      <td>Boulder</td>\n      <td>...</td>\n      <td>Patent attorney</td>\n      <td>1967-01-12 00:00:00</td>\n      <td>6b849c168bdad6f867558c3793159a81</td>\n      <td>1325376076</td>\n      <td>47.034331</td>\n      <td>-112.561071</td>\n      <td>0</td>\n      <td>2019-01-01 00:00:00</td>\n      <td>51.0</td>\n      <td>95.673</td>\n    </tr>\n    <tr>\n      <th>4</th>\n      <td>2019-01-01 00:03:06</td>\n      <td>375534208663984</td>\n      <td>fraud_Keeling-Crist</td>\n      <td>misc_pos</td>\n      <td>41.96</td>\n      <td>Tyler</td>\n      <td>Garcia</td>\n      <td>M</td>\n      <td>408 Bradley Rest</td>\n      <td>Doe Hill</td>\n      <td>...</td>\n      <td>Dance movement psychotherapist</td>\n      <td>1986-03-28 00:00:00</td>\n      <td>a41d7549acf90789359a9aa5346dcb46</td>\n      <td>1325376186</td>\n      <td>38.674999</td>\n      <td>-78.632459</td>\n      <td>0</td>\n      <td>2019-01-01 00:00:00</td>\n      <td>32.0</td>\n      <td>77.557</td>\n    </tr>\n  </tbody>\n</table>\n<p>5 rows × 25 columns</p>\n</div>"
     },
     "execution_count": 10,
     "metadata": {},
     "output_type": "execute_result"
    }
   ],
   "source": [
    "train.head()"
   ],
   "metadata": {
    "collapsed": false,
    "pycharm": {
     "name": "#%%\n"
    }
   }
  },
  {
   "cell_type": "code",
   "execution_count": 10,
   "outputs": [],
   "source": [],
   "metadata": {
    "collapsed": false,
    "pycharm": {
     "name": "#%%\n"
    }
   }
  },
  {
   "cell_type": "code",
   "execution_count": 10,
   "outputs": [],
   "source": [],
   "metadata": {
    "collapsed": false,
    "pycharm": {
     "name": "#%%\n"
    }
   }
  },
  {
   "cell_type": "markdown",
   "source": [
    "dropando colunas inutei para o modelo"
   ],
   "metadata": {
    "collapsed": false,
    "pycharm": {
     "name": "#%% md\n"
    }
   }
  },
  {
   "cell_type": "code",
   "execution_count": 11,
   "outputs": [
    {
     "data": {
      "text/plain": "Index(['trans_date_trans_time', 'cc_num', 'merchant', 'category', 'amt',\n       'first', 'last', 'gender', 'street', 'city', 'state', 'zip', 'lat',\n       'long', 'city_pop', 'job', 'dob', 'trans_num', 'unix_time', 'merch_lat',\n       'merch_long', 'is_fraud', 'trans_date', 'age', 'dist_fraude_km'],\n      dtype='object')"
     },
     "execution_count": 11,
     "metadata": {},
     "output_type": "execute_result"
    }
   ],
   "source": [
    "train.columns"
   ],
   "metadata": {
    "collapsed": false,
    "pycharm": {
     "name": "#%%\n"
    }
   }
  },
  {
   "cell_type": "markdown",
   "source": [
    "# Feature selection"
   ],
   "metadata": {
    "collapsed": false,
    "pycharm": {
     "name": "#%% md\n"
    }
   }
  },
  {
   "cell_type": "code",
   "execution_count": 11,
   "outputs": [],
   "source": [],
   "metadata": {
    "collapsed": false,
    "pycharm": {
     "name": "#%%\n"
    }
   }
  },
  {
   "cell_type": "code",
   "execution_count": 12,
   "outputs": [],
   "source": [
    "# train_model_prep = train.drop(columns = ['trans_date_trans_time','city','lat','long','dob','merch_lat','merch_long','trans_date','state','street',\"first\",\"last\",\"unix_time\",\"merchant\",\"cc_num\",\"trans_num\",\"zip\",\"gender\",\"job\"])"
   ],
   "metadata": {
    "collapsed": false,
    "pycharm": {
     "name": "#%%\n"
    }
   }
  },
  {
   "cell_type": "code",
   "execution_count": 13,
   "outputs": [],
   "source": [
    "train_model_prep = train.copy()"
   ],
   "metadata": {
    "collapsed": false,
    "pycharm": {
     "name": "#%%\n"
    }
   }
  },
  {
   "cell_type": "code",
   "execution_count": 14,
   "outputs": [
    {
     "name": "stdout",
     "output_type": "stream",
     "text": [
      "<class 'pandas.core.frame.DataFrame'>\n",
      "RangeIndex: 1296675 entries, 0 to 1296674\n",
      "Data columns (total 25 columns):\n",
      " #   Column                 Non-Null Count    Dtype  \n",
      "---  ------                 --------------    -----  \n",
      " 0   trans_date_trans_time  1296675 non-null  object \n",
      " 1   cc_num                 1296675 non-null  int64  \n",
      " 2   merchant               1296675 non-null  object \n",
      " 3   category               1296675 non-null  object \n",
      " 4   amt                    1296675 non-null  float64\n",
      " 5   first                  1296675 non-null  object \n",
      " 6   last                   1296675 non-null  object \n",
      " 7   gender                 1296675 non-null  object \n",
      " 8   street                 1296675 non-null  object \n",
      " 9   city                   1296675 non-null  object \n",
      " 10  state                  1296675 non-null  object \n",
      " 11  zip                    1296675 non-null  int64  \n",
      " 12  lat                    1296675 non-null  float64\n",
      " 13  long                   1296675 non-null  float64\n",
      " 14  city_pop               1296675 non-null  int64  \n",
      " 15  job                    1296675 non-null  object \n",
      " 16  dob                    1296675 non-null  object \n",
      " 17  trans_num              1296675 non-null  object \n",
      " 18  unix_time              1296675 non-null  int64  \n",
      " 19  merch_lat              1296675 non-null  float64\n",
      " 20  merch_long             1296675 non-null  float64\n",
      " 21  is_fraud               1296675 non-null  int64  \n",
      " 22  trans_date             1296675 non-null  object \n",
      " 23  age                    1296675 non-null  float64\n",
      " 24  dist_fraude_km         1296675 non-null  float64\n",
      "dtypes: float64(7), int64(5), object(13)\n",
      "memory usage: 247.3+ MB\n"
     ]
    }
   ],
   "source": [
    "train_model_prep.info()"
   ],
   "metadata": {
    "collapsed": false,
    "pycharm": {
     "name": "#%%\n"
    }
   }
  },
  {
   "cell_type": "code",
   "execution_count": 15,
   "outputs": [
    {
     "data": {
      "text/plain": "  trans_date_trans_time            cc_num                            merchant  \\\n0   2019-01-01 00:00:18  2703186189652095          fraud_Rippin, Kub and Mann   \n1   2019-01-01 00:00:44      630423337322     fraud_Heller, Gutmann and Zieme   \n2   2019-01-01 00:00:51    38859492057661                fraud_Lind-Buckridge   \n3   2019-01-01 00:01:16  3534093764340240  fraud_Kutch, Hermiston and Farrell   \n4   2019-01-01 00:03:06   375534208663984                 fraud_Keeling-Crist   \n5   2019-01-01 00:04:08  4767265376804500    fraud_Stroman, Hudson and Erdman   \n6   2019-01-01 00:04:42    30074693890476               fraud_Rowe-Vandervort   \n7   2019-01-01 00:05:08  6011360759745864                fraud_Corwin-Collins   \n8   2019-01-01 00:05:18  4922710831011201                    fraud_Herzog Ltd   \n9   2019-01-01 00:06:01  2720830304681674   fraud_Schoen, Kuphal and Nitzsche   \n\n        category     amt      first      last gender  \\\n0       misc_net    4.97   Jennifer     Banks      F   \n1    grocery_pos  107.23  Stephanie      Gill      F   \n2  entertainment  220.11     Edward   Sanchez      M   \n3  gas_transport   45.00     Jeremy     White      M   \n4       misc_pos   41.96      Tyler    Garcia      M   \n5  gas_transport   94.63   Jennifer    Conner      F   \n6    grocery_net   44.54     Kelsey  Richards      F   \n7  gas_transport   71.65     Steven  Williams      M   \n8       misc_pos    4.27    Heather     Chase      F   \n9    grocery_pos  198.39    Melissa   Aguilar      F   \n\n                           street            city  ...  \\\n0                  561 Perry Cove  Moravian Falls  ...   \n1    43039 Riley Greens Suite 393          Orient  ...   \n2        594 White Dale Suite 530      Malad City  ...   \n3     9443 Cynthia Court Apt. 038         Boulder  ...   \n4                408 Bradley Rest        Doe Hill  ...   \n5               4655 David Island          Dublin  ...   \n6     889 Sarah Station Suite 624         Holcomb  ...   \n7       231 Flores Pass Suite 720        Edinburg  ...   \n8     6888 Hicks Stream Suite 954           Manor  ...   \n9  21326 Taylor Squares Suite 708     Clarksville  ...   \n\n                                 job                  dob  \\\n0          Psychologist, counselling  1988-03-09 00:00:00   \n1  Special educational needs teacher  1978-06-21 00:00:00   \n2        Nature conservation officer  1962-01-19 00:00:00   \n3                    Patent attorney  1967-01-12 00:00:00   \n4     Dance movement psychotherapist  1986-03-28 00:00:00   \n5                  Transport planner  1961-06-19 00:00:00   \n6                    Arboriculturist  1993-08-16 00:00:00   \n7               Designer, multimedia  1947-08-21 00:00:00   \n8          Public affairs consultant  1941-03-07 00:00:00   \n9                        Pathologist  1974-03-28 00:00:00   \n\n                          trans_num   unix_time  merch_lat  merch_long  \\\n0  0b242abb623afc578575680df30655b9  1325376018  36.011293  -82.048315   \n1  1f76529f8574734946361c461b024d99  1325376044  49.159047 -118.186462   \n2  a1a22d70485983eac12b5b88dad1cf95  1325376051  43.150704 -112.154481   \n3  6b849c168bdad6f867558c3793159a81  1325376076  47.034331 -112.561071   \n4  a41d7549acf90789359a9aa5346dcb46  1325376186  38.674999  -78.632459   \n5  189a841a0a8ba03058526bcfe566aab5  1325376248  40.653382  -76.152667   \n6  83ec1cc84142af6e2acf10c44949e720  1325376282  37.162705 -100.153370   \n7  6d294ed2cc447d2c71c7171a3d54967c  1325376308  38.948089  -78.540296   \n8  fc28024ce480f8ef21a32d64c93a29f5  1325376318  40.351813  -79.958146   \n9  3b9014ea8fb80bd65de0b1463b00b00e  1325376361  37.179198  -87.485381   \n\n  is_fraud           trans_date   age  dist_fraude_km  \n0        0  2019-01-01 00:00:00  30.0          78.598  \n1        0  2019-01-01 00:00:00  40.0          30.212  \n2        0  2019-01-01 00:00:00  56.0         108.206  \n3        0  2019-01-01 00:00:00  51.0          95.673  \n4        0  2019-01-01 00:00:00  32.0          77.557  \n5        0  2019-01-01 00:00:00  57.0          85.923  \n6        0  2019-01-01 00:00:00  25.0         118.120  \n7        0  2019-01-01 00:00:00  71.0          12.767  \n8        0  2019-01-01 00:00:00  77.0          25.271  \n9        0  2019-01-01 00:00:00  44.0          74.078  \n\n[10 rows x 25 columns]",
      "text/html": "<div>\n<style scoped>\n    .dataframe tbody tr th:only-of-type {\n        vertical-align: middle;\n    }\n\n    .dataframe tbody tr th {\n        vertical-align: top;\n    }\n\n    .dataframe thead th {\n        text-align: right;\n    }\n</style>\n<table border=\"1\" class=\"dataframe\">\n  <thead>\n    <tr style=\"text-align: right;\">\n      <th></th>\n      <th>trans_date_trans_time</th>\n      <th>cc_num</th>\n      <th>merchant</th>\n      <th>category</th>\n      <th>amt</th>\n      <th>first</th>\n      <th>last</th>\n      <th>gender</th>\n      <th>street</th>\n      <th>city</th>\n      <th>...</th>\n      <th>job</th>\n      <th>dob</th>\n      <th>trans_num</th>\n      <th>unix_time</th>\n      <th>merch_lat</th>\n      <th>merch_long</th>\n      <th>is_fraud</th>\n      <th>trans_date</th>\n      <th>age</th>\n      <th>dist_fraude_km</th>\n    </tr>\n  </thead>\n  <tbody>\n    <tr>\n      <th>0</th>\n      <td>2019-01-01 00:00:18</td>\n      <td>2703186189652095</td>\n      <td>fraud_Rippin, Kub and Mann</td>\n      <td>misc_net</td>\n      <td>4.97</td>\n      <td>Jennifer</td>\n      <td>Banks</td>\n      <td>F</td>\n      <td>561 Perry Cove</td>\n      <td>Moravian Falls</td>\n      <td>...</td>\n      <td>Psychologist, counselling</td>\n      <td>1988-03-09 00:00:00</td>\n      <td>0b242abb623afc578575680df30655b9</td>\n      <td>1325376018</td>\n      <td>36.011293</td>\n      <td>-82.048315</td>\n      <td>0</td>\n      <td>2019-01-01 00:00:00</td>\n      <td>30.0</td>\n      <td>78.598</td>\n    </tr>\n    <tr>\n      <th>1</th>\n      <td>2019-01-01 00:00:44</td>\n      <td>630423337322</td>\n      <td>fraud_Heller, Gutmann and Zieme</td>\n      <td>grocery_pos</td>\n      <td>107.23</td>\n      <td>Stephanie</td>\n      <td>Gill</td>\n      <td>F</td>\n      <td>43039 Riley Greens Suite 393</td>\n      <td>Orient</td>\n      <td>...</td>\n      <td>Special educational needs teacher</td>\n      <td>1978-06-21 00:00:00</td>\n      <td>1f76529f8574734946361c461b024d99</td>\n      <td>1325376044</td>\n      <td>49.159047</td>\n      <td>-118.186462</td>\n      <td>0</td>\n      <td>2019-01-01 00:00:00</td>\n      <td>40.0</td>\n      <td>30.212</td>\n    </tr>\n    <tr>\n      <th>2</th>\n      <td>2019-01-01 00:00:51</td>\n      <td>38859492057661</td>\n      <td>fraud_Lind-Buckridge</td>\n      <td>entertainment</td>\n      <td>220.11</td>\n      <td>Edward</td>\n      <td>Sanchez</td>\n      <td>M</td>\n      <td>594 White Dale Suite 530</td>\n      <td>Malad City</td>\n      <td>...</td>\n      <td>Nature conservation officer</td>\n      <td>1962-01-19 00:00:00</td>\n      <td>a1a22d70485983eac12b5b88dad1cf95</td>\n      <td>1325376051</td>\n      <td>43.150704</td>\n      <td>-112.154481</td>\n      <td>0</td>\n      <td>2019-01-01 00:00:00</td>\n      <td>56.0</td>\n      <td>108.206</td>\n    </tr>\n    <tr>\n      <th>3</th>\n      <td>2019-01-01 00:01:16</td>\n      <td>3534093764340240</td>\n      <td>fraud_Kutch, Hermiston and Farrell</td>\n      <td>gas_transport</td>\n      <td>45.00</td>\n      <td>Jeremy</td>\n      <td>White</td>\n      <td>M</td>\n      <td>9443 Cynthia Court Apt. 038</td>\n      <td>Boulder</td>\n      <td>...</td>\n      <td>Patent attorney</td>\n      <td>1967-01-12 00:00:00</td>\n      <td>6b849c168bdad6f867558c3793159a81</td>\n      <td>1325376076</td>\n      <td>47.034331</td>\n      <td>-112.561071</td>\n      <td>0</td>\n      <td>2019-01-01 00:00:00</td>\n      <td>51.0</td>\n      <td>95.673</td>\n    </tr>\n    <tr>\n      <th>4</th>\n      <td>2019-01-01 00:03:06</td>\n      <td>375534208663984</td>\n      <td>fraud_Keeling-Crist</td>\n      <td>misc_pos</td>\n      <td>41.96</td>\n      <td>Tyler</td>\n      <td>Garcia</td>\n      <td>M</td>\n      <td>408 Bradley Rest</td>\n      <td>Doe Hill</td>\n      <td>...</td>\n      <td>Dance movement psychotherapist</td>\n      <td>1986-03-28 00:00:00</td>\n      <td>a41d7549acf90789359a9aa5346dcb46</td>\n      <td>1325376186</td>\n      <td>38.674999</td>\n      <td>-78.632459</td>\n      <td>0</td>\n      <td>2019-01-01 00:00:00</td>\n      <td>32.0</td>\n      <td>77.557</td>\n    </tr>\n    <tr>\n      <th>5</th>\n      <td>2019-01-01 00:04:08</td>\n      <td>4767265376804500</td>\n      <td>fraud_Stroman, Hudson and Erdman</td>\n      <td>gas_transport</td>\n      <td>94.63</td>\n      <td>Jennifer</td>\n      <td>Conner</td>\n      <td>F</td>\n      <td>4655 David Island</td>\n      <td>Dublin</td>\n      <td>...</td>\n      <td>Transport planner</td>\n      <td>1961-06-19 00:00:00</td>\n      <td>189a841a0a8ba03058526bcfe566aab5</td>\n      <td>1325376248</td>\n      <td>40.653382</td>\n      <td>-76.152667</td>\n      <td>0</td>\n      <td>2019-01-01 00:00:00</td>\n      <td>57.0</td>\n      <td>85.923</td>\n    </tr>\n    <tr>\n      <th>6</th>\n      <td>2019-01-01 00:04:42</td>\n      <td>30074693890476</td>\n      <td>fraud_Rowe-Vandervort</td>\n      <td>grocery_net</td>\n      <td>44.54</td>\n      <td>Kelsey</td>\n      <td>Richards</td>\n      <td>F</td>\n      <td>889 Sarah Station Suite 624</td>\n      <td>Holcomb</td>\n      <td>...</td>\n      <td>Arboriculturist</td>\n      <td>1993-08-16 00:00:00</td>\n      <td>83ec1cc84142af6e2acf10c44949e720</td>\n      <td>1325376282</td>\n      <td>37.162705</td>\n      <td>-100.153370</td>\n      <td>0</td>\n      <td>2019-01-01 00:00:00</td>\n      <td>25.0</td>\n      <td>118.120</td>\n    </tr>\n    <tr>\n      <th>7</th>\n      <td>2019-01-01 00:05:08</td>\n      <td>6011360759745864</td>\n      <td>fraud_Corwin-Collins</td>\n      <td>gas_transport</td>\n      <td>71.65</td>\n      <td>Steven</td>\n      <td>Williams</td>\n      <td>M</td>\n      <td>231 Flores Pass Suite 720</td>\n      <td>Edinburg</td>\n      <td>...</td>\n      <td>Designer, multimedia</td>\n      <td>1947-08-21 00:00:00</td>\n      <td>6d294ed2cc447d2c71c7171a3d54967c</td>\n      <td>1325376308</td>\n      <td>38.948089</td>\n      <td>-78.540296</td>\n      <td>0</td>\n      <td>2019-01-01 00:00:00</td>\n      <td>71.0</td>\n      <td>12.767</td>\n    </tr>\n    <tr>\n      <th>8</th>\n      <td>2019-01-01 00:05:18</td>\n      <td>4922710831011201</td>\n      <td>fraud_Herzog Ltd</td>\n      <td>misc_pos</td>\n      <td>4.27</td>\n      <td>Heather</td>\n      <td>Chase</td>\n      <td>F</td>\n      <td>6888 Hicks Stream Suite 954</td>\n      <td>Manor</td>\n      <td>...</td>\n      <td>Public affairs consultant</td>\n      <td>1941-03-07 00:00:00</td>\n      <td>fc28024ce480f8ef21a32d64c93a29f5</td>\n      <td>1325376318</td>\n      <td>40.351813</td>\n      <td>-79.958146</td>\n      <td>0</td>\n      <td>2019-01-01 00:00:00</td>\n      <td>77.0</td>\n      <td>25.271</td>\n    </tr>\n    <tr>\n      <th>9</th>\n      <td>2019-01-01 00:06:01</td>\n      <td>2720830304681674</td>\n      <td>fraud_Schoen, Kuphal and Nitzsche</td>\n      <td>grocery_pos</td>\n      <td>198.39</td>\n      <td>Melissa</td>\n      <td>Aguilar</td>\n      <td>F</td>\n      <td>21326 Taylor Squares Suite 708</td>\n      <td>Clarksville</td>\n      <td>...</td>\n      <td>Pathologist</td>\n      <td>1974-03-28 00:00:00</td>\n      <td>3b9014ea8fb80bd65de0b1463b00b00e</td>\n      <td>1325376361</td>\n      <td>37.179198</td>\n      <td>-87.485381</td>\n      <td>0</td>\n      <td>2019-01-01 00:00:00</td>\n      <td>44.0</td>\n      <td>74.078</td>\n    </tr>\n  </tbody>\n</table>\n<p>10 rows × 25 columns</p>\n</div>"
     },
     "execution_count": 15,
     "metadata": {},
     "output_type": "execute_result"
    }
   ],
   "source": [
    "train_model_prep.head(10)"
   ],
   "metadata": {
    "collapsed": false,
    "pycharm": {
     "name": "#%%\n"
    }
   }
  },
  {
   "cell_type": "code",
   "execution_count": 16,
   "outputs": [],
   "source": [
    "train_model_prep.drop(columns=['street','trans_num','unix_time','first','last','trans_date_trans_time','trans_date'],inplace=True)\n",
    "#train_model_prep['']"
   ],
   "metadata": {
    "collapsed": false,
    "pycharm": {
     "name": "#%%\n"
    }
   }
  },
  {
   "cell_type": "code",
   "execution_count": 17,
   "outputs": [
    {
     "name": "stdout",
     "output_type": "stream",
     "text": [
      "<class 'pandas.core.frame.DataFrame'>\n",
      "RangeIndex: 1296675 entries, 0 to 1296674\n",
      "Data columns (total 18 columns):\n",
      " #   Column          Non-Null Count    Dtype  \n",
      "---  ------          --------------    -----  \n",
      " 0   cc_num          1296675 non-null  int64  \n",
      " 1   merchant        1296675 non-null  object \n",
      " 2   category        1296675 non-null  object \n",
      " 3   amt             1296675 non-null  float64\n",
      " 4   gender          1296675 non-null  object \n",
      " 5   city            1296675 non-null  object \n",
      " 6   state           1296675 non-null  object \n",
      " 7   zip             1296675 non-null  int64  \n",
      " 8   lat             1296675 non-null  float64\n",
      " 9   long            1296675 non-null  float64\n",
      " 10  city_pop        1296675 non-null  int64  \n",
      " 11  job             1296675 non-null  object \n",
      " 12  dob             1296675 non-null  object \n",
      " 13  merch_lat       1296675 non-null  float64\n",
      " 14  merch_long      1296675 non-null  float64\n",
      " 15  is_fraud        1296675 non-null  int64  \n",
      " 16  age             1296675 non-null  float64\n",
      " 17  dist_fraude_km  1296675 non-null  float64\n",
      "dtypes: float64(7), int64(4), object(7)\n",
      "memory usage: 178.1+ MB\n"
     ]
    }
   ],
   "source": [
    "train_model_prep.info()"
   ],
   "metadata": {
    "collapsed": false,
    "pycharm": {
     "name": "#%%\n"
    }
   }
  },
  {
   "cell_type": "code",
   "execution_count": 18,
   "outputs": [],
   "source": [
    "# le_category = LabelEncoder()"
   ],
   "metadata": {
    "collapsed": false,
    "pycharm": {
     "name": "#%%\n"
    }
   }
  },
  {
   "cell_type": "code",
   "execution_count": 19,
   "outputs": [],
   "source": [
    "le = LabelEncoder()\n",
    "for col in train_model_prep.columns:\n",
    "     if train_model_prep[col].dtypes == object:\n",
    "         train_model_prep[col]= le.fit_transform(train_model_prep[col])"
   ],
   "metadata": {
    "collapsed": false,
    "pycharm": {
     "name": "#%%\n"
    }
   }
  },
  {
   "cell_type": "code",
   "execution_count": 20,
   "outputs": [],
   "source": [
    "# le_category.fit(train_model_prep['category'])\n",
    "# train_model_prep['category'] = le_category.transform(train_model_prep['category'])"
   ],
   "metadata": {
    "collapsed": false,
    "pycharm": {
     "name": "#%%\n"
    }
   }
  },
  {
   "cell_type": "code",
   "execution_count": 20,
   "outputs": [],
   "source": [],
   "metadata": {
    "collapsed": false,
    "pycharm": {
     "name": "#%%\n"
    }
   }
  },
  {
   "cell_type": "code",
   "execution_count": 21,
   "outputs": [],
   "source": [
    "train_model_prep.drop(columns=['cc_num'],inplace=True)"
   ],
   "metadata": {
    "collapsed": false,
    "pycharm": {
     "name": "#%%\n"
    }
   }
  },
  {
   "cell_type": "code",
   "execution_count": 22,
   "outputs": [
    {
     "data": {
      "text/plain": "   merchant  category     amt  gender  city  state    zip      lat      long  \\\n0       514         8    4.97       0   526     27  28654  36.0788  -81.1781   \n1       241         4  107.23       0   612     47  99160  48.8878 -118.2105   \n2       390         0  220.11       1   468     13  83252  42.1808 -112.2620   \n3       360         2   45.00       1    84     26  59632  46.2306 -112.1138   \n4       297         9   41.96       1   216     45  24433  38.4207  -79.4629   \n\n   city_pop  job  dob  merch_lat  merch_long  is_fraud   age  dist_fraude_km  \n0      3495  370  779  36.011293  -82.048315         0  30.0          78.598  \n1       149  428  607  49.159047 -118.186462         0  40.0          30.212  \n2      4154  307  302  43.150704 -112.154481         0  56.0         108.206  \n3      1939  328  397  47.034331 -112.561071         0  51.0          95.673  \n4        99  116  734  38.674999  -78.632459         0  32.0          77.557  ",
      "text/html": "<div>\n<style scoped>\n    .dataframe tbody tr th:only-of-type {\n        vertical-align: middle;\n    }\n\n    .dataframe tbody tr th {\n        vertical-align: top;\n    }\n\n    .dataframe thead th {\n        text-align: right;\n    }\n</style>\n<table border=\"1\" class=\"dataframe\">\n  <thead>\n    <tr style=\"text-align: right;\">\n      <th></th>\n      <th>merchant</th>\n      <th>category</th>\n      <th>amt</th>\n      <th>gender</th>\n      <th>city</th>\n      <th>state</th>\n      <th>zip</th>\n      <th>lat</th>\n      <th>long</th>\n      <th>city_pop</th>\n      <th>job</th>\n      <th>dob</th>\n      <th>merch_lat</th>\n      <th>merch_long</th>\n      <th>is_fraud</th>\n      <th>age</th>\n      <th>dist_fraude_km</th>\n    </tr>\n  </thead>\n  <tbody>\n    <tr>\n      <th>0</th>\n      <td>514</td>\n      <td>8</td>\n      <td>4.97</td>\n      <td>0</td>\n      <td>526</td>\n      <td>27</td>\n      <td>28654</td>\n      <td>36.0788</td>\n      <td>-81.1781</td>\n      <td>3495</td>\n      <td>370</td>\n      <td>779</td>\n      <td>36.011293</td>\n      <td>-82.048315</td>\n      <td>0</td>\n      <td>30.0</td>\n      <td>78.598</td>\n    </tr>\n    <tr>\n      <th>1</th>\n      <td>241</td>\n      <td>4</td>\n      <td>107.23</td>\n      <td>0</td>\n      <td>612</td>\n      <td>47</td>\n      <td>99160</td>\n      <td>48.8878</td>\n      <td>-118.2105</td>\n      <td>149</td>\n      <td>428</td>\n      <td>607</td>\n      <td>49.159047</td>\n      <td>-118.186462</td>\n      <td>0</td>\n      <td>40.0</td>\n      <td>30.212</td>\n    </tr>\n    <tr>\n      <th>2</th>\n      <td>390</td>\n      <td>0</td>\n      <td>220.11</td>\n      <td>1</td>\n      <td>468</td>\n      <td>13</td>\n      <td>83252</td>\n      <td>42.1808</td>\n      <td>-112.2620</td>\n      <td>4154</td>\n      <td>307</td>\n      <td>302</td>\n      <td>43.150704</td>\n      <td>-112.154481</td>\n      <td>0</td>\n      <td>56.0</td>\n      <td>108.206</td>\n    </tr>\n    <tr>\n      <th>3</th>\n      <td>360</td>\n      <td>2</td>\n      <td>45.00</td>\n      <td>1</td>\n      <td>84</td>\n      <td>26</td>\n      <td>59632</td>\n      <td>46.2306</td>\n      <td>-112.1138</td>\n      <td>1939</td>\n      <td>328</td>\n      <td>397</td>\n      <td>47.034331</td>\n      <td>-112.561071</td>\n      <td>0</td>\n      <td>51.0</td>\n      <td>95.673</td>\n    </tr>\n    <tr>\n      <th>4</th>\n      <td>297</td>\n      <td>9</td>\n      <td>41.96</td>\n      <td>1</td>\n      <td>216</td>\n      <td>45</td>\n      <td>24433</td>\n      <td>38.4207</td>\n      <td>-79.4629</td>\n      <td>99</td>\n      <td>116</td>\n      <td>734</td>\n      <td>38.674999</td>\n      <td>-78.632459</td>\n      <td>0</td>\n      <td>32.0</td>\n      <td>77.557</td>\n    </tr>\n  </tbody>\n</table>\n</div>"
     },
     "execution_count": 22,
     "metadata": {},
     "output_type": "execute_result"
    }
   ],
   "source": [
    "train_model_prep.head()"
   ],
   "metadata": {
    "collapsed": false,
    "pycharm": {
     "name": "#%%\n"
    }
   }
  },
  {
   "cell_type": "code",
   "execution_count": 23,
   "outputs": [],
   "source": [
    "# for col in train_model_prep.columns:\n",
    "#     if train_model_prep[col].dtypes == object:\n",
    "#         train_model_prep[col]= le.fit_transform(train_model_prep[col])"
   ],
   "metadata": {
    "collapsed": false,
    "pycharm": {
     "name": "#%%\n"
    }
   }
  },
  {
   "cell_type": "code",
   "execution_count": 24,
   "outputs": [
    {
     "name": "stdout",
     "output_type": "stream",
     "text": [
      "<class 'pandas.core.frame.DataFrame'>\n",
      "RangeIndex: 1296675 entries, 0 to 1296674\n",
      "Data columns (total 17 columns):\n",
      " #   Column          Non-Null Count    Dtype  \n",
      "---  ------          --------------    -----  \n",
      " 0   merchant        1296675 non-null  int32  \n",
      " 1   category        1296675 non-null  int32  \n",
      " 2   amt             1296675 non-null  float64\n",
      " 3   gender          1296675 non-null  int32  \n",
      " 4   city            1296675 non-null  int32  \n",
      " 5   state           1296675 non-null  int32  \n",
      " 6   zip             1296675 non-null  int64  \n",
      " 7   lat             1296675 non-null  float64\n",
      " 8   long            1296675 non-null  float64\n",
      " 9   city_pop        1296675 non-null  int64  \n",
      " 10  job             1296675 non-null  int32  \n",
      " 11  dob             1296675 non-null  int32  \n",
      " 12  merch_lat       1296675 non-null  float64\n",
      " 13  merch_long      1296675 non-null  float64\n",
      " 14  is_fraud        1296675 non-null  int64  \n",
      " 15  age             1296675 non-null  float64\n",
      " 16  dist_fraude_km  1296675 non-null  float64\n",
      "dtypes: float64(7), int32(7), int64(3)\n",
      "memory usage: 133.6 MB\n"
     ]
    }
   ],
   "source": [
    "train_model_prep.info()"
   ],
   "metadata": {
    "collapsed": false,
    "pycharm": {
     "name": "#%%\n"
    }
   }
  },
  {
   "cell_type": "code",
   "execution_count": 25,
   "outputs": [
    {
     "data": {
      "text/plain": "         merchant  category     amt  gender  city  state    zip      lat  \\\n0             514         8    4.97       0   526     27  28654  36.0788   \n1             241         4  107.23       0   612     47  99160  48.8878   \n2             390         0  220.11       1   468     13  83252  42.1808   \n3             360         2   45.00       1    84     26  59632  46.2306   \n4             297         9   41.96       1   216     45  24433  38.4207   \n...           ...       ...     ...     ...   ...    ...    ...      ...   \n1296670       499         0   15.56       1   330     44  84735  37.7175   \n1296671         2         1   51.70       1   813     20  21790  39.2667   \n1296672       599         1  105.93       1   346     32  88325  32.9396   \n1296673       509         1   74.90       1   471     41  57756  43.3526   \n1296674       370         1    4.30       1   782     26  59871  45.8433   \n\n             long  city_pop  job  dob  merch_lat  merch_long  is_fraud   age  \\\n0        -81.1781      3495  370  779  36.011293  -82.048315         0  30.0   \n1       -118.2105       149  428  607  49.159047 -118.186462         0  40.0   \n2       -112.2620      4154  307  302  43.150704 -112.154481         0  56.0   \n3       -112.1138      1939  328  397  47.034331 -112.561071         0  51.0   \n4        -79.4629        99  116  734  38.674999  -78.632459         0  32.0   \n...           ...       ...  ...  ...        ...         ...       ...   ...   \n1296670 -112.4777       258  215  298  36.841266 -111.690765         0  58.0   \n1296671  -77.5101       100  360  630  38.906881  -78.246528         0  40.0   \n1296672 -105.8189       899  308  412  33.619513 -105.130529         0  52.0   \n1296673 -102.5411      1126  485  639  42.788940 -103.241160         0  39.0   \n1296674 -113.8748       218  467  895  46.565983 -114.186110         0  24.0   \n\n         dist_fraude_km  \n0                78.598  \n1                30.212  \n2               108.206  \n3                95.673  \n4                77.557  \n...                 ...  \n1296670         119.752  \n1296671          75.104  \n1296672          99.048  \n1296673          84.628  \n1296674          83.854  \n\n[1296675 rows x 17 columns]",
      "text/html": "<div>\n<style scoped>\n    .dataframe tbody tr th:only-of-type {\n        vertical-align: middle;\n    }\n\n    .dataframe tbody tr th {\n        vertical-align: top;\n    }\n\n    .dataframe thead th {\n        text-align: right;\n    }\n</style>\n<table border=\"1\" class=\"dataframe\">\n  <thead>\n    <tr style=\"text-align: right;\">\n      <th></th>\n      <th>merchant</th>\n      <th>category</th>\n      <th>amt</th>\n      <th>gender</th>\n      <th>city</th>\n      <th>state</th>\n      <th>zip</th>\n      <th>lat</th>\n      <th>long</th>\n      <th>city_pop</th>\n      <th>job</th>\n      <th>dob</th>\n      <th>merch_lat</th>\n      <th>merch_long</th>\n      <th>is_fraud</th>\n      <th>age</th>\n      <th>dist_fraude_km</th>\n    </tr>\n  </thead>\n  <tbody>\n    <tr>\n      <th>0</th>\n      <td>514</td>\n      <td>8</td>\n      <td>4.97</td>\n      <td>0</td>\n      <td>526</td>\n      <td>27</td>\n      <td>28654</td>\n      <td>36.0788</td>\n      <td>-81.1781</td>\n      <td>3495</td>\n      <td>370</td>\n      <td>779</td>\n      <td>36.011293</td>\n      <td>-82.048315</td>\n      <td>0</td>\n      <td>30.0</td>\n      <td>78.598</td>\n    </tr>\n    <tr>\n      <th>1</th>\n      <td>241</td>\n      <td>4</td>\n      <td>107.23</td>\n      <td>0</td>\n      <td>612</td>\n      <td>47</td>\n      <td>99160</td>\n      <td>48.8878</td>\n      <td>-118.2105</td>\n      <td>149</td>\n      <td>428</td>\n      <td>607</td>\n      <td>49.159047</td>\n      <td>-118.186462</td>\n      <td>0</td>\n      <td>40.0</td>\n      <td>30.212</td>\n    </tr>\n    <tr>\n      <th>2</th>\n      <td>390</td>\n      <td>0</td>\n      <td>220.11</td>\n      <td>1</td>\n      <td>468</td>\n      <td>13</td>\n      <td>83252</td>\n      <td>42.1808</td>\n      <td>-112.2620</td>\n      <td>4154</td>\n      <td>307</td>\n      <td>302</td>\n      <td>43.150704</td>\n      <td>-112.154481</td>\n      <td>0</td>\n      <td>56.0</td>\n      <td>108.206</td>\n    </tr>\n    <tr>\n      <th>3</th>\n      <td>360</td>\n      <td>2</td>\n      <td>45.00</td>\n      <td>1</td>\n      <td>84</td>\n      <td>26</td>\n      <td>59632</td>\n      <td>46.2306</td>\n      <td>-112.1138</td>\n      <td>1939</td>\n      <td>328</td>\n      <td>397</td>\n      <td>47.034331</td>\n      <td>-112.561071</td>\n      <td>0</td>\n      <td>51.0</td>\n      <td>95.673</td>\n    </tr>\n    <tr>\n      <th>4</th>\n      <td>297</td>\n      <td>9</td>\n      <td>41.96</td>\n      <td>1</td>\n      <td>216</td>\n      <td>45</td>\n      <td>24433</td>\n      <td>38.4207</td>\n      <td>-79.4629</td>\n      <td>99</td>\n      <td>116</td>\n      <td>734</td>\n      <td>38.674999</td>\n      <td>-78.632459</td>\n      <td>0</td>\n      <td>32.0</td>\n      <td>77.557</td>\n    </tr>\n    <tr>\n      <th>...</th>\n      <td>...</td>\n      <td>...</td>\n      <td>...</td>\n      <td>...</td>\n      <td>...</td>\n      <td>...</td>\n      <td>...</td>\n      <td>...</td>\n      <td>...</td>\n      <td>...</td>\n      <td>...</td>\n      <td>...</td>\n      <td>...</td>\n      <td>...</td>\n      <td>...</td>\n      <td>...</td>\n      <td>...</td>\n    </tr>\n    <tr>\n      <th>1296670</th>\n      <td>499</td>\n      <td>0</td>\n      <td>15.56</td>\n      <td>1</td>\n      <td>330</td>\n      <td>44</td>\n      <td>84735</td>\n      <td>37.7175</td>\n      <td>-112.4777</td>\n      <td>258</td>\n      <td>215</td>\n      <td>298</td>\n      <td>36.841266</td>\n      <td>-111.690765</td>\n      <td>0</td>\n      <td>58.0</td>\n      <td>119.752</td>\n    </tr>\n    <tr>\n      <th>1296671</th>\n      <td>2</td>\n      <td>1</td>\n      <td>51.70</td>\n      <td>1</td>\n      <td>813</td>\n      <td>20</td>\n      <td>21790</td>\n      <td>39.2667</td>\n      <td>-77.5101</td>\n      <td>100</td>\n      <td>360</td>\n      <td>630</td>\n      <td>38.906881</td>\n      <td>-78.246528</td>\n      <td>0</td>\n      <td>40.0</td>\n      <td>75.104</td>\n    </tr>\n    <tr>\n      <th>1296672</th>\n      <td>599</td>\n      <td>1</td>\n      <td>105.93</td>\n      <td>1</td>\n      <td>346</td>\n      <td>32</td>\n      <td>88325</td>\n      <td>32.9396</td>\n      <td>-105.8189</td>\n      <td>899</td>\n      <td>308</td>\n      <td>412</td>\n      <td>33.619513</td>\n      <td>-105.130529</td>\n      <td>0</td>\n      <td>52.0</td>\n      <td>99.048</td>\n    </tr>\n    <tr>\n      <th>1296673</th>\n      <td>509</td>\n      <td>1</td>\n      <td>74.90</td>\n      <td>1</td>\n      <td>471</td>\n      <td>41</td>\n      <td>57756</td>\n      <td>43.3526</td>\n      <td>-102.5411</td>\n      <td>1126</td>\n      <td>485</td>\n      <td>639</td>\n      <td>42.788940</td>\n      <td>-103.241160</td>\n      <td>0</td>\n      <td>39.0</td>\n      <td>84.628</td>\n    </tr>\n    <tr>\n      <th>1296674</th>\n      <td>370</td>\n      <td>1</td>\n      <td>4.30</td>\n      <td>1</td>\n      <td>782</td>\n      <td>26</td>\n      <td>59871</td>\n      <td>45.8433</td>\n      <td>-113.8748</td>\n      <td>218</td>\n      <td>467</td>\n      <td>895</td>\n      <td>46.565983</td>\n      <td>-114.186110</td>\n      <td>0</td>\n      <td>24.0</td>\n      <td>83.854</td>\n    </tr>\n  </tbody>\n</table>\n<p>1296675 rows × 17 columns</p>\n</div>"
     },
     "execution_count": 25,
     "metadata": {},
     "output_type": "execute_result"
    }
   ],
   "source": [
    "train_model_prep"
   ],
   "metadata": {
    "collapsed": false,
    "pycharm": {
     "name": "#%%\n"
    }
   }
  },
  {
   "cell_type": "code",
   "execution_count": 26,
   "outputs": [],
   "source": [
    "X = train_model_prep.drop(columns=[\"is_fraud\"])\n",
    "y = train_model_prep.is_fraud"
   ],
   "metadata": {
    "collapsed": false,
    "pycharm": {
     "name": "#%%\n"
    }
   }
  },
  {
   "cell_type": "code",
   "execution_count": 27,
   "outputs": [
    {
     "name": "stdout",
     "output_type": "stream",
     "text": [
      "Dimensões X = (1296675, 16) , y = (1296675,)\n"
     ]
    }
   ],
   "source": [
    "print(\"Dimensões X = {} , y = {}\".format(X.shape, y.shape))"
   ],
   "metadata": {
    "collapsed": false,
    "pycharm": {
     "name": "#%%\n"
    }
   }
  },
  {
   "cell_type": "code",
   "execution_count": 28,
   "outputs": [
    {
     "name": "stdout",
     "output_type": "stream",
     "text": [
      "Original dataset shape Counter({0: 1289169, 1: 7506})\n"
     ]
    }
   ],
   "source": [
    "print('Original dataset shape %s' % Counter(y))"
   ],
   "metadata": {
    "collapsed": false,
    "pycharm": {
     "name": "#%%\n"
    }
   }
  },
  {
   "cell_type": "code",
   "execution_count": 29,
   "outputs": [
    {
     "data": {
      "text/plain": "<Figure size 432x288 with 1 Axes>",
      "image/png": "[encoded data removed]"
     },
     "metadata": {},
     "output_type": "display_data"
    }
   ],
   "source": [
    "sns.set_theme(style=\"darkgrid\")\n",
    "ax = sns.countplot(x=\"is_fraud\", data=train_model_prep)"
   ],
   "metadata": {
    "collapsed": false,
    "pycharm": {
     "name": "#%%\n"
    }
   }
  },
  {
   "cell_type": "markdown",
   "source": [
    "Balanceando as classes"
   ],
   "metadata": {
    "collapsed": false,
    "pycharm": {
     "name": "#%% md\n"
    }
   }
  },
  {
   "cell_type": "code",
   "execution_count": 29,
   "outputs": [],
   "source": [],
   "metadata": {
    "collapsed": false,
    "pycharm": {
     "name": "#%%\n"
    }
   }
  },
  {
   "cell_type": "code",
   "execution_count": 30,
   "outputs": [],
   "source": [
    "# from imblearn.over_sampling import RandomOverSampler"
   ],
   "metadata": {
    "collapsed": false,
    "pycharm": {
     "name": "#%%\n"
    }
   }
  },
  {
   "cell_type": "code",
   "execution_count": 31,
   "outputs": [],
   "source": [
    "# ros = RandomOverSampler(random_state=42)"
   ],
   "metadata": {
    "collapsed": false,
    "pycharm": {
     "name": "#%%\n"
    }
   }
  },
  {
   "cell_type": "code",
   "execution_count": 32,
   "outputs": [],
   "source": [
    "x_train,x_val,y_train,y_val = train_test_split(X,y,test_size=0.30,random_state=42)"
   ],
   "metadata": {
    "collapsed": false,
    "pycharm": {
     "name": "#%%\n"
    }
   }
  },
  {
   "cell_type": "code",
   "execution_count": 33,
   "outputs": [],
   "source": [
    "# X_res_train, y_res_train = ros.fit_resample(x_train, y_train)"
   ],
   "metadata": {
    "collapsed": false,
    "pycharm": {
     "name": "#%%\n"
    }
   }
  },
  {
   "cell_type": "code",
   "execution_count": 34,
   "outputs": [
    {
     "name": "stdout",
     "output_type": "stream",
     "text": [
      "Original dataset shape Counter({0: 902451, 1: 902451})\n"
     ]
    }
   ],
   "source": [
    "# print('Original dataset shape %s' % Counter(y_res_train))"
   ],
   "metadata": {
    "collapsed": false,
    "pycharm": {
     "name": "#%%\n"
    }
   }
  },
  {
   "cell_type": "markdown",
   "source": [
    "Separando os dados em treino e validação"
   ],
   "metadata": {
    "collapsed": false,
    "pycharm": {
     "name": "#%% md\n"
    }
   }
  },
  {
   "cell_type": "code",
   "execution_count": 34,
   "outputs": [],
   "source": [],
   "metadata": {
    "collapsed": false,
    "pycharm": {
     "name": "#%%\n"
    }
   }
  },
  {
   "cell_type": "code",
   "execution_count": 35,
   "outputs": [
    {
     "name": "stdout",
     "output_type": "stream",
     "text": [
      "Exibindo as dimensões dos nossos dados de treino: \n",
      "X_train --> (1804902, 16)\n",
      "y_train --> (1804902,)\n",
      "X_val --> (389003, 16)\n",
      "y_val --> (389003,)\n"
     ]
    }
   ],
   "source": [
    "print(\"Exibindo as dimensões dos nossos dados de treino: \")\n",
    "print(\"X_train --> {}\".format(x_train.shape))\n",
    "print(\"y_train --> {}\".format(y_train.shape))\n",
    "print(\"X_val --> {}\".format(x_val.shape))\n",
    "print(\"y_val --> {}\".format(y_val.shape))"
   ],
   "metadata": {
    "collapsed": false,
    "pycharm": {
     "name": "#%%\n"
    }
   }
  },
  {
   "cell_type": "code",
   "execution_count": 36,
   "outputs": [],
   "source": [
    "# feature selection function\n",
    "from sklearn.feature_selection import SelectFromModel\n",
    "\n",
    "def best_features(models: list, x,y, cols_name):\n",
    "    for model in models:\n",
    "        # selecionando as features para o modelo\n",
    "        select = SelectFromModel(estimator=model)\n",
    "        X_transformed = select.fit_transform(x,y)\n",
    "\n",
    "        # vendo as features por modelo\n",
    "        sup = select.get_support()\n",
    "\n",
    "        # imprimindo as features\n",
    "        print(f\"Feature para o modelo {model.__class__.__name__}\")\n",
    "\n",
    "        print([\n",
    "            x for x,y  in zip(cols_name, sup) if y==True\n",
    "        ])\n",
    "        print(\"*\"*50)\n"
   ],
   "metadata": {
    "collapsed": false,
    "pycharm": {
     "name": "#%%\n"
    }
   }
  },
  {
   "cell_type": "code",
   "execution_count": 37,
   "outputs": [
    {
     "data": {
      "text/plain": "Index(['merchant', 'category', 'amt', 'gender', 'city', 'state', 'zip', 'lat',\n       'long', 'city_pop', 'job', 'dob', 'merch_lat', 'merch_long', 'is_fraud',\n       'age', 'dist_fraude_km'],\n      dtype='object')"
     },
     "execution_count": 37,
     "metadata": {},
     "output_type": "execute_result"
    }
   ],
   "source": [
    "cols_name = train_model_prep.columns\n",
    "cols_name"
   ],
   "metadata": {
    "collapsed": false,
    "pycharm": {
     "name": "#%%\n"
    }
   }
  },
  {
   "cell_type": "code",
   "execution_count": 38,
   "outputs": [
    {
     "data": {
      "text/plain": "[DecisionTreeClassifier(),\n RandomForestClassifier(),\n AdaBoostClassifier(),\n GradientBoostingClassifier(),\n LogisticRegression(),\n XGBClassifier(base_score=None, booster=None, callbacks=None,\n               colsample_bylevel=None, colsample_bynode=None,\n               colsample_bytree=None, early_stopping_rounds=None,\n               enable_categorical=False, eval_metric=None, gamma=None,\n               gpu_id=None, grow_policy=None, importance_type=None,\n               interaction_constraints=None, learning_rate=None, max_bin=None,\n               max_cat_to_onehot=None, max_delta_step=None, max_depth=None,\n               max_leaves=None, min_child_weight=None, missing=nan,\n               monotone_constraints=None, n_estimators=100, n_jobs=None,\n               num_parallel_tree=None, predictor=None, random_state=None,\n               reg_alpha=None, reg_lambda=None, ...)]"
     },
     "execution_count": 38,
     "metadata": {},
     "output_type": "execute_result"
    }
   ],
   "source": [
    "models"
   ],
   "metadata": {
    "collapsed": false,
    "pycharm": {
     "name": "#%%\n"
    }
   }
  },
  {
   "cell_type": "code",
   "execution_count": 38,
   "outputs": [
    {
     "name": "stdout",
     "output_type": "stream",
     "text": [
      "Feature para o modelo DecisionTreeClassifier\n",
      "['category', 'amt']\n",
      "**************************************************\n",
      "Feature para o modelo RandomForestClassifier\n",
      "['category', 'amt']\n",
      "**************************************************\n",
      "Feature para o modelo AdaBoostClassifier\n",
      "['category', 'amt']\n",
      "**************************************************\n",
      "Feature para o modelo GradientBoostingClassifier\n",
      "['category', 'amt']\n",
      "**************************************************\n",
      "Feature para o modelo LogisticRegression\n",
      "['trans_date_trans_time', 'city_pop', 'trans_num']\n",
      "**************************************************\n",
      "Feature para o modelo XGBClassifier\n",
      "['category', 'amt', 'dob']\n",
      "**************************************************\n",
      "CPU times: total: 1h 11min 9s\n",
      "Wall time: 49min 18s\n"
     ]
    }
   ],
   "source": [
    "%%time\n",
    "best_features(models,X_res_train,y_res_train,cols_name)"
   ],
   "metadata": {
    "collapsed": false,
    "pycharm": {
     "name": "#%%\n"
    }
   }
  },
  {
   "cell_type": "markdown",
   "source": [
    "category, amt,age,city_pop"
   ],
   "metadata": {
    "collapsed": false,
    "pycharm": {
     "name": "#%% md\n"
    }
   }
  },
  {
   "cell_type": "code",
   "execution_count": 43,
   "outputs": [],
   "source": [],
   "metadata": {
    "collapsed": false,
    "pycharm": {
     "name": "#%%\n"
    }
   }
  },
  {
   "cell_type": "code",
   "execution_count": null,
   "outputs": [],
   "source": [],
   "metadata": {
    "collapsed": false,
    "pycharm": {
     "name": "#%%\n"
    }
   }
  },
  {
   "cell_type": "code",
   "execution_count": 37,
   "outputs": [],
   "source": [
    "X_res_train=X_res_train[['category', 'amt','age','city_pop']]"
   ],
   "metadata": {
    "collapsed": false,
    "pycharm": {
     "name": "#%%\n"
    }
   }
  },
  {
   "cell_type": "code",
   "execution_count": 38,
   "outputs": [
    {
     "data": {
      "text/plain": "         category      amt   age  city_pop\n0              11     2.38  23.0       564\n1              12     6.53  35.0     27971\n2              11     6.62  37.0     23727\n3               8    24.86  35.0    116155\n4               6    25.65  34.0     19685\n...           ...      ...   ...       ...\n1804897        11  1033.78  45.0      5507\n1804898         3     9.47  34.0    409656\n1804899         2     9.49  43.0      2054\n1804900         2     7.14  67.0      4984\n1804901        11  1139.52  71.0      3699\n\n[1804902 rows x 4 columns]",
      "text/html": "<div>\n<style scoped>\n    .dataframe tbody tr th:only-of-type {\n        vertical-align: middle;\n    }\n\n    .dataframe tbody tr th {\n        vertical-align: top;\n    }\n\n    .dataframe thead th {\n        text-align: right;\n    }\n</style>\n<table border=\"1\" class=\"dataframe\">\n  <thead>\n    <tr style=\"text-align: right;\">\n      <th></th>\n      <th>category</th>\n      <th>amt</th>\n      <th>age</th>\n      <th>city_pop</th>\n    </tr>\n  </thead>\n  <tbody>\n    <tr>\n      <th>0</th>\n      <td>11</td>\n      <td>2.38</td>\n      <td>23.0</td>\n      <td>564</td>\n    </tr>\n    <tr>\n      <th>1</th>\n      <td>12</td>\n      <td>6.53</td>\n      <td>35.0</td>\n      <td>27971</td>\n    </tr>\n    <tr>\n      <th>2</th>\n      <td>11</td>\n      <td>6.62</td>\n      <td>37.0</td>\n      <td>23727</td>\n    </tr>\n    <tr>\n      <th>3</th>\n      <td>8</td>\n      <td>24.86</td>\n      <td>35.0</td>\n      <td>116155</td>\n    </tr>\n    <tr>\n      <th>4</th>\n      <td>6</td>\n      <td>25.65</td>\n      <td>34.0</td>\n      <td>19685</td>\n    </tr>\n    <tr>\n      <th>...</th>\n      <td>...</td>\n      <td>...</td>\n      <td>...</td>\n      <td>...</td>\n    </tr>\n    <tr>\n      <th>1804897</th>\n      <td>11</td>\n      <td>1033.78</td>\n      <td>45.0</td>\n      <td>5507</td>\n    </tr>\n    <tr>\n      <th>1804898</th>\n      <td>3</td>\n      <td>9.47</td>\n      <td>34.0</td>\n      <td>409656</td>\n    </tr>\n    <tr>\n      <th>1804899</th>\n      <td>2</td>\n      <td>9.49</td>\n      <td>43.0</td>\n      <td>2054</td>\n    </tr>\n    <tr>\n      <th>1804900</th>\n      <td>2</td>\n      <td>7.14</td>\n      <td>67.0</td>\n      <td>4984</td>\n    </tr>\n    <tr>\n      <th>1804901</th>\n      <td>11</td>\n      <td>1139.52</td>\n      <td>71.0</td>\n      <td>3699</td>\n    </tr>\n  </tbody>\n</table>\n<p>1804902 rows × 4 columns</p>\n</div>"
     },
     "execution_count": 38,
     "metadata": {},
     "output_type": "execute_result"
    }
   ],
   "source": [
    "X_res_train"
   ],
   "metadata": {
    "collapsed": false,
    "pycharm": {
     "name": "#%%\n"
    }
   }
  },
  {
   "cell_type": "code",
   "execution_count": 39,
   "outputs": [],
   "source": [],
   "metadata": {
    "collapsed": false,
    "pycharm": {
     "name": "#%%\n"
    }
   }
  },
  {
   "cell_type": "code",
   "execution_count": 39,
   "outputs": [],
   "source": [],
   "metadata": {
    "collapsed": false,
    "pycharm": {
     "name": "#%%\n"
    }
   }
  },
  {
   "cell_type": "markdown",
   "source": [
    "Nessa parte vamos fazer a escolha do nosso modelo, para isso instanciaremos diversos modeles treinaremos os mesmo, logo após isso vamos escolher os melhores baseado em suas metricas"
   ],
   "metadata": {
    "collapsed": false,
    "pycharm": {
     "name": "#%% md\n"
    }
   }
  },
  {
   "cell_type": "markdown",
   "source": [
    "importando os modelos"
   ],
   "metadata": {
    "collapsed": false,
    "pycharm": {
     "name": "#%% md\n"
    }
   }
  },
  {
   "cell_type": "code",
   "execution_count": 87,
   "outputs": [],
   "source": [
    "def best_model(x,y,model_list:list,cv=3):\n",
    "    print(\"-\"*50)\n",
    "    df_ret = []\n",
    "    for m in model_list:\n",
    "        recall=[]\n",
    "        f1 = []\n",
    "        acc = []\n",
    "        precision = []\n",
    "        print(m.__class__.__name__)\n",
    "        for score in [\"recall\",\"f1\",\"accuracy\",\"precision\"]:\n",
    "            cvs = cross_val_score(m, x,y, scoring=score, cv=cv)\n",
    "            mean = cvs.mean()\n",
    "            std = cvs.std()\n",
    "            print(score + \" : \"+ str(round(mean,3)) + \" std : \"+ str(round(std,3)))\n",
    "            print(\"Intervalo :  [{:.2f}% ~ {:.2f}%]\".format((mean - 2*std)*100, (mean + 2*std)*100))\n",
    "            print()\n",
    "            if score == \"recall\":\n",
    "                recall.append(round(mean,3))\n",
    "            elif score == \"f1\":\n",
    "                f1.append(round(mean,3))\n",
    "            elif score == \"accuracy\":\n",
    "                acc.append(round(mean,3))\n",
    "            else:\n",
    "                precision.append(round(mean,3))\n",
    "\n",
    "        df_ret.append(pd.DataFrame(data=zip(recall,f1,acc,precision), index=[m.__class__.__name__], columns=['recall','f1','accuracy','precision']))\n",
    "\n",
    "\n",
    "\n",
    "        print()\n",
    "    return pd.concat(df_ret,sort=True)"
   ],
   "metadata": {
    "collapsed": false,
    "pycharm": {
     "name": "#%%\n"
    }
   }
  },
  {
   "cell_type": "code",
   "execution_count": 88,
   "outputs": [],
   "source": [
    "def fit_models(models_list:list, x,y):\n",
    "    retorno = []\n",
    "    print(\"[INFO]: Iniciando o treinamento dos modelos\")\n",
    "    print(\"[INFO]: Shape do treinamento X : {}\".format(x.shape))\n",
    "    print(\"[INFO]: Shape do treinamento y : {}\".format(y.shape))\n",
    "    print(\"-\"*50)\n",
    "    for model in models_list:\n",
    "        print(\"[INFO]: modelo a ser treinado  \",model.__class__.__name__)\n",
    "        model.fit(x,y)\n",
    "        print(\"[INFO]:Treinamento do modelo conlcuido\")\n",
    "        print(\"-\"*50)\n",
    "        retorno.append(model)\n",
    "    return retorno"
   ],
   "metadata": {
    "collapsed": false,
    "pycharm": {
     "name": "#%%\n"
    }
   }
  },
  {
   "cell_type": "code",
   "execution_count": 41,
   "outputs": [
    {
     "name": "stdout",
     "output_type": "stream",
     "text": [
      "--------------------------------------------------\n",
      "DecisionTreeClassifier\n",
      "recall : 1.0 std : 0.0\n",
      "Intervalo :  [100.00% ~ 100.00%]\n",
      "\n",
      "f1 : 0.999 std : 0.0\n",
      "Intervalo :  [99.88% ~ 99.89%]\n",
      "\n",
      "accuracy : 0.999 std : 0.0\n",
      "Intervalo :  [99.88% ~ 99.88%]\n",
      "\n",
      "precision : 0.998 std : 0.0\n",
      "Intervalo :  [99.76% ~ 99.77%]\n",
      "\n",
      "\n",
      "RandomForestClassifier\n",
      "recall : 1.0 std : 0.0\n",
      "Intervalo :  [100.00% ~ 100.00%]\n",
      "\n",
      "f1 : 0.999 std : 0.0\n",
      "Intervalo :  [99.91% ~ 99.91%]\n",
      "\n",
      "accuracy : 0.999 std : 0.0\n",
      "Intervalo :  [99.90% ~ 99.91%]\n",
      "\n",
      "precision : 0.998 std : 0.0\n",
      "Intervalo :  [99.81% ~ 99.82%]\n",
      "\n",
      "\n",
      "AdaBoostClassifier\n",
      "recall : 0.894 std : 0.006\n",
      "Intervalo :  [88.33% ~ 90.55%]\n",
      "\n",
      "f1 : 0.911 std : 0.005\n",
      "Intervalo :  [90.02% ~ 92.15%]\n",
      "\n",
      "accuracy : 0.912 std : 0.005\n",
      "Intervalo :  [90.21% ~ 92.29%]\n",
      "\n",
      "precision : 0.928 std : 0.005\n",
      "Intervalo :  [91.77% ~ 93.82%]\n",
      "\n",
      "\n",
      "GradientBoostingClassifier\n",
      "recall : 0.945 std : 0.0\n",
      "Intervalo :  [94.43% ~ 94.48%]\n",
      "\n",
      "f1 : 0.952 std : 0.0\n",
      "Intervalo :  [95.14% ~ 95.27%]\n",
      "\n",
      "accuracy : 0.952 std : 0.0\n",
      "Intervalo :  [95.18% ~ 95.31%]\n",
      "\n",
      "precision : 0.96 std : 0.001\n",
      "Intervalo :  [95.85% ~ 96.09%]\n",
      "\n",
      "\n",
      "LogisticRegression\n",
      "recall : 0.754 std : 0.013\n",
      "Intervalo :  [72.75% ~ 78.04%]\n",
      "\n",
      "f1 : 0.819 std : 0.01\n",
      "Intervalo :  [80.01% ~ 83.89%]\n",
      "\n",
      "accuracy : 0.834 std : 0.008\n",
      "Intervalo :  [81.79% ~ 85.00%]\n",
      "\n",
      "precision : 0.898 std : 0.005\n",
      "Intervalo :  [88.84% ~ 90.68%]\n",
      "\n",
      "\n",
      "XGBClassifier\n",
      "recall : 1.0 std : 0.0\n",
      "Intervalo :  [99.95% ~ 100.01%]\n",
      "\n",
      "f1 : 0.992 std : 0.0\n",
      "Intervalo :  [99.10% ~ 99.23%]\n",
      "\n",
      "accuracy : 0.992 std : 0.0\n",
      "Intervalo :  [99.09% ~ 99.22%]\n",
      "\n",
      "precision : 0.984 std : 0.0\n",
      "Intervalo :  [98.26% ~ 98.46%]\n",
      "\n",
      "\n"
     ]
    }
   ],
   "source": [
    "df_model = best_model(X_res_train,y_res_train,models)"
   ],
   "metadata": {
    "collapsed": false,
    "pycharm": {
     "name": "#%%\n"
    }
   }
  },
  {
   "cell_type": "markdown",
   "source": [
    "# Avaliar os dados do df_model"
   ],
   "metadata": {
    "collapsed": false,
    "pycharm": {
     "name": "#%% md\n"
    }
   }
  },
  {
   "cell_type": "code",
   "execution_count": 42,
   "outputs": [
    {
     "data": {
      "text/plain": "                            accuracy     f1  precision  recall\nDecisionTreeClassifier         0.999  0.999      0.998   1.000\nRandomForestClassifier         0.999  0.999      0.998   1.000\nAdaBoostClassifier             0.912  0.911      0.928   0.894\nGradientBoostingClassifier     0.952  0.952      0.960   0.945\nLogisticRegression             0.834  0.819      0.898   0.754\nXGBClassifier                  0.992  0.992      0.984   1.000",
      "text/html": "<div>\n<style scoped>\n    .dataframe tbody tr th:only-of-type {\n        vertical-align: middle;\n    }\n\n    .dataframe tbody tr th {\n        vertical-align: top;\n    }\n\n    .dataframe thead th {\n        text-align: right;\n    }\n</style>\n<table border=\"1\" class=\"dataframe\">\n  <thead>\n    <tr style=\"text-align: right;\">\n      <th></th>\n      <th>accuracy</th>\n      <th>f1</th>\n      <th>precision</th>\n      <th>recall</th>\n    </tr>\n  </thead>\n  <tbody>\n    <tr>\n      <th>DecisionTreeClassifier</th>\n      <td>0.999</td>\n      <td>0.999</td>\n      <td>0.998</td>\n      <td>1.000</td>\n    </tr>\n    <tr>\n      <th>RandomForestClassifier</th>\n      <td>0.999</td>\n      <td>0.999</td>\n      <td>0.998</td>\n      <td>1.000</td>\n    </tr>\n    <tr>\n      <th>AdaBoostClassifier</th>\n      <td>0.912</td>\n      <td>0.911</td>\n      <td>0.928</td>\n      <td>0.894</td>\n    </tr>\n    <tr>\n      <th>GradientBoostingClassifier</th>\n      <td>0.952</td>\n      <td>0.952</td>\n      <td>0.960</td>\n      <td>0.945</td>\n    </tr>\n    <tr>\n      <th>LogisticRegression</th>\n      <td>0.834</td>\n      <td>0.819</td>\n      <td>0.898</td>\n      <td>0.754</td>\n    </tr>\n    <tr>\n      <th>XGBClassifier</th>\n      <td>0.992</td>\n      <td>0.992</td>\n      <td>0.984</td>\n      <td>1.000</td>\n    </tr>\n  </tbody>\n</table>\n</div>"
     },
     "execution_count": 42,
     "metadata": {},
     "output_type": "execute_result"
    }
   ],
   "source": [
    "df_model"
   ],
   "metadata": {
    "collapsed": false,
    "pycharm": {
     "name": "#%%\n"
    }
   }
  },
  {
   "cell_type": "markdown",
   "source": [
    "## Aqui vamos ordenar os dados de maneira decrescente  por duas colunas que são elas: precision, recall"
   ],
   "metadata": {
    "collapsed": false,
    "pycharm": {
     "name": "#%% md\n"
    }
   }
  },
  {
   "cell_type": "code",
   "execution_count": 43,
   "outputs": [
    {
     "data": {
      "text/plain": "                            accuracy     f1  precision  recall\nDecisionTreeClassifier         0.999  0.999      0.998   1.000\nRandomForestClassifier         0.999  0.999      0.998   1.000\nXGBClassifier                  0.992  0.992      0.984   1.000\nGradientBoostingClassifier     0.952  0.952      0.960   0.945\nAdaBoostClassifier             0.912  0.911      0.928   0.894\nLogisticRegression             0.834  0.819      0.898   0.754",
      "text/html": "<div>\n<style scoped>\n    .dataframe tbody tr th:only-of-type {\n        vertical-align: middle;\n    }\n\n    .dataframe tbody tr th {\n        vertical-align: top;\n    }\n\n    .dataframe thead th {\n        text-align: right;\n    }\n</style>\n<table border=\"1\" class=\"dataframe\">\n  <thead>\n    <tr style=\"text-align: right;\">\n      <th></th>\n      <th>accuracy</th>\n      <th>f1</th>\n      <th>precision</th>\n      <th>recall</th>\n    </tr>\n  </thead>\n  <tbody>\n    <tr>\n      <th>DecisionTreeClassifier</th>\n      <td>0.999</td>\n      <td>0.999</td>\n      <td>0.998</td>\n      <td>1.000</td>\n    </tr>\n    <tr>\n      <th>RandomForestClassifier</th>\n      <td>0.999</td>\n      <td>0.999</td>\n      <td>0.998</td>\n      <td>1.000</td>\n    </tr>\n    <tr>\n      <th>XGBClassifier</th>\n      <td>0.992</td>\n      <td>0.992</td>\n      <td>0.984</td>\n      <td>1.000</td>\n    </tr>\n    <tr>\n      <th>GradientBoostingClassifier</th>\n      <td>0.952</td>\n      <td>0.952</td>\n      <td>0.960</td>\n      <td>0.945</td>\n    </tr>\n    <tr>\n      <th>AdaBoostClassifier</th>\n      <td>0.912</td>\n      <td>0.911</td>\n      <td>0.928</td>\n      <td>0.894</td>\n    </tr>\n    <tr>\n      <th>LogisticRegression</th>\n      <td>0.834</td>\n      <td>0.819</td>\n      <td>0.898</td>\n      <td>0.754</td>\n    </tr>\n  </tbody>\n</table>\n</div>"
     },
     "execution_count": 43,
     "metadata": {},
     "output_type": "execute_result"
    }
   ],
   "source": [
    "df_model.sort_values(by=['precision','f1'],ascending=False)"
   ],
   "metadata": {
    "collapsed": false,
    "pycharm": {
     "name": "#%%\n"
    }
   }
  },
  {
   "cell_type": "code",
   "execution_count": 44,
   "outputs": [
    {
     "data": {
      "text/plain": "[DecisionTreeClassifier(),\n RandomForestClassifier(),\n AdaBoostClassifier(),\n GradientBoostingClassifier(),\n LogisticRegression(),\n XGBClassifier(base_score=None, booster=None, callbacks=None,\n               colsample_bylevel=None, colsample_bynode=None,\n               colsample_bytree=None, early_stopping_rounds=None,\n               enable_categorical=False, eval_metric=None, gamma=None,\n               gpu_id=None, grow_policy=None, importance_type=None,\n               interaction_constraints=None, learning_rate=None, max_bin=None,\n               max_cat_to_onehot=None, max_delta_step=None, max_depth=None,\n               max_leaves=None, min_child_weight=None, missing=nan,\n               monotone_constraints=None, n_estimators=100, n_jobs=None,\n               num_parallel_tree=None, predictor=None, random_state=None,\n               reg_alpha=None, reg_lambda=None, ...)]"
     },
     "execution_count": 44,
     "metadata": {},
     "output_type": "execute_result"
    }
   ],
   "source": [
    "models"
   ],
   "metadata": {
    "collapsed": false,
    "pycharm": {
     "name": "#%%\n"
    }
   }
  },
  {
   "cell_type": "markdown",
   "source": [
    "Percebemos que os moledos a serem escolhidos vão ser: RandomFlorestCLf, DecisionTreeClf, XGBClf"
   ],
   "metadata": {
    "collapsed": false,
    "pycharm": {
     "name": "#%% md\n"
    }
   }
  },
  {
   "cell_type": "code",
   "execution_count": null,
   "outputs": [],
   "source": [],
   "metadata": {
    "collapsed": false,
    "pycharm": {
     "name": "#%%\n"
    }
   }
  },
  {
   "cell_type": "code",
   "execution_count": 45,
   "outputs": [
    {
     "name": "stdout",
     "output_type": "stream",
     "text": [
      "[INFO]: Iniciando o treinamento dos modelos\n",
      "[INFO]: Shape do treinamento X : (1804902, 4)\n",
      "[INFO]: Shape do treinamento y : (1804902,)\n",
      "--------------------------------------------------\n",
      "[INFO]: modelo a ser treinado   RandomForestClassifier\n",
      "[INFO]:Treinamento do modelo conlcuido\n",
      "--------------------------------------------------\n",
      "[INFO]: modelo a ser treinado   DecisionTreeClassifier\n",
      "[INFO]:Treinamento do modelo conlcuido\n",
      "--------------------------------------------------\n",
      "[INFO]: modelo a ser treinado   XGBClassifier\n",
      "[INFO]:Treinamento do modelo conlcuido\n",
      "--------------------------------------------------\n"
     ]
    }
   ],
   "source": [
    "model_train = fit_models([rfclf,dt,xgbclf],X_res_train,y_res_train)"
   ],
   "metadata": {
    "collapsed": false,
    "pycharm": {
     "name": "#%%\n"
    }
   }
  },
  {
   "cell_type": "code",
   "execution_count": 41,
   "outputs": [],
   "source": [
    "x_val = x_val[['category', 'amt','age','city_pop']]"
   ],
   "metadata": {
    "collapsed": false,
    "pycharm": {
     "name": "#%%\n"
    }
   }
  },
  {
   "cell_type": "code",
   "execution_count": 42,
   "outputs": [
    {
     "data": {
      "text/plain": "         category     amt   age  city_pop\n1045211         9  194.51  22.0       972\n547406          5   52.32  90.0       217\n110142         12    6.53  73.0       184\n1285953         6    7.33  67.0     10717\n271705          2   64.29  45.0       635\n...           ...     ...   ...       ...\n421133          2   65.09  38.0      5848\n695406          5   22.57  58.0      1132\n1259079         2   63.91  21.0    166081\n137364          1   59.18  40.0       198\n473850          0    8.16  21.0      9594\n\n[389003 rows x 4 columns]",
      "text/html": "<div>\n<style scoped>\n    .dataframe tbody tr th:only-of-type {\n        vertical-align: middle;\n    }\n\n    .dataframe tbody tr th {\n        vertical-align: top;\n    }\n\n    .dataframe thead th {\n        text-align: right;\n    }\n</style>\n<table border=\"1\" class=\"dataframe\">\n  <thead>\n    <tr style=\"text-align: right;\">\n      <th></th>\n      <th>category</th>\n      <th>amt</th>\n      <th>age</th>\n      <th>city_pop</th>\n    </tr>\n  </thead>\n  <tbody>\n    <tr>\n      <th>1045211</th>\n      <td>9</td>\n      <td>194.51</td>\n      <td>22.0</td>\n      <td>972</td>\n    </tr>\n    <tr>\n      <th>547406</th>\n      <td>5</td>\n      <td>52.32</td>\n      <td>90.0</td>\n      <td>217</td>\n    </tr>\n    <tr>\n      <th>110142</th>\n      <td>12</td>\n      <td>6.53</td>\n      <td>73.0</td>\n      <td>184</td>\n    </tr>\n    <tr>\n      <th>1285953</th>\n      <td>6</td>\n      <td>7.33</td>\n      <td>67.0</td>\n      <td>10717</td>\n    </tr>\n    <tr>\n      <th>271705</th>\n      <td>2</td>\n      <td>64.29</td>\n      <td>45.0</td>\n      <td>635</td>\n    </tr>\n    <tr>\n      <th>...</th>\n      <td>...</td>\n      <td>...</td>\n      <td>...</td>\n      <td>...</td>\n    </tr>\n    <tr>\n      <th>421133</th>\n      <td>2</td>\n      <td>65.09</td>\n      <td>38.0</td>\n      <td>5848</td>\n    </tr>\n    <tr>\n      <th>695406</th>\n      <td>5</td>\n      <td>22.57</td>\n      <td>58.0</td>\n      <td>1132</td>\n    </tr>\n    <tr>\n      <th>1259079</th>\n      <td>2</td>\n      <td>63.91</td>\n      <td>21.0</td>\n      <td>166081</td>\n    </tr>\n    <tr>\n      <th>137364</th>\n      <td>1</td>\n      <td>59.18</td>\n      <td>40.0</td>\n      <td>198</td>\n    </tr>\n    <tr>\n      <th>473850</th>\n      <td>0</td>\n      <td>8.16</td>\n      <td>21.0</td>\n      <td>9594</td>\n    </tr>\n  </tbody>\n</table>\n<p>389003 rows × 4 columns</p>\n</div>"
     },
     "execution_count": 42,
     "metadata": {},
     "output_type": "execute_result"
    }
   ],
   "source": [
    "x_val"
   ],
   "metadata": {
    "collapsed": false,
    "pycharm": {
     "name": "#%%\n"
    }
   }
  },
  {
   "cell_type": "code",
   "execution_count": 48,
   "outputs": [
    {
     "name": "stdout",
     "output_type": "stream",
     "text": [
      "--------------------------------------------------\n",
      "RandomForestClassifier\n",
      "recall : 0.675 std : 0.021\n",
      "Intervalo :  [63.28% ~ 71.78%]\n",
      "\n",
      "f1 : 0.74 std : 0.007\n",
      "Intervalo :  [72.56% ~ 75.40%]\n",
      "\n",
      "accuracy : 0.997 std : 0.0\n",
      "Intervalo :  [99.71% ~ 99.73%]\n",
      "\n",
      "precision : 0.816 std : 0.001\n",
      "Intervalo :  [81.35% ~ 81.76%]\n",
      "\n",
      "\n",
      "DecisionTreeClassifier\n",
      "recall : 0.663 std : 0.01\n",
      "Intervalo :  [64.34% ~ 68.18%]\n",
      "\n",
      "f1 : 0.657 std : 0.008\n",
      "Intervalo :  [63.97% ~ 67.34%]\n",
      "\n",
      "accuracy : 0.996 std : 0.0\n",
      "Intervalo :  [99.57% ~ 99.61%]\n",
      "\n",
      "precision : 0.648 std : 0.012\n",
      "Intervalo :  [62.36% ~ 67.18%]\n",
      "\n",
      "\n",
      "XGBClassifier\n",
      "recall : 0.684 std : 0.023\n",
      "Intervalo :  [63.73% ~ 72.99%]\n",
      "\n",
      "f1 : 0.748 std : 0.011\n",
      "Intervalo :  [72.52% ~ 76.98%]\n",
      "\n",
      "accuracy : 0.997 std : 0.0\n",
      "Intervalo :  [99.72% ~ 99.74%]\n",
      "\n",
      "precision : 0.825 std : 0.007\n",
      "Intervalo :  [81.13% ~ 83.96%]\n",
      "\n",
      "\n"
     ]
    }
   ],
   "source": [
    "df_model_train = best_model(x_val,y_val,model_train)"
   ],
   "metadata": {
    "collapsed": false,
    "pycharm": {
     "name": "#%%\n"
    }
   }
  },
  {
   "cell_type": "code",
   "execution_count": 49,
   "outputs": [
    {
     "data": {
      "text/plain": "                        accuracy     f1  precision  recall\nXGBClassifier              0.997  0.748      0.825   0.684\nRandomForestClassifier     0.997  0.740      0.816   0.675\nDecisionTreeClassifier     0.996  0.657      0.648   0.663",
      "text/html": "<div>\n<style scoped>\n    .dataframe tbody tr th:only-of-type {\n        vertical-align: middle;\n    }\n\n    .dataframe tbody tr th {\n        vertical-align: top;\n    }\n\n    .dataframe thead th {\n        text-align: right;\n    }\n</style>\n<table border=\"1\" class=\"dataframe\">\n  <thead>\n    <tr style=\"text-align: right;\">\n      <th></th>\n      <th>accuracy</th>\n      <th>f1</th>\n      <th>precision</th>\n      <th>recall</th>\n    </tr>\n  </thead>\n  <tbody>\n    <tr>\n      <th>XGBClassifier</th>\n      <td>0.997</td>\n      <td>0.748</td>\n      <td>0.825</td>\n      <td>0.684</td>\n    </tr>\n    <tr>\n      <th>RandomForestClassifier</th>\n      <td>0.997</td>\n      <td>0.740</td>\n      <td>0.816</td>\n      <td>0.675</td>\n    </tr>\n    <tr>\n      <th>DecisionTreeClassifier</th>\n      <td>0.996</td>\n      <td>0.657</td>\n      <td>0.648</td>\n      <td>0.663</td>\n    </tr>\n  </tbody>\n</table>\n</div>"
     },
     "execution_count": 49,
     "metadata": {},
     "output_type": "execute_result"
    }
   ],
   "source": [
    "df_model_train.sort_values(by=['precision','recall'],ascending=False)"
   ],
   "metadata": {
    "collapsed": false,
    "pycharm": {
     "name": "#%%\n"
    }
   }
  },
  {
   "cell_type": "markdown",
   "source": [
    "Aqui vemos indicação de que o melhor foi o randomflorest"
   ],
   "metadata": {
    "collapsed": false,
    "pycharm": {
     "name": "#%% md\n"
    }
   }
  },
  {
   "cell_type": "code",
   "execution_count": 50,
   "outputs": [
    {
     "data": {
      "text/plain": "[RandomForestClassifier(),\n DecisionTreeClassifier(),\n XGBClassifier(base_score=0.5, booster='gbtree', callbacks=None,\n               colsample_bylevel=1, colsample_bynode=1, colsample_bytree=1,\n               early_stopping_rounds=None, enable_categorical=False,\n               eval_metric=None, gamma=0, gpu_id=-1, grow_policy='depthwise',\n               importance_type=None, interaction_constraints='',\n               learning_rate=0.300000012, max_bin=256, max_cat_to_onehot=4,\n               max_delta_step=0, max_depth=6, max_leaves=0, min_child_weight=1,\n               missing=nan, monotone_constraints='()', n_estimators=100,\n               n_jobs=0, num_parallel_tree=1, predictor='auto', random_state=0,\n               reg_alpha=0, reg_lambda=1, ...)]"
     },
     "execution_count": 50,
     "metadata": {},
     "output_type": "execute_result"
    }
   ],
   "source": [
    "model_train"
   ],
   "metadata": {
    "collapsed": false,
    "pycharm": {
     "name": "#%%\n"
    }
   }
  },
  {
   "cell_type": "code",
   "execution_count": 51,
   "outputs": [],
   "source": [
    "model = model_train[2]"
   ],
   "metadata": {
    "collapsed": false,
    "pycharm": {
     "name": "#%%\n"
    }
   }
  },
  {
   "cell_type": "code",
   "execution_count": 43,
   "outputs": [
    {
     "name": "stdout",
     "output_type": "stream",
     "text": [
      "[INFO]: Iniciando o treinamento dos modelos\n",
      "[INFO]: Shape do treinamento X : (1804902, 4)\n",
      "[INFO]: Shape do treinamento y : (1804902,)\n",
      "--------------------------------------------------\n",
      "[INFO]: modelo a ser treinado   XGBClassifier\n",
      "[INFO]:Treinamento do modelo conlcuido\n",
      "--------------------------------------------------\n"
     ]
    }
   ],
   "source": [
    "model = fit_models([xgbclf],X_res_train,y_res_train)"
   ],
   "metadata": {
    "collapsed": false,
    "pycharm": {
     "name": "#%%\n"
    }
   }
  },
  {
   "cell_type": "code",
   "execution_count": 43,
   "outputs": [],
   "source": [],
   "metadata": {
    "collapsed": false,
    "pycharm": {
     "name": "#%%\n"
    }
   }
  },
  {
   "cell_type": "code",
   "execution_count": 44,
   "outputs": [],
   "source": [
    "model = model[0]"
   ],
   "metadata": {
    "collapsed": false,
    "pycharm": {
     "name": "#%%\n"
    }
   }
  },
  {
   "cell_type": "code",
   "execution_count": 45,
   "outputs": [
    {
     "data": {
      "text/plain": "XGBClassifier(base_score=0.5, booster='gbtree', callbacks=None,\n              colsample_bylevel=1, colsample_bynode=1, colsample_bytree=1,\n              early_stopping_rounds=None, enable_categorical=False,\n              eval_metric=None, gamma=0, gpu_id=-1, grow_policy='depthwise',\n              importance_type=None, interaction_constraints='',\n              learning_rate=0.300000012, max_bin=256, max_cat_to_onehot=4,\n              max_delta_step=0, max_depth=6, max_leaves=0, min_child_weight=1,\n              missing=nan, monotone_constraints='()', n_estimators=100,\n              n_jobs=0, num_parallel_tree=1, predictor='auto', random_state=0,\n              reg_alpha=0, reg_lambda=1, ...)"
     },
     "execution_count": 45,
     "metadata": {},
     "output_type": "execute_result"
    }
   ],
   "source": [
    "model"
   ],
   "metadata": {
    "collapsed": false,
    "pycharm": {
     "name": "#%%\n"
    }
   }
  },
  {
   "cell_type": "markdown",
   "source": [
    "Identificando as features de maiores importancia no modelo"
   ],
   "metadata": {
    "collapsed": false,
    "pycharm": {
     "name": "#%% md\n"
    }
   }
  },
  {
   "cell_type": "code",
   "execution_count": 46,
   "outputs": [
    {
     "data": {
      "text/plain": "         category     amt   age  city_pop\n1045211         9  194.51  22.0       972\n547406          5   52.32  90.0       217\n110142         12    6.53  73.0       184\n1285953         6    7.33  67.0     10717\n271705          2   64.29  45.0       635\n...           ...     ...   ...       ...\n421133          2   65.09  38.0      5848\n695406          5   22.57  58.0      1132\n1259079         2   63.91  21.0    166081\n137364          1   59.18  40.0       198\n473850          0    8.16  21.0      9594\n\n[389003 rows x 4 columns]",
      "text/html": "<div>\n<style scoped>\n    .dataframe tbody tr th:only-of-type {\n        vertical-align: middle;\n    }\n\n    .dataframe tbody tr th {\n        vertical-align: top;\n    }\n\n    .dataframe thead th {\n        text-align: right;\n    }\n</style>\n<table border=\"1\" class=\"dataframe\">\n  <thead>\n    <tr style=\"text-align: right;\">\n      <th></th>\n      <th>category</th>\n      <th>amt</th>\n      <th>age</th>\n      <th>city_pop</th>\n    </tr>\n  </thead>\n  <tbody>\n    <tr>\n      <th>1045211</th>\n      <td>9</td>\n      <td>194.51</td>\n      <td>22.0</td>\n      <td>972</td>\n    </tr>\n    <tr>\n      <th>547406</th>\n      <td>5</td>\n      <td>52.32</td>\n      <td>90.0</td>\n      <td>217</td>\n    </tr>\n    <tr>\n      <th>110142</th>\n      <td>12</td>\n      <td>6.53</td>\n      <td>73.0</td>\n      <td>184</td>\n    </tr>\n    <tr>\n      <th>1285953</th>\n      <td>6</td>\n      <td>7.33</td>\n      <td>67.0</td>\n      <td>10717</td>\n    </tr>\n    <tr>\n      <th>271705</th>\n      <td>2</td>\n      <td>64.29</td>\n      <td>45.0</td>\n      <td>635</td>\n    </tr>\n    <tr>\n      <th>...</th>\n      <td>...</td>\n      <td>...</td>\n      <td>...</td>\n      <td>...</td>\n    </tr>\n    <tr>\n      <th>421133</th>\n      <td>2</td>\n      <td>65.09</td>\n      <td>38.0</td>\n      <td>5848</td>\n    </tr>\n    <tr>\n      <th>695406</th>\n      <td>5</td>\n      <td>22.57</td>\n      <td>58.0</td>\n      <td>1132</td>\n    </tr>\n    <tr>\n      <th>1259079</th>\n      <td>2</td>\n      <td>63.91</td>\n      <td>21.0</td>\n      <td>166081</td>\n    </tr>\n    <tr>\n      <th>137364</th>\n      <td>1</td>\n      <td>59.18</td>\n      <td>40.0</td>\n      <td>198</td>\n    </tr>\n    <tr>\n      <th>473850</th>\n      <td>0</td>\n      <td>8.16</td>\n      <td>21.0</td>\n      <td>9594</td>\n    </tr>\n  </tbody>\n</table>\n<p>389003 rows × 4 columns</p>\n</div>"
     },
     "execution_count": 46,
     "metadata": {},
     "output_type": "execute_result"
    }
   ],
   "source": [
    "x_val"
   ],
   "metadata": {
    "collapsed": false,
    "pycharm": {
     "name": "#%%\n"
    }
   }
  },
  {
   "cell_type": "code",
   "execution_count": 47,
   "outputs": [
    {
     "data": {
      "text/plain": "<Figure size 1080x720 with 1 Axes>",
      "image/png": "[encoded data removed]"
     },
     "metadata": {},
     "output_type": "display_data"
    }
   ],
   "source": [
    "feature_importances = pd.DataFrame(model.feature_importances_,\n",
    "                                   index = X_res_train.columns,\n",
    "                                   columns=['importance']).sort_values('importance', ascending=False)\n",
    "feature_importances.reset_index(inplace=True)\n",
    "feature_importances.rename(columns={\"index\": \"features\"}, inplace=True)\n",
    "\n",
    "fig, ax = plt.subplots(figsize=(15,10))\n",
    "\n",
    "feature_importances.plot(x=\"features\", y=\"importance\", kind=\"bar\", ax=ax)\n",
    "\n",
    "ax.set_title(\"Importância das Features - Random Florest\")\n",
    "ax.set_xlabel(\"Variáveis\")\n",
    "ax.set_ylabel(\"Importância\")\n",
    "\n",
    "\n",
    "plt.tight_layout()"
   ],
   "metadata": {
    "collapsed": false,
    "pycharm": {
     "name": "#%%\n"
    }
   }
  },
  {
   "cell_type": "markdown",
   "source": [
    "# Tunando os hyperparametros"
   ],
   "metadata": {
    "collapsed": false,
    "pycharm": {
     "name": "#%% md\n"
    }
   }
  },
  {
   "cell_type": "markdown",
   "source": [
    "xgbc é o algoritmo selecionado"
   ],
   "metadata": {
    "collapsed": false,
    "pycharm": {
     "name": "#%% md\n"
    }
   }
  },
  {
   "cell_type": "markdown",
   "source": [
    "bayesian search otimzation"
   ],
   "metadata": {
    "collapsed": false,
    "pycharm": {
     "name": "#%% md\n"
    }
   }
  },
  {
   "cell_type": "code",
   "execution_count": 53,
   "outputs": [
    {
     "name": "stdout",
     "output_type": "stream",
     "text": [
      "Collecting scikit-optimize\n",
      "  Downloading scikit_optimize-0.9.0-py2.py3-none-any.whl (100 kB)\n",
      "Requirement already satisfied: numpy>=1.13.3 in c:\\users\\mathe\\anaconda3\\lib\\site-packages (from scikit-optimize) (1.22.4)\n",
      "Collecting pyaml>=16.9\n",
      "  Downloading pyaml-21.10.1-py2.py3-none-any.whl (24 kB)\n",
      "Requirement already satisfied: scikit-learn>=0.20.0 in c:\\users\\mathe\\anaconda3\\lib\\site-packages (from scikit-optimize) (1.1.1)\n",
      "Requirement already satisfied: scipy>=0.19.1 in c:\\users\\mathe\\anaconda3\\lib\\site-packages (from scikit-optimize) (1.7.1)\n",
      "Requirement already satisfied: joblib>=0.11 in c:\\users\\mathe\\anaconda3\\lib\\site-packages (from scikit-optimize) (1.1.0)\n",
      "Requirement already satisfied: PyYAML in c:\\users\\mathe\\anaconda3\\lib\\site-packages (from pyaml>=16.9->scikit-optimize) (6.0)\n",
      "Requirement already satisfied: threadpoolctl>=2.0.0 in c:\\users\\mathe\\anaconda3\\lib\\site-packages (from scikit-learn>=0.20.0->scikit-optimize) (2.2.0)\n",
      "Installing collected packages: pyaml, scikit-optimize\n",
      "Successfully installed pyaml-21.10.1 scikit-optimize-0.9.0\n"
     ]
    },
    {
     "name": "stderr",
     "output_type": "stream",
     "text": [
      "WARNING: You are using pip version 22.1.2; however, version 22.2.2 is available.\n",
      "You should consider upgrading via the 'C:\\Users\\mathe\\anaconda3\\python.exe -m pip install --upgrade pip' command.\n"
     ]
    },
    {
     "name": "stdout",
     "output_type": "stream",
     "text": [
      "Requirement already satisfied: scikit-optimize in c:\\users\\mathe\\anaconda3\\lib\\site-packages (0.9.0)\n",
      "Requirement already satisfied: scipy>=0.19.1 in c:\\users\\mathe\\anaconda3\\lib\\site-packages (from scikit-optimize) (1.7.1)\n",
      "Requirement already satisfied: pyaml>=16.9 in c:\\users\\mathe\\anaconda3\\lib\\site-packages (from scikit-optimize) (21.10.1)\n",
      "Requirement already satisfied: numpy>=1.13.3 in c:\\users\\mathe\\anaconda3\\lib\\site-packages (from scikit-optimize) (1.22.4)\n",
      "Requirement already satisfied: joblib>=0.11 in c:\\users\\mathe\\anaconda3\\lib\\site-packages (from scikit-optimize) (1.1.0)\n",
      "Requirement already satisfied: scikit-learn>=0.20.0 in c:\\users\\mathe\\anaconda3\\lib\\site-packages (from scikit-optimize) (1.1.1)\n",
      "Requirement already satisfied: PyYAML in c:\\users\\mathe\\anaconda3\\lib\\site-packages (from pyaml>=16.9->scikit-optimize) (6.0)\n",
      "Requirement already satisfied: threadpoolctl>=2.0.0 in c:\\users\\mathe\\anaconda3\\lib\\site-packages (from scikit-learn>=0.20.0->scikit-optimize) (2.2.0)\n"
     ]
    },
    {
     "name": "stderr",
     "output_type": "stream",
     "text": [
      "WARNING: You are using pip version 22.1.2; however, version 22.2.2 is available.\n",
      "You should consider upgrading via the 'C:\\Users\\mathe\\anaconda3\\python.exe -m pip install --upgrade pip' command.\n"
     ]
    }
   ],
   "source": [
    "!pip install scikit-optimize"
   ],
   "metadata": {
    "collapsed": false,
    "pycharm": {
     "name": "#%%\n"
    }
   }
  },
  {
   "cell_type": "code",
   "execution_count": 55,
   "outputs": [
    {
     "data": {
      "text/plain": "{'objective': 'binary:logistic',\n 'use_label_encoder': False,\n 'base_score': 0.5,\n 'booster': 'gbtree',\n 'callbacks': None,\n 'colsample_bylevel': 1,\n 'colsample_bynode': 1,\n 'colsample_bytree': 1,\n 'early_stopping_rounds': None,\n 'enable_categorical': False,\n 'eval_metric': None,\n 'gamma': 0,\n 'gpu_id': -1,\n 'grow_policy': 'depthwise',\n 'importance_type': None,\n 'interaction_constraints': '',\n 'learning_rate': 0.300000012,\n 'max_bin': 256,\n 'max_cat_to_onehot': 4,\n 'max_delta_step': 0,\n 'max_depth': 6,\n 'max_leaves': 0,\n 'min_child_weight': 1,\n 'missing': nan,\n 'monotone_constraints': '()',\n 'n_estimators': 100,\n 'n_jobs': 0,\n 'num_parallel_tree': 1,\n 'predictor': 'auto',\n 'random_state': 0,\n 'reg_alpha': 0,\n 'reg_lambda': 1,\n 'sampling_method': 'uniform',\n 'scale_pos_weight': 1,\n 'subsample': 1,\n 'tree_method': 'exact',\n 'validate_parameters': 1,\n 'verbosity': None}"
     },
     "execution_count": 55,
     "metadata": {},
     "output_type": "execute_result"
    }
   ],
   "source": [
    "model.get_params()"
   ],
   "metadata": {
    "collapsed": false,
    "pycharm": {
     "name": "#%%\n"
    }
   }
  },
  {
   "cell_type": "code",
   "execution_count": 48,
   "outputs": [],
   "source": [
    "from skopt import BayesSearchCV"
   ],
   "metadata": {
    "collapsed": false,
    "pycharm": {
     "name": "#%%\n"
    }
   }
  },
  {
   "cell_type": "code",
   "execution_count": 49,
   "outputs": [],
   "source": [
    "from functools import partial\n",
    "from skopt import gp_minimize\n",
    "from skopt import space\n",
    "from sklearn import model_selection"
   ],
   "metadata": {
    "collapsed": false,
    "pycharm": {
     "name": "#%%\n"
    }
   }
  },
  {
   "cell_type": "code",
   "execution_count": 50,
   "outputs": [],
   "source": [
    "def optimizer(params, param_names, x,y):\n",
    "    \"\"\"\n",
    "    Função objetivo para otimização dos hyperparametros do modelo xgboosting clf, o modelo escolhera\n",
    "    os parametros e rodara um cross-validation o tipo de retorno da função sera o negativo do f1-score\n",
    "    :param params: lista de parametros para o gp_minimize\n",
    "    :param param_names: nome dos paramentos lista, ordem é importante\n",
    "    :param x: dados para o treino\n",
    "    :param y: dados para o treino label\n",
    "    :return: iremos retornar o f1_score negativo\n",
    "    \"\"\"\n",
    "    param = dict(zip(param_names,params)) # tranformando as listas em dicionarios\n",
    "\n",
    "    #inicializando o modelo\n",
    "    model_ = XGBClassifier(**param)\n",
    "\n",
    "    cvs = cross_val_score(model_, x,y, scoring=\"precision\", cv=3)\n",
    "    mean = cvs.mean()\n",
    "    return -1 * mean"
   ],
   "metadata": {
    "collapsed": false,
    "pycharm": {
     "name": "#%%\n"
    }
   }
  },
  {
   "cell_type": "code",
   "execution_count": 57,
   "outputs": [],
   "source": [
    "param_names = [\"eta\",\"gamma\",\"learning_rate\",\"max_depth\",\"min_child_weight\",\"subsample\",\"colsample_bytree\",\"lambda\",\"alpha\",\"n_estimators\",\"scale_pos_weight\"]"
   ],
   "metadata": {
    "collapsed": false,
    "pycharm": {
     "name": "#%%\n"
    }
   }
  },
  {
   "cell_type": "code",
   "execution_count": 51,
   "outputs": [],
   "source": [
    "space_param = {\n",
    "    'max_depth': space.Integer(1, 25),\n",
    "    'learning_rate': space.Real(1e-3, 1e-1, 'log-uniform'),\n",
    "    'gamma': space.Real(0.05, 1.0),\n",
    "    'min_child_weight': space.Integer(1, 50),\n",
    "    'subsample': space.Real(0.05, 1.0),\n",
    "    'colsample_bytree': space.Real(0.06, 1.0),\n",
    "    'n_estimators': [x for x in range(50,1000,50)],\n",
    "    'scale_pos_weight': space.Integer(1,100,'uniform')\n",
    "}"
   ],
   "metadata": {
    "collapsed": false,
    "pycharm": {
     "name": "#%%\n"
    }
   }
  },
  {
   "cell_type": "code",
   "execution_count": 65,
   "outputs": [
    {
     "ename": "NameError",
     "evalue": "name 'df_model_train' is not defined",
     "output_type": "error",
     "traceback": [
      "\u001B[1;31m---------------------------------------------------------------------------\u001B[0m",
      "\u001B[1;31mNameError\u001B[0m                                 Traceback (most recent call last)",
      "Input \u001B[1;32mIn [65]\u001B[0m, in \u001B[0;36m<cell line: 1>\u001B[1;34m()\u001B[0m\n\u001B[1;32m----> 1\u001B[0m \u001B[43mdf_model_train\u001B[49m\u001B[38;5;241m.\u001B[39msort_values(by\u001B[38;5;241m=\u001B[39m[\u001B[38;5;124m'\u001B[39m\u001B[38;5;124mprecision\u001B[39m\u001B[38;5;124m'\u001B[39m,\u001B[38;5;124m'\u001B[39m\u001B[38;5;124mrecall\u001B[39m\u001B[38;5;124m'\u001B[39m],ascending\u001B[38;5;241m=\u001B[39m\u001B[38;5;28;01mFalse\u001B[39;00m)\n",
      "\u001B[1;31mNameError\u001B[0m: name 'df_model_train' is not defined"
     ]
    }
   ],
   "source": [
    "df_model_train.sort_values(by=['precision','recall'],ascending=False)"
   ],
   "metadata": {
    "collapsed": false,
    "pycharm": {
     "name": "#%%\n"
    }
   }
  },
  {
   "cell_type": "code",
   "execution_count": 56,
   "outputs": [
    {
     "data": {
      "text/plain": "        category     amt   age  city_pop\n992821        11    2.38  23.0       564\n833489        12    6.53  35.0     27971\n517107        11    6.62  37.0     23727\n166051         8   24.86  35.0    116155\n473161         6   25.65  34.0     19685\n...          ...     ...   ...       ...\n110268         2   72.38  53.0      1478\n259178         9    2.33  54.0      5438\n131932         6  118.27  40.0       310\n671155        12    5.60  77.0       140\n121958        10  140.73  29.0       530\n\n[907672 rows x 4 columns]",
      "text/html": "<div>\n<style scoped>\n    .dataframe tbody tr th:only-of-type {\n        vertical-align: middle;\n    }\n\n    .dataframe tbody tr th {\n        vertical-align: top;\n    }\n\n    .dataframe thead th {\n        text-align: right;\n    }\n</style>\n<table border=\"1\" class=\"dataframe\">\n  <thead>\n    <tr style=\"text-align: right;\">\n      <th></th>\n      <th>category</th>\n      <th>amt</th>\n      <th>age</th>\n      <th>city_pop</th>\n    </tr>\n  </thead>\n  <tbody>\n    <tr>\n      <th>992821</th>\n      <td>11</td>\n      <td>2.38</td>\n      <td>23.0</td>\n      <td>564</td>\n    </tr>\n    <tr>\n      <th>833489</th>\n      <td>12</td>\n      <td>6.53</td>\n      <td>35.0</td>\n      <td>27971</td>\n    </tr>\n    <tr>\n      <th>517107</th>\n      <td>11</td>\n      <td>6.62</td>\n      <td>37.0</td>\n      <td>23727</td>\n    </tr>\n    <tr>\n      <th>166051</th>\n      <td>8</td>\n      <td>24.86</td>\n      <td>35.0</td>\n      <td>116155</td>\n    </tr>\n    <tr>\n      <th>473161</th>\n      <td>6</td>\n      <td>25.65</td>\n      <td>34.0</td>\n      <td>19685</td>\n    </tr>\n    <tr>\n      <th>...</th>\n      <td>...</td>\n      <td>...</td>\n      <td>...</td>\n      <td>...</td>\n    </tr>\n    <tr>\n      <th>110268</th>\n      <td>2</td>\n      <td>72.38</td>\n      <td>53.0</td>\n      <td>1478</td>\n    </tr>\n    <tr>\n      <th>259178</th>\n      <td>9</td>\n      <td>2.33</td>\n      <td>54.0</td>\n      <td>5438</td>\n    </tr>\n    <tr>\n      <th>131932</th>\n      <td>6</td>\n      <td>118.27</td>\n      <td>40.0</td>\n      <td>310</td>\n    </tr>\n    <tr>\n      <th>671155</th>\n      <td>12</td>\n      <td>5.60</td>\n      <td>77.0</td>\n      <td>140</td>\n    </tr>\n    <tr>\n      <th>121958</th>\n      <td>10</td>\n      <td>140.73</td>\n      <td>29.0</td>\n      <td>530</td>\n    </tr>\n  </tbody>\n</table>\n<p>907672 rows × 4 columns</p>\n</div>"
     },
     "execution_count": 56,
     "metadata": {},
     "output_type": "execute_result"
    }
   ],
   "source": [
    "train_opt = x_train[['category', 'amt','age','city_pop']]\n",
    "train_opt"
   ],
   "metadata": {
    "collapsed": false,
    "pycharm": {
     "name": "#%%\n"
    }
   }
  },
  {
   "cell_type": "code",
   "execution_count": 58,
   "outputs": [
    {
     "data": {
      "text/plain": "992821    0\n833489    0\n517107    0\n166051    0\n473161    0\n         ..\n110268    0\n259178    0\n131932    0\n671155    0\n121958    0\nName: is_fraud, Length: 907672, dtype: int64"
     },
     "execution_count": 58,
     "metadata": {},
     "output_type": "execute_result"
    }
   ],
   "source": [
    "y_train"
   ],
   "metadata": {
    "collapsed": false,
    "pycharm": {
     "name": "#%%\n"
    }
   }
  },
  {
   "cell_type": "code",
   "execution_count": 63,
   "outputs": [
    {
     "data": {
      "text/plain": "XGBClassifier(base_score=0.5, booster='gbtree', callbacks=None,\n              colsample_bylevel=1, colsample_bynode=1, colsample_bytree=1,\n              early_stopping_rounds=None, enable_categorical=False,\n              eval_metric=None, gamma=0, gpu_id=-1, grow_policy='depthwise',\n              importance_type=None, interaction_constraints='',\n              learning_rate=0.300000012, max_bin=256, max_cat_to_onehot=4,\n              max_delta_step=0, max_depth=6, max_leaves=0, min_child_weight=1,\n              missing=nan, monotone_constraints='()', n_estimators=100,\n              n_jobs=0, num_parallel_tree=1, predictor='auto', random_state=0,\n              reg_alpha=0, reg_lambda=1, ...)"
     },
     "execution_count": 63,
     "metadata": {},
     "output_type": "execute_result"
    }
   ],
   "source": [
    "model_w = XGBClassifier()\n",
    "model_w.fit(train_opt,y_train)"
   ],
   "metadata": {
    "collapsed": false,
    "pycharm": {
     "name": "#%%\n"
    }
   }
  },
  {
   "cell_type": "code",
   "execution_count": 64,
   "outputs": [
    {
     "name": "stdout",
     "output_type": "stream",
     "text": [
      "--------------------------------------------------\n",
      "XGBClassifier\n",
      "recall : 0.684 std : 0.023\n",
      "Intervalo :  [63.73% ~ 72.99%]\n",
      "\n",
      "f1 : 0.748 std : 0.011\n",
      "Intervalo :  [72.52% ~ 76.98%]\n",
      "\n",
      "accuracy : 0.997 std : 0.0\n",
      "Intervalo :  [99.72% ~ 99.74%]\n",
      "\n",
      "precision : 0.825 std : 0.007\n",
      "Intervalo :  [81.13% ~ 83.96%]\n",
      "\n",
      "\n"
     ]
    }
   ],
   "source": [
    "df_model_w=best_model(x_val,y_val,[model_w])"
   ],
   "metadata": {
    "collapsed": false,
    "pycharm": {
     "name": "#%%\n"
    }
   }
  },
  {
   "cell_type": "code",
   "execution_count": null,
   "outputs": [],
   "source": [],
   "metadata": {
    "collapsed": false,
    "pycharm": {
     "name": "#%%\n"
    }
   }
  },
  {
   "cell_type": "code",
   "execution_count": 65,
   "outputs": [],
   "source": [
    "opt = BayesSearchCV(model_w, space_param, n_iter=15, random_state=42, cv=3 ,return_train_score=True, scoring=\"f1\", refit=True,verbose=3)"
   ],
   "metadata": {
    "collapsed": false,
    "pycharm": {
     "name": "#%%\n"
    }
   }
  },
  {
   "cell_type": "code",
   "execution_count": 66,
   "outputs": [
    {
     "name": "stdout",
     "output_type": "stream",
     "text": [
      "Fitting 3 folds for each of 1 candidates, totalling 3 fits\n",
      "[CV 1/3] END colsample_bytree=0.445497721322115, gamma=0.7413394560184589, learning_rate=0.07340675018434775, max_depth=9, min_child_weight=34, n_estimators=400, scale_pos_weight=36, subsample=0.7525290224808996;, score=(train=0.437, test=0.402) total time= 2.1min\n",
      "[CV 2/3] END colsample_bytree=0.445497721322115, gamma=0.7413394560184589, learning_rate=0.07340675018434775, max_depth=9, min_child_weight=34, n_estimators=400, scale_pos_weight=36, subsample=0.7525290224808996;, score=(train=0.430, test=0.394) total time= 2.1min\n",
      "[CV 3/3] END colsample_bytree=0.445497721322115, gamma=0.7413394560184589, learning_rate=0.07340675018434775, max_depth=9, min_child_weight=34, n_estimators=400, scale_pos_weight=36, subsample=0.7525290224808996;, score=(train=0.434, test=0.411) total time= 2.0min\n",
      "Fitting 3 folds for each of 1 candidates, totalling 3 fits\n",
      "[CV 1/3] END colsample_bytree=0.8471450542200873, gamma=0.8891495135118191, learning_rate=0.004044084484117812, max_depth=24, min_child_weight=43, n_estimators=100, scale_pos_weight=15, subsample=0.3859080277469972;, score=(train=0.685, test=0.679) total time=  54.7s\n",
      "[CV 2/3] END colsample_bytree=0.8471450542200873, gamma=0.8891495135118191, learning_rate=0.004044084484117812, max_depth=24, min_child_weight=43, n_estimators=100, scale_pos_weight=15, subsample=0.3859080277469972;, score=(train=0.704, test=0.662) total time=  57.9s\n",
      "[CV 3/3] END colsample_bytree=0.8471450542200873, gamma=0.8891495135118191, learning_rate=0.004044084484117812, max_depth=24, min_child_weight=43, n_estimators=100, scale_pos_weight=15, subsample=0.3859080277469972;, score=(train=0.701, test=0.673) total time=  57.6s\n",
      "Fitting 3 folds for each of 1 candidates, totalling 3 fits\n",
      "[CV 1/3] END colsample_bytree=0.4781425615630827, gamma=0.9227863955859082, learning_rate=0.001620758534278906, max_depth=11, min_child_weight=10, n_estimators=450, scale_pos_weight=16, subsample=0.7639749047734716;, score=(train=0.029, test=0.031) total time= 2.4min\n",
      "[CV 2/3] END colsample_bytree=0.4781425615630827, gamma=0.9227863955859082, learning_rate=0.001620758534278906, max_depth=11, min_child_weight=10, n_estimators=450, scale_pos_weight=16, subsample=0.7639749047734716;, score=(train=0.037, test=0.033) total time= 2.4min\n",
      "[CV 3/3] END colsample_bytree=0.4781425615630827, gamma=0.9227863955859082, learning_rate=0.001620758534278906, max_depth=11, min_child_weight=10, n_estimators=450, scale_pos_weight=16, subsample=0.7639749047734716;, score=(train=0.026, test=0.017) total time= 2.3min\n",
      "Fitting 3 folds for each of 1 candidates, totalling 3 fits\n",
      "[CV 1/3] END colsample_bytree=0.8236522290559216, gamma=0.21327798332673265, learning_rate=0.01570703295827246, max_depth=20, min_child_weight=27, n_estimators=150, scale_pos_weight=76, subsample=0.878998835644445;, score=(train=0.688, test=0.620) total time= 1.6min\n",
      "[CV 2/3] END colsample_bytree=0.8236522290559216, gamma=0.21327798332673265, learning_rate=0.01570703295827246, max_depth=20, min_child_weight=27, n_estimators=150, scale_pos_weight=76, subsample=0.878998835644445;, score=(train=0.727, test=0.631) total time= 1.6min\n",
      "[CV 3/3] END colsample_bytree=0.8236522290559216, gamma=0.21327798332673265, learning_rate=0.01570703295827246, max_depth=20, min_child_weight=27, n_estimators=150, scale_pos_weight=76, subsample=0.878998835644445;, score=(train=0.725, test=0.637) total time= 1.6min\n",
      "Fitting 3 folds for each of 1 candidates, totalling 3 fits\n",
      "[CV 1/3] END colsample_bytree=0.8115802351107426, gamma=0.4661277271188772, learning_rate=0.011304216699488043, max_depth=18, min_child_weight=45, n_estimators=700, scale_pos_weight=43, subsample=0.6677698966603746;, score=(train=0.682, test=0.616) total time= 6.6min\n",
      "[CV 2/3] END colsample_bytree=0.8115802351107426, gamma=0.4661277271188772, learning_rate=0.011304216699488043, max_depth=18, min_child_weight=45, n_estimators=700, scale_pos_weight=43, subsample=0.6677698966603746;, score=(train=0.684, test=0.604) total time= 6.6min\n",
      "[CV 3/3] END colsample_bytree=0.8115802351107426, gamma=0.4661277271188772, learning_rate=0.011304216699488043, max_depth=18, min_child_weight=45, n_estimators=700, scale_pos_weight=43, subsample=0.6677698966603746;, score=(train=0.685, test=0.612) total time= 6.7min\n",
      "Fitting 3 folds for each of 1 candidates, totalling 3 fits\n",
      "[CV 1/3] END colsample_bytree=0.7499863369064343, gamma=0.9424012507226331, learning_rate=0.002124292702906457, max_depth=6, min_child_weight=40, n_estimators=400, scale_pos_weight=46, subsample=0.5580269021150789;, score=(train=0.563, test=0.566) total time= 1.6min\n",
      "[CV 2/3] END colsample_bytree=0.7499863369064343, gamma=0.9424012507226331, learning_rate=0.002124292702906457, max_depth=6, min_child_weight=40, n_estimators=400, scale_pos_weight=46, subsample=0.5580269021150789;, score=(train=0.595, test=0.575) total time= 1.7min\n",
      "[CV 3/3] END colsample_bytree=0.7499863369064343, gamma=0.9424012507226331, learning_rate=0.002124292702906457, max_depth=6, min_child_weight=40, n_estimators=400, scale_pos_weight=46, subsample=0.5580269021150789;, score=(train=0.587, test=0.593) total time= 1.7min\n",
      "Fitting 3 folds for each of 1 candidates, totalling 3 fits\n",
      "[CV 1/3] END colsample_bytree=0.6400545969921774, gamma=0.7865961598864885, learning_rate=0.005224513597711275, max_depth=22, min_child_weight=30, n_estimators=600, scale_pos_weight=65, subsample=0.45097845665316244;, score=(train=0.698, test=0.606) total time= 6.1min\n",
      "[CV 2/3] END colsample_bytree=0.6400545969921774, gamma=0.7865961598864885, learning_rate=0.005224513597711275, max_depth=22, min_child_weight=30, n_estimators=600, scale_pos_weight=65, subsample=0.45097845665316244;, score=(train=0.727, test=0.619) total time= 6.8min\n",
      "[CV 3/3] END colsample_bytree=0.6400545969921774, gamma=0.7865961598864885, learning_rate=0.005224513597711275, max_depth=22, min_child_weight=30, n_estimators=600, scale_pos_weight=65, subsample=0.45097845665316244;, score=(train=0.717, test=0.629) total time= 6.8min\n",
      "Fitting 3 folds for each of 1 candidates, totalling 3 fits\n",
      "[CV 1/3] END colsample_bytree=0.5707988836288937, gamma=0.9240087651154506, learning_rate=0.009838602333915323, max_depth=21, min_child_weight=17, n_estimators=100, scale_pos_weight=58, subsample=0.07451103080084504;, score=(train=0.618, test=0.613) total time=  49.0s\n",
      "[CV 2/3] END colsample_bytree=0.5707988836288937, gamma=0.9240087651154506, learning_rate=0.009838602333915323, max_depth=21, min_child_weight=17, n_estimators=100, scale_pos_weight=58, subsample=0.07451103080084504;, score=(train=0.671, test=0.634) total time=  49.7s\n",
      "[CV 3/3] END colsample_bytree=0.5707988836288937, gamma=0.9240087651154506, learning_rate=0.009838602333915323, max_depth=21, min_child_weight=17, n_estimators=100, scale_pos_weight=58, subsample=0.07451103080084504;, score=(train=0.662, test=0.644) total time=  50.5s\n",
      "Fitting 3 folds for each of 1 candidates, totalling 3 fits\n",
      "[CV 1/3] END colsample_bytree=0.9581493071313325, gamma=0.7155903723902977, learning_rate=0.055373739964656964, max_depth=11, min_child_weight=20, n_estimators=250, scale_pos_weight=1, subsample=0.40215121327956915;, score=(train=0.759, test=0.728) total time= 1.4min\n",
      "[CV 2/3] END colsample_bytree=0.9581493071313325, gamma=0.7155903723902977, learning_rate=0.055373739964656964, max_depth=11, min_child_weight=20, n_estimators=250, scale_pos_weight=1, subsample=0.40215121327956915;, score=(train=0.758, test=0.719) total time= 1.4min\n",
      "[CV 3/3] END colsample_bytree=0.9581493071313325, gamma=0.7155903723902977, learning_rate=0.055373739964656964, max_depth=11, min_child_weight=20, n_estimators=250, scale_pos_weight=1, subsample=0.40215121327956915;, score=(train=0.752, test=0.743) total time= 1.5min\n",
      "Fitting 3 folds for each of 1 candidates, totalling 3 fits\n",
      "[CV 1/3] END colsample_bytree=0.06341248881945863, gamma=0.826938518680564, learning_rate=0.03037844144218505, max_depth=7, min_child_weight=29, n_estimators=300, scale_pos_weight=32, subsample=0.1949648574965221;, score=(train=0.406, test=0.399) total time= 1.2min\n",
      "[CV 2/3] END colsample_bytree=0.06341248881945863, gamma=0.826938518680564, learning_rate=0.03037844144218505, max_depth=7, min_child_weight=29, n_estimators=300, scale_pos_weight=32, subsample=0.1949648574965221;, score=(train=0.406, test=0.390) total time= 1.2min\n",
      "[CV 3/3] END colsample_bytree=0.06341248881945863, gamma=0.826938518680564, learning_rate=0.03037844144218505, max_depth=7, min_child_weight=29, n_estimators=300, scale_pos_weight=32, subsample=0.1949648574965221;, score=(train=0.400, test=0.405) total time= 1.2min\n",
      "Fitting 3 folds for each of 1 candidates, totalling 3 fits\n",
      "[CV 1/3] END colsample_bytree=1.0, gamma=1.0, learning_rate=0.1, max_depth=1, min_child_weight=40, n_estimators=50, scale_pos_weight=100, subsample=0.05;, score=(train=0.240, test=0.238) total time=   5.1s\n",
      "[CV 2/3] END colsample_bytree=1.0, gamma=1.0, learning_rate=0.1, max_depth=1, min_child_weight=40, n_estimators=50, scale_pos_weight=100, subsample=0.05;, score=(train=0.233, test=0.225) total time=   4.9s\n",
      "[CV 3/3] END colsample_bytree=1.0, gamma=1.0, learning_rate=0.1, max_depth=1, min_child_weight=40, n_estimators=50, scale_pos_weight=100, subsample=0.05;, score=(train=0.227, test=0.236) total time=   4.9s\n",
      "Fitting 3 folds for each of 1 candidates, totalling 3 fits\n",
      "[CV 1/3] END colsample_bytree=1.0, gamma=0.6879852379972299, learning_rate=0.062355056945699754, max_depth=13, min_child_weight=19, n_estimators=250, scale_pos_weight=1, subsample=0.4649522759527932;, score=(train=0.776, test=0.734) total time= 1.7min\n",
      "[CV 2/3] END colsample_bytree=1.0, gamma=0.6879852379972299, learning_rate=0.062355056945699754, max_depth=13, min_child_weight=19, n_estimators=250, scale_pos_weight=1, subsample=0.4649522759527932;, score=(train=0.774, test=0.726) total time= 1.6min\n",
      "[CV 3/3] END colsample_bytree=1.0, gamma=0.6879852379972299, learning_rate=0.062355056945699754, max_depth=13, min_child_weight=19, n_estimators=250, scale_pos_weight=1, subsample=0.4649522759527932;, score=(train=0.771, test=0.748) total time= 1.6min\n",
      "Fitting 3 folds for each of 1 candidates, totalling 3 fits\n",
      "[CV 1/3] END colsample_bytree=0.10804660949139078, gamma=0.7242169510908225, learning_rate=0.02629038369550959, max_depth=24, min_child_weight=8, n_estimators=300, scale_pos_weight=90, subsample=0.5056610010935372;, score=(train=0.324, test=0.265) total time= 2.5min\n",
      "[CV 2/3] END colsample_bytree=0.10804660949139078, gamma=0.7242169510908225, learning_rate=0.02629038369550959, max_depth=24, min_child_weight=8, n_estimators=300, scale_pos_weight=90, subsample=0.5056610010935372;, score=(train=0.320, test=0.259) total time= 2.3min\n",
      "[CV 3/3] END colsample_bytree=0.10804660949139078, gamma=0.7242169510908225, learning_rate=0.02629038369550959, max_depth=24, min_child_weight=8, n_estimators=300, scale_pos_weight=90, subsample=0.5056610010935372;, score=(train=0.319, test=0.264) total time= 2.3min\n",
      "Fitting 3 folds for each of 1 candidates, totalling 3 fits\n",
      "[CV 1/3] END colsample_bytree=1.0, gamma=0.8901056191514031, learning_rate=0.1, max_depth=25, min_child_weight=20, n_estimators=650, scale_pos_weight=91, subsample=0.05;, score=(train=0.606, test=0.543) total time= 3.6min\n",
      "[CV 2/3] END colsample_bytree=1.0, gamma=0.8901056191514031, learning_rate=0.1, max_depth=25, min_child_weight=20, n_estimators=650, scale_pos_weight=91, subsample=0.05;, score=(train=0.614, test=0.543) total time= 3.6min\n",
      "[CV 3/3] END colsample_bytree=1.0, gamma=0.8901056191514031, learning_rate=0.1, max_depth=25, min_child_weight=20, n_estimators=650, scale_pos_weight=91, subsample=0.05;, score=(train=0.603, test=0.538) total time= 3.7min\n",
      "Fitting 3 folds for each of 1 candidates, totalling 3 fits\n",
      "[CV 1/3] END colsample_bytree=1.0, gamma=0.6667422509944173, learning_rate=0.08905247657364139, max_depth=12, min_child_weight=41, n_estimators=900, scale_pos_weight=1, subsample=0.0732496140194798;, score=(train=0.557, test=0.537) total time= 1.9min\n",
      "[CV 2/3] END colsample_bytree=1.0, gamma=0.6667422509944173, learning_rate=0.08905247657364139, max_depth=12, min_child_weight=41, n_estimators=900, scale_pos_weight=1, subsample=0.0732496140194798;, score=(train=0.555, test=0.524) total time= 2.0min\n",
      "[CV 3/3] END colsample_bytree=1.0, gamma=0.6667422509944173, learning_rate=0.08905247657364139, max_depth=12, min_child_weight=41, n_estimators=900, scale_pos_weight=1, subsample=0.0732496140194798;, score=(train=0.551, test=0.568) total time= 2.1min\n"
     ]
    },
    {
     "data": {
      "text/plain": "BayesSearchCV(cv=3,\n              estimator=XGBClassifier(base_score=0.5, booster='gbtree',\n                                      callbacks=None, colsample_bylevel=1,\n                                      colsample_bynode=1, colsample_bytree=1,\n                                      early_stopping_rounds=None,\n                                      enable_categorical=False,\n                                      eval_metric=None, gamma=0, gpu_id=-1,\n                                      grow_policy='depthwise',\n                                      importance_type=None,\n                                      interaction_constraints='',\n                                      learning_rate=0.300000012, max_bin=256,\n                                      max_c...\n                             'max_depth': Integer(low=1, high=25, prior='uniform', transform='normalize'),\n                             'min_child_weight': Integer(low=1, high=50, prior='uniform', transform='normalize'),\n                             'n_estimators': [50, 100, 150, 200, 250, 300, 350,\n                                              400, 450, 500, 550, 600, 650, 700,\n                                              750, 800, 850, 900, 950],\n                             'scale_pos_weight': Integer(low=1, high=100, prior='uniform', transform='normalize'),\n                             'subsample': Real(low=0.05, high=1.0, prior='uniform', transform='normalize')},\n              verbose=3)"
     },
     "execution_count": 66,
     "metadata": {},
     "output_type": "execute_result"
    }
   ],
   "source": [
    "opt.fit(train_opt,y_train)"
   ],
   "metadata": {
    "collapsed": false,
    "pycharm": {
     "name": "#%%\n"
    }
   }
  },
  {
   "cell_type": "code",
   "execution_count": 71,
   "outputs": [
    {
     "name": "stdout",
     "output_type": "stream",
     "text": [
      "melhores parametros:  \n",
      "OrderedDict([('colsample_bytree', 1.0), ('gamma', 0.6879852379972299), ('learning_rate', 0.062355056945699754), ('max_depth', 13), ('min_child_weight', 19), ('n_estimators', 250), ('scale_pos_weight', 1), ('subsample', 0.4649522759527932)])\n",
      "melhor score\n",
      "0.7361179054173744\n"
     ]
    }
   ],
   "source": [
    "print(\"melhores parametros:  \")\n",
    "print(opt.best_params_)\n",
    "print(\"melhor score\")\n",
    "print(opt.best_score_)\n",
    "\n"
   ],
   "metadata": {
    "collapsed": false,
    "pycharm": {
     "name": "#%%\n"
    }
   }
  },
  {
   "cell_type": "code",
   "execution_count": 76,
   "outputs": [],
   "source": [
    "param = opt.best_params_"
   ],
   "metadata": {
    "collapsed": false,
    "pycharm": {
     "name": "#%%\n"
    }
   }
  },
  {
   "cell_type": "code",
   "execution_count": 82,
   "outputs": [],
   "source": [
    "best_model_w = XGBClassifier(**param)"
   ],
   "metadata": {
    "collapsed": false,
    "pycharm": {
     "name": "#%%\n"
    }
   }
  },
  {
   "cell_type": "code",
   "execution_count": 83,
   "outputs": [
    {
     "data": {
      "text/plain": "XGBClassifier(base_score=0.5, booster='gbtree', callbacks=None,\n              colsample_bylevel=1, colsample_bynode=1, colsample_bytree=1.0,\n              early_stopping_rounds=None, enable_categorical=False,\n              eval_metric=None, gamma=0.6879852379972299, gpu_id=-1,\n              grow_policy='depthwise', importance_type=None,\n              interaction_constraints='', learning_rate=0.062355056945699754,\n              max_bin=256, max_cat_to_onehot=4, max_delta_step=0, max_depth=13,\n              max_leaves=0, min_child_weight=19, missing=nan,\n              monotone_constraints='()', n_estimators=250, n_jobs=0,\n              num_parallel_tree=1, predictor='auto', random_state=0,\n              reg_alpha=0, reg_lambda=1, ...)"
     },
     "execution_count": 83,
     "metadata": {},
     "output_type": "execute_result"
    }
   ],
   "source": [
    "best_model_w.fit(train_opt,y_train)"
   ],
   "metadata": {
    "collapsed": false,
    "pycharm": {
     "name": "#%%\n"
    }
   }
  },
  {
   "cell_type": "code",
   "execution_count": 89,
   "outputs": [
    {
     "name": "stdout",
     "output_type": "stream",
     "text": [
      "--------------------------------------------------\n",
      "XGBClassifier\n",
      "recall : 0.638 std : 0.024\n",
      "Intervalo :  [58.93% ~ 68.69%]\n",
      "\n",
      "f1 : 0.716 std : 0.015\n",
      "Intervalo :  [68.46% ~ 74.64%]\n",
      "\n",
      "accuracy : 0.997 std : 0.0\n",
      "Intervalo :  [99.68% ~ 99.73%]\n",
      "\n",
      "precision : 0.815 std : 0.007\n",
      "Intervalo :  [80.08% ~ 82.94%]\n",
      "\n",
      "\n"
     ]
    }
   ],
   "source": [
    "df_model_final = best_model(x_val,y_val,[best_model_w])"
   ],
   "metadata": {
    "collapsed": false,
    "pycharm": {
     "name": "#%%\n"
    }
   }
  },
  {
   "cell_type": "code",
   "execution_count": 90,
   "outputs": [
    {
     "data": {
      "text/plain": "               accuracy     f1  precision  recall\nXGBClassifier     0.997  0.716      0.815   0.638",
      "text/html": "<div>\n<style scoped>\n    .dataframe tbody tr th:only-of-type {\n        vertical-align: middle;\n    }\n\n    .dataframe tbody tr th {\n        vertical-align: top;\n    }\n\n    .dataframe thead th {\n        text-align: right;\n    }\n</style>\n<table border=\"1\" class=\"dataframe\">\n  <thead>\n    <tr style=\"text-align: right;\">\n      <th></th>\n      <th>accuracy</th>\n      <th>f1</th>\n      <th>precision</th>\n      <th>recall</th>\n    </tr>\n  </thead>\n  <tbody>\n    <tr>\n      <th>XGBClassifier</th>\n      <td>0.997</td>\n      <td>0.716</td>\n      <td>0.815</td>\n      <td>0.638</td>\n    </tr>\n  </tbody>\n</table>\n</div>"
     },
     "execution_count": 90,
     "metadata": {},
     "output_type": "execute_result"
    }
   ],
   "source": [
    "df_model_final"
   ],
   "metadata": {
    "collapsed": false,
    "pycharm": {
     "name": "#%%\n"
    }
   }
  },
  {
   "cell_type": "code",
   "execution_count": 93,
   "outputs": [],
   "source": [
    "test_model_prep = test.drop(columns = ['trans_date_trans_time','city','lat','long','dob','merch_lat','merch_long','trans_date','state','street',\"first\",\"last\",\"unix_time\",\"merchant\",\"cc_num\",\"trans_num\",\"zip\",\"gender\",\"job\",\"dist_fraude_km\"])\n",
    "y_test_true = test_model_prep.is_fraud\n",
    "x_test = test_model_prep.drop(columns=[\"is_fraud\"])"
   ],
   "metadata": {
    "collapsed": false,
    "pycharm": {
     "name": "#%%\n"
    }
   }
  },
  {
   "cell_type": "code",
   "execution_count": 94,
   "outputs": [],
   "source": [
    "le_category = LabelEncoder().fit(x_test['category'])\n",
    "x_test['category'] = le_category.transform( x_test['category'])"
   ],
   "metadata": {
    "collapsed": false,
    "pycharm": {
     "name": "#%%\n"
    }
   }
  },
  {
   "cell_type": "code",
   "execution_count": 95,
   "outputs": [
    {
     "name": "stdout",
     "output_type": "stream",
     "text": [
      "--------------------------------------------------\n",
      "XGBClassifier\n",
      "recall : 0.482 std : 0.035\n",
      "Intervalo :  [41.19% ~ 55.12%]\n",
      "\n",
      "f1 : 0.605 std : 0.031\n",
      "Intervalo :  [54.24% ~ 66.71%]\n",
      "\n",
      "accuracy : 0.998 std : 0.0\n",
      "Intervalo :  [99.73% ~ 99.79%]\n",
      "\n",
      "precision : 0.815 std : 0.029\n",
      "Intervalo :  [75.81% ~ 87.21%]\n",
      "\n",
      "\n"
     ]
    }
   ],
   "source": [
    "df_model_final_test_data = best_model(x_test,y_test_true,[best_model_w])"
   ],
   "metadata": {
    "collapsed": false,
    "pycharm": {
     "name": "#%%\n"
    }
   }
  },
  {
   "cell_type": "code",
   "execution_count": 96,
   "outputs": [
    {
     "name": "stdout",
     "output_type": "stream",
     "text": [
      "--------------------------------------------------\n",
      "XGBClassifier\n",
      "recall : 0.371 std : 0.024\n",
      "Intervalo :  [32.36% ~ 41.86%]\n",
      "\n",
      "f1 : 0.508 std : 0.027\n",
      "Intervalo :  [45.38% ~ 56.20%]\n",
      "\n",
      "accuracy : 0.997 std : 0.0\n",
      "Intervalo :  [99.70% ~ 99.75%]\n",
      "\n",
      "precision : 0.806 std : 0.039\n",
      "Intervalo :  [72.79% ~ 88.50%]\n",
      "\n",
      "\n"
     ]
    }
   ],
   "source": [
    "df_model_w_test=best_model(x_test,y_test_true,[model_w])"
   ],
   "metadata": {
    "collapsed": false,
    "pycharm": {
     "name": "#%%\n"
    }
   }
  },
  {
   "cell_type": "code",
   "execution_count": null,
   "outputs": [],
   "source": [
    "# pred_test_model = model.predict(x_test)\n",
    "# pred_val_model = model.predict(x_val)"
   ],
   "metadata": {
    "collapsed": false,
    "pycharm": {
     "name": "#%%\n"
    }
   }
  },
  {
   "cell_type": "code",
   "execution_count": null,
   "outputs": [],
   "source": [],
   "metadata": {
    "collapsed": false,
    "pycharm": {
     "name": "#%%\n"
    }
   }
  },
  {
   "cell_type": "code",
   "execution_count": null,
   "outputs": [],
   "source": [],
   "metadata": {
    "collapsed": false,
    "pycharm": {
     "name": "#%%\n"
    }
   }
  },
  {
   "cell_type": "code",
   "execution_count": null,
   "outputs": [],
   "source": [],
   "metadata": {
    "collapsed": false,
    "pycharm": {
     "name": "#%%\n"
    }
   }
  },
  {
   "cell_type": "code",
   "execution_count": null,
   "outputs": [],
   "source": [],
   "metadata": {
    "collapsed": false,
    "pycharm": {
     "name": "#%%\n"
    }
   }
  },
  {
   "cell_type": "code",
   "execution_count": null,
   "outputs": [],
   "source": [],
   "metadata": {
    "collapsed": false,
    "pycharm": {
     "name": "#%%\n"
    }
   }
  },
  {
   "cell_type": "code",
   "execution_count": 69,
   "outputs": [],
   "source": [
    " # param_space = [space.Real(0.01,1,prior=\"uniform\",name=\"eta\"),\n",
    "#                space.Real(0.01,1,prior=\"uniform\",name=\"gamma\"),\n",
    "#                space.Real(1e-3, 1e-1, prior='log-uniform',name=\"learning_rate\"),\n",
    "#                space.Integer(3,25,name=\"max_depth\"),\n",
    "#                space.Integer(1,50,name=\"min_child_weight\"),\n",
    "#                space.Real(0.05,1,prior=\"uniform\",name=\"subsample\"),\n",
    "#                space.Real(0.05,1,prior=\"uniform\",name=\"colsample_bytree\"),\n",
    "#                space.Real(0.01,1,prior=\"uniform\",name=\"lambda\"),\n",
    "#                space.Real(0.01,1,prior=\"uniform\",name=\"alpha\"),\n",
    "#                space.Integer(100,1000,prior=\"uniform\",base=10,name=\"n_estimators\")\n",
    "#                ]"
   ],
   "metadata": {
    "collapsed": false,
    "pycharm": {
     "name": "#%%\n"
    }
   }
  },
  {
   "cell_type": "code",
   "execution_count": null,
   "outputs": [],
   "source": [
    "# param_space = [\n",
    "#                     space.Real(0.01,1,prior=\"uniform\",name=\"eta\"),\n",
    "#                     space.Real(0.01,1,prior=\"uniform\",name=\"gamma\"),\n",
    "#                     space.Real(1e-3, 1e-1, prior='log-uniform',name=\"learning_rate\"),\n",
    "#                     space.Integer(3,25,name=\"max_depth\"),\n",
    "#                     space.Integer(1,50,name=\"min_child_weight\"),\n",
    "#                     space.Real(0.05,1,prior=\"uniform\",name=\"subsample\"),\n",
    "#                     space.Real(0.05,1,prior=\"uniform\",name=\"colsample_bytree\"),\n",
    "#                     space.Real(0.01,1,prior=\"uniform\",name=\"lambda\"),\n",
    "#                     space.Real(0.01,1,prior=\"uniform\",name=\"alpha\"),\n",
    "#                     [x for x in range(50,1000,50)]\n",
    "# ]"
   ],
   "metadata": {
    "collapsed": false,
    "pycharm": {
     "name": "#%%\n"
    }
   }
  },
  {
   "cell_type": "code",
   "execution_count": 62,
   "outputs": [],
   "source": [
    "# optimization_func = partial(\n",
    "#     optimizer,\n",
    "#     param_names=param_names,\n",
    "#     x=X_res_train,\n",
    "#     y=y_res_train\n",
    "# )"
   ],
   "metadata": {
    "collapsed": false,
    "pycharm": {
     "name": "#%%\n"
    }
   }
  },
  {
   "cell_type": "code",
   "execution_count": 63,
   "outputs": [
    {
     "name": "stdout",
     "output_type": "stream",
     "text": [
      "Iteration No: 1 started. Evaluating function at random point.\n"
     ]
    },
    {
     "ename": "KeyboardInterrupt",
     "evalue": "",
     "output_type": "error",
     "traceback": [
      "\u001B[1;31m---------------------------------------------------------------------------\u001B[0m",
      "\u001B[1;31mKeyboardInterrupt\u001B[0m                         Traceback (most recent call last)",
      "Input \u001B[1;32mIn [63]\u001B[0m, in \u001B[0;36m<cell line: 1>\u001B[1;34m()\u001B[0m\n\u001B[1;32m----> 1\u001B[0m result \u001B[38;5;241m=\u001B[39m \u001B[43mgp_minimize\u001B[49m\u001B[43m(\u001B[49m\n\u001B[0;32m      2\u001B[0m \u001B[43m    \u001B[49m\u001B[43moptimization_func\u001B[49m\u001B[43m,\u001B[49m\n\u001B[0;32m      3\u001B[0m \u001B[43m    \u001B[49m\u001B[43mdimensions\u001B[49m\u001B[38;5;241;43m=\u001B[39;49m\u001B[43mparam_space\u001B[49m\u001B[43m,\u001B[49m\n\u001B[0;32m      4\u001B[0m \u001B[43m    \u001B[49m\u001B[43mn_calls\u001B[49m\u001B[38;5;241;43m=\u001B[39;49m\u001B[38;5;241;43m15\u001B[39;49m\u001B[43m,\u001B[49m\n\u001B[0;32m      5\u001B[0m \u001B[43m    \u001B[49m\u001B[43mn_random_starts\u001B[49m\u001B[38;5;241;43m=\u001B[39;49m\u001B[38;5;241;43m10\u001B[39;49m\u001B[43m,\u001B[49m\n\u001B[0;32m      6\u001B[0m \u001B[43m    \u001B[49m\u001B[43mverbose\u001B[49m\u001B[38;5;241;43m=\u001B[39;49m\u001B[38;5;241;43m10\u001B[39;49m\n\u001B[0;32m      7\u001B[0m \u001B[43m)\u001B[49m\n",
      "File \u001B[1;32m~\\anaconda3\\lib\\site-packages\\skopt\\optimizer\\gp.py:259\u001B[0m, in \u001B[0;36mgp_minimize\u001B[1;34m(func, dimensions, base_estimator, n_calls, n_random_starts, n_initial_points, initial_point_generator, acq_func, acq_optimizer, x0, y0, random_state, verbose, callback, n_points, n_restarts_optimizer, xi, kappa, noise, n_jobs, model_queue_size)\u001B[0m\n\u001B[0;32m    254\u001B[0m \u001B[38;5;28;01mif\u001B[39;00m base_estimator \u001B[38;5;129;01mis\u001B[39;00m \u001B[38;5;28;01mNone\u001B[39;00m:\n\u001B[0;32m    255\u001B[0m     base_estimator \u001B[38;5;241m=\u001B[39m cook_estimator(\n\u001B[0;32m    256\u001B[0m         \u001B[38;5;124m\"\u001B[39m\u001B[38;5;124mGP\u001B[39m\u001B[38;5;124m\"\u001B[39m, space\u001B[38;5;241m=\u001B[39mspace, random_state\u001B[38;5;241m=\u001B[39mrng\u001B[38;5;241m.\u001B[39mrandint(\u001B[38;5;241m0\u001B[39m, np\u001B[38;5;241m.\u001B[39miinfo(np\u001B[38;5;241m.\u001B[39mint32)\u001B[38;5;241m.\u001B[39mmax),\n\u001B[0;32m    257\u001B[0m         noise\u001B[38;5;241m=\u001B[39mnoise)\n\u001B[1;32m--> 259\u001B[0m \u001B[38;5;28;01mreturn\u001B[39;00m \u001B[43mbase_minimize\u001B[49m\u001B[43m(\u001B[49m\n\u001B[0;32m    260\u001B[0m \u001B[43m    \u001B[49m\u001B[43mfunc\u001B[49m\u001B[43m,\u001B[49m\u001B[43m \u001B[49m\u001B[43mspace\u001B[49m\u001B[43m,\u001B[49m\u001B[43m \u001B[49m\u001B[43mbase_estimator\u001B[49m\u001B[38;5;241;43m=\u001B[39;49m\u001B[43mbase_estimator\u001B[49m\u001B[43m,\u001B[49m\n\u001B[0;32m    261\u001B[0m \u001B[43m    \u001B[49m\u001B[43macq_func\u001B[49m\u001B[38;5;241;43m=\u001B[39;49m\u001B[43macq_func\u001B[49m\u001B[43m,\u001B[49m\n\u001B[0;32m    262\u001B[0m \u001B[43m    \u001B[49m\u001B[43mxi\u001B[49m\u001B[38;5;241;43m=\u001B[39;49m\u001B[43mxi\u001B[49m\u001B[43m,\u001B[49m\u001B[43m \u001B[49m\u001B[43mkappa\u001B[49m\u001B[38;5;241;43m=\u001B[39;49m\u001B[43mkappa\u001B[49m\u001B[43m,\u001B[49m\u001B[43m \u001B[49m\u001B[43macq_optimizer\u001B[49m\u001B[38;5;241;43m=\u001B[39;49m\u001B[43macq_optimizer\u001B[49m\u001B[43m,\u001B[49m\u001B[43m \u001B[49m\u001B[43mn_calls\u001B[49m\u001B[38;5;241;43m=\u001B[39;49m\u001B[43mn_calls\u001B[49m\u001B[43m,\u001B[49m\n\u001B[0;32m    263\u001B[0m \u001B[43m    \u001B[49m\u001B[43mn_points\u001B[49m\u001B[38;5;241;43m=\u001B[39;49m\u001B[43mn_points\u001B[49m\u001B[43m,\u001B[49m\u001B[43m \u001B[49m\u001B[43mn_random_starts\u001B[49m\u001B[38;5;241;43m=\u001B[39;49m\u001B[43mn_random_starts\u001B[49m\u001B[43m,\u001B[49m\n\u001B[0;32m    264\u001B[0m \u001B[43m    \u001B[49m\u001B[43mn_initial_points\u001B[49m\u001B[38;5;241;43m=\u001B[39;49m\u001B[43mn_initial_points\u001B[49m\u001B[43m,\u001B[49m\n\u001B[0;32m    265\u001B[0m \u001B[43m    \u001B[49m\u001B[43minitial_point_generator\u001B[49m\u001B[38;5;241;43m=\u001B[39;49m\u001B[43minitial_point_generator\u001B[49m\u001B[43m,\u001B[49m\n\u001B[0;32m    266\u001B[0m \u001B[43m    \u001B[49m\u001B[43mn_restarts_optimizer\u001B[49m\u001B[38;5;241;43m=\u001B[39;49m\u001B[43mn_restarts_optimizer\u001B[49m\u001B[43m,\u001B[49m\n\u001B[0;32m    267\u001B[0m \u001B[43m    \u001B[49m\u001B[43mx0\u001B[49m\u001B[38;5;241;43m=\u001B[39;49m\u001B[43mx0\u001B[49m\u001B[43m,\u001B[49m\u001B[43m \u001B[49m\u001B[43my0\u001B[49m\u001B[38;5;241;43m=\u001B[39;49m\u001B[43my0\u001B[49m\u001B[43m,\u001B[49m\u001B[43m \u001B[49m\u001B[43mrandom_state\u001B[49m\u001B[38;5;241;43m=\u001B[39;49m\u001B[43mrng\u001B[49m\u001B[43m,\u001B[49m\u001B[43m \u001B[49m\u001B[43mverbose\u001B[49m\u001B[38;5;241;43m=\u001B[39;49m\u001B[43mverbose\u001B[49m\u001B[43m,\u001B[49m\n\u001B[0;32m    268\u001B[0m \u001B[43m    \u001B[49m\u001B[43mcallback\u001B[49m\u001B[38;5;241;43m=\u001B[39;49m\u001B[43mcallback\u001B[49m\u001B[43m,\u001B[49m\u001B[43m \u001B[49m\u001B[43mn_jobs\u001B[49m\u001B[38;5;241;43m=\u001B[39;49m\u001B[43mn_jobs\u001B[49m\u001B[43m,\u001B[49m\u001B[43m \u001B[49m\u001B[43mmodel_queue_size\u001B[49m\u001B[38;5;241;43m=\u001B[39;49m\u001B[43mmodel_queue_size\u001B[49m\u001B[43m)\u001B[49m\n",
      "File \u001B[1;32m~\\anaconda3\\lib\\site-packages\\skopt\\optimizer\\base.py:299\u001B[0m, in \u001B[0;36mbase_minimize\u001B[1;34m(func, dimensions, base_estimator, n_calls, n_random_starts, n_initial_points, initial_point_generator, acq_func, acq_optimizer, x0, y0, random_state, verbose, callback, n_points, n_restarts_optimizer, xi, kappa, n_jobs, model_queue_size)\u001B[0m\n\u001B[0;32m    297\u001B[0m \u001B[38;5;28;01mfor\u001B[39;00m n \u001B[38;5;129;01min\u001B[39;00m \u001B[38;5;28mrange\u001B[39m(n_calls):\n\u001B[0;32m    298\u001B[0m     next_x \u001B[38;5;241m=\u001B[39m optimizer\u001B[38;5;241m.\u001B[39mask()\n\u001B[1;32m--> 299\u001B[0m     next_y \u001B[38;5;241m=\u001B[39m \u001B[43mfunc\u001B[49m\u001B[43m(\u001B[49m\u001B[43mnext_x\u001B[49m\u001B[43m)\u001B[49m\n\u001B[0;32m    300\u001B[0m     result \u001B[38;5;241m=\u001B[39m optimizer\u001B[38;5;241m.\u001B[39mtell(next_x, next_y)\n\u001B[0;32m    301\u001B[0m     result\u001B[38;5;241m.\u001B[39mspecs \u001B[38;5;241m=\u001B[39m specs\n",
      "Input \u001B[1;32mIn [56]\u001B[0m, in \u001B[0;36moptimizer\u001B[1;34m(params, param_names, x, y)\u001B[0m\n\u001B[0;32m     13\u001B[0m \u001B[38;5;66;03m#inicializando o modelo\u001B[39;00m\n\u001B[0;32m     14\u001B[0m model_ \u001B[38;5;241m=\u001B[39m XGBClassifier(\u001B[38;5;241m*\u001B[39m\u001B[38;5;241m*\u001B[39mparam)\n\u001B[1;32m---> 16\u001B[0m cvs \u001B[38;5;241m=\u001B[39m \u001B[43mcross_val_score\u001B[49m\u001B[43m(\u001B[49m\u001B[43mmodel_\u001B[49m\u001B[43m,\u001B[49m\u001B[43m \u001B[49m\u001B[43mx\u001B[49m\u001B[43m,\u001B[49m\u001B[43my\u001B[49m\u001B[43m,\u001B[49m\u001B[43m \u001B[49m\u001B[43mscoring\u001B[49m\u001B[38;5;241;43m=\u001B[39;49m\u001B[38;5;124;43m\"\u001B[39;49m\u001B[38;5;124;43mprecision\u001B[39;49m\u001B[38;5;124;43m\"\u001B[39;49m\u001B[43m,\u001B[49m\u001B[43m \u001B[49m\u001B[43mcv\u001B[49m\u001B[38;5;241;43m=\u001B[39;49m\u001B[38;5;241;43m3\u001B[39;49m\u001B[43m)\u001B[49m\n\u001B[0;32m     17\u001B[0m mean \u001B[38;5;241m=\u001B[39m cvs\u001B[38;5;241m.\u001B[39mmean()\n\u001B[0;32m     18\u001B[0m \u001B[38;5;28;01mreturn\u001B[39;00m \u001B[38;5;241m-\u001B[39m\u001B[38;5;241m1\u001B[39m \u001B[38;5;241m*\u001B[39m mean\n",
      "File \u001B[1;32m~\\anaconda3\\lib\\site-packages\\sklearn\\model_selection\\_validation.py:509\u001B[0m, in \u001B[0;36mcross_val_score\u001B[1;34m(estimator, X, y, groups, scoring, cv, n_jobs, verbose, fit_params, pre_dispatch, error_score)\u001B[0m\n\u001B[0;32m    506\u001B[0m \u001B[38;5;66;03m# To ensure multimetric format is not supported\u001B[39;00m\n\u001B[0;32m    507\u001B[0m scorer \u001B[38;5;241m=\u001B[39m check_scoring(estimator, scoring\u001B[38;5;241m=\u001B[39mscoring)\n\u001B[1;32m--> 509\u001B[0m cv_results \u001B[38;5;241m=\u001B[39m \u001B[43mcross_validate\u001B[49m\u001B[43m(\u001B[49m\n\u001B[0;32m    510\u001B[0m \u001B[43m    \u001B[49m\u001B[43mestimator\u001B[49m\u001B[38;5;241;43m=\u001B[39;49m\u001B[43mestimator\u001B[49m\u001B[43m,\u001B[49m\n\u001B[0;32m    511\u001B[0m \u001B[43m    \u001B[49m\u001B[43mX\u001B[49m\u001B[38;5;241;43m=\u001B[39;49m\u001B[43mX\u001B[49m\u001B[43m,\u001B[49m\n\u001B[0;32m    512\u001B[0m \u001B[43m    \u001B[49m\u001B[43my\u001B[49m\u001B[38;5;241;43m=\u001B[39;49m\u001B[43my\u001B[49m\u001B[43m,\u001B[49m\n\u001B[0;32m    513\u001B[0m \u001B[43m    \u001B[49m\u001B[43mgroups\u001B[49m\u001B[38;5;241;43m=\u001B[39;49m\u001B[43mgroups\u001B[49m\u001B[43m,\u001B[49m\n\u001B[0;32m    514\u001B[0m \u001B[43m    \u001B[49m\u001B[43mscoring\u001B[49m\u001B[38;5;241;43m=\u001B[39;49m\u001B[43m{\u001B[49m\u001B[38;5;124;43m\"\u001B[39;49m\u001B[38;5;124;43mscore\u001B[39;49m\u001B[38;5;124;43m\"\u001B[39;49m\u001B[43m:\u001B[49m\u001B[43m \u001B[49m\u001B[43mscorer\u001B[49m\u001B[43m}\u001B[49m\u001B[43m,\u001B[49m\n\u001B[0;32m    515\u001B[0m \u001B[43m    \u001B[49m\u001B[43mcv\u001B[49m\u001B[38;5;241;43m=\u001B[39;49m\u001B[43mcv\u001B[49m\u001B[43m,\u001B[49m\n\u001B[0;32m    516\u001B[0m \u001B[43m    \u001B[49m\u001B[43mn_jobs\u001B[49m\u001B[38;5;241;43m=\u001B[39;49m\u001B[43mn_jobs\u001B[49m\u001B[43m,\u001B[49m\n\u001B[0;32m    517\u001B[0m \u001B[43m    \u001B[49m\u001B[43mverbose\u001B[49m\u001B[38;5;241;43m=\u001B[39;49m\u001B[43mverbose\u001B[49m\u001B[43m,\u001B[49m\n\u001B[0;32m    518\u001B[0m \u001B[43m    \u001B[49m\u001B[43mfit_params\u001B[49m\u001B[38;5;241;43m=\u001B[39;49m\u001B[43mfit_params\u001B[49m\u001B[43m,\u001B[49m\n\u001B[0;32m    519\u001B[0m \u001B[43m    \u001B[49m\u001B[43mpre_dispatch\u001B[49m\u001B[38;5;241;43m=\u001B[39;49m\u001B[43mpre_dispatch\u001B[49m\u001B[43m,\u001B[49m\n\u001B[0;32m    520\u001B[0m \u001B[43m    \u001B[49m\u001B[43merror_score\u001B[49m\u001B[38;5;241;43m=\u001B[39;49m\u001B[43merror_score\u001B[49m\u001B[43m,\u001B[49m\n\u001B[0;32m    521\u001B[0m \u001B[43m\u001B[49m\u001B[43m)\u001B[49m\n\u001B[0;32m    522\u001B[0m \u001B[38;5;28;01mreturn\u001B[39;00m cv_results[\u001B[38;5;124m\"\u001B[39m\u001B[38;5;124mtest_score\u001B[39m\u001B[38;5;124m\"\u001B[39m]\n",
      "File \u001B[1;32m~\\anaconda3\\lib\\site-packages\\sklearn\\model_selection\\_validation.py:267\u001B[0m, in \u001B[0;36mcross_validate\u001B[1;34m(estimator, X, y, groups, scoring, cv, n_jobs, verbose, fit_params, pre_dispatch, return_train_score, return_estimator, error_score)\u001B[0m\n\u001B[0;32m    264\u001B[0m \u001B[38;5;66;03m# We clone the estimator to make sure that all the folds are\u001B[39;00m\n\u001B[0;32m    265\u001B[0m \u001B[38;5;66;03m# independent, and that it is pickle-able.\u001B[39;00m\n\u001B[0;32m    266\u001B[0m parallel \u001B[38;5;241m=\u001B[39m Parallel(n_jobs\u001B[38;5;241m=\u001B[39mn_jobs, verbose\u001B[38;5;241m=\u001B[39mverbose, pre_dispatch\u001B[38;5;241m=\u001B[39mpre_dispatch)\n\u001B[1;32m--> 267\u001B[0m results \u001B[38;5;241m=\u001B[39m \u001B[43mparallel\u001B[49m\u001B[43m(\u001B[49m\n\u001B[0;32m    268\u001B[0m \u001B[43m    \u001B[49m\u001B[43mdelayed\u001B[49m\u001B[43m(\u001B[49m\u001B[43m_fit_and_score\u001B[49m\u001B[43m)\u001B[49m\u001B[43m(\u001B[49m\n\u001B[0;32m    269\u001B[0m \u001B[43m        \u001B[49m\u001B[43mclone\u001B[49m\u001B[43m(\u001B[49m\u001B[43mestimator\u001B[49m\u001B[43m)\u001B[49m\u001B[43m,\u001B[49m\n\u001B[0;32m    270\u001B[0m \u001B[43m        \u001B[49m\u001B[43mX\u001B[49m\u001B[43m,\u001B[49m\n\u001B[0;32m    271\u001B[0m \u001B[43m        \u001B[49m\u001B[43my\u001B[49m\u001B[43m,\u001B[49m\n\u001B[0;32m    272\u001B[0m \u001B[43m        \u001B[49m\u001B[43mscorers\u001B[49m\u001B[43m,\u001B[49m\n\u001B[0;32m    273\u001B[0m \u001B[43m        \u001B[49m\u001B[43mtrain\u001B[49m\u001B[43m,\u001B[49m\n\u001B[0;32m    274\u001B[0m \u001B[43m        \u001B[49m\u001B[43mtest\u001B[49m\u001B[43m,\u001B[49m\n\u001B[0;32m    275\u001B[0m \u001B[43m        \u001B[49m\u001B[43mverbose\u001B[49m\u001B[43m,\u001B[49m\n\u001B[0;32m    276\u001B[0m \u001B[43m        \u001B[49m\u001B[38;5;28;43;01mNone\u001B[39;49;00m\u001B[43m,\u001B[49m\n\u001B[0;32m    277\u001B[0m \u001B[43m        \u001B[49m\u001B[43mfit_params\u001B[49m\u001B[43m,\u001B[49m\n\u001B[0;32m    278\u001B[0m \u001B[43m        \u001B[49m\u001B[43mreturn_train_score\u001B[49m\u001B[38;5;241;43m=\u001B[39;49m\u001B[43mreturn_train_score\u001B[49m\u001B[43m,\u001B[49m\n\u001B[0;32m    279\u001B[0m \u001B[43m        \u001B[49m\u001B[43mreturn_times\u001B[49m\u001B[38;5;241;43m=\u001B[39;49m\u001B[38;5;28;43;01mTrue\u001B[39;49;00m\u001B[43m,\u001B[49m\n\u001B[0;32m    280\u001B[0m \u001B[43m        \u001B[49m\u001B[43mreturn_estimator\u001B[49m\u001B[38;5;241;43m=\u001B[39;49m\u001B[43mreturn_estimator\u001B[49m\u001B[43m,\u001B[49m\n\u001B[0;32m    281\u001B[0m \u001B[43m        \u001B[49m\u001B[43merror_score\u001B[49m\u001B[38;5;241;43m=\u001B[39;49m\u001B[43merror_score\u001B[49m\u001B[43m,\u001B[49m\n\u001B[0;32m    282\u001B[0m \u001B[43m    \u001B[49m\u001B[43m)\u001B[49m\n\u001B[0;32m    283\u001B[0m \u001B[43m    \u001B[49m\u001B[38;5;28;43;01mfor\u001B[39;49;00m\u001B[43m \u001B[49m\u001B[43mtrain\u001B[49m\u001B[43m,\u001B[49m\u001B[43m \u001B[49m\u001B[43mtest\u001B[49m\u001B[43m \u001B[49m\u001B[38;5;129;43;01min\u001B[39;49;00m\u001B[43m \u001B[49m\u001B[43mcv\u001B[49m\u001B[38;5;241;43m.\u001B[39;49m\u001B[43msplit\u001B[49m\u001B[43m(\u001B[49m\u001B[43mX\u001B[49m\u001B[43m,\u001B[49m\u001B[43m \u001B[49m\u001B[43my\u001B[49m\u001B[43m,\u001B[49m\u001B[43m \u001B[49m\u001B[43mgroups\u001B[49m\u001B[43m)\u001B[49m\n\u001B[0;32m    284\u001B[0m \u001B[43m\u001B[49m\u001B[43m)\u001B[49m\n\u001B[0;32m    286\u001B[0m _warn_about_fit_failures(results, error_score)\n\u001B[0;32m    288\u001B[0m \u001B[38;5;66;03m# For callabe scoring, the return type is only know after calling. If the\u001B[39;00m\n\u001B[0;32m    289\u001B[0m \u001B[38;5;66;03m# return type is a dictionary, the error scores can now be inserted with\u001B[39;00m\n\u001B[0;32m    290\u001B[0m \u001B[38;5;66;03m# the correct key.\u001B[39;00m\n",
      "File \u001B[1;32m~\\anaconda3\\lib\\site-packages\\joblib\\parallel.py:1046\u001B[0m, in \u001B[0;36mParallel.__call__\u001B[1;34m(self, iterable)\u001B[0m\n\u001B[0;32m   1043\u001B[0m \u001B[38;5;28;01mif\u001B[39;00m \u001B[38;5;28mself\u001B[39m\u001B[38;5;241m.\u001B[39mdispatch_one_batch(iterator):\n\u001B[0;32m   1044\u001B[0m     \u001B[38;5;28mself\u001B[39m\u001B[38;5;241m.\u001B[39m_iterating \u001B[38;5;241m=\u001B[39m \u001B[38;5;28mself\u001B[39m\u001B[38;5;241m.\u001B[39m_original_iterator \u001B[38;5;129;01mis\u001B[39;00m \u001B[38;5;129;01mnot\u001B[39;00m \u001B[38;5;28;01mNone\u001B[39;00m\n\u001B[1;32m-> 1046\u001B[0m \u001B[38;5;28;01mwhile\u001B[39;00m \u001B[38;5;28;43mself\u001B[39;49m\u001B[38;5;241;43m.\u001B[39;49m\u001B[43mdispatch_one_batch\u001B[49m\u001B[43m(\u001B[49m\u001B[43miterator\u001B[49m\u001B[43m)\u001B[49m:\n\u001B[0;32m   1047\u001B[0m     \u001B[38;5;28;01mpass\u001B[39;00m\n\u001B[0;32m   1049\u001B[0m \u001B[38;5;28;01mif\u001B[39;00m pre_dispatch \u001B[38;5;241m==\u001B[39m \u001B[38;5;124m\"\u001B[39m\u001B[38;5;124mall\u001B[39m\u001B[38;5;124m\"\u001B[39m \u001B[38;5;129;01mor\u001B[39;00m n_jobs \u001B[38;5;241m==\u001B[39m \u001B[38;5;241m1\u001B[39m:\n\u001B[0;32m   1050\u001B[0m     \u001B[38;5;66;03m# The iterable was consumed all at once by the above for loop.\u001B[39;00m\n\u001B[0;32m   1051\u001B[0m     \u001B[38;5;66;03m# No need to wait for async callbacks to trigger to\u001B[39;00m\n\u001B[0;32m   1052\u001B[0m     \u001B[38;5;66;03m# consumption.\u001B[39;00m\n",
      "File \u001B[1;32m~\\anaconda3\\lib\\site-packages\\joblib\\parallel.py:861\u001B[0m, in \u001B[0;36mParallel.dispatch_one_batch\u001B[1;34m(self, iterator)\u001B[0m\n\u001B[0;32m    859\u001B[0m     \u001B[38;5;28;01mreturn\u001B[39;00m \u001B[38;5;28;01mFalse\u001B[39;00m\n\u001B[0;32m    860\u001B[0m \u001B[38;5;28;01melse\u001B[39;00m:\n\u001B[1;32m--> 861\u001B[0m     \u001B[38;5;28;43mself\u001B[39;49m\u001B[38;5;241;43m.\u001B[39;49m\u001B[43m_dispatch\u001B[49m\u001B[43m(\u001B[49m\u001B[43mtasks\u001B[49m\u001B[43m)\u001B[49m\n\u001B[0;32m    862\u001B[0m     \u001B[38;5;28;01mreturn\u001B[39;00m \u001B[38;5;28;01mTrue\u001B[39;00m\n",
      "File \u001B[1;32m~\\anaconda3\\lib\\site-packages\\joblib\\parallel.py:779\u001B[0m, in \u001B[0;36mParallel._dispatch\u001B[1;34m(self, batch)\u001B[0m\n\u001B[0;32m    777\u001B[0m \u001B[38;5;28;01mwith\u001B[39;00m \u001B[38;5;28mself\u001B[39m\u001B[38;5;241m.\u001B[39m_lock:\n\u001B[0;32m    778\u001B[0m     job_idx \u001B[38;5;241m=\u001B[39m \u001B[38;5;28mlen\u001B[39m(\u001B[38;5;28mself\u001B[39m\u001B[38;5;241m.\u001B[39m_jobs)\n\u001B[1;32m--> 779\u001B[0m     job \u001B[38;5;241m=\u001B[39m \u001B[38;5;28;43mself\u001B[39;49m\u001B[38;5;241;43m.\u001B[39;49m\u001B[43m_backend\u001B[49m\u001B[38;5;241;43m.\u001B[39;49m\u001B[43mapply_async\u001B[49m\u001B[43m(\u001B[49m\u001B[43mbatch\u001B[49m\u001B[43m,\u001B[49m\u001B[43m \u001B[49m\u001B[43mcallback\u001B[49m\u001B[38;5;241;43m=\u001B[39;49m\u001B[43mcb\u001B[49m\u001B[43m)\u001B[49m\n\u001B[0;32m    780\u001B[0m     \u001B[38;5;66;03m# A job can complete so quickly than its callback is\u001B[39;00m\n\u001B[0;32m    781\u001B[0m     \u001B[38;5;66;03m# called before we get here, causing self._jobs to\u001B[39;00m\n\u001B[0;32m    782\u001B[0m     \u001B[38;5;66;03m# grow. To ensure correct results ordering, .insert is\u001B[39;00m\n\u001B[0;32m    783\u001B[0m     \u001B[38;5;66;03m# used (rather than .append) in the following line\u001B[39;00m\n\u001B[0;32m    784\u001B[0m     \u001B[38;5;28mself\u001B[39m\u001B[38;5;241m.\u001B[39m_jobs\u001B[38;5;241m.\u001B[39minsert(job_idx, job)\n",
      "File \u001B[1;32m~\\anaconda3\\lib\\site-packages\\joblib\\_parallel_backends.py:208\u001B[0m, in \u001B[0;36mSequentialBackend.apply_async\u001B[1;34m(self, func, callback)\u001B[0m\n\u001B[0;32m    206\u001B[0m \u001B[38;5;28;01mdef\u001B[39;00m \u001B[38;5;21mapply_async\u001B[39m(\u001B[38;5;28mself\u001B[39m, func, callback\u001B[38;5;241m=\u001B[39m\u001B[38;5;28;01mNone\u001B[39;00m):\n\u001B[0;32m    207\u001B[0m     \u001B[38;5;124;03m\"\"\"Schedule a func to be run\"\"\"\u001B[39;00m\n\u001B[1;32m--> 208\u001B[0m     result \u001B[38;5;241m=\u001B[39m \u001B[43mImmediateResult\u001B[49m\u001B[43m(\u001B[49m\u001B[43mfunc\u001B[49m\u001B[43m)\u001B[49m\n\u001B[0;32m    209\u001B[0m     \u001B[38;5;28;01mif\u001B[39;00m callback:\n\u001B[0;32m    210\u001B[0m         callback(result)\n",
      "File \u001B[1;32m~\\anaconda3\\lib\\site-packages\\joblib\\_parallel_backends.py:572\u001B[0m, in \u001B[0;36mImmediateResult.__init__\u001B[1;34m(self, batch)\u001B[0m\n\u001B[0;32m    569\u001B[0m \u001B[38;5;28;01mdef\u001B[39;00m \u001B[38;5;21m__init__\u001B[39m(\u001B[38;5;28mself\u001B[39m, batch):\n\u001B[0;32m    570\u001B[0m     \u001B[38;5;66;03m# Don't delay the application, to avoid keeping the input\u001B[39;00m\n\u001B[0;32m    571\u001B[0m     \u001B[38;5;66;03m# arguments in memory\u001B[39;00m\n\u001B[1;32m--> 572\u001B[0m     \u001B[38;5;28mself\u001B[39m\u001B[38;5;241m.\u001B[39mresults \u001B[38;5;241m=\u001B[39m \u001B[43mbatch\u001B[49m\u001B[43m(\u001B[49m\u001B[43m)\u001B[49m\n",
      "File \u001B[1;32m~\\anaconda3\\lib\\site-packages\\joblib\\parallel.py:262\u001B[0m, in \u001B[0;36mBatchedCalls.__call__\u001B[1;34m(self)\u001B[0m\n\u001B[0;32m    258\u001B[0m \u001B[38;5;28;01mdef\u001B[39;00m \u001B[38;5;21m__call__\u001B[39m(\u001B[38;5;28mself\u001B[39m):\n\u001B[0;32m    259\u001B[0m     \u001B[38;5;66;03m# Set the default nested backend to self._backend but do not set the\u001B[39;00m\n\u001B[0;32m    260\u001B[0m     \u001B[38;5;66;03m# change the default number of processes to -1\u001B[39;00m\n\u001B[0;32m    261\u001B[0m     \u001B[38;5;28;01mwith\u001B[39;00m parallel_backend(\u001B[38;5;28mself\u001B[39m\u001B[38;5;241m.\u001B[39m_backend, n_jobs\u001B[38;5;241m=\u001B[39m\u001B[38;5;28mself\u001B[39m\u001B[38;5;241m.\u001B[39m_n_jobs):\n\u001B[1;32m--> 262\u001B[0m         \u001B[38;5;28;01mreturn\u001B[39;00m [func(\u001B[38;5;241m*\u001B[39margs, \u001B[38;5;241m*\u001B[39m\u001B[38;5;241m*\u001B[39mkwargs)\n\u001B[0;32m    263\u001B[0m                 \u001B[38;5;28;01mfor\u001B[39;00m func, args, kwargs \u001B[38;5;129;01min\u001B[39;00m \u001B[38;5;28mself\u001B[39m\u001B[38;5;241m.\u001B[39mitems]\n",
      "File \u001B[1;32m~\\anaconda3\\lib\\site-packages\\joblib\\parallel.py:262\u001B[0m, in \u001B[0;36m<listcomp>\u001B[1;34m(.0)\u001B[0m\n\u001B[0;32m    258\u001B[0m \u001B[38;5;28;01mdef\u001B[39;00m \u001B[38;5;21m__call__\u001B[39m(\u001B[38;5;28mself\u001B[39m):\n\u001B[0;32m    259\u001B[0m     \u001B[38;5;66;03m# Set the default nested backend to self._backend but do not set the\u001B[39;00m\n\u001B[0;32m    260\u001B[0m     \u001B[38;5;66;03m# change the default number of processes to -1\u001B[39;00m\n\u001B[0;32m    261\u001B[0m     \u001B[38;5;28;01mwith\u001B[39;00m parallel_backend(\u001B[38;5;28mself\u001B[39m\u001B[38;5;241m.\u001B[39m_backend, n_jobs\u001B[38;5;241m=\u001B[39m\u001B[38;5;28mself\u001B[39m\u001B[38;5;241m.\u001B[39m_n_jobs):\n\u001B[1;32m--> 262\u001B[0m         \u001B[38;5;28;01mreturn\u001B[39;00m [func(\u001B[38;5;241m*\u001B[39margs, \u001B[38;5;241m*\u001B[39m\u001B[38;5;241m*\u001B[39mkwargs)\n\u001B[0;32m    263\u001B[0m                 \u001B[38;5;28;01mfor\u001B[39;00m func, args, kwargs \u001B[38;5;129;01min\u001B[39;00m \u001B[38;5;28mself\u001B[39m\u001B[38;5;241m.\u001B[39mitems]\n",
      "File \u001B[1;32m~\\anaconda3\\lib\\site-packages\\sklearn\\utils\\fixes.py:216\u001B[0m, in \u001B[0;36m_FuncWrapper.__call__\u001B[1;34m(self, *args, **kwargs)\u001B[0m\n\u001B[0;32m    214\u001B[0m \u001B[38;5;28;01mdef\u001B[39;00m \u001B[38;5;21m__call__\u001B[39m(\u001B[38;5;28mself\u001B[39m, \u001B[38;5;241m*\u001B[39margs, \u001B[38;5;241m*\u001B[39m\u001B[38;5;241m*\u001B[39mkwargs):\n\u001B[0;32m    215\u001B[0m     \u001B[38;5;28;01mwith\u001B[39;00m config_context(\u001B[38;5;241m*\u001B[39m\u001B[38;5;241m*\u001B[39m\u001B[38;5;28mself\u001B[39m\u001B[38;5;241m.\u001B[39mconfig):\n\u001B[1;32m--> 216\u001B[0m         \u001B[38;5;28;01mreturn\u001B[39;00m \u001B[38;5;28mself\u001B[39m\u001B[38;5;241m.\u001B[39mfunction(\u001B[38;5;241m*\u001B[39margs, \u001B[38;5;241m*\u001B[39m\u001B[38;5;241m*\u001B[39mkwargs)\n",
      "File \u001B[1;32m~\\anaconda3\\lib\\site-packages\\sklearn\\model_selection\\_validation.py:680\u001B[0m, in \u001B[0;36m_fit_and_score\u001B[1;34m(estimator, X, y, scorer, train, test, verbose, parameters, fit_params, return_train_score, return_parameters, return_n_test_samples, return_times, return_estimator, split_progress, candidate_progress, error_score)\u001B[0m\n\u001B[0;32m    678\u001B[0m         estimator\u001B[38;5;241m.\u001B[39mfit(X_train, \u001B[38;5;241m*\u001B[39m\u001B[38;5;241m*\u001B[39mfit_params)\n\u001B[0;32m    679\u001B[0m     \u001B[38;5;28;01melse\u001B[39;00m:\n\u001B[1;32m--> 680\u001B[0m         estimator\u001B[38;5;241m.\u001B[39mfit(X_train, y_train, \u001B[38;5;241m*\u001B[39m\u001B[38;5;241m*\u001B[39mfit_params)\n\u001B[0;32m    682\u001B[0m \u001B[38;5;28;01mexcept\u001B[39;00m \u001B[38;5;167;01mException\u001B[39;00m:\n\u001B[0;32m    683\u001B[0m     \u001B[38;5;66;03m# Note fit time as time until error\u001B[39;00m\n\u001B[0;32m    684\u001B[0m     fit_time \u001B[38;5;241m=\u001B[39m time\u001B[38;5;241m.\u001B[39mtime() \u001B[38;5;241m-\u001B[39m start_time\n",
      "File \u001B[1;32m~\\anaconda3\\lib\\site-packages\\xgboost\\core.py:532\u001B[0m, in \u001B[0;36m_deprecate_positional_args.<locals>.inner_f\u001B[1;34m(*args, **kwargs)\u001B[0m\n\u001B[0;32m    530\u001B[0m \u001B[38;5;28;01mfor\u001B[39;00m k, arg \u001B[38;5;129;01min\u001B[39;00m \u001B[38;5;28mzip\u001B[39m(sig\u001B[38;5;241m.\u001B[39mparameters, args):\n\u001B[0;32m    531\u001B[0m     kwargs[k] \u001B[38;5;241m=\u001B[39m arg\n\u001B[1;32m--> 532\u001B[0m \u001B[38;5;28;01mreturn\u001B[39;00m f(\u001B[38;5;241m*\u001B[39m\u001B[38;5;241m*\u001B[39mkwargs)\n",
      "File \u001B[1;32m~\\anaconda3\\lib\\site-packages\\xgboost\\sklearn.py:1400\u001B[0m, in \u001B[0;36mXGBClassifier.fit\u001B[1;34m(self, X, y, sample_weight, base_margin, eval_set, eval_metric, early_stopping_rounds, verbose, xgb_model, sample_weight_eval_set, base_margin_eval_set, feature_weights, callbacks)\u001B[0m\n\u001B[0;32m   1379\u001B[0m model, metric, params, early_stopping_rounds, callbacks \u001B[38;5;241m=\u001B[39m \u001B[38;5;28mself\u001B[39m\u001B[38;5;241m.\u001B[39m_configure_fit(\n\u001B[0;32m   1380\u001B[0m     xgb_model, eval_metric, params, early_stopping_rounds, callbacks\n\u001B[0;32m   1381\u001B[0m )\n\u001B[0;32m   1382\u001B[0m train_dmatrix, evals \u001B[38;5;241m=\u001B[39m _wrap_evaluation_matrices(\n\u001B[0;32m   1383\u001B[0m     missing\u001B[38;5;241m=\u001B[39m\u001B[38;5;28mself\u001B[39m\u001B[38;5;241m.\u001B[39mmissing,\n\u001B[0;32m   1384\u001B[0m     X\u001B[38;5;241m=\u001B[39mX,\n\u001B[1;32m   (...)\u001B[0m\n\u001B[0;32m   1397\u001B[0m     enable_categorical\u001B[38;5;241m=\u001B[39m\u001B[38;5;28mself\u001B[39m\u001B[38;5;241m.\u001B[39menable_categorical,\n\u001B[0;32m   1398\u001B[0m )\n\u001B[1;32m-> 1400\u001B[0m \u001B[38;5;28mself\u001B[39m\u001B[38;5;241m.\u001B[39m_Booster \u001B[38;5;241m=\u001B[39m \u001B[43mtrain\u001B[49m\u001B[43m(\u001B[49m\n\u001B[0;32m   1401\u001B[0m \u001B[43m    \u001B[49m\u001B[43mparams\u001B[49m\u001B[43m,\u001B[49m\n\u001B[0;32m   1402\u001B[0m \u001B[43m    \u001B[49m\u001B[43mtrain_dmatrix\u001B[49m\u001B[43m,\u001B[49m\n\u001B[0;32m   1403\u001B[0m \u001B[43m    \u001B[49m\u001B[38;5;28;43mself\u001B[39;49m\u001B[38;5;241;43m.\u001B[39;49m\u001B[43mget_num_boosting_rounds\u001B[49m\u001B[43m(\u001B[49m\u001B[43m)\u001B[49m\u001B[43m,\u001B[49m\n\u001B[0;32m   1404\u001B[0m \u001B[43m    \u001B[49m\u001B[43mevals\u001B[49m\u001B[38;5;241;43m=\u001B[39;49m\u001B[43mevals\u001B[49m\u001B[43m,\u001B[49m\n\u001B[0;32m   1405\u001B[0m \u001B[43m    \u001B[49m\u001B[43mearly_stopping_rounds\u001B[49m\u001B[38;5;241;43m=\u001B[39;49m\u001B[43mearly_stopping_rounds\u001B[49m\u001B[43m,\u001B[49m\n\u001B[0;32m   1406\u001B[0m \u001B[43m    \u001B[49m\u001B[43mevals_result\u001B[49m\u001B[38;5;241;43m=\u001B[39;49m\u001B[43mevals_result\u001B[49m\u001B[43m,\u001B[49m\n\u001B[0;32m   1407\u001B[0m \u001B[43m    \u001B[49m\u001B[43mobj\u001B[49m\u001B[38;5;241;43m=\u001B[39;49m\u001B[43mobj\u001B[49m\u001B[43m,\u001B[49m\n\u001B[0;32m   1408\u001B[0m \u001B[43m    \u001B[49m\u001B[43mcustom_metric\u001B[49m\u001B[38;5;241;43m=\u001B[39;49m\u001B[43mmetric\u001B[49m\u001B[43m,\u001B[49m\n\u001B[0;32m   1409\u001B[0m \u001B[43m    \u001B[49m\u001B[43mverbose_eval\u001B[49m\u001B[38;5;241;43m=\u001B[39;49m\u001B[43mverbose\u001B[49m\u001B[43m,\u001B[49m\n\u001B[0;32m   1410\u001B[0m \u001B[43m    \u001B[49m\u001B[43mxgb_model\u001B[49m\u001B[38;5;241;43m=\u001B[39;49m\u001B[43mmodel\u001B[49m\u001B[43m,\u001B[49m\n\u001B[0;32m   1411\u001B[0m \u001B[43m    \u001B[49m\u001B[43mcallbacks\u001B[49m\u001B[38;5;241;43m=\u001B[39;49m\u001B[43mcallbacks\u001B[49m\u001B[43m,\u001B[49m\n\u001B[0;32m   1412\u001B[0m \u001B[43m\u001B[49m\u001B[43m)\u001B[49m\n\u001B[0;32m   1414\u001B[0m \u001B[38;5;28;01mif\u001B[39;00m \u001B[38;5;129;01mnot\u001B[39;00m callable(\u001B[38;5;28mself\u001B[39m\u001B[38;5;241m.\u001B[39mobjective):\n\u001B[0;32m   1415\u001B[0m     \u001B[38;5;28mself\u001B[39m\u001B[38;5;241m.\u001B[39mobjective \u001B[38;5;241m=\u001B[39m params[\u001B[38;5;124m\"\u001B[39m\u001B[38;5;124mobjective\u001B[39m\u001B[38;5;124m\"\u001B[39m]\n",
      "File \u001B[1;32m~\\anaconda3\\lib\\site-packages\\xgboost\\core.py:532\u001B[0m, in \u001B[0;36m_deprecate_positional_args.<locals>.inner_f\u001B[1;34m(*args, **kwargs)\u001B[0m\n\u001B[0;32m    530\u001B[0m \u001B[38;5;28;01mfor\u001B[39;00m k, arg \u001B[38;5;129;01min\u001B[39;00m \u001B[38;5;28mzip\u001B[39m(sig\u001B[38;5;241m.\u001B[39mparameters, args):\n\u001B[0;32m    531\u001B[0m     kwargs[k] \u001B[38;5;241m=\u001B[39m arg\n\u001B[1;32m--> 532\u001B[0m \u001B[38;5;28;01mreturn\u001B[39;00m f(\u001B[38;5;241m*\u001B[39m\u001B[38;5;241m*\u001B[39mkwargs)\n",
      "File \u001B[1;32m~\\anaconda3\\lib\\site-packages\\xgboost\\training.py:181\u001B[0m, in \u001B[0;36mtrain\u001B[1;34m(params, dtrain, num_boost_round, evals, obj, feval, maximize, early_stopping_rounds, evals_result, verbose_eval, xgb_model, callbacks, custom_metric)\u001B[0m\n\u001B[0;32m    179\u001B[0m \u001B[38;5;28;01mif\u001B[39;00m cb_container\u001B[38;5;241m.\u001B[39mbefore_iteration(bst, i, dtrain, evals):\n\u001B[0;32m    180\u001B[0m     \u001B[38;5;28;01mbreak\u001B[39;00m\n\u001B[1;32m--> 181\u001B[0m \u001B[43mbst\u001B[49m\u001B[38;5;241;43m.\u001B[39;49m\u001B[43mupdate\u001B[49m\u001B[43m(\u001B[49m\u001B[43mdtrain\u001B[49m\u001B[43m,\u001B[49m\u001B[43m \u001B[49m\u001B[43mi\u001B[49m\u001B[43m,\u001B[49m\u001B[43m \u001B[49m\u001B[43mobj\u001B[49m\u001B[43m)\u001B[49m\n\u001B[0;32m    182\u001B[0m \u001B[38;5;28;01mif\u001B[39;00m cb_container\u001B[38;5;241m.\u001B[39mafter_iteration(bst, i, dtrain, evals):\n\u001B[0;32m    183\u001B[0m     \u001B[38;5;28;01mbreak\u001B[39;00m\n",
      "File \u001B[1;32m~\\anaconda3\\lib\\site-packages\\xgboost\\core.py:1733\u001B[0m, in \u001B[0;36mBooster.update\u001B[1;34m(self, dtrain, iteration, fobj)\u001B[0m\n\u001B[0;32m   1730\u001B[0m \u001B[38;5;28mself\u001B[39m\u001B[38;5;241m.\u001B[39m_validate_features(dtrain)\n\u001B[0;32m   1732\u001B[0m \u001B[38;5;28;01mif\u001B[39;00m fobj \u001B[38;5;129;01mis\u001B[39;00m \u001B[38;5;28;01mNone\u001B[39;00m:\n\u001B[1;32m-> 1733\u001B[0m     _check_call(\u001B[43m_LIB\u001B[49m\u001B[38;5;241;43m.\u001B[39;49m\u001B[43mXGBoosterUpdateOneIter\u001B[49m\u001B[43m(\u001B[49m\u001B[38;5;28;43mself\u001B[39;49m\u001B[38;5;241;43m.\u001B[39;49m\u001B[43mhandle\u001B[49m\u001B[43m,\u001B[49m\n\u001B[0;32m   1734\u001B[0m \u001B[43m                                            \u001B[49m\u001B[43mctypes\u001B[49m\u001B[38;5;241;43m.\u001B[39;49m\u001B[43mc_int\u001B[49m\u001B[43m(\u001B[49m\u001B[43miteration\u001B[49m\u001B[43m)\u001B[49m\u001B[43m,\u001B[49m\n\u001B[0;32m   1735\u001B[0m \u001B[43m                                            \u001B[49m\u001B[43mdtrain\u001B[49m\u001B[38;5;241;43m.\u001B[39;49m\u001B[43mhandle\u001B[49m\u001B[43m)\u001B[49m)\n\u001B[0;32m   1736\u001B[0m \u001B[38;5;28;01melse\u001B[39;00m:\n\u001B[0;32m   1737\u001B[0m     pred \u001B[38;5;241m=\u001B[39m \u001B[38;5;28mself\u001B[39m\u001B[38;5;241m.\u001B[39mpredict(dtrain, output_margin\u001B[38;5;241m=\u001B[39m\u001B[38;5;28;01mTrue\u001B[39;00m, training\u001B[38;5;241m=\u001B[39m\u001B[38;5;28;01mTrue\u001B[39;00m)\n",
      "\u001B[1;31mKeyboardInterrupt\u001B[0m: "
     ]
    }
   ],
   "source": [
    "# result = gp_minimize(\n",
    "#     optimization_func,\n",
    "#     dimensions=param_space,\n",
    "#     n_calls=15,\n",
    "#     n_random_starts=10,\n",
    "#     verbose=10\n",
    "# )\n"
   ],
   "metadata": {
    "collapsed": false,
    "pycharm": {
     "name": "#%%\n"
    }
   }
  },
  {
   "cell_type": "code",
   "execution_count": null,
   "outputs": [],
   "source": [
    "# best_params = dict(\n",
    "#     zip(\n",
    "#         param_names,result.x\n",
    "#     )\n",
    "# )"
   ],
   "metadata": {
    "collapsed": false,
    "pycharm": {
     "name": "#%%\n"
    }
   }
  },
  {
   "cell_type": "code",
   "execution_count": null,
   "outputs": [],
   "source": [
    "\n",
    "# print(best_params)"
   ],
   "metadata": {
    "collapsed": false,
    "pycharm": {
     "name": "#%%\n"
    }
   }
  },
  {
   "cell_type": "code",
   "execution_count": null,
   "outputs": [],
   "source": [],
   "metadata": {
    "collapsed": false,
    "pycharm": {
     "name": "#%%\n"
    }
   }
  },
  {
   "cell_type": "code",
   "execution_count": 82,
   "outputs": [
    {
     "data": {
      "text/plain": "XGBClassifier(alpha=0.35051192788935326, base_score=None, booster=None,\n              callbacks=None, colsample_bylevel=None, colsample_bynode=None,\n              colsample_bytree=0.7951021570216068, early_stopping_rounds=None,\n              enable_categorical=False, eta=0.6182511394171196,\n              eval_metric=None, gamma=0.11363559961305565, gpu_id=None,\n              grow_policy=None, importance_type=None,\n              interaction_constraints=None, lambda=0.13098612113276642,\n              learning_rate=0.014747145736965655, max_bin=None,\n              max_cat_to_onehot=None, max_delta_step=None, max_depth=24,\n              max_leaves=None, min_child_weight=2, missing=nan,\n              monotone_constraints=None, n_estimators=100, n_jobs=None,\n              num_parallel_tree=None, predictor=None, ...)"
     },
     "execution_count": 82,
     "metadata": {},
     "output_type": "execute_result"
    }
   ],
   "source": [
    "# model_final = XGBClassifier(**best_params)\n",
    "# model_final"
   ],
   "metadata": {
    "collapsed": false,
    "pycharm": {
     "name": "#%%\n"
    }
   }
  },
  {
   "cell_type": "code",
   "execution_count": 82,
   "outputs": [],
   "source": [],
   "metadata": {
    "collapsed": false,
    "pycharm": {
     "name": "#%%\n"
    }
   }
  },
  {
   "cell_type": "code",
   "execution_count": 83,
   "outputs": [
    {
     "data": {
      "text/plain": "XGBClassifier(alpha=0.35051192788935326, base_score=0.5, booster='gbtree',\n              callbacks=None, colsample_bylevel=1, colsample_bynode=1,\n              colsample_bytree=0.7951021570216068, early_stopping_rounds=None,\n              enable_categorical=False, eta=0.6182511394171196,\n              eval_metric=None, gamma=0.11363559961305565, gpu_id=-1,\n              grow_policy='depthwise', importance_type=None,\n              interaction_constraints='', lambda=0.13098612113276642,\n              learning_rate=0.014747145736965655, max_bin=256,\n              max_cat_to_onehot=4, max_delta_step=0, max_depth=24, max_leaves=0,\n              min_child_weight=2, missing=nan, monotone_constraints='()',\n              n_estimators=100, n_jobs=0, num_parallel_tree=1, predictor='auto', ...)"
     },
     "execution_count": 83,
     "metadata": {},
     "output_type": "execute_result"
    }
   ],
   "source": [
    "# model_final.fit(X_res_train,y_res_train)"
   ],
   "metadata": {
    "collapsed": false,
    "pycharm": {
     "name": "#%%\n"
    }
   }
  },
  {
   "cell_type": "code",
   "execution_count": 84,
   "outputs": [
    {
     "name": "stdout",
     "output_type": "stream",
     "text": [
      "--------------------------------------------------\n",
      "XGBClassifier\n",
      "recall : 0.526 std : 0.041\n",
      "Intervalo :  [44.42% ~ 60.71%]\n",
      "\n",
      "f1 : 0.652 std : 0.033\n",
      "Intervalo :  [58.60% ~ 71.87%]\n",
      "\n",
      "accuracy : 0.997 std : 0.0\n",
      "Intervalo :  [99.63% ~ 99.72%]\n",
      "\n",
      "precision : 0.863 std : 0.013\n",
      "Intervalo :  [83.57% ~ 88.96%]\n",
      "\n",
      "\n"
     ]
    }
   ],
   "source": [
    "# df_model_final = best_model(x_val,y_val,[model_final])"
   ],
   "metadata": {
    "collapsed": false,
    "pycharm": {
     "name": "#%%\n"
    }
   }
  },
  {
   "cell_type": "code",
   "execution_count": 86,
   "outputs": [
    {
     "data": {
      "text/plain": "                        accuracy     f1  precision  recall\nXGBClassifier              0.997  0.748      0.825   0.684\nRandomForestClassifier     0.997  0.740      0.816   0.675\nDecisionTreeClassifier     0.996  0.657      0.648   0.663",
      "text/html": "<div>\n<style scoped>\n    .dataframe tbody tr th:only-of-type {\n        vertical-align: middle;\n    }\n\n    .dataframe tbody tr th {\n        vertical-align: top;\n    }\n\n    .dataframe thead th {\n        text-align: right;\n    }\n</style>\n<table border=\"1\" class=\"dataframe\">\n  <thead>\n    <tr style=\"text-align: right;\">\n      <th></th>\n      <th>accuracy</th>\n      <th>f1</th>\n      <th>precision</th>\n      <th>recall</th>\n    </tr>\n  </thead>\n  <tbody>\n    <tr>\n      <th>XGBClassifier</th>\n      <td>0.997</td>\n      <td>0.748</td>\n      <td>0.825</td>\n      <td>0.684</td>\n    </tr>\n    <tr>\n      <th>RandomForestClassifier</th>\n      <td>0.997</td>\n      <td>0.740</td>\n      <td>0.816</td>\n      <td>0.675</td>\n    </tr>\n    <tr>\n      <th>DecisionTreeClassifier</th>\n      <td>0.996</td>\n      <td>0.657</td>\n      <td>0.648</td>\n      <td>0.663</td>\n    </tr>\n  </tbody>\n</table>\n</div>"
     },
     "execution_count": 86,
     "metadata": {},
     "output_type": "execute_result"
    }
   ],
   "source": [
    "# df_model_train.sort_values(by=['precision','recall'],ascending=False)"
   ],
   "metadata": {
    "collapsed": false,
    "pycharm": {
     "name": "#%%\n"
    }
   }
  },
  {
   "cell_type": "code",
   "execution_count": 85,
   "outputs": [
    {
     "data": {
      "text/plain": "               accuracy     f1  precision  recall\nXGBClassifier     0.997  0.652      0.863   0.526",
      "text/html": "<div>\n<style scoped>\n    .dataframe tbody tr th:only-of-type {\n        vertical-align: middle;\n    }\n\n    .dataframe tbody tr th {\n        vertical-align: top;\n    }\n\n    .dataframe thead th {\n        text-align: right;\n    }\n</style>\n<table border=\"1\" class=\"dataframe\">\n  <thead>\n    <tr style=\"text-align: right;\">\n      <th></th>\n      <th>accuracy</th>\n      <th>f1</th>\n      <th>precision</th>\n      <th>recall</th>\n    </tr>\n  </thead>\n  <tbody>\n    <tr>\n      <th>XGBClassifier</th>\n      <td>0.997</td>\n      <td>0.652</td>\n      <td>0.863</td>\n      <td>0.526</td>\n    </tr>\n  </tbody>\n</table>\n</div>"
     },
     "execution_count": 85,
     "metadata": {},
     "output_type": "execute_result"
    }
   ],
   "source": [
    "# df_model_final"
   ],
   "metadata": {
    "collapsed": false,
    "pycharm": {
     "name": "#%%\n"
    }
   }
  },
  {
   "cell_type": "code",
   "execution_count": null,
   "outputs": [],
   "source": [],
   "metadata": {
    "collapsed": false,
    "pycharm": {
     "name": "#%%\n"
    }
   }
  },
  {
   "cell_type": "code",
   "execution_count": null,
   "outputs": [],
   "source": [],
   "metadata": {
    "collapsed": false,
    "pycharm": {
     "name": "#%%\n"
    }
   }
  },
  {
   "cell_type": "code",
   "execution_count": null,
   "outputs": [],
   "source": [],
   "metadata": {
    "collapsed": false,
    "pycharm": {
     "name": "#%%\n"
    }
   }
  },
  {
   "cell_type": "code",
   "execution_count": null,
   "outputs": [],
   "source": [],
   "metadata": {
    "collapsed": false,
    "pycharm": {
     "name": "#%%\n"
    }
   }
  },
  {
   "cell_type": "markdown",
   "source": [
    "## Avaliando o melhor modelo:"
   ],
   "metadata": {
    "collapsed": false,
    "pycharm": {
     "name": "#%% md\n"
    }
   }
  },
  {
   "cell_type": "markdown",
   "source": [
    "Testes"
   ],
   "metadata": {
    "collapsed": false,
    "pycharm": {
     "name": "#%% md\n"
    }
   }
  },
  {
   "cell_type": "code",
   "execution_count": 87,
   "outputs": [
    {
     "data": {
      "text/plain": "  trans_date_trans_time            cc_num  \\\n0   2020-06-21 12:14:25  2291163933867244   \n1   2020-06-21 12:14:33  3573030041201292   \n2   2020-06-21 12:14:53  3598215285024754   \n3   2020-06-21 12:15:15  3591919803438423   \n4   2020-06-21 12:15:17  3526826139003047   \n\n                               merchant        category    amt   first  \\\n0                 fraud_Kirlin and Sons   personal_care   2.86    Jeff   \n1                  fraud_Sporer-Keebler   personal_care  29.84  Joanne   \n2  fraud_Swaniawski, Nitzsche and Welch  health_fitness  41.28  Ashley   \n3                     fraud_Haley Group        misc_pos  60.05   Brian   \n4                 fraud_Johnston-Casper          travel   3.19  Nathan   \n\n       last gender                       street        city  ...  \\\n0   Elliott      M            351 Darlene Green    Columbia  ...   \n1  Williams      F             3638 Marsh Union     Altonah  ...   \n2     Lopez      F         9333 Valentine Point    Bellmore  ...   \n3  Williams      M  32941 Krystal Mill Apt. 552  Titusville  ...   \n4    Massey      M     5783 Evan Roads Apt. 465    Falmouth  ...   \n\n                      job                  dob  \\\n0     Mechanical engineer  1968-03-19 00:00:00   \n1  Sales professional, IT  1990-01-17 00:00:00   \n2       Librarian, public  1970-10-21 00:00:00   \n3            Set designer  1987-07-25 00:00:00   \n4      Furniture designer  1955-07-06 00:00:00   \n\n                          trans_num   unix_time  merch_lat  merch_long  \\\n0  2da90c7d74bd46a0caf3777415b3ebd3  1371816865  33.986391  -81.200714   \n1  324cc204407e99f51b0d6ca0055005e7  1371816873  39.450498 -109.960431   \n2  c81755dbbbea9d5c77f094348a7579be  1371816893  40.495810  -74.196111   \n3  2159175b9efe66dc301f149d3d5abf8c  1371816915  28.812398  -80.883061   \n4  57ff021bd3f328f8738bb535c302a31b  1371816917  44.959148  -85.884734   \n\n  is_fraud           trans_date   age  dist_fraude_km  \n0        0  2020-06-21 00:00:00  52.0          24.561  \n1        0  2020-06-21 00:00:00  30.0         104.925  \n2        0  2020-06-21 00:00:00  49.0          59.080  \n3        0  2020-06-21 00:00:00  32.0          27.699  \n4        0  2020-06-21 00:00:00  64.0         104.335  \n\n[5 rows x 25 columns]",
      "text/html": "<div>\n<style scoped>\n    .dataframe tbody tr th:only-of-type {\n        vertical-align: middle;\n    }\n\n    .dataframe tbody tr th {\n        vertical-align: top;\n    }\n\n    .dataframe thead th {\n        text-align: right;\n    }\n</style>\n<table border=\"1\" class=\"dataframe\">\n  <thead>\n    <tr style=\"text-align: right;\">\n      <th></th>\n      <th>trans_date_trans_time</th>\n      <th>cc_num</th>\n      <th>merchant</th>\n      <th>category</th>\n      <th>amt</th>\n      <th>first</th>\n      <th>last</th>\n      <th>gender</th>\n      <th>street</th>\n      <th>city</th>\n      <th>...</th>\n      <th>job</th>\n      <th>dob</th>\n      <th>trans_num</th>\n      <th>unix_time</th>\n      <th>merch_lat</th>\n      <th>merch_long</th>\n      <th>is_fraud</th>\n      <th>trans_date</th>\n      <th>age</th>\n      <th>dist_fraude_km</th>\n    </tr>\n  </thead>\n  <tbody>\n    <tr>\n      <th>0</th>\n      <td>2020-06-21 12:14:25</td>\n      <td>2291163933867244</td>\n      <td>fraud_Kirlin and Sons</td>\n      <td>personal_care</td>\n      <td>2.86</td>\n      <td>Jeff</td>\n      <td>Elliott</td>\n      <td>M</td>\n      <td>351 Darlene Green</td>\n      <td>Columbia</td>\n      <td>...</td>\n      <td>Mechanical engineer</td>\n      <td>1968-03-19 00:00:00</td>\n      <td>2da90c7d74bd46a0caf3777415b3ebd3</td>\n      <td>1371816865</td>\n      <td>33.986391</td>\n      <td>-81.200714</td>\n      <td>0</td>\n      <td>2020-06-21 00:00:00</td>\n      <td>52.0</td>\n      <td>24.561</td>\n    </tr>\n    <tr>\n      <th>1</th>\n      <td>2020-06-21 12:14:33</td>\n      <td>3573030041201292</td>\n      <td>fraud_Sporer-Keebler</td>\n      <td>personal_care</td>\n      <td>29.84</td>\n      <td>Joanne</td>\n      <td>Williams</td>\n      <td>F</td>\n      <td>3638 Marsh Union</td>\n      <td>Altonah</td>\n      <td>...</td>\n      <td>Sales professional, IT</td>\n      <td>1990-01-17 00:00:00</td>\n      <td>324cc204407e99f51b0d6ca0055005e7</td>\n      <td>1371816873</td>\n      <td>39.450498</td>\n      <td>-109.960431</td>\n      <td>0</td>\n      <td>2020-06-21 00:00:00</td>\n      <td>30.0</td>\n      <td>104.925</td>\n    </tr>\n    <tr>\n      <th>2</th>\n      <td>2020-06-21 12:14:53</td>\n      <td>3598215285024754</td>\n      <td>fraud_Swaniawski, Nitzsche and Welch</td>\n      <td>health_fitness</td>\n      <td>41.28</td>\n      <td>Ashley</td>\n      <td>Lopez</td>\n      <td>F</td>\n      <td>9333 Valentine Point</td>\n      <td>Bellmore</td>\n      <td>...</td>\n      <td>Librarian, public</td>\n      <td>1970-10-21 00:00:00</td>\n      <td>c81755dbbbea9d5c77f094348a7579be</td>\n      <td>1371816893</td>\n      <td>40.495810</td>\n      <td>-74.196111</td>\n      <td>0</td>\n      <td>2020-06-21 00:00:00</td>\n      <td>49.0</td>\n      <td>59.080</td>\n    </tr>\n    <tr>\n      <th>3</th>\n      <td>2020-06-21 12:15:15</td>\n      <td>3591919803438423</td>\n      <td>fraud_Haley Group</td>\n      <td>misc_pos</td>\n      <td>60.05</td>\n      <td>Brian</td>\n      <td>Williams</td>\n      <td>M</td>\n      <td>32941 Krystal Mill Apt. 552</td>\n      <td>Titusville</td>\n      <td>...</td>\n      <td>Set designer</td>\n      <td>1987-07-25 00:00:00</td>\n      <td>2159175b9efe66dc301f149d3d5abf8c</td>\n      <td>1371816915</td>\n      <td>28.812398</td>\n      <td>-80.883061</td>\n      <td>0</td>\n      <td>2020-06-21 00:00:00</td>\n      <td>32.0</td>\n      <td>27.699</td>\n    </tr>\n    <tr>\n      <th>4</th>\n      <td>2020-06-21 12:15:17</td>\n      <td>3526826139003047</td>\n      <td>fraud_Johnston-Casper</td>\n      <td>travel</td>\n      <td>3.19</td>\n      <td>Nathan</td>\n      <td>Massey</td>\n      <td>M</td>\n      <td>5783 Evan Roads Apt. 465</td>\n      <td>Falmouth</td>\n      <td>...</td>\n      <td>Furniture designer</td>\n      <td>1955-07-06 00:00:00</td>\n      <td>57ff021bd3f328f8738bb535c302a31b</td>\n      <td>1371816917</td>\n      <td>44.959148</td>\n      <td>-85.884734</td>\n      <td>0</td>\n      <td>2020-06-21 00:00:00</td>\n      <td>64.0</td>\n      <td>104.335</td>\n    </tr>\n  </tbody>\n</table>\n<p>5 rows × 25 columns</p>\n</div>"
     },
     "execution_count": 87,
     "metadata": {},
     "output_type": "execute_result"
    }
   ],
   "source": [
    "\n",
    "test.head()"
   ],
   "metadata": {
    "collapsed": false,
    "pycharm": {
     "name": "#%%\n"
    }
   }
  },
  {
   "cell_type": "code",
   "execution_count": 88,
   "outputs": [],
   "source": [
    "test_model_prep = test.drop(columns = ['trans_date_trans_time','city','lat','long','dob','merch_lat','merch_long','trans_date','state','street',\"first\",\"last\",\"unix_time\",\"merchant\",\"cc_num\",\"trans_num\",\"zip\",\"gender\",\"job\",\"dist_fraude_km\"])"
   ],
   "metadata": {
    "collapsed": false,
    "pycharm": {
     "name": "#%%\n"
    }
   }
  },
  {
   "cell_type": "code",
   "execution_count": 89,
   "outputs": [],
   "source": [
    "# for col in test_model_prep.columns:\n",
    "#     if test_model_prep[col].dtypes == object:\n",
    "#         test_model_prep[col]= le.fit_transform(test_model_prep[col])"
   ],
   "metadata": {
    "collapsed": false,
    "pycharm": {
     "name": "#%%\n"
    }
   }
  },
  {
   "cell_type": "code",
   "execution_count": 90,
   "outputs": [
    {
     "data": {
      "text/plain": "         category    amt  city_pop  is_fraud   age\n0   personal_care   2.86    333497         0  52.0\n1   personal_care  29.84       302         0  30.0\n2  health_fitness  41.28     34496         0  49.0\n3        misc_pos  60.05     54767         0  32.0\n4          travel   3.19      1126         0  64.0",
      "text/html": "<div>\n<style scoped>\n    .dataframe tbody tr th:only-of-type {\n        vertical-align: middle;\n    }\n\n    .dataframe tbody tr th {\n        vertical-align: top;\n    }\n\n    .dataframe thead th {\n        text-align: right;\n    }\n</style>\n<table border=\"1\" class=\"dataframe\">\n  <thead>\n    <tr style=\"text-align: right;\">\n      <th></th>\n      <th>category</th>\n      <th>amt</th>\n      <th>city_pop</th>\n      <th>is_fraud</th>\n      <th>age</th>\n    </tr>\n  </thead>\n  <tbody>\n    <tr>\n      <th>0</th>\n      <td>personal_care</td>\n      <td>2.86</td>\n      <td>333497</td>\n      <td>0</td>\n      <td>52.0</td>\n    </tr>\n    <tr>\n      <th>1</th>\n      <td>personal_care</td>\n      <td>29.84</td>\n      <td>302</td>\n      <td>0</td>\n      <td>30.0</td>\n    </tr>\n    <tr>\n      <th>2</th>\n      <td>health_fitness</td>\n      <td>41.28</td>\n      <td>34496</td>\n      <td>0</td>\n      <td>49.0</td>\n    </tr>\n    <tr>\n      <th>3</th>\n      <td>misc_pos</td>\n      <td>60.05</td>\n      <td>54767</td>\n      <td>0</td>\n      <td>32.0</td>\n    </tr>\n    <tr>\n      <th>4</th>\n      <td>travel</td>\n      <td>3.19</td>\n      <td>1126</td>\n      <td>0</td>\n      <td>64.0</td>\n    </tr>\n  </tbody>\n</table>\n</div>"
     },
     "execution_count": 90,
     "metadata": {},
     "output_type": "execute_result"
    }
   ],
   "source": [
    "test_model_prep.head()"
   ],
   "metadata": {
    "collapsed": false,
    "pycharm": {
     "name": "#%%\n"
    }
   }
  },
  {
   "cell_type": "code",
   "execution_count": null,
   "outputs": [],
   "source": [],
   "metadata": {
    "collapsed": false,
    "pycharm": {
     "name": "#%%\n"
    }
   }
  },
  {
   "cell_type": "code",
   "execution_count": null,
   "outputs": [],
   "source": [],
   "metadata": {
    "collapsed": false,
    "pycharm": {
     "name": "#%%\n"
    }
   }
  },
  {
   "cell_type": "code",
   "execution_count": 91,
   "outputs": [],
   "source": [
    "y_test_true = test_model_prep.is_fraud"
   ],
   "metadata": {
    "collapsed": false,
    "pycharm": {
     "name": "#%%\n"
    }
   }
  },
  {
   "cell_type": "code",
   "execution_count": 92,
   "outputs": [],
   "source": [
    "x_test = test_model_prep.drop(columns=[\"is_fraud\"])"
   ],
   "metadata": {
    "collapsed": false,
    "pycharm": {
     "name": "#%%\n"
    }
   }
  },
  {
   "cell_type": "code",
   "execution_count": 93,
   "outputs": [
    {
     "data": {
      "text/plain": "              category     amt  city_pop   age\n0        personal_care    2.86    333497  52.0\n1        personal_care   29.84       302  30.0\n2       health_fitness   41.28     34496  49.0\n3             misc_pos   60.05     54767  32.0\n4               travel    3.19      1126  64.0\n...                ...     ...       ...   ...\n555714  health_fitness   43.77       519  54.0\n555715       kids_pets  111.84     28739  21.0\n555716       kids_pets   86.88      3684  39.0\n555717          travel    7.99       129  55.0\n555718   entertainment   38.13    116001  27.0\n\n[555719 rows x 4 columns]",
      "text/html": "<div>\n<style scoped>\n    .dataframe tbody tr th:only-of-type {\n        vertical-align: middle;\n    }\n\n    .dataframe tbody tr th {\n        vertical-align: top;\n    }\n\n    .dataframe thead th {\n        text-align: right;\n    }\n</style>\n<table border=\"1\" class=\"dataframe\">\n  <thead>\n    <tr style=\"text-align: right;\">\n      <th></th>\n      <th>category</th>\n      <th>amt</th>\n      <th>city_pop</th>\n      <th>age</th>\n    </tr>\n  </thead>\n  <tbody>\n    <tr>\n      <th>0</th>\n      <td>personal_care</td>\n      <td>2.86</td>\n      <td>333497</td>\n      <td>52.0</td>\n    </tr>\n    <tr>\n      <th>1</th>\n      <td>personal_care</td>\n      <td>29.84</td>\n      <td>302</td>\n      <td>30.0</td>\n    </tr>\n    <tr>\n      <th>2</th>\n      <td>health_fitness</td>\n      <td>41.28</td>\n      <td>34496</td>\n      <td>49.0</td>\n    </tr>\n    <tr>\n      <th>3</th>\n      <td>misc_pos</td>\n      <td>60.05</td>\n      <td>54767</td>\n      <td>32.0</td>\n    </tr>\n    <tr>\n      <th>4</th>\n      <td>travel</td>\n      <td>3.19</td>\n      <td>1126</td>\n      <td>64.0</td>\n    </tr>\n    <tr>\n      <th>...</th>\n      <td>...</td>\n      <td>...</td>\n      <td>...</td>\n      <td>...</td>\n    </tr>\n    <tr>\n      <th>555714</th>\n      <td>health_fitness</td>\n      <td>43.77</td>\n      <td>519</td>\n      <td>54.0</td>\n    </tr>\n    <tr>\n      <th>555715</th>\n      <td>kids_pets</td>\n      <td>111.84</td>\n      <td>28739</td>\n      <td>21.0</td>\n    </tr>\n    <tr>\n      <th>555716</th>\n      <td>kids_pets</td>\n      <td>86.88</td>\n      <td>3684</td>\n      <td>39.0</td>\n    </tr>\n    <tr>\n      <th>555717</th>\n      <td>travel</td>\n      <td>7.99</td>\n      <td>129</td>\n      <td>55.0</td>\n    </tr>\n    <tr>\n      <th>555718</th>\n      <td>entertainment</td>\n      <td>38.13</td>\n      <td>116001</td>\n      <td>27.0</td>\n    </tr>\n  </tbody>\n</table>\n<p>555719 rows × 4 columns</p>\n</div>"
     },
     "execution_count": 93,
     "metadata": {},
     "output_type": "execute_result"
    }
   ],
   "source": [
    "x_test"
   ],
   "metadata": {
    "collapsed": false,
    "pycharm": {
     "name": "#%%\n"
    }
   }
  },
  {
   "cell_type": "code",
   "execution_count": 94,
   "outputs": [],
   "source": [
    "le_category = LabelEncoder().fit(x_test['category'])"
   ],
   "metadata": {
    "collapsed": false,
    "pycharm": {
     "name": "#%%\n"
    }
   }
  },
  {
   "cell_type": "code",
   "execution_count": null,
   "outputs": [],
   "source": [],
   "metadata": {
    "collapsed": false,
    "pycharm": {
     "name": "#%%\n"
    }
   }
  },
  {
   "cell_type": "code",
   "execution_count": 95,
   "outputs": [],
   "source": [
    "x_test['category'] = le_category.transform( x_test['category'])"
   ],
   "metadata": {
    "collapsed": false,
    "pycharm": {
     "name": "#%%\n"
    }
   }
  },
  {
   "cell_type": "code",
   "execution_count": 97,
   "outputs": [],
   "source": [
    "pred_val_final = best_model_w.predict(x_val)"
   ],
   "metadata": {
    "collapsed": false,
    "pycharm": {
     "name": "#%%\n"
    }
   }
  },
  {
   "cell_type": "code",
   "execution_count": 98,
   "outputs": [],
   "source": [
    "pred_test_final = best_model_w.predict(x_test)"
   ],
   "metadata": {
    "collapsed": false,
    "pycharm": {
     "name": "#%%\n"
    }
   }
  },
  {
   "cell_type": "code",
   "execution_count": 100,
   "outputs": [],
   "source": [
    "# pred_test_model = model.predict(x_test)\n",
    "# pred_val_model = model.predict(x_val)"
   ],
   "metadata": {
    "collapsed": false,
    "pycharm": {
     "name": "#%%\n"
    }
   }
  },
  {
   "cell_type": "code",
   "execution_count": 97,
   "outputs": [],
   "source": [],
   "metadata": {
    "collapsed": false,
    "pycharm": {
     "name": "#%%\n"
    }
   }
  },
  {
   "cell_type": "code",
   "execution_count": 102,
   "outputs": [
    {
     "name": "stdout",
     "output_type": "stream",
     "text": [
      "--------------------------------------------------\n",
      "XGBClassifier\n",
      "recall : 0.338 std : 0.034\n",
      "Intervalo :  [27.02% ~ 40.49%]\n",
      "\n",
      "f1 : 0.486 std : 0.033\n",
      "Intervalo :  [41.94% ~ 55.20%]\n",
      "\n",
      "accuracy : 0.997 std : 0.0\n",
      "Intervalo :  [99.70% ~ 99.75%]\n",
      "\n",
      "precision : 0.878 std : 0.053\n",
      "Intervalo :  [77.24% ~ 98.41%]\n",
      "\n",
      "\n"
     ]
    }
   ],
   "source": [
    "# mode_final_df=best_model(x_test,y_test_true,[model_final])"
   ],
   "metadata": {
    "collapsed": false,
    "pycharm": {
     "name": "#%%\n"
    }
   }
  },
  {
   "cell_type": "code",
   "execution_count": 103,
   "outputs": [
    {
     "name": "stdout",
     "output_type": "stream",
     "text": [
      "--------------------------------------------------\n",
      "XGBClassifier\n",
      "recall : 0.371 std : 0.024\n",
      "Intervalo :  [32.36% ~ 41.86%]\n",
      "\n",
      "f1 : 0.508 std : 0.027\n",
      "Intervalo :  [45.38% ~ 56.20%]\n",
      "\n",
      "accuracy : 0.997 std : 0.0\n",
      "Intervalo :  [99.70% ~ 99.75%]\n",
      "\n",
      "precision : 0.806 std : 0.039\n",
      "Intervalo :  [72.79% ~ 88.50%]\n",
      "\n",
      "\n"
     ]
    }
   ],
   "source": [
    "# mode_df=best_model(x_test,y_test_true,[model])"
   ],
   "metadata": {
    "collapsed": false,
    "pycharm": {
     "name": "#%%\n"
    }
   }
  },
  {
   "cell_type": "markdown",
   "source": [
    "  Accuracy:"
   ],
   "metadata": {
    "collapsed": false,
    "pycharm": {
     "name": "#%% md\n"
    }
   }
  },
  {
   "cell_type": "markdown",
   "source": [
    "validation:"
   ],
   "metadata": {
    "collapsed": false,
    "pycharm": {
     "name": "#%% md\n"
    }
   }
  },
  {
   "cell_type": "code",
   "execution_count": 99,
   "outputs": [
    {
     "data": {
      "text/plain": "0.9970938549878625"
     },
     "execution_count": 99,
     "metadata": {},
     "output_type": "execute_result"
    }
   ],
   "source": [
    "accuracy_score(y_test_true,pred_test_final)"
   ],
   "metadata": {
    "collapsed": false,
    "pycharm": {
     "name": "#%%\n"
    }
   }
  },
  {
   "cell_type": "markdown",
   "source": [
    "test data"
   ],
   "metadata": {
    "collapsed": false,
    "pycharm": {
     "name": "#%% md\n"
    }
   }
  },
  {
   "cell_type": "code",
   "execution_count": 114,
   "outputs": [
    {
     "data": {
      "text/plain": "0.9960429641599442"
     },
     "execution_count": 114,
     "metadata": {},
     "output_type": "execute_result"
    }
   ],
   "source": [
    "accuracy_score(y_test_true,pred_test_final)"
   ],
   "metadata": {
    "collapsed": false,
    "pycharm": {
     "name": "#%%\n"
    }
   }
  },
  {
   "cell_type": "markdown",
   "source": [
    "F1"
   ],
   "metadata": {
    "collapsed": false,
    "pycharm": {
     "name": "#%% md\n"
    }
   }
  },
  {
   "cell_type": "markdown",
   "source": [
    "test data"
   ],
   "metadata": {
    "collapsed": false,
    "pycharm": {
     "name": "#%% md\n"
    }
   }
  },
  {
   "cell_type": "code",
   "execution_count": 100,
   "outputs": [
    {
     "data": {
      "text/plain": "0.6448207609412799"
     },
     "execution_count": 100,
     "metadata": {},
     "output_type": "execute_result"
    }
   ],
   "source": [
    "f1_score(y_test_true,pred_test_final)"
   ],
   "metadata": {
    "collapsed": false,
    "pycharm": {
     "name": "#%%\n"
    }
   }
  },
  {
   "cell_type": "markdown",
   "source": [
    "Recall"
   ],
   "metadata": {
    "collapsed": false,
    "pycharm": {
     "name": "#%% md\n"
    }
   }
  },
  {
   "cell_type": "markdown",
   "source": [
    "test data"
   ],
   "metadata": {
    "collapsed": false,
    "pycharm": {
     "name": "#%% md\n"
    }
   }
  },
  {
   "cell_type": "code",
   "execution_count": 112,
   "outputs": [
    {
     "data": {
      "text/plain": "0.6834498834498834"
     },
     "execution_count": 112,
     "metadata": {},
     "output_type": "execute_result"
    }
   ],
   "source": [
    "recall_score(y_test_true,pred_test_final)"
   ],
   "metadata": {
    "collapsed": false,
    "pycharm": {
     "name": "#%%\n"
    }
   }
  },
  {
   "cell_type": "markdown",
   "source": [
    "ROC"
   ],
   "metadata": {
    "collapsed": false,
    "pycharm": {
     "name": "#%% md\n"
    }
   }
  },
  {
   "cell_type": "markdown",
   "source": [
    "test data"
   ],
   "metadata": {
    "collapsed": false,
    "pycharm": {
     "name": "#%% md\n"
    }
   }
  },
  {
   "cell_type": "code",
   "execution_count": 102,
   "outputs": [
    {
     "data": {
      "text/plain": "0.840879526297194"
     },
     "execution_count": 102,
     "metadata": {},
     "output_type": "execute_result"
    }
   ],
   "source": [
    "roc_auc_score(y_test_true,pred_test_final)"
   ],
   "metadata": {
    "collapsed": false,
    "pycharm": {
     "name": "#%%\n"
    }
   }
  },
  {
   "cell_type": "markdown",
   "source": [
    "test data"
   ],
   "metadata": {
    "collapsed": false,
    "pycharm": {
     "name": "#%% md\n"
    }
   }
  },
  {
   "cell_type": "code",
   "execution_count": 104,
   "outputs": [
    {
     "data": {
      "text/plain": "0.997273498239883"
     },
     "execution_count": 104,
     "metadata": {},
     "output_type": "execute_result"
    }
   ],
   "source": [
    "precision_score(y_test_true,pred_test_final,average='weighted')"
   ],
   "metadata": {
    "collapsed": false,
    "pycharm": {
     "name": "#%%\n"
    }
   }
  },
  {
   "cell_type": "code",
   "execution_count": 117,
   "outputs": [
    {
     "data": {
      "text/plain": "0.8045487923677468"
     },
     "execution_count": 117,
     "metadata": {},
     "output_type": "execute_result"
    }
   ],
   "source": [
    "precision_score(y_test_true,pred_test_final,average='macro')"
   ],
   "metadata": {
    "collapsed": false,
    "pycharm": {
     "name": "#%%\n"
    }
   }
  },
  {
   "cell_type": "markdown",
   "source": [
    "Classification report"
   ],
   "metadata": {
    "collapsed": false,
    "pycharm": {
     "name": "#%% md\n"
    }
   }
  },
  {
   "cell_type": "code",
   "execution_count": 156,
   "outputs": [
    {
     "data": {
      "text/plain": "  trans_date_trans_time            cc_num  \\\n0   2020-06-21 12:14:25  2291163933867244   \n1   2020-06-21 12:14:33  3573030041201292   \n2   2020-06-21 12:14:53  3598215285024754   \n3   2020-06-21 12:15:15  3591919803438423   \n4   2020-06-21 12:15:17  3526826139003047   \n\n                               merchant        category    amt   first  \\\n0                 fraud_Kirlin and Sons   personal_care   2.86    Jeff   \n1                  fraud_Sporer-Keebler   personal_care  29.84  Joanne   \n2  fraud_Swaniawski, Nitzsche and Welch  health_fitness  41.28  Ashley   \n3                     fraud_Haley Group        misc_pos  60.05   Brian   \n4                 fraud_Johnston-Casper          travel   3.19  Nathan   \n\n       last gender                       street        city  ...  \\\n0   Elliott      M            351 Darlene Green    Columbia  ...   \n1  Williams      F             3638 Marsh Union     Altonah  ...   \n2     Lopez      F         9333 Valentine Point    Bellmore  ...   \n3  Williams      M  32941 Krystal Mill Apt. 552  Titusville  ...   \n4    Massey      M     5783 Evan Roads Apt. 465    Falmouth  ...   \n\n                      job                  dob  \\\n0     Mechanical engineer  1968-03-19 00:00:00   \n1  Sales professional, IT  1990-01-17 00:00:00   \n2       Librarian, public  1970-10-21 00:00:00   \n3            Set designer  1987-07-25 00:00:00   \n4      Furniture designer  1955-07-06 00:00:00   \n\n                          trans_num   unix_time  merch_lat  merch_long  \\\n0  2da90c7d74bd46a0caf3777415b3ebd3  1371816865  33.986391  -81.200714   \n1  324cc204407e99f51b0d6ca0055005e7  1371816873  39.450498 -109.960431   \n2  c81755dbbbea9d5c77f094348a7579be  1371816893  40.495810  -74.196111   \n3  2159175b9efe66dc301f149d3d5abf8c  1371816915  28.812398  -80.883061   \n4  57ff021bd3f328f8738bb535c302a31b  1371816917  44.959148  -85.884734   \n\n  is_fraud           trans_date   age  dist_fraude_km  \n0        0  2020-06-21 00:00:00  52.0          24.561  \n1        0  2020-06-21 00:00:00  30.0         104.925  \n2        0  2020-06-21 00:00:00  49.0          59.080  \n3        0  2020-06-21 00:00:00  32.0          27.699  \n4        0  2020-06-21 00:00:00  64.0         104.335  \n\n[5 rows x 25 columns]",
      "text/html": "<div>\n<style scoped>\n    .dataframe tbody tr th:only-of-type {\n        vertical-align: middle;\n    }\n\n    .dataframe tbody tr th {\n        vertical-align: top;\n    }\n\n    .dataframe thead th {\n        text-align: right;\n    }\n</style>\n<table border=\"1\" class=\"dataframe\">\n  <thead>\n    <tr style=\"text-align: right;\">\n      <th></th>\n      <th>trans_date_trans_time</th>\n      <th>cc_num</th>\n      <th>merchant</th>\n      <th>category</th>\n      <th>amt</th>\n      <th>first</th>\n      <th>last</th>\n      <th>gender</th>\n      <th>street</th>\n      <th>city</th>\n      <th>...</th>\n      <th>job</th>\n      <th>dob</th>\n      <th>trans_num</th>\n      <th>unix_time</th>\n      <th>merch_lat</th>\n      <th>merch_long</th>\n      <th>is_fraud</th>\n      <th>trans_date</th>\n      <th>age</th>\n      <th>dist_fraude_km</th>\n    </tr>\n  </thead>\n  <tbody>\n    <tr>\n      <th>0</th>\n      <td>2020-06-21 12:14:25</td>\n      <td>2291163933867244</td>\n      <td>fraud_Kirlin and Sons</td>\n      <td>personal_care</td>\n      <td>2.86</td>\n      <td>Jeff</td>\n      <td>Elliott</td>\n      <td>M</td>\n      <td>351 Darlene Green</td>\n      <td>Columbia</td>\n      <td>...</td>\n      <td>Mechanical engineer</td>\n      <td>1968-03-19 00:00:00</td>\n      <td>2da90c7d74bd46a0caf3777415b3ebd3</td>\n      <td>1371816865</td>\n      <td>33.986391</td>\n      <td>-81.200714</td>\n      <td>0</td>\n      <td>2020-06-21 00:00:00</td>\n      <td>52.0</td>\n      <td>24.561</td>\n    </tr>\n    <tr>\n      <th>1</th>\n      <td>2020-06-21 12:14:33</td>\n      <td>3573030041201292</td>\n      <td>fraud_Sporer-Keebler</td>\n      <td>personal_care</td>\n      <td>29.84</td>\n      <td>Joanne</td>\n      <td>Williams</td>\n      <td>F</td>\n      <td>3638 Marsh Union</td>\n      <td>Altonah</td>\n      <td>...</td>\n      <td>Sales professional, IT</td>\n      <td>1990-01-17 00:00:00</td>\n      <td>324cc204407e99f51b0d6ca0055005e7</td>\n      <td>1371816873</td>\n      <td>39.450498</td>\n      <td>-109.960431</td>\n      <td>0</td>\n      <td>2020-06-21 00:00:00</td>\n      <td>30.0</td>\n      <td>104.925</td>\n    </tr>\n    <tr>\n      <th>2</th>\n      <td>2020-06-21 12:14:53</td>\n      <td>3598215285024754</td>\n      <td>fraud_Swaniawski, Nitzsche and Welch</td>\n      <td>health_fitness</td>\n      <td>41.28</td>\n      <td>Ashley</td>\n      <td>Lopez</td>\n      <td>F</td>\n      <td>9333 Valentine Point</td>\n      <td>Bellmore</td>\n      <td>...</td>\n      <td>Librarian, public</td>\n      <td>1970-10-21 00:00:00</td>\n      <td>c81755dbbbea9d5c77f094348a7579be</td>\n      <td>1371816893</td>\n      <td>40.495810</td>\n      <td>-74.196111</td>\n      <td>0</td>\n      <td>2020-06-21 00:00:00</td>\n      <td>49.0</td>\n      <td>59.080</td>\n    </tr>\n    <tr>\n      <th>3</th>\n      <td>2020-06-21 12:15:15</td>\n      <td>3591919803438423</td>\n      <td>fraud_Haley Group</td>\n      <td>misc_pos</td>\n      <td>60.05</td>\n      <td>Brian</td>\n      <td>Williams</td>\n      <td>M</td>\n      <td>32941 Krystal Mill Apt. 552</td>\n      <td>Titusville</td>\n      <td>...</td>\n      <td>Set designer</td>\n      <td>1987-07-25 00:00:00</td>\n      <td>2159175b9efe66dc301f149d3d5abf8c</td>\n      <td>1371816915</td>\n      <td>28.812398</td>\n      <td>-80.883061</td>\n      <td>0</td>\n      <td>2020-06-21 00:00:00</td>\n      <td>32.0</td>\n      <td>27.699</td>\n    </tr>\n    <tr>\n      <th>4</th>\n      <td>2020-06-21 12:15:17</td>\n      <td>3526826139003047</td>\n      <td>fraud_Johnston-Casper</td>\n      <td>travel</td>\n      <td>3.19</td>\n      <td>Nathan</td>\n      <td>Massey</td>\n      <td>M</td>\n      <td>5783 Evan Roads Apt. 465</td>\n      <td>Falmouth</td>\n      <td>...</td>\n      <td>Furniture designer</td>\n      <td>1955-07-06 00:00:00</td>\n      <td>57ff021bd3f328f8738bb535c302a31b</td>\n      <td>1371816917</td>\n      <td>44.959148</td>\n      <td>-85.884734</td>\n      <td>0</td>\n      <td>2020-06-21 00:00:00</td>\n      <td>64.0</td>\n      <td>104.335</td>\n    </tr>\n  </tbody>\n</table>\n<p>5 rows × 25 columns</p>\n</div>"
     },
     "execution_count": 156,
     "metadata": {},
     "output_type": "execute_result"
    }
   ],
   "source": [
    "test.head()"
   ],
   "metadata": {
    "collapsed": false,
    "pycharm": {
     "name": "#%%\n"
    }
   }
  },
  {
   "cell_type": "code",
   "execution_count": 105,
   "outputs": [],
   "source": [
    "target_names = [\"não fraude\", \"fraude\"]"
   ],
   "metadata": {
    "collapsed": false,
    "pycharm": {
     "name": "#%%\n"
    }
   }
  },
  {
   "cell_type": "code",
   "execution_count": 106,
   "outputs": [
    {
     "name": "stdout",
     "output_type": "stream",
     "text": [
      "Dados de teste\n",
      "              precision    recall  f1-score   support\n",
      "\n",
      "  não fraude       1.00      1.00      1.00    553574\n",
      "      fraude       0.61      0.68      0.64      2145\n",
      "\n",
      "    accuracy                           1.00    555719\n",
      "   macro avg       0.80      0.84      0.82    555719\n",
      "weighted avg       1.00      1.00      1.00    555719\n",
      "\n"
     ]
    }
   ],
   "source": [
    "print(\"Dados de teste\")\n",
    "print(classification_report(y_test_true, pred_test_final, target_names=target_names))"
   ],
   "metadata": {
    "collapsed": false,
    "pycharm": {
     "name": "#%%\n"
    }
   }
  },
  {
   "cell_type": "code",
   "execution_count": 108,
   "outputs": [],
   "source": [
    "from sklearn.metrics import confusion_matrix, ConfusionMatrixDisplay"
   ],
   "metadata": {
    "collapsed": false,
    "pycharm": {
     "name": "#%%\n"
    }
   }
  },
  {
   "cell_type": "markdown",
   "source": [
    "plot matriz de confusão test data"
   ],
   "metadata": {
    "collapsed": false,
    "pycharm": {
     "name": "#%% md\n"
    }
   }
  },
  {
   "cell_type": "code",
   "execution_count": 118,
   "outputs": [
    {
     "data": {
      "text/plain": "<Figure size 432x288 with 2 Axes>",
      "image/png": "[encoded data removed]"
     },
     "metadata": {},
     "output_type": "display_data"
    }
   ],
   "source": [
    "cm = confusion_matrix(y_test_true, pred_test_final, labels=best_model_w.classes_, normalize=\"true\")\n",
    "disp = ConfusionMatrixDisplay(confusion_matrix=cm)\n",
    "disp.from_predictions(y_test_true, pred_test_final,display_labels=best_model_w.classes_, cmap=\"Blues\")\n",
    "plt.show()"
   ],
   "metadata": {
    "collapsed": false,
    "pycharm": {
     "name": "#%%\n"
    }
   }
  },
  {
   "cell_type": "markdown",
   "source": [
    "Serialização"
   ],
   "metadata": {
    "collapsed": false,
    "pycharm": {
     "name": "#%% md\n"
    }
   }
  },
  {
   "cell_type": "code",
   "execution_count": 110,
   "outputs": [],
   "source": [
    "# salvar modelo\n",
    "import pickle\n",
    "# salvar o modelo Random florest  no arquivo model_randFlorest.pkl\n",
    "with open('xgbmodel.pkl', 'wb') as file:\n",
    "    pickle.dump(best_model_w, file)"
   ],
   "metadata": {
    "collapsed": false,
    "pycharm": {
     "name": "#%%\n"
    }
   }
  },
  {
   "cell_type": "code",
   "execution_count": null,
   "outputs": [],
   "source": [],
   "metadata": {
    "collapsed": false,
    "pycharm": {
     "name": "#%%\n"
    }
   }
  },
  {
   "cell_type": "markdown",
   "source": [
    "## Salvando o encoder"
   ],
   "metadata": {
    "collapsed": false,
    "pycharm": {
     "name": "#%% md\n"
    }
   }
  },
  {
   "cell_type": "code",
   "execution_count": 32,
   "outputs": [],
   "source": [
    "import pickle\n",
    "with open('./model_randFlorest.pkl', 'rb') as arq:\n",
    "    model_pkl = pickle.load(arq)"
   ],
   "metadata": {
    "collapsed": false,
    "pycharm": {
     "name": "#%%\n"
    }
   }
  },
  {
   "cell_type": "code",
   "execution_count": 172,
   "outputs": [],
   "source": [
    "le = LabelEncoder()"
   ],
   "metadata": {
    "collapsed": false,
    "pycharm": {
     "name": "#%%\n"
    }
   }
  },
  {
   "cell_type": "code",
   "execution_count": 173,
   "outputs": [
    {
     "data": {
      "text/plain": "             category     amt gender  city_pop  \\\n0            misc_net    4.97      F      3495   \n1         grocery_pos  107.23      F       149   \n2       entertainment  220.11      M      4154   \n3       gas_transport   45.00      M      1939   \n4            misc_pos   41.96      M        99   \n...               ...     ...    ...       ...   \n770705    food_dining    3.06      F      1675   \n770706           home    9.49      F      1606   \n770707  entertainment   78.76      M      1442   \n770708         travel  506.00      M      1446   \n770709      kids_pets   44.37      M     13602   \n\n                                      job  is_fraud   age  \n0               Psychologist, counselling         0  30.0  \n1       Special educational needs teacher         0  40.0  \n2             Nature conservation officer         0  56.0  \n3                         Patent attorney         0  51.0  \n4          Dance movement psychotherapist         0  32.0  \n...                                   ...       ...   ...  \n770705                          Barrister         0  33.0  \n770706                          Ecologist         0  53.0  \n770707                         Air broker         0  37.0  \n770708            Chartered loss adjuster         0  41.0  \n770709                        Optometrist         0  35.0  \n\n[770710 rows x 7 columns]",
      "text/html": "<div>\n<style scoped>\n    .dataframe tbody tr th:only-of-type {\n        vertical-align: middle;\n    }\n\n    .dataframe tbody tr th {\n        vertical-align: top;\n    }\n\n    .dataframe thead th {\n        text-align: right;\n    }\n</style>\n<table border=\"1\" class=\"dataframe\">\n  <thead>\n    <tr style=\"text-align: right;\">\n      <th></th>\n      <th>category</th>\n      <th>amt</th>\n      <th>gender</th>\n      <th>city_pop</th>\n      <th>job</th>\n      <th>is_fraud</th>\n      <th>age</th>\n    </tr>\n  </thead>\n  <tbody>\n    <tr>\n      <th>0</th>\n      <td>misc_net</td>\n      <td>4.97</td>\n      <td>F</td>\n      <td>3495</td>\n      <td>Psychologist, counselling</td>\n      <td>0</td>\n      <td>30.0</td>\n    </tr>\n    <tr>\n      <th>1</th>\n      <td>grocery_pos</td>\n      <td>107.23</td>\n      <td>F</td>\n      <td>149</td>\n      <td>Special educational needs teacher</td>\n      <td>0</td>\n      <td>40.0</td>\n    </tr>\n    <tr>\n      <th>2</th>\n      <td>entertainment</td>\n      <td>220.11</td>\n      <td>M</td>\n      <td>4154</td>\n      <td>Nature conservation officer</td>\n      <td>0</td>\n      <td>56.0</td>\n    </tr>\n    <tr>\n      <th>3</th>\n      <td>gas_transport</td>\n      <td>45.00</td>\n      <td>M</td>\n      <td>1939</td>\n      <td>Patent attorney</td>\n      <td>0</td>\n      <td>51.0</td>\n    </tr>\n    <tr>\n      <th>4</th>\n      <td>misc_pos</td>\n      <td>41.96</td>\n      <td>M</td>\n      <td>99</td>\n      <td>Dance movement psychotherapist</td>\n      <td>0</td>\n      <td>32.0</td>\n    </tr>\n    <tr>\n      <th>...</th>\n      <td>...</td>\n      <td>...</td>\n      <td>...</td>\n      <td>...</td>\n      <td>...</td>\n      <td>...</td>\n      <td>...</td>\n    </tr>\n    <tr>\n      <th>770705</th>\n      <td>food_dining</td>\n      <td>3.06</td>\n      <td>F</td>\n      <td>1675</td>\n      <td>Barrister</td>\n      <td>0</td>\n      <td>33.0</td>\n    </tr>\n    <tr>\n      <th>770706</th>\n      <td>home</td>\n      <td>9.49</td>\n      <td>F</td>\n      <td>1606</td>\n      <td>Ecologist</td>\n      <td>0</td>\n      <td>53.0</td>\n    </tr>\n    <tr>\n      <th>770707</th>\n      <td>entertainment</td>\n      <td>78.76</td>\n      <td>M</td>\n      <td>1442</td>\n      <td>Air broker</td>\n      <td>0</td>\n      <td>37.0</td>\n    </tr>\n    <tr>\n      <th>770708</th>\n      <td>travel</td>\n      <td>506.00</td>\n      <td>M</td>\n      <td>1446</td>\n      <td>Chartered loss adjuster</td>\n      <td>0</td>\n      <td>41.0</td>\n    </tr>\n    <tr>\n      <th>770709</th>\n      <td>kids_pets</td>\n      <td>44.37</td>\n      <td>M</td>\n      <td>13602</td>\n      <td>Optometrist</td>\n      <td>0</td>\n      <td>35.0</td>\n    </tr>\n  </tbody>\n</table>\n<p>770710 rows × 7 columns</p>\n</div>"
     },
     "execution_count": 173,
     "metadata": {},
     "output_type": "execute_result"
    }
   ],
   "source": [
    "train_model_prep"
   ],
   "metadata": {
    "collapsed": false,
    "pycharm": {
     "name": "#%%\n"
    }
   }
  },
  {
   "cell_type": "code",
   "execution_count": 174,
   "outputs": [],
   "source": [
    "for col in test_model_prep.columns:\n",
    "    if train_model_prep[col].dtypes == object:\n",
    "        le.fit(train_model_prep[col])"
   ],
   "metadata": {
    "collapsed": false,
    "pycharm": {
     "name": "#%%\n"
    }
   }
  },
  {
   "cell_type": "code",
   "execution_count": 175,
   "outputs": [
    {
     "data": {
      "text/plain": "             category     amt gender  city_pop  \\\n0            misc_net    4.97      F      3495   \n1         grocery_pos  107.23      F       149   \n2       entertainment  220.11      M      4154   \n3       gas_transport   45.00      M      1939   \n4            misc_pos   41.96      M        99   \n...               ...     ...    ...       ...   \n770705    food_dining    3.06      F      1675   \n770706           home    9.49      F      1606   \n770707  entertainment   78.76      M      1442   \n770708         travel  506.00      M      1446   \n770709      kids_pets   44.37      M     13602   \n\n                                      job  is_fraud   age  \n0               Psychologist, counselling         0  30.0  \n1       Special educational needs teacher         0  40.0  \n2             Nature conservation officer         0  56.0  \n3                         Patent attorney         0  51.0  \n4          Dance movement psychotherapist         0  32.0  \n...                                   ...       ...   ...  \n770705                          Barrister         0  33.0  \n770706                          Ecologist         0  53.0  \n770707                         Air broker         0  37.0  \n770708            Chartered loss adjuster         0  41.0  \n770709                        Optometrist         0  35.0  \n\n[770710 rows x 7 columns]",
      "text/html": "<div>\n<style scoped>\n    .dataframe tbody tr th:only-of-type {\n        vertical-align: middle;\n    }\n\n    .dataframe tbody tr th {\n        vertical-align: top;\n    }\n\n    .dataframe thead th {\n        text-align: right;\n    }\n</style>\n<table border=\"1\" class=\"dataframe\">\n  <thead>\n    <tr style=\"text-align: right;\">\n      <th></th>\n      <th>category</th>\n      <th>amt</th>\n      <th>gender</th>\n      <th>city_pop</th>\n      <th>job</th>\n      <th>is_fraud</th>\n      <th>age</th>\n    </tr>\n  </thead>\n  <tbody>\n    <tr>\n      <th>0</th>\n      <td>misc_net</td>\n      <td>4.97</td>\n      <td>F</td>\n      <td>3495</td>\n      <td>Psychologist, counselling</td>\n      <td>0</td>\n      <td>30.0</td>\n    </tr>\n    <tr>\n      <th>1</th>\n      <td>grocery_pos</td>\n      <td>107.23</td>\n      <td>F</td>\n      <td>149</td>\n      <td>Special educational needs teacher</td>\n      <td>0</td>\n      <td>40.0</td>\n    </tr>\n    <tr>\n      <th>2</th>\n      <td>entertainment</td>\n      <td>220.11</td>\n      <td>M</td>\n      <td>4154</td>\n      <td>Nature conservation officer</td>\n      <td>0</td>\n      <td>56.0</td>\n    </tr>\n    <tr>\n      <th>3</th>\n      <td>gas_transport</td>\n      <td>45.00</td>\n      <td>M</td>\n      <td>1939</td>\n      <td>Patent attorney</td>\n      <td>0</td>\n      <td>51.0</td>\n    </tr>\n    <tr>\n      <th>4</th>\n      <td>misc_pos</td>\n      <td>41.96</td>\n      <td>M</td>\n      <td>99</td>\n      <td>Dance movement psychotherapist</td>\n      <td>0</td>\n      <td>32.0</td>\n    </tr>\n    <tr>\n      <th>...</th>\n      <td>...</td>\n      <td>...</td>\n      <td>...</td>\n      <td>...</td>\n      <td>...</td>\n      <td>...</td>\n      <td>...</td>\n    </tr>\n    <tr>\n      <th>770705</th>\n      <td>food_dining</td>\n      <td>3.06</td>\n      <td>F</td>\n      <td>1675</td>\n      <td>Barrister</td>\n      <td>0</td>\n      <td>33.0</td>\n    </tr>\n    <tr>\n      <th>770706</th>\n      <td>home</td>\n      <td>9.49</td>\n      <td>F</td>\n      <td>1606</td>\n      <td>Ecologist</td>\n      <td>0</td>\n      <td>53.0</td>\n    </tr>\n    <tr>\n      <th>770707</th>\n      <td>entertainment</td>\n      <td>78.76</td>\n      <td>M</td>\n      <td>1442</td>\n      <td>Air broker</td>\n      <td>0</td>\n      <td>37.0</td>\n    </tr>\n    <tr>\n      <th>770708</th>\n      <td>travel</td>\n      <td>506.00</td>\n      <td>M</td>\n      <td>1446</td>\n      <td>Chartered loss adjuster</td>\n      <td>0</td>\n      <td>41.0</td>\n    </tr>\n    <tr>\n      <th>770709</th>\n      <td>kids_pets</td>\n      <td>44.37</td>\n      <td>M</td>\n      <td>13602</td>\n      <td>Optometrist</td>\n      <td>0</td>\n      <td>35.0</td>\n    </tr>\n  </tbody>\n</table>\n<p>770710 rows × 7 columns</p>\n</div>"
     },
     "execution_count": 175,
     "metadata": {},
     "output_type": "execute_result"
    }
   ],
   "source": [
    "train_model_prep"
   ],
   "metadata": {
    "collapsed": false,
    "pycharm": {
     "name": "#%%\n"
    }
   }
  },
  {
   "cell_type": "code",
   "execution_count": 75,
   "outputs": [],
   "source": [
    "# salvar o salvando o label encoder  no arquivo encoder.pkl\n",
    "# with open('encoder.pkl', 'wb') as file:\n",
    "#     pickle.dump(le_category, file)"
   ],
   "metadata": {
    "collapsed": false,
    "pycharm": {
     "name": "#%%\n"
    }
   }
  },
  {
   "cell_type": "code",
   "execution_count": null,
   "outputs": [],
   "source": [],
   "metadata": {
    "collapsed": false,
    "pycharm": {
     "name": "#%%\n"
    }
   }
  },
  {
   "cell_type": "code",
   "execution_count": 162,
   "outputs": [],
   "source": [],
   "metadata": {
    "collapsed": false,
    "pycharm": {
     "name": "#%%\n"
    }
   }
  },
  {
   "cell_type": "code",
   "execution_count": null,
   "outputs": [],
   "source": [],
   "metadata": {
    "collapsed": false,
    "pycharm": {
     "name": "#%%\n"
    }
   }
  },
  {
   "cell_type": "markdown",
   "source": [
    "Sample para api"
   ],
   "metadata": {
    "collapsed": false,
    "pycharm": {
     "name": "#%% md\n"
    }
   }
  },
  {
   "cell_type": "code",
   "execution_count": 230,
   "outputs": [],
   "source": [
    "a=test_model_prep[test_model_prep[\"is_fraud\"]==1].sample(n=1)"
   ],
   "metadata": {
    "collapsed": false,
    "pycharm": {
     "name": "#%%\n"
    }
   }
  },
  {
   "cell_type": "code",
   "execution_count": 229,
   "outputs": [],
   "source": [
    "b = test_model_prep[test_model_prep[\"is_fraud\"]==0].sample(n=1)"
   ],
   "metadata": {
    "collapsed": false,
    "pycharm": {
     "name": "#%%\n"
    }
   }
  },
  {
   "cell_type": "code",
   "execution_count": 231,
   "outputs": [
    {
     "data": {
      "text/plain": "        category     amt  city_pop  is_fraud   age  dist_fraude_km\n403273  misc_net  836.44      1804         1  46.0          65.082",
      "text/html": "<div>\n<style scoped>\n    .dataframe tbody tr th:only-of-type {\n        vertical-align: middle;\n    }\n\n    .dataframe tbody tr th {\n        vertical-align: top;\n    }\n\n    .dataframe thead th {\n        text-align: right;\n    }\n</style>\n<table border=\"1\" class=\"dataframe\">\n  <thead>\n    <tr style=\"text-align: right;\">\n      <th></th>\n      <th>category</th>\n      <th>amt</th>\n      <th>city_pop</th>\n      <th>is_fraud</th>\n      <th>age</th>\n      <th>dist_fraude_km</th>\n    </tr>\n  </thead>\n  <tbody>\n    <tr>\n      <th>403273</th>\n      <td>misc_net</td>\n      <td>836.44</td>\n      <td>1804</td>\n      <td>1</td>\n      <td>46.0</td>\n      <td>65.082</td>\n    </tr>\n  </tbody>\n</table>\n</div>"
     },
     "execution_count": 231,
     "metadata": {},
     "output_type": "execute_result"
    }
   ],
   "source": [
    "a"
   ],
   "metadata": {
    "collapsed": false,
    "pycharm": {
     "name": "#%%\n"
    }
   }
  },
  {
   "cell_type": "code",
   "execution_count": 232,
   "outputs": [
    {
     "data": {
      "text/plain": "         category    amt  city_pop  is_fraud   age  dist_fraude_km\n510692  kids_pets  34.48      5848         0  39.0           85.25",
      "text/html": "<div>\n<style scoped>\n    .dataframe tbody tr th:only-of-type {\n        vertical-align: middle;\n    }\n\n    .dataframe tbody tr th {\n        vertical-align: top;\n    }\n\n    .dataframe thead th {\n        text-align: right;\n    }\n</style>\n<table border=\"1\" class=\"dataframe\">\n  <thead>\n    <tr style=\"text-align: right;\">\n      <th></th>\n      <th>category</th>\n      <th>amt</th>\n      <th>city_pop</th>\n      <th>is_fraud</th>\n      <th>age</th>\n      <th>dist_fraude_km</th>\n    </tr>\n  </thead>\n  <tbody>\n    <tr>\n      <th>510692</th>\n      <td>kids_pets</td>\n      <td>34.48</td>\n      <td>5848</td>\n      <td>0</td>\n      <td>39.0</td>\n      <td>85.25</td>\n    </tr>\n  </tbody>\n</table>\n</div>"
     },
     "execution_count": 232,
     "metadata": {},
     "output_type": "execute_result"
    }
   ],
   "source": [
    "b"
   ],
   "metadata": {
    "collapsed": false,
    "pycharm": {
     "name": "#%%\n"
    }
   }
  },
  {
   "cell_type": "code",
   "execution_count": null,
   "outputs": [],
   "source": [],
   "metadata": {
    "collapsed": false,
    "pycharm": {
     "name": "#%%\n"
    }
   }
  }
 ],
 "metadata": {
  "kernelspec": {
   "display_name": "Python 3",
   "language": "python",
   "name": "python3"
  },
  "language_info": {
   "codemirror_mode": {
    "name": "ipython",
    "version": 2
   },
   "file_extension": ".py",
   "mimetype": "text/x-python",
   "name": "python",
   "nbconvert_exporter": "python",
   "pygments_lexer": "ipython2",
   "version": "2.7.6"
  }
 },
 "nbformat": 4,
 "nbformat_minor": 0
}